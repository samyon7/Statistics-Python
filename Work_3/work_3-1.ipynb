{
 "cells": [
  {
   "cell_type": "code",
   "execution_count": 3,
   "metadata": {},
   "outputs": [
    {
     "data": {
      "text/plain": [
       "6"
      ]
     },
     "execution_count": 3,
     "metadata": {},
     "output_type": "execute_result"
    }
   ],
   "source": [
    "6"
   ]
  },
  {
   "cell_type": "code",
   "execution_count": 4,
   "metadata": {},
   "outputs": [
    {
     "data": {
      "text/html": [
       "<div>\n",
       "<style scoped>\n",
       "    .dataframe tbody tr th:only-of-type {\n",
       "        vertical-align: middle;\n",
       "    }\n",
       "\n",
       "    .dataframe tbody tr th {\n",
       "        vertical-align: top;\n",
       "    }\n",
       "\n",
       "    .dataframe thead th {\n",
       "        text-align: right;\n",
       "    }\n",
       "</style>\n",
       "<table border=\"1\" class=\"dataframe\">\n",
       "  <thead>\n",
       "    <tr style=\"text-align: right;\">\n",
       "      <th></th>\n",
       "      <th>day</th>\n",
       "      <th>city</th>\n",
       "      <th>weather</th>\n",
       "    </tr>\n",
       "  </thead>\n",
       "  <tbody>\n",
       "    <tr>\n",
       "      <td>0</td>\n",
       "      <td>0</td>\n",
       "      <td>St Louis</td>\n",
       "      <td>sunny</td>\n",
       "    </tr>\n",
       "    <tr>\n",
       "      <td>1</td>\n",
       "      <td>0</td>\n",
       "      <td>New York</td>\n",
       "      <td>cloudy</td>\n",
       "    </tr>\n",
       "    <tr>\n",
       "      <td>2</td>\n",
       "      <td>0</td>\n",
       "      <td>San Francisco</td>\n",
       "      <td>sunny</td>\n",
       "    </tr>\n",
       "    <tr>\n",
       "      <td>3</td>\n",
       "      <td>1</td>\n",
       "      <td>New York</td>\n",
       "      <td>rain</td>\n",
       "    </tr>\n",
       "    <tr>\n",
       "      <td>4</td>\n",
       "      <td>1</td>\n",
       "      <td>St Louis</td>\n",
       "      <td>cloudy</td>\n",
       "    </tr>\n",
       "    <tr>\n",
       "      <td>5</td>\n",
       "      <td>1</td>\n",
       "      <td>San Francisco</td>\n",
       "      <td>windy</td>\n",
       "    </tr>\n",
       "    <tr>\n",
       "      <td>6</td>\n",
       "      <td>2</td>\n",
       "      <td>San Francisco</td>\n",
       "      <td>sunny</td>\n",
       "    </tr>\n",
       "    <tr>\n",
       "      <td>7</td>\n",
       "      <td>2</td>\n",
       "      <td>New York</td>\n",
       "      <td>cloudy</td>\n",
       "    </tr>\n",
       "    <tr>\n",
       "      <td>8</td>\n",
       "      <td>2</td>\n",
       "      <td>St Louis</td>\n",
       "      <td>cloudy</td>\n",
       "    </tr>\n",
       "    <tr>\n",
       "      <td>9</td>\n",
       "      <td>3</td>\n",
       "      <td>New York</td>\n",
       "      <td>sunny</td>\n",
       "    </tr>\n",
       "    <tr>\n",
       "      <td>10</td>\n",
       "      <td>3</td>\n",
       "      <td>St Louis</td>\n",
       "      <td>rain</td>\n",
       "    </tr>\n",
       "    <tr>\n",
       "      <td>11</td>\n",
       "      <td>3</td>\n",
       "      <td>San Francisco</td>\n",
       "      <td>sunny</td>\n",
       "    </tr>\n",
       "    <tr>\n",
       "      <td>12</td>\n",
       "      <td>4</td>\n",
       "      <td>San Francisco</td>\n",
       "      <td>sunny</td>\n",
       "    </tr>\n",
       "    <tr>\n",
       "      <td>13</td>\n",
       "      <td>4</td>\n",
       "      <td>St Louis</td>\n",
       "      <td>cloudy</td>\n",
       "    </tr>\n",
       "    <tr>\n",
       "      <td>14</td>\n",
       "      <td>4</td>\n",
       "      <td>New York</td>\n",
       "      <td>cloudy</td>\n",
       "    </tr>\n",
       "  </tbody>\n",
       "</table>\n",
       "</div>"
      ],
      "text/plain": [
       "    day           city weather\n",
       "0     0       St Louis   sunny\n",
       "1     0       New York  cloudy\n",
       "2     0  San Francisco   sunny\n",
       "3     1       New York    rain\n",
       "4     1       St Louis  cloudy\n",
       "5     1  San Francisco   windy\n",
       "6     2  San Francisco   sunny\n",
       "7     2       New York  cloudy\n",
       "8     2       St Louis  cloudy\n",
       "9     3       New York   sunny\n",
       "10    3       St Louis    rain\n",
       "11    3  San Francisco   sunny\n",
       "12    4  San Francisco   sunny\n",
       "13    4       St Louis  cloudy\n",
       "14    4       New York  cloudy"
      ]
     },
     "execution_count": 4,
     "metadata": {},
     "output_type": "execute_result"
    }
   ],
   "source": [
    "import pandas as pd \n",
    "import matplotlib.pyplot as plt\n",
    "import seaborn as sns\n",
    "\n",
    "weather_df = pd.read_csv(\"D:\\RESEARCH\\Dasarnya\\MATH\\Step_4_Statistics and Calculus Python\\My Source Code\\Work_3\\weather_data.csv\")\n",
    "weather_df"
   ]
  },
  {
   "cell_type": "code",
   "execution_count": 5,
   "metadata": {},
   "outputs": [
    {
     "data": {
      "image/png": "[encoded data removed]",
      "text/plain": [
       "<Figure size 432x288 with 1 Axes>"
      ]
     },
     "metadata": {
      "needs_background": "light"
     },
     "output_type": "display_data"
    }
   ],
   "source": [
    "weather_df['weather'].value_counts().plot.bar()\n",
    "plt.show()"
   ]
  },
  {
   "cell_type": "markdown",
   "metadata": {},
   "source": [
    "Memvisualisasikan informasi yang sama seperti step sebelumnya"
   ]
  },
  {
   "cell_type": "code",
   "execution_count": 6,
   "metadata": {},
   "outputs": [
    {
     "data": {
      "image/png": "[encoded data removed]",
      "text/plain": [
       "<Figure size 432x288 with 1 Axes>"
      ]
     },
     "metadata": {},
     "output_type": "display_data"
    }
   ],
   "source": [
    "weather_df['weather'].value_counts().plot.pie(autopct='%1.1f%%')\n",
    "plt.ylabel(\"\")\n",
    "plt.show()"
   ]
  },
  {
   "cell_type": "markdown",
   "metadata": {},
   "source": [
    "Sekarang kita visualisasikan jumlah jenis cuaca ini. sekalian dengan informasi ttg persentase yang dihitung setiap jenis cuaca. Di sini saya akan menggunakan metode groupby()"
   ]
  },
  {
   "cell_type": "code",
   "execution_count": 7,
   "metadata": {},
   "outputs": [
    {
     "data": {
      "text/html": [
       "<div>\n",
       "<style scoped>\n",
       "    .dataframe tbody tr th:only-of-type {\n",
       "        vertical-align: middle;\n",
       "    }\n",
       "\n",
       "    .dataframe tbody tr th {\n",
       "        vertical-align: top;\n",
       "    }\n",
       "\n",
       "    .dataframe thead th {\n",
       "        text-align: right;\n",
       "    }\n",
       "</style>\n",
       "<table border=\"1\" class=\"dataframe\">\n",
       "  <thead>\n",
       "    <tr style=\"text-align: right;\">\n",
       "      <th>city</th>\n",
       "      <th>New York</th>\n",
       "      <th>San Francisco</th>\n",
       "      <th>St Louis</th>\n",
       "    </tr>\n",
       "    <tr>\n",
       "      <th>weather</th>\n",
       "      <th></th>\n",
       "      <th></th>\n",
       "      <th></th>\n",
       "    </tr>\n",
       "  </thead>\n",
       "  <tbody>\n",
       "    <tr>\n",
       "      <td>cloudy</td>\n",
       "      <td>3.0</td>\n",
       "      <td>NaN</td>\n",
       "      <td>3.0</td>\n",
       "    </tr>\n",
       "    <tr>\n",
       "      <td>rain</td>\n",
       "      <td>1.0</td>\n",
       "      <td>NaN</td>\n",
       "      <td>1.0</td>\n",
       "    </tr>\n",
       "    <tr>\n",
       "      <td>sunny</td>\n",
       "      <td>1.0</td>\n",
       "      <td>4.0</td>\n",
       "      <td>1.0</td>\n",
       "    </tr>\n",
       "    <tr>\n",
       "      <td>windy</td>\n",
       "      <td>NaN</td>\n",
       "      <td>1.0</td>\n",
       "      <td>NaN</td>\n",
       "    </tr>\n",
       "  </tbody>\n",
       "</table>\n",
       "</div>"
      ],
      "text/plain": [
       "city     New York  San Francisco  St Louis\n",
       "weather                                   \n",
       "cloudy        3.0            NaN       3.0\n",
       "rain          1.0            NaN       1.0\n",
       "sunny         1.0            4.0       1.0\n",
       "windy         NaN            1.0       NaN"
      ]
     },
     "execution_count": 7,
     "metadata": {},
     "output_type": "execute_result"
    }
   ],
   "source": [
    "weather_df.groupby(['weather','city'])['weather'].count().unstack('city')"
   ]
  },
  {
   "cell_type": "markdown",
   "metadata": {},
   "source": [
    "Kita lihat, objek ini memuat informasi yang kita butuhkan. Selanjutnya, kita akan memvisualisasi tabel yang kita punya dengan menggunakan <i>stacked bar plot</i>"
   ]
  },
  {
   "cell_type": "code",
   "execution_count": 8,
   "metadata": {},
   "outputs": [
    {
     "data": {
      "image/png": "[encoded data removed]",
      "text/plain": [
       "<Figure size 432x288 with 1 Axes>"
      ]
     },
     "metadata": {
      "needs_background": "light"
     },
     "output_type": "display_data"
    }
   ],
   "source": [
    "weather_df.groupby(['weather','city'])['weather'].count().unstack('city').fillna(0).plot(kind='bar',stacked=True)\n",
    "plt.show()"
   ]
  },
  {
   "cell_type": "code",
   "execution_count": 9,
   "metadata": {},
   "outputs": [
    {
     "data": {
      "image/png": "[encoded data removed]",
      "text/plain": [
       "<Figure size 432x288 with 1 Axes>"
      ]
     },
     "metadata": {
      "needs_background": "light"
     },
     "output_type": "display_data"
    }
   ],
   "source": [
    "import numpy as np\n",
    "\n",
    "samples = np.random.normal(4, 10, size=1000)\n",
    "plt.hist(samples,bins=20)\n",
    "plt.show()"
   ]
  },
  {
   "cell_type": "code",
   "execution_count": 10,
   "metadata": {},
   "outputs": [
    {
     "data": {
      "image/png": "[encoded data removed]",
      "text/plain": [
       "<Figure size 432x288 with 1 Axes>"
      ]
     },
     "metadata": {
      "needs_background": "light"
     },
     "output_type": "display_data"
    }
   ],
   "source": [
    "normalized_samples = (samples - 4)/10\n",
    "plt.hist(normalized_samples,bins=20)\n",
    "plt.show()"
   ]
  },
  {
   "cell_type": "code",
   "execution_count": 11,
   "metadata": {},
   "outputs": [],
   "source": [
    "sample_mean = np.mean(samples)\n",
    "sample_sd = np.std(samples)"
   ]
  },
  {
   "cell_type": "code",
   "execution_count": 12,
   "metadata": {},
   "outputs": [
    {
     "name": "stdout",
     "output_type": "stream",
     "text": [
      "3.971096111878079\n",
      "9.852886696116236\n"
     ]
    }
   ],
   "source": [
    "print(sample_mean)\n",
    "print(sample_sd)"
   ]
  },
  {
   "cell_type": "markdown",
   "metadata": {},
   "source": [
    "### MIN-MAX SCALING"
   ]
  },
  {
   "cell_type": "markdown",
   "metadata": {},
   "source": [
    "Dalam dataset ini, 'Kolom 1' isinya 1000 sampel dari distribusi normal dengan mean 4 juga memiliki STD dengan nilai 10. 'Kolom 2' berisi 1000 sampel juga, dengan distribusi seragam dari 1 sampai 2. 'Kolom 3' berisi 1000 sampel dari distibusi beta berparameter 2 dan 5"
   ]
  },
  {
   "cell_type": "code",
   "execution_count": 13,
   "metadata": {},
   "outputs": [
    {
     "data": {
      "text/html": [
       "<div>\n",
       "<style scoped>\n",
       "    .dataframe tbody tr th:only-of-type {\n",
       "        vertical-align: middle;\n",
       "    }\n",
       "\n",
       "    .dataframe tbody tr th {\n",
       "        vertical-align: top;\n",
       "    }\n",
       "\n",
       "    .dataframe thead th {\n",
       "        text-align: right;\n",
       "    }\n",
       "</style>\n",
       "<table border=\"1\" class=\"dataframe\">\n",
       "  <thead>\n",
       "    <tr style=\"text-align: right;\">\n",
       "      <th></th>\n",
       "      <th>Column 1</th>\n",
       "      <th>Column 2</th>\n",
       "      <th>Column 3</th>\n",
       "    </tr>\n",
       "  </thead>\n",
       "  <tbody>\n",
       "    <tr>\n",
       "      <td>0</td>\n",
       "      <td>-1.231356</td>\n",
       "      <td>1.305917</td>\n",
       "      <td>0.511994</td>\n",
       "    </tr>\n",
       "    <tr>\n",
       "      <td>1</td>\n",
       "      <td>7.874195</td>\n",
       "      <td>1.291636</td>\n",
       "      <td>0.155032</td>\n",
       "    </tr>\n",
       "    <tr>\n",
       "      <td>2</td>\n",
       "      <td>13.169984</td>\n",
       "      <td>1.274973</td>\n",
       "      <td>0.183988</td>\n",
       "    </tr>\n",
       "    <tr>\n",
       "      <td>3</td>\n",
       "      <td>13.442203</td>\n",
       "      <td>1.549126</td>\n",
       "      <td>0.391825</td>\n",
       "    </tr>\n",
       "    <tr>\n",
       "      <td>4</td>\n",
       "      <td>-8.032985</td>\n",
       "      <td>1.895236</td>\n",
       "      <td>0.398122</td>\n",
       "    </tr>\n",
       "    <tr>\n",
       "      <td>...</td>\n",
       "      <td>...</td>\n",
       "      <td>...</td>\n",
       "      <td>...</td>\n",
       "    </tr>\n",
       "    <tr>\n",
       "      <td>995</td>\n",
       "      <td>-6.698953</td>\n",
       "      <td>1.030317</td>\n",
       "      <td>0.153306</td>\n",
       "    </tr>\n",
       "    <tr>\n",
       "      <td>996</td>\n",
       "      <td>14.777217</td>\n",
       "      <td>1.671622</td>\n",
       "      <td>0.204935</td>\n",
       "    </tr>\n",
       "    <tr>\n",
       "      <td>997</td>\n",
       "      <td>7.226261</td>\n",
       "      <td>1.098545</td>\n",
       "      <td>0.312753</td>\n",
       "    </tr>\n",
       "    <tr>\n",
       "      <td>998</td>\n",
       "      <td>-10.736601</td>\n",
       "      <td>1.116582</td>\n",
       "      <td>0.560168</td>\n",
       "    </tr>\n",
       "    <tr>\n",
       "      <td>999</td>\n",
       "      <td>-5.462080</td>\n",
       "      <td>1.860110</td>\n",
       "      <td>0.314264</td>\n",
       "    </tr>\n",
       "  </tbody>\n",
       "</table>\n",
       "<p>1000 rows × 3 columns</p>\n",
       "</div>"
      ],
      "text/plain": [
       "      Column 1  Column 2  Column 3\n",
       "0    -1.231356  1.305917  0.511994\n",
       "1     7.874195  1.291636  0.155032\n",
       "2    13.169984  1.274973  0.183988\n",
       "3    13.442203  1.549126  0.391825\n",
       "4    -8.032985  1.895236  0.398122\n",
       "..         ...       ...       ...\n",
       "995  -6.698953  1.030317  0.153306\n",
       "996  14.777217  1.671622  0.204935\n",
       "997   7.226261  1.098545  0.312753\n",
       "998 -10.736601  1.116582  0.560168\n",
       "999  -5.462080  1.860110  0.314264\n",
       "\n",
       "[1000 rows x 3 columns]"
      ]
     },
     "execution_count": 13,
     "metadata": {},
     "output_type": "execute_result"
    }
   ],
   "source": [
    "df = pd.read_csv(\"D:\\RESEARCH\\Dasarnya\\MATH\\Step_4_Statistics and Calculus Python\\My Source Code\\Work_3\\data.csv\")\n",
    "df"
   ]
  },
  {
   "cell_type": "markdown",
   "metadata": {},
   "source": [
    "Gunakan fungsi <b>min_max_scale</b> yang mengambil tiga parameter (data, a, b). Data harus berupa array dalam atribut dataset, sementara a dan be menentukan rentang tmpat data nantinya akan diubah.<br><br>\n",
    "Di sini kita menggunakan operasi vektorisasi"
   ]
  },
  {
   "cell_type": "code",
   "execution_count": 14,
   "metadata": {},
   "outputs": [],
   "source": [
    "def min_max_scale(data,a,b):\n",
    "    data_max = np.max(data)\n",
    "    data_min = np.min(data)\n",
    "    return a + (b-a)*(data - data_min)/(data_max - data_min)"
   ]
  },
  {
   "cell_type": "markdown",
   "metadata": {},
   "source": [
    "Untuk melihat efeknya, kita visualisasi terlebih dahulu"
   ]
  },
  {
   "cell_type": "code",
   "execution_count": 15,
   "metadata": {},
   "outputs": [
    {
     "data": {
      "image/png": "[encoded data removed]",
      "text/plain": [
       "<Figure size 432x288 with 1 Axes>"
      ]
     },
     "metadata": {
      "needs_background": "light"
     },
     "output_type": "display_data"
    }
   ],
   "source": [
    "plt.hist(df['Column 1'],bins=20)\n",
    "plt.show()"
   ]
  },
  {
   "cell_type": "markdown",
   "metadata": {},
   "source": [
    "Selanjutnya, pakai fungsi <b>plt.hist()</b> untuk memvisualisasi nilai yang sudah direturn dari fungsi minmaxscale untuk menskalakannya ke rentang [-3, 3]"
   ]
  },
  {
   "cell_type": "code",
   "execution_count": 16,
   "metadata": {},
   "outputs": [
    {
     "data": {
      "image/png": "[encoded data removed]",
      "text/plain": [
       "<Figure size 432x288 with 1 Axes>"
      ]
     },
     "metadata": {
      "needs_background": "light"
     },
     "output_type": "display_data"
    }
   ],
   "source": [
    "plt.hist(min_max_scale(df['Column 1'],-3,3),bins=20)\n",
    "plt.show()"
   ]
  },
  {
   "cell_type": "markdown",
   "metadata": {},
   "source": [
    "Dengan proses yang sama, untuk kolom 2"
   ]
  },
  {
   "cell_type": "code",
   "execution_count": 17,
   "metadata": {},
   "outputs": [
    {
     "data": {
      "image/png": "[encoded data removed]",
      "text/plain": [
       "<Figure size 432x288 with 1 Axes>"
      ]
     },
     "metadata": {
      "needs_background": "light"
     },
     "output_type": "display_data"
    }
   ],
   "source": [
    "plt.hist(df['Column 2'], bins=20)\n",
    "plt.show()"
   ]
  },
  {
   "cell_type": "code",
   "execution_count": 18,
   "metadata": {},
   "outputs": [
    {
     "data": {
      "image/png": "[encoded data removed]",
      "text/plain": [
       "<Figure size 432x288 with 1 Axes>"
      ]
     },
     "metadata": {
      "needs_background": "light"
     },
     "output_type": "display_data"
    }
   ],
   "source": [
    "plt.hist(min_max_scale(df['Column 2'], 0, 1), bins=20)\n",
    "plt.show()"
   ]
  },
  {
   "cell_type": "markdown",
   "metadata": {},
   "source": [
    "Lagi-lagi untuk kolom 3"
   ]
  },
  {
   "cell_type": "code",
   "execution_count": 19,
   "metadata": {},
   "outputs": [
    {
     "data": {
      "image/png": "[encoded data removed]",
      "text/plain": [
       "<Figure size 432x288 with 1 Axes>"
      ]
     },
     "metadata": {
      "needs_background": "light"
     },
     "output_type": "display_data"
    }
   ],
   "source": [
    "plt.hist(df['Column 3'], bins=20)\n",
    "plt.show()"
   ]
  },
  {
   "cell_type": "code",
   "execution_count": 20,
   "metadata": {},
   "outputs": [
    {
     "data": {
      "image/png": "[encoded data removed]",
      "text/plain": [
       "<Figure size 432x288 with 1 Axes>"
      ]
     },
     "metadata": {
      "needs_background": "light"
     },
     "output_type": "display_data"
    }
   ],
   "source": [
    "plt.hist(min_max_scale(df['Column 3'], 10, 20), \\\n",
    "                          bins=20)\n",
    "plt.show()"
   ]
  },
  {
   "cell_type": "markdown",
   "metadata": {},
   "source": [
    "### Visualizing Probability Density Functions"
   ]
  },
  {
   "cell_type": "code",
   "execution_count": 21,
   "metadata": {},
   "outputs": [],
   "source": [
    "import numpy as np\n",
    "import matplotlib.pyplot as plt\n",
    "\n",
    "samples = np.random.normal(size=1000) # Create 1000 samples from normal D\n",
    "mean = np.mean(samples)\n",
    "median = np.median(samples)\n",
    "\n",
    "q1 = np.percentile(samples,25)\n",
    "q2 = np.percentile(samples,75)"
   ]
  },
  {
   "cell_type": "code",
   "execution_count": 22,
   "metadata": {},
   "outputs": [
    {
     "name": "stdout",
     "output_type": "stream",
     "text": [
      "-0.03920542732921416\n",
      "0.0068497241851329365\n",
      "-0.7153560495005191\n",
      "0.5941380833903871\n"
     ]
    }
   ],
   "source": [
    "print(mean)\n",
    "print(median)\n",
    "print(q1)\n",
    "print(q2)"
   ]
  },
  {
   "cell_type": "markdown",
   "metadata": {},
   "source": [
    "Setelah itu, kita visualisasi menggunakan histogram, masing-masing kuratil buat dengan modelnya tersendiri"
   ]
  },
  {
   "cell_type": "code",
   "execution_count": 23,
   "metadata": {},
   "outputs": [
    {
     "data": {
      "image/png": "[encoded data removed]",
      "text/plain": [
       "<Figure size 432x288 with 1 Axes>"
      ]
     },
     "metadata": {
      "needs_background": "light"
     },
     "output_type": "display_data"
    }
   ],
   "source": [
    "plt.hist(samples,bins=20)\n",
    "plt.axvline(x=mean,c='red',label='Mean')\n",
    "plt.axvline(x=median,c='black',label='Median')\n",
    "plt.axvline(x=q1,c='blue',label='Interquartile')\n",
    "plt.axvline(x=q2,c='blue')\n",
    "plt.legend()\n",
    "plt.show()"
   ]
  },
  {
   "cell_type": "markdown",
   "metadata": {},
   "source": [
    "Terapkan metode generate data <i>beta</i> yang sama, dengan tambahkan parameter 2 dan 5, setelah itu visualisasi dengan cara yang sama"
   ]
  },
  {
   "cell_type": "code",
   "execution_count": 24,
   "metadata": {},
   "outputs": [
    {
     "data": {
      "image/png": "[encoded data removed]",
      "text/plain": [
       "<Figure size 432x288 with 1 Axes>"
      ]
     },
     "metadata": {
      "needs_background": "light"
     },
     "output_type": "display_data"
    }
   ],
   "source": [
    "samples = np.random.beta(2, 5, size=1000) # Look at here!\n",
    "mean = np.mean(samples)\n",
    "median = np.median(samples)\n",
    "q1 = np.percentile(samples, 25)\n",
    "q2 = np.percentile(samples, 75)\n",
    "\n",
    "plt.hist(samples, bins=20)\n",
    "plt.axvline(x=mean, c='red', label='Mean')\n",
    "plt.axvline(x=median, c='black', label='Median')\n",
    "plt.axvline(x=q1, c='blue', label='Interquartile')\n",
    "plt.axvline(x=q2, c='blue')\n",
    "plt.legend()\n",
    "plt.show()"
   ]
  },
  {
   "cell_type": "markdown",
   "metadata": {},
   "source": [
    "Sekarang, gunakan gamma dengan parameter 5. Visualisasikan dengan cara yang sama"
   ]
  },
  {
   "cell_type": "code",
   "execution_count": 25,
   "metadata": {},
   "outputs": [
    {
     "data": {
      "image/png": "[encoded data removed]",
      "text/plain": [
       "<Figure size 432x288 with 1 Axes>"
      ]
     },
     "metadata": {
      "needs_background": "light"
     },
     "output_type": "display_data"
    }
   ],
   "source": [
    "samples = np.random.gamma(5, size=1000) # Look at here!\n",
    "mean = np.mean(samples)\n",
    "median = np.median(samples)\n",
    "q1 = np.percentile(samples, 25)\n",
    "q2 = np.percentile(samples, 75)\n",
    "\n",
    "plt.hist(samples, bins=20)\n",
    "plt.axvline(x=mean, c='red', label='Mean')\n",
    "plt.axvline(x=median, c='black', label='Median')\n",
    "plt.axvline(x=q1, c='blue', label='Interquartile')\n",
    "plt.axvline(x=q2, c='blue')\n",
    "plt.legend()\n",
    "plt.show()"
   ]
  },
  {
   "cell_type": "code",
   "execution_count": 26,
   "metadata": {},
   "outputs": [],
   "source": [
    "df = pd.DataFrame({'numerical': np.random.normal(size=5),\\\n",
    "                   'categorical': ['a', 'b', 'a', 'c', 'b'],\\\n",
    "                   'ordinal': [1, 2, 3, 5, 4]})"
   ]
  },
  {
   "cell_type": "code",
   "execution_count": 27,
   "metadata": {},
   "outputs": [
    {
     "data": {
      "text/html": [
       "<div>\n",
       "<style scoped>\n",
       "    .dataframe tbody tr th:only-of-type {\n",
       "        vertical-align: middle;\n",
       "    }\n",
       "\n",
       "    .dataframe tbody tr th {\n",
       "        vertical-align: top;\n",
       "    }\n",
       "\n",
       "    .dataframe thead th {\n",
       "        text-align: right;\n",
       "    }\n",
       "</style>\n",
       "<table border=\"1\" class=\"dataframe\">\n",
       "  <thead>\n",
       "    <tr style=\"text-align: right;\">\n",
       "      <th></th>\n",
       "      <th>numerical</th>\n",
       "      <th>categorical</th>\n",
       "      <th>ordinal</th>\n",
       "    </tr>\n",
       "  </thead>\n",
       "  <tbody>\n",
       "    <tr>\n",
       "      <td>0</td>\n",
       "      <td>0.792461</td>\n",
       "      <td>a</td>\n",
       "      <td>1</td>\n",
       "    </tr>\n",
       "    <tr>\n",
       "      <td>1</td>\n",
       "      <td>-0.638873</td>\n",
       "      <td>b</td>\n",
       "      <td>2</td>\n",
       "    </tr>\n",
       "    <tr>\n",
       "      <td>2</td>\n",
       "      <td>-1.501584</td>\n",
       "      <td>a</td>\n",
       "      <td>3</td>\n",
       "    </tr>\n",
       "    <tr>\n",
       "      <td>3</td>\n",
       "      <td>-2.300566</td>\n",
       "      <td>c</td>\n",
       "      <td>5</td>\n",
       "    </tr>\n",
       "    <tr>\n",
       "      <td>4</td>\n",
       "      <td>-1.902894</td>\n",
       "      <td>b</td>\n",
       "      <td>4</td>\n",
       "    </tr>\n",
       "  </tbody>\n",
       "</table>\n",
       "</div>"
      ],
      "text/plain": [
       "   numerical categorical  ordinal\n",
       "0   0.792461           a        1\n",
       "1  -0.638873           b        2\n",
       "2  -1.501584           a        3\n",
       "3  -2.300566           c        5\n",
       "4  -1.902894           b        4"
      ]
     },
     "execution_count": 27,
     "metadata": {},
     "output_type": "execute_result"
    }
   ],
   "source": [
    "df"
   ]
  },
  {
   "cell_type": "code",
   "execution_count": 28,
   "metadata": {},
   "outputs": [
    {
     "data": {
      "text/html": [
       "<div>\n",
       "<style scoped>\n",
       "    .dataframe tbody tr th:only-of-type {\n",
       "        vertical-align: middle;\n",
       "    }\n",
       "\n",
       "    .dataframe tbody tr th {\n",
       "        vertical-align: top;\n",
       "    }\n",
       "\n",
       "    .dataframe thead th {\n",
       "        text-align: right;\n",
       "    }\n",
       "</style>\n",
       "<table border=\"1\" class=\"dataframe\">\n",
       "  <thead>\n",
       "    <tr style=\"text-align: right;\">\n",
       "      <th></th>\n",
       "      <th>numerical</th>\n",
       "      <th>ordinal</th>\n",
       "    </tr>\n",
       "  </thead>\n",
       "  <tbody>\n",
       "    <tr>\n",
       "      <td>count</td>\n",
       "      <td>5.000000</td>\n",
       "      <td>5.000000</td>\n",
       "    </tr>\n",
       "    <tr>\n",
       "      <td>mean</td>\n",
       "      <td>-1.110291</td>\n",
       "      <td>3.000000</td>\n",
       "    </tr>\n",
       "    <tr>\n",
       "      <td>std</td>\n",
       "      <td>1.228901</td>\n",
       "      <td>1.581139</td>\n",
       "    </tr>\n",
       "    <tr>\n",
       "      <td>min</td>\n",
       "      <td>-2.300566</td>\n",
       "      <td>1.000000</td>\n",
       "    </tr>\n",
       "    <tr>\n",
       "      <td>25%</td>\n",
       "      <td>-1.902894</td>\n",
       "      <td>2.000000</td>\n",
       "    </tr>\n",
       "    <tr>\n",
       "      <td>50%</td>\n",
       "      <td>-1.501584</td>\n",
       "      <td>3.000000</td>\n",
       "    </tr>\n",
       "    <tr>\n",
       "      <td>75%</td>\n",
       "      <td>-0.638873</td>\n",
       "      <td>4.000000</td>\n",
       "    </tr>\n",
       "    <tr>\n",
       "      <td>max</td>\n",
       "      <td>0.792461</td>\n",
       "      <td>5.000000</td>\n",
       "    </tr>\n",
       "  </tbody>\n",
       "</table>\n",
       "</div>"
      ],
      "text/plain": [
       "       numerical   ordinal\n",
       "count   5.000000  5.000000\n",
       "mean   -1.110291  3.000000\n",
       "std     1.228901  1.581139\n",
       "min    -2.300566  1.000000\n",
       "25%    -1.902894  2.000000\n",
       "50%    -1.501584  3.000000\n",
       "75%    -0.638873  4.000000\n",
       "max     0.792461  5.000000"
      ]
     },
     "execution_count": 28,
     "metadata": {},
     "output_type": "execute_result"
    }
   ],
   "source": [
    "df.describe()"
   ]
  },
  {
   "cell_type": "code",
   "execution_count": 29,
   "metadata": {},
   "outputs": [
    {
     "data": {
      "text/html": [
       "<div>\n",
       "<style scoped>\n",
       "    .dataframe tbody tr th:only-of-type {\n",
       "        vertical-align: middle;\n",
       "    }\n",
       "\n",
       "    .dataframe tbody tr th {\n",
       "        vertical-align: top;\n",
       "    }\n",
       "\n",
       "    .dataframe thead th {\n",
       "        text-align: right;\n",
       "    }\n",
       "</style>\n",
       "<table border=\"1\" class=\"dataframe\">\n",
       "  <thead>\n",
       "    <tr style=\"text-align: right;\">\n",
       "      <th></th>\n",
       "      <th>numerical</th>\n",
       "      <th>categorical</th>\n",
       "      <th>ordinal</th>\n",
       "    </tr>\n",
       "  </thead>\n",
       "  <tbody>\n",
       "    <tr>\n",
       "      <td>count</td>\n",
       "      <td>5.000000</td>\n",
       "      <td>5</td>\n",
       "      <td>5.000000</td>\n",
       "    </tr>\n",
       "    <tr>\n",
       "      <td>unique</td>\n",
       "      <td>NaN</td>\n",
       "      <td>3</td>\n",
       "      <td>NaN</td>\n",
       "    </tr>\n",
       "    <tr>\n",
       "      <td>top</td>\n",
       "      <td>NaN</td>\n",
       "      <td>a</td>\n",
       "      <td>NaN</td>\n",
       "    </tr>\n",
       "    <tr>\n",
       "      <td>freq</td>\n",
       "      <td>NaN</td>\n",
       "      <td>2</td>\n",
       "      <td>NaN</td>\n",
       "    </tr>\n",
       "    <tr>\n",
       "      <td>mean</td>\n",
       "      <td>-1.110291</td>\n",
       "      <td>NaN</td>\n",
       "      <td>3.000000</td>\n",
       "    </tr>\n",
       "    <tr>\n",
       "      <td>std</td>\n",
       "      <td>1.228901</td>\n",
       "      <td>NaN</td>\n",
       "      <td>1.581139</td>\n",
       "    </tr>\n",
       "    <tr>\n",
       "      <td>min</td>\n",
       "      <td>-2.300566</td>\n",
       "      <td>NaN</td>\n",
       "      <td>1.000000</td>\n",
       "    </tr>\n",
       "    <tr>\n",
       "      <td>25%</td>\n",
       "      <td>-1.902894</td>\n",
       "      <td>NaN</td>\n",
       "      <td>2.000000</td>\n",
       "    </tr>\n",
       "    <tr>\n",
       "      <td>50%</td>\n",
       "      <td>-1.501584</td>\n",
       "      <td>NaN</td>\n",
       "      <td>3.000000</td>\n",
       "    </tr>\n",
       "    <tr>\n",
       "      <td>75%</td>\n",
       "      <td>-0.638873</td>\n",
       "      <td>NaN</td>\n",
       "      <td>4.000000</td>\n",
       "    </tr>\n",
       "    <tr>\n",
       "      <td>max</td>\n",
       "      <td>0.792461</td>\n",
       "      <td>NaN</td>\n",
       "      <td>5.000000</td>\n",
       "    </tr>\n",
       "  </tbody>\n",
       "</table>\n",
       "</div>"
      ],
      "text/plain": [
       "        numerical categorical   ordinal\n",
       "count    5.000000           5  5.000000\n",
       "unique        NaN           3       NaN\n",
       "top           NaN           a       NaN\n",
       "freq          NaN           2       NaN\n",
       "mean    -1.110291         NaN  3.000000\n",
       "std      1.228901         NaN  1.581139\n",
       "min     -2.300566         NaN  1.000000\n",
       "25%     -1.902894         NaN  2.000000\n",
       "50%     -1.501584         NaN  3.000000\n",
       "75%     -0.638873         NaN  4.000000\n",
       "max      0.792461         NaN  5.000000"
      ]
     },
     "execution_count": 29,
     "metadata": {},
     "output_type": "execute_result"
    }
   ],
   "source": [
    "df.describe(include='all')"
   ]
  },
  {
   "cell_type": "code",
   "execution_count": 30,
   "metadata": {},
   "outputs": [
    {
     "data": {
      "image/png": "[encoded data removed]",
      "text/plain": [
       "<Figure size 432x288 with 1 Axes>"
      ]
     },
     "metadata": {
      "needs_background": "light"
     },
     "output_type": "display_data"
    }
   ],
   "source": [
    "sns.boxplot(np.random.normal(2,5,size=1000))\n",
    "plt.show()"
   ]
  },
  {
   "cell_type": "code",
   "execution_count": 31,
   "metadata": {},
   "outputs": [],
   "source": [
    "df = pd.DataFrame({'numerical': np.random.normal(size=1000),\\\n",
    "                   'categorical': np.random.choice\\\n",
    "                                  (['a', 'b', 'c'], size=1000),\\\n",
    "                   'ordinal': np.random.choice\\\n",
    "                              ([1, 2, 3, 4, 5], size=1000)})"
   ]
  },
  {
   "cell_type": "code",
   "execution_count": 32,
   "metadata": {},
   "outputs": [
    {
     "data": {
      "text/html": [
       "<div>\n",
       "<style scoped>\n",
       "    .dataframe tbody tr th:only-of-type {\n",
       "        vertical-align: middle;\n",
       "    }\n",
       "\n",
       "    .dataframe tbody tr th {\n",
       "        vertical-align: top;\n",
       "    }\n",
       "\n",
       "    .dataframe thead th {\n",
       "        text-align: right;\n",
       "    }\n",
       "</style>\n",
       "<table border=\"1\" class=\"dataframe\">\n",
       "  <thead>\n",
       "    <tr style=\"text-align: right;\">\n",
       "      <th></th>\n",
       "      <th>numerical</th>\n",
       "      <th>categorical</th>\n",
       "      <th>ordinal</th>\n",
       "    </tr>\n",
       "  </thead>\n",
       "  <tbody>\n",
       "    <tr>\n",
       "      <td>0</td>\n",
       "      <td>-2.157435</td>\n",
       "      <td>a</td>\n",
       "      <td>1</td>\n",
       "    </tr>\n",
       "    <tr>\n",
       "      <td>1</td>\n",
       "      <td>-0.305579</td>\n",
       "      <td>c</td>\n",
       "      <td>3</td>\n",
       "    </tr>\n",
       "    <tr>\n",
       "      <td>2</td>\n",
       "      <td>-0.261454</td>\n",
       "      <td>b</td>\n",
       "      <td>5</td>\n",
       "    </tr>\n",
       "    <tr>\n",
       "      <td>3</td>\n",
       "      <td>0.217598</td>\n",
       "      <td>c</td>\n",
       "      <td>5</td>\n",
       "    </tr>\n",
       "    <tr>\n",
       "      <td>4</td>\n",
       "      <td>-0.533606</td>\n",
       "      <td>b</td>\n",
       "      <td>2</td>\n",
       "    </tr>\n",
       "    <tr>\n",
       "      <td>...</td>\n",
       "      <td>...</td>\n",
       "      <td>...</td>\n",
       "      <td>...</td>\n",
       "    </tr>\n",
       "    <tr>\n",
       "      <td>995</td>\n",
       "      <td>-0.484590</td>\n",
       "      <td>b</td>\n",
       "      <td>1</td>\n",
       "    </tr>\n",
       "    <tr>\n",
       "      <td>996</td>\n",
       "      <td>1.321746</td>\n",
       "      <td>a</td>\n",
       "      <td>4</td>\n",
       "    </tr>\n",
       "    <tr>\n",
       "      <td>997</td>\n",
       "      <td>1.393333</td>\n",
       "      <td>c</td>\n",
       "      <td>4</td>\n",
       "    </tr>\n",
       "    <tr>\n",
       "      <td>998</td>\n",
       "      <td>1.486949</td>\n",
       "      <td>a</td>\n",
       "      <td>2</td>\n",
       "    </tr>\n",
       "    <tr>\n",
       "      <td>999</td>\n",
       "      <td>0.862084</td>\n",
       "      <td>b</td>\n",
       "      <td>5</td>\n",
       "    </tr>\n",
       "  </tbody>\n",
       "</table>\n",
       "<p>1000 rows × 3 columns</p>\n",
       "</div>"
      ],
      "text/plain": [
       "     numerical categorical  ordinal\n",
       "0    -2.157435           a        1\n",
       "1    -0.305579           c        3\n",
       "2    -0.261454           b        5\n",
       "3     0.217598           c        5\n",
       "4    -0.533606           b        2\n",
       "..         ...         ...      ...\n",
       "995  -0.484590           b        1\n",
       "996   1.321746           a        4\n",
       "997   1.393333           c        4\n",
       "998   1.486949           a        2\n",
       "999   0.862084           b        5\n",
       "\n",
       "[1000 rows x 3 columns]"
      ]
     },
     "execution_count": 32,
     "metadata": {},
     "output_type": "execute_result"
    }
   ],
   "source": [
    "df"
   ]
  },
  {
   "cell_type": "code",
   "execution_count": 33,
   "metadata": {},
   "outputs": [
    {
     "data": {
      "image/png": "[encoded data removed]",
      "text/plain": [
       "<Figure size 432x288 with 1 Axes>"
      ]
     },
     "metadata": {
      "needs_background": "light"
     },
     "output_type": "display_data"
    }
   ],
   "source": [
    "sns.boxplot(y='numerical',x='categorical',data=df)\n",
    "plt.show()"
   ]
  },
  {
   "cell_type": "code",
   "execution_count": 34,
   "metadata": {},
   "outputs": [
    {
     "data": {
      "image/png": "[encoded data removed]",
      "text/plain": [
       "<Figure size 432x288 with 1 Axes>"
      ]
     },
     "metadata": {
      "needs_background": "light"
     },
     "output_type": "display_data"
    }
   ],
   "source": [
    "sns.boxplot(y='numerical',x='ordinal',data=df)\n",
    "plt.show()"
   ]
  },
  {
   "cell_type": "code",
   "execution_count": 35,
   "metadata": {},
   "outputs": [
    {
     "data": {
      "image/png": "[encoded data removed]",
      "text/plain": [
       "<Figure size 432x288 with 1 Axes>"
      ]
     },
     "metadata": {
      "needs_background": "light"
     },
     "output_type": "display_data"
    }
   ],
   "source": [
    "samples_a = np.random.normal(size=20)\n",
    "samples_b = np.random.normal(0.2,1,size=20)\n",
    "\n",
    "plt.hist(samples_a, alpha=0.2)\n",
    "plt.hist(samples_b, alpha=0.2)\n",
    "plt.show()"
   ]
  },
  {
   "cell_type": "code",
   "execution_count": 36,
   "metadata": {},
   "outputs": [
    {
     "data": {
      "text/plain": [
       "0.5897906741942166"
      ]
     },
     "execution_count": 36,
     "metadata": {},
     "output_type": "execute_result"
    }
   ],
   "source": [
    "import scipy\n",
    "\n",
    "scipy.stats.ttest_ind(samples_a,samples_b).pvalue"
   ]
  },
  {
   "cell_type": "code",
   "execution_count": 37,
   "metadata": {},
   "outputs": [
    {
     "data": {
      "image/png": "[encoded data removed]",
      "text/plain": [
       "<Figure size 432x288 with 1 Axes>"
      ]
     },
     "metadata": {
      "needs_background": "light"
     },
     "output_type": "display_data"
    }
   ],
   "source": [
    "samples_a = np.random.normal(size=1000)\n",
    "samples_b = np.random.normal(0.2, 1, size=1000)\n",
    "plt.hist(samples_a, alpha=0.2)\n",
    "plt.hist(samples_b, alpha=0.2)\n",
    "plt.show()"
   ]
  },
  {
   "cell_type": "code",
   "execution_count": 38,
   "metadata": {},
   "outputs": [
    {
     "data": {
      "text/plain": [
       "0.0012998870688756547"
      ]
     },
     "execution_count": 38,
     "metadata": {},
     "output_type": "execute_result"
    }
   ],
   "source": [
    "scipy.stats.ttest_ind(samples_a,samples_b).pvalue"
   ]
  },
  {
   "cell_type": "code",
   "execution_count": 39,
   "metadata": {},
   "outputs": [
    {
     "data": {
      "text/html": [
       "<div>\n",
       "<style scoped>\n",
       "    .dataframe tbody tr th:only-of-type {\n",
       "        vertical-align: middle;\n",
       "    }\n",
       "\n",
       "    .dataframe tbody tr th {\n",
       "        vertical-align: top;\n",
       "    }\n",
       "\n",
       "    .dataframe thead th {\n",
       "        text-align: right;\n",
       "    }\n",
       "</style>\n",
       "<table border=\"1\" class=\"dataframe\">\n",
       "  <thead>\n",
       "    <tr style=\"text-align: right;\">\n",
       "      <th></th>\n",
       "      <th>x</th>\n",
       "      <th>y</th>\n",
       "      <th>z</th>\n",
       "    </tr>\n",
       "  </thead>\n",
       "  <tbody>\n",
       "    <tr>\n",
       "      <td>0</td>\n",
       "      <td>0.803639</td>\n",
       "      <td>1.537529</td>\n",
       "      <td>0.600584</td>\n",
       "    </tr>\n",
       "    <tr>\n",
       "      <td>1</td>\n",
       "      <td>0.121780</td>\n",
       "      <td>-0.165495</td>\n",
       "      <td>0.971682</td>\n",
       "    </tr>\n",
       "    <tr>\n",
       "      <td>2</td>\n",
       "      <td>0.145687</td>\n",
       "      <td>0.155150</td>\n",
       "      <td>0.241673</td>\n",
       "    </tr>\n",
       "    <tr>\n",
       "      <td>3</td>\n",
       "      <td>0.755933</td>\n",
       "      <td>1.136582</td>\n",
       "      <td>0.988683</td>\n",
       "    </tr>\n",
       "    <tr>\n",
       "      <td>4</td>\n",
       "      <td>0.946009</td>\n",
       "      <td>1.820105</td>\n",
       "      <td>0.698812</td>\n",
       "    </tr>\n",
       "    <tr>\n",
       "      <td>...</td>\n",
       "      <td>...</td>\n",
       "      <td>...</td>\n",
       "      <td>...</td>\n",
       "    </tr>\n",
       "    <tr>\n",
       "      <td>495</td>\n",
       "      <td>0.993825</td>\n",
       "      <td>1.621521</td>\n",
       "      <td>0.865127</td>\n",
       "    </tr>\n",
       "    <tr>\n",
       "      <td>496</td>\n",
       "      <td>0.602709</td>\n",
       "      <td>0.847773</td>\n",
       "      <td>0.879713</td>\n",
       "    </tr>\n",
       "    <tr>\n",
       "      <td>497</td>\n",
       "      <td>0.766952</td>\n",
       "      <td>1.256135</td>\n",
       "      <td>0.865169</td>\n",
       "    </tr>\n",
       "    <tr>\n",
       "      <td>498</td>\n",
       "      <td>0.390647</td>\n",
       "      <td>0.694537</td>\n",
       "      <td>0.187321</td>\n",
       "    </tr>\n",
       "    <tr>\n",
       "      <td>499</td>\n",
       "      <td>0.390898</td>\n",
       "      <td>0.906870</td>\n",
       "      <td>0.052937</td>\n",
       "    </tr>\n",
       "  </tbody>\n",
       "</table>\n",
       "<p>500 rows × 3 columns</p>\n",
       "</div>"
      ],
      "text/plain": [
       "            x         y         z\n",
       "0    0.803639  1.537529  0.600584\n",
       "1    0.121780 -0.165495  0.971682\n",
       "2    0.145687  0.155150  0.241673\n",
       "3    0.755933  1.136582  0.988683\n",
       "4    0.946009  1.820105  0.698812\n",
       "..        ...       ...       ...\n",
       "495  0.993825  1.621521  0.865127\n",
       "496  0.602709  0.847773  0.879713\n",
       "497  0.766952  1.256135  0.865169\n",
       "498  0.390647  0.694537  0.187321\n",
       "499  0.390898  0.906870  0.052937\n",
       "\n",
       "[500 rows x 3 columns]"
      ]
     },
     "execution_count": 39,
     "metadata": {},
     "output_type": "execute_result"
    }
   ],
   "source": [
    "x = np.random.rand(500,)\n",
    "y = x * 2 + np.random.normal(0, 0.3, 500)\n",
    "z = np.random.rand(500,)\n",
    "\n",
    "df = pd.DataFrame({'x': x, 'y': y, 'z': z})\n",
    "df"
   ]
  },
  {
   "cell_type": "code",
   "execution_count": 40,
   "metadata": {},
   "outputs": [
    {
     "data": {
      "text/html": [
       "<div>\n",
       "<style scoped>\n",
       "    .dataframe tbody tr th:only-of-type {\n",
       "        vertical-align: middle;\n",
       "    }\n",
       "\n",
       "    .dataframe tbody tr th {\n",
       "        vertical-align: top;\n",
       "    }\n",
       "\n",
       "    .dataframe thead th {\n",
       "        text-align: right;\n",
       "    }\n",
       "</style>\n",
       "<table border=\"1\" class=\"dataframe\">\n",
       "  <thead>\n",
       "    <tr style=\"text-align: right;\">\n",
       "      <th></th>\n",
       "      <th>x</th>\n",
       "      <th>y</th>\n",
       "      <th>z</th>\n",
       "    </tr>\n",
       "  </thead>\n",
       "  <tbody>\n",
       "    <tr>\n",
       "      <td>x</td>\n",
       "      <td>1.000000</td>\n",
       "      <td>0.885693</td>\n",
       "      <td>0.074088</td>\n",
       "    </tr>\n",
       "    <tr>\n",
       "      <td>y</td>\n",
       "      <td>0.885693</td>\n",
       "      <td>1.000000</td>\n",
       "      <td>0.049686</td>\n",
       "    </tr>\n",
       "    <tr>\n",
       "      <td>z</td>\n",
       "      <td>0.074088</td>\n",
       "      <td>0.049686</td>\n",
       "      <td>1.000000</td>\n",
       "    </tr>\n",
       "  </tbody>\n",
       "</table>\n",
       "</div>"
      ],
      "text/plain": [
       "          x         y         z\n",
       "x  1.000000  0.885693  0.074088\n",
       "y  0.885693  1.000000  0.049686\n",
       "z  0.074088  0.049686  1.000000"
      ]
     },
     "execution_count": 40,
     "metadata": {},
     "output_type": "execute_result"
    }
   ],
   "source": [
    "df.corr()"
   ]
  },
  {
   "cell_type": "code",
   "execution_count": 41,
   "metadata": {},
   "outputs": [
    {
     "data": {
      "image/png": "[encoded data removed]",
      "text/plain": [
       "<Figure size 432x288 with 2 Axes>"
      ]
     },
     "metadata": {
      "needs_background": "light"
     },
     "output_type": "display_data"
    }
   ],
   "source": [
    "sns.heatmap(df.corr(),center=0,annot=True)\n",
    "bottom, top = plt.ylim()\n",
    "\n",
    "plt.ylim(bottom + 0.5, top - 0.5)\n",
    "plt.show()"
   ]
  },
  {
   "cell_type": "markdown",
   "metadata": {},
   "source": [
    "### Mengidentifikasi dan Menguji Kesamaan dari Means"
   ]
  },
  {
   "cell_type": "code",
   "execution_count": 42,
   "metadata": {},
   "outputs": [],
   "source": [
    "# Using two inferential statistics methods!\n",
    "# Tujuannya adalah mengidentifikasi atribut mana dalam kumpulan data ini yang berkorelasi satu sama lain dan kemudian menerapkan T-Test untuk menentukan apakah ada pasangan atribut yang memiliki mean yang sama.\n",
    "\n",
    "import seaborn as sns"
   ]
  },
  {
   "cell_type": "code",
   "execution_count": 43,
   "metadata": {},
   "outputs": [
    {
     "data": {
      "text/html": [
       "<div>\n",
       "<style scoped>\n",
       "    .dataframe tbody tr th:only-of-type {\n",
       "        vertical-align: middle;\n",
       "    }\n",
       "\n",
       "    .dataframe tbody tr th {\n",
       "        vertical-align: top;\n",
       "    }\n",
       "\n",
       "    .dataframe thead th {\n",
       "        text-align: right;\n",
       "    }\n",
       "</style>\n",
       "<table border=\"1\" class=\"dataframe\">\n",
       "  <thead>\n",
       "    <tr style=\"text-align: right;\">\n",
       "      <th></th>\n",
       "      <th>x</th>\n",
       "      <th>y</th>\n",
       "      <th>z</th>\n",
       "      <th>t</th>\n",
       "    </tr>\n",
       "  </thead>\n",
       "  <tbody>\n",
       "    <tr>\n",
       "      <td>0</td>\n",
       "      <td>0.108610</td>\n",
       "      <td>0.901637</td>\n",
       "      <td>3.495175</td>\n",
       "      <td>5.548247</td>\n",
       "    </tr>\n",
       "    <tr>\n",
       "      <td>1</td>\n",
       "      <td>1.441267</td>\n",
       "      <td>1.666423</td>\n",
       "      <td>3.554596</td>\n",
       "      <td>-3.839294</td>\n",
       "    </tr>\n",
       "    <tr>\n",
       "      <td>2</td>\n",
       "      <td>-0.492374</td>\n",
       "      <td>0.112673</td>\n",
       "      <td>3.902964</td>\n",
       "      <td>13.713320</td>\n",
       "    </tr>\n",
       "    <tr>\n",
       "      <td>3</td>\n",
       "      <td>1.106691</td>\n",
       "      <td>0.754194</td>\n",
       "      <td>3.447355</td>\n",
       "      <td>8.432243</td>\n",
       "    </tr>\n",
       "    <tr>\n",
       "      <td>4</td>\n",
       "      <td>1.553509</td>\n",
       "      <td>3.087109</td>\n",
       "      <td>3.756501</td>\n",
       "      <td>-1.373107</td>\n",
       "    </tr>\n",
       "    <tr>\n",
       "      <td>...</td>\n",
       "      <td>...</td>\n",
       "      <td>...</td>\n",
       "      <td>...</td>\n",
       "      <td>...</td>\n",
       "    </tr>\n",
       "    <tr>\n",
       "      <td>195</td>\n",
       "      <td>1.493377</td>\n",
       "      <td>1.492880</td>\n",
       "      <td>3.925922</td>\n",
       "      <td>7.017622</td>\n",
       "    </tr>\n",
       "    <tr>\n",
       "      <td>196</td>\n",
       "      <td>2.026095</td>\n",
       "      <td>2.619088</td>\n",
       "      <td>3.566304</td>\n",
       "      <td>4.266780</td>\n",
       "    </tr>\n",
       "    <tr>\n",
       "      <td>197</td>\n",
       "      <td>1.645892</td>\n",
       "      <td>1.843177</td>\n",
       "      <td>3.300479</td>\n",
       "      <td>19.727741</td>\n",
       "    </tr>\n",
       "    <tr>\n",
       "      <td>198</td>\n",
       "      <td>5.199665</td>\n",
       "      <td>6.485575</td>\n",
       "      <td>3.315931</td>\n",
       "      <td>23.108194</td>\n",
       "    </tr>\n",
       "    <tr>\n",
       "      <td>199</td>\n",
       "      <td>1.184739</td>\n",
       "      <td>2.062425</td>\n",
       "      <td>3.997849</td>\n",
       "      <td>15.379610</td>\n",
       "    </tr>\n",
       "  </tbody>\n",
       "</table>\n",
       "<p>200 rows × 4 columns</p>\n",
       "</div>"
      ],
      "text/plain": [
       "            x         y         z          t\n",
       "0    0.108610  0.901637  3.495175   5.548247\n",
       "1    1.441267  1.666423  3.554596  -3.839294\n",
       "2   -0.492374  0.112673  3.902964  13.713320\n",
       "3    1.106691  0.754194  3.447355   8.432243\n",
       "4    1.553509  3.087109  3.756501  -1.373107\n",
       "..        ...       ...       ...        ...\n",
       "195  1.493377  1.492880  3.925922   7.017622\n",
       "196  2.026095  2.619088  3.566304   4.266780\n",
       "197  1.645892  1.843177  3.300479  19.727741\n",
       "198  5.199665  6.485575  3.315931  23.108194\n",
       "199  1.184739  2.062425  3.997849  15.379610\n",
       "\n",
       "[200 rows x 4 columns]"
      ]
     },
     "execution_count": 43,
     "metadata": {},
     "output_type": "execute_result"
    }
   ],
   "source": [
    "df = pd.read_csv(\"D:\\RESEARCH\\Dasarnya\\MATH\\Step_4_Statistics and Calculus Python\\My Source Code\\Work_3\\data_2.csv\")\n",
    "df"
   ]
  },
  {
   "cell_type": "markdown",
   "metadata": {},
   "source": [
    "Pada cell selanjutnya, kita gunakan heatmap untuk memvisualisasikan korelasi antar variable pada dataset yang sudah kita load sebelumnya"
   ]
  },
  {
   "cell_type": "code",
   "execution_count": 44,
   "metadata": {},
   "outputs": [
    {
     "data": {
      "image/png": "[encoded data removed]",
      "text/plain": [
       "<Figure size 432x288 with 2 Axes>"
      ]
     },
     "metadata": {
      "needs_background": "light"
     },
     "output_type": "display_data"
    }
   ],
   "source": [
    "sns.heatmap(df.corr(),center=0,annot=True)\n",
    "bottom, top = plt.ylim()\n",
    "\n",
    "plt.ylim(bottom + 0.5, top - 0.5)\n",
    "plt.show()"
   ]
  },
  {
   "cell_type": "markdown",
   "metadata": {},
   "source": [
    "Gunakan jointplot pada library seaborn, setelah itu kita akan membuat plot gabungan dari 2 jenis, scatter plot pada two dimensional plane, dan 2 histogram yg merepresentasikan distribusi dari value2 tersebut"
   ]
  },
  {
   "cell_type": "code",
   "execution_count": 45,
   "metadata": {},
   "outputs": [
    {
     "data": {
      "image/png": "[encoded data removed]",
      "text/plain": [
       "<Figure size 432x432 with 3 Axes>"
      ]
     },
     "metadata": {
      "needs_background": "light"
     },
     "output_type": "display_data"
    }
   ],
   "source": [
    "# Actually it is not clear whether the two attributes have the same mean or not\n",
    "sns.jointplot(x='x',y='y',data=df)\n",
    "plt.show()"
   ]
  },
  {
   "cell_type": "markdown",
   "metadata": {},
   "source": [
    "Selanjutnya, kita gunakan T-Test untuk mengetahui apakah kedua atribut memiliki mean yang sama"
   ]
  },
  {
   "cell_type": "code",
   "execution_count": 46,
   "metadata": {},
   "outputs": [
    {
     "data": {
      "text/plain": [
       "0.011436482008949079"
      ]
     },
     "execution_count": 46,
     "metadata": {},
     "output_type": "execute_result"
    }
   ],
   "source": [
    "scipy.stats.ttest_ind(df['x'],df['y']).pvalue"
   ]
  },
  {
   "cell_type": "markdown",
   "metadata": {},
   "source": [
    "See? p-value dibawah 0.05, mengindikasikan untuk menolak null hypothesis, kedua distribusi memiliki rata-rata yang sama"
   ]
  },
  {
   "cell_type": "code",
   "execution_count": 47,
   "metadata": {},
   "outputs": [],
   "source": [
    "from sklearn import linear_model\n",
    "model = linear_model.LinearRegression()"
   ]
  },
  {
   "cell_type": "code",
   "execution_count": 48,
   "metadata": {},
   "outputs": [
    {
     "data": {
      "text/plain": [
       "LinearRegression()"
      ]
     },
     "execution_count": 48,
     "metadata": {},
     "output_type": "execute_result"
    }
   ],
   "source": [
    "model.fit(df[['x','z']],df['y'])"
   ]
  },
  {
   "cell_type": "code",
   "execution_count": 49,
   "metadata": {},
   "outputs": [
    {
     "data": {
      "text/plain": [
       "array([ 1.06862616, -0.23163518])"
      ]
     },
     "execution_count": 49,
     "metadata": {},
     "output_type": "execute_result"
    }
   ],
   "source": [
    "model.coef_"
   ]
  },
  {
   "cell_type": "code",
   "execution_count": 50,
   "metadata": {},
   "outputs": [
    {
     "data": {
      "text/plain": [
       "array([1.87603234, 2.71302333])"
      ]
     },
     "execution_count": 50,
     "metadata": {},
     "output_type": "execute_result"
    }
   ],
   "source": [
    "model.predict([[1,2],[2,3]])"
   ]
  },
  {
   "cell_type": "markdown",
   "metadata": {},
   "source": [
    "### MODEL SELECTION \n",
    "\n",
    "Selanjutnya, kita akan melakukan pemilihan model, di mana kita akan mencoba untuk menyesuaikan tiga model berbeda ke dataset tertentu, dan mempertimbangkan kinerja masing-masing model"
   ]
  },
  {
   "cell_type": "code",
   "execution_count": 54,
   "metadata": {},
   "outputs": [],
   "source": [
    "# Import first!\n",
    "import numpy as np\n",
    "from sklearn.datasets import make_blobs\n",
    "from sklearn.model_selection import train_test_split\n",
    "from sklearn.metrics import accuracy_score\n",
    "from sklearn.neighbors import KNeighborsClassifier\n",
    "from sklearn.svm import SVC\n",
    "from sklearn.ensemble import GradientBoostingClassifier\n",
    "import matplotlib.pyplot as plt"
   ]
  },
  {
   "cell_type": "code",
   "execution_count": 55,
   "metadata": {},
   "outputs": [],
   "source": [
    "# Sekarang, buat dataset sintetik nya\n",
    "n_samples = 10000\n",
    "centers = [(-2,2),(0,0),(2,2)]\n",
    "X, y = make_blobs(n_samples=n_samples,centers=centers,shuffle=False,random_state=0)"
   ]
  },
  {
   "cell_type": "code",
   "execution_count": 56,
   "metadata": {},
   "outputs": [
    {
     "data": {
      "text/plain": [
       "array([[-0.23594765,  2.40015721],\n",
       "       [-1.02126202,  4.2408932 ],\n",
       "       [-0.13244201,  1.02272212],\n",
       "       ...,\n",
       "       [ 0.98700332,  2.27166174],\n",
       "       [ 1.89100272,  1.94274075],\n",
       "       [ 0.94106874,  1.67347156]])"
      ]
     },
     "execution_count": 56,
     "metadata": {},
     "output_type": "execute_result"
    }
   ],
   "source": [
    "X"
   ]
  },
  {
   "cell_type": "code",
   "execution_count": 57,
   "metadata": {},
   "outputs": [
    {
     "data": {
      "text/plain": [
       "array([0, 0, 0, ..., 2, 2, 2])"
      ]
     },
     "execution_count": 57,
     "metadata": {},
     "output_type": "execute_result"
    }
   ],
   "source": [
    "y"
   ]
  },
  {
   "cell_type": "code",
   "execution_count": 58,
   "metadata": {},
   "outputs": [
    {
     "data": {
      "image/png": "[encoded data removed]",
      "text/plain": [
       "<Figure size 432x288 with 1 Axes>"
      ]
     },
     "metadata": {
      "needs_background": "light"
     },
     "output_type": "display_data"
    }
   ],
   "source": [
    "# Now, visualize this dataset using scatter plot!\n",
    "plt.scatter(X[:,0],X[:,1],c=y)\n",
    "plt.show()"
   ]
  },
  {
   "cell_type": "markdown",
   "metadata": {},
   "source": [
    "Cara pertama yang paling umum dari model selection adalah membagi data menjadi training dan test/validasi."
   ]
  },
  {
   "cell_type": "code",
   "execution_count": 59,
   "metadata": {},
   "outputs": [],
   "source": [
    "X_train, X_test, y_train, y_test = train_test_split(X, y, shuffle=True,random_state=0)"
   ]
  },
  {
   "cell_type": "markdown",
   "metadata": {},
   "source": [
    "Selanjutnya, inisiasi model model yang akan kita import tanpa mengspesifikasi parameter apapun pada part ini"
   ]
  },
  {
   "cell_type": "code",
   "execution_count": 61,
   "metadata": {},
   "outputs": [],
   "source": [
    "models = [KNeighborsClassifier(), SVC(), GradientBoostingClassifier()]"
   ]
  },
  {
   "cell_type": "markdown",
   "metadata": {},
   "source": [
    "Selanjutnya, iterasi masing-masing model, di mana setiap iterasinya, model melakukan pelatihan nya masing-masing. Berikut caranya"
   ]
  },
  {
   "cell_type": "code",
   "execution_count": 65,
   "metadata": {},
   "outputs": [
    {
     "name": "stdout",
     "output_type": "stream",
     "text": [
      "KNeighborsClassifier: 0.8792\n",
      "SVC: 0.8952\n",
      "GradientBoostingClassifier: 0.8876\n"
     ]
    }
   ],
   "source": [
    "for model in models:\n",
    "    model.fit(X_train, y_train)\n",
    "    y_pred = model.predict(X_test)\n",
    "    print(f'{type(model).__name__}: {accuracy_score(y_pred, y_test)}')"
   ]
  },
  {
   "cell_type": "markdown",
   "metadata": {},
   "source": [
    "Dari sini, kita bisa melihat, bahwa ternyata SVC memiliki performa terbaik."
   ]
  },
  {
   "cell_type": "markdown",
   "metadata": {},
   "source": [
    "Aktivitas selanjutnya adalah menggunakan kembali data the Communities and Crimes Dataset"
   ]
  },
  {
   "cell_type": "code",
   "execution_count": 67,
   "metadata": {},
   "outputs": [],
   "source": [
    "import pandas as pd\n",
    "import numpy as np\n",
    "import matplotlib.pyplot as plt\n",
    "import seaborn as sns\n",
    "\n",
    "df = pd.read_csv(\"D:\\RESEARCH\\Dasarnya\\MATH\\Step_4_Statistics and Calculus Python\\My Source Code\\Work_3\\CommViolPredUnnormalizedData.txt\")"
   ]
  },
  {
   "cell_type": "code",
   "execution_count": 68,
   "metadata": {},
   "outputs": [
    {
     "data": {
      "text/html": [
       "<div>\n",
       "<style scoped>\n",
       "    .dataframe tbody tr th:only-of-type {\n",
       "        vertical-align: middle;\n",
       "    }\n",
       "\n",
       "    .dataframe tbody tr th {\n",
       "        vertical-align: top;\n",
       "    }\n",
       "\n",
       "    .dataframe thead th {\n",
       "        text-align: right;\n",
       "    }\n",
       "</style>\n",
       "<table border=\"1\" class=\"dataframe\">\n",
       "  <thead>\n",
       "    <tr style=\"text-align: right;\">\n",
       "      <th></th>\n",
       "      <th>communityname</th>\n",
       "      <th>state</th>\n",
       "      <th>countyCode</th>\n",
       "      <th>communityCode</th>\n",
       "      <th>fold</th>\n",
       "      <th>population</th>\n",
       "      <th>householdsize</th>\n",
       "      <th>racepctblack</th>\n",
       "      <th>racePctWhite</th>\n",
       "      <th>racePctAsian</th>\n",
       "      <th>...</th>\n",
       "      <th>burglaries</th>\n",
       "      <th>burglPerPop</th>\n",
       "      <th>larcenies</th>\n",
       "      <th>larcPerPop</th>\n",
       "      <th>autoTheft</th>\n",
       "      <th>autoTheftPerPop</th>\n",
       "      <th>arsons</th>\n",
       "      <th>arsonsPerPop</th>\n",
       "      <th>ViolentCrimesPerPop</th>\n",
       "      <th>nonViolPerPop</th>\n",
       "    </tr>\n",
       "  </thead>\n",
       "  <tbody>\n",
       "    <tr>\n",
       "      <td>0</td>\n",
       "      <td>BerkeleyHeightstownship</td>\n",
       "      <td>NJ</td>\n",
       "      <td>39</td>\n",
       "      <td>5320</td>\n",
       "      <td>1</td>\n",
       "      <td>11980</td>\n",
       "      <td>3.10</td>\n",
       "      <td>1.37</td>\n",
       "      <td>91.78</td>\n",
       "      <td>6.50</td>\n",
       "      <td>...</td>\n",
       "      <td>14</td>\n",
       "      <td>114.85</td>\n",
       "      <td>138</td>\n",
       "      <td>1132.08</td>\n",
       "      <td>16</td>\n",
       "      <td>131.26</td>\n",
       "      <td>2</td>\n",
       "      <td>16.41</td>\n",
       "      <td>41.02</td>\n",
       "      <td>1394.59</td>\n",
       "    </tr>\n",
       "    <tr>\n",
       "      <td>1</td>\n",
       "      <td>Marpletownship</td>\n",
       "      <td>PA</td>\n",
       "      <td>45</td>\n",
       "      <td>47616</td>\n",
       "      <td>1</td>\n",
       "      <td>23123</td>\n",
       "      <td>2.82</td>\n",
       "      <td>0.80</td>\n",
       "      <td>95.57</td>\n",
       "      <td>3.44</td>\n",
       "      <td>...</td>\n",
       "      <td>57</td>\n",
       "      <td>242.37</td>\n",
       "      <td>376</td>\n",
       "      <td>1598.78</td>\n",
       "      <td>26</td>\n",
       "      <td>110.55</td>\n",
       "      <td>1</td>\n",
       "      <td>4.25</td>\n",
       "      <td>127.56</td>\n",
       "      <td>1955.95</td>\n",
       "    </tr>\n",
       "    <tr>\n",
       "      <td>2</td>\n",
       "      <td>Tigardcity</td>\n",
       "      <td>OR</td>\n",
       "      <td>?</td>\n",
       "      <td>?</td>\n",
       "      <td>1</td>\n",
       "      <td>29344</td>\n",
       "      <td>2.43</td>\n",
       "      <td>0.74</td>\n",
       "      <td>94.33</td>\n",
       "      <td>3.43</td>\n",
       "      <td>...</td>\n",
       "      <td>274</td>\n",
       "      <td>758.14</td>\n",
       "      <td>1797</td>\n",
       "      <td>4972.19</td>\n",
       "      <td>136</td>\n",
       "      <td>376.3</td>\n",
       "      <td>22</td>\n",
       "      <td>60.87</td>\n",
       "      <td>218.59</td>\n",
       "      <td>6167.51</td>\n",
       "    </tr>\n",
       "    <tr>\n",
       "      <td>3</td>\n",
       "      <td>Gloversvillecity</td>\n",
       "      <td>NY</td>\n",
       "      <td>35</td>\n",
       "      <td>29443</td>\n",
       "      <td>1</td>\n",
       "      <td>16656</td>\n",
       "      <td>2.40</td>\n",
       "      <td>1.70</td>\n",
       "      <td>97.35</td>\n",
       "      <td>0.50</td>\n",
       "      <td>...</td>\n",
       "      <td>225</td>\n",
       "      <td>1301.78</td>\n",
       "      <td>716</td>\n",
       "      <td>4142.56</td>\n",
       "      <td>47</td>\n",
       "      <td>271.93</td>\n",
       "      <td>?</td>\n",
       "      <td>?</td>\n",
       "      <td>306.64</td>\n",
       "      <td>?</td>\n",
       "    </tr>\n",
       "    <tr>\n",
       "      <td>4</td>\n",
       "      <td>Bemidjicity</td>\n",
       "      <td>MN</td>\n",
       "      <td>7</td>\n",
       "      <td>5068</td>\n",
       "      <td>1</td>\n",
       "      <td>11245</td>\n",
       "      <td>2.76</td>\n",
       "      <td>0.53</td>\n",
       "      <td>89.16</td>\n",
       "      <td>1.17</td>\n",
       "      <td>...</td>\n",
       "      <td>91</td>\n",
       "      <td>728.93</td>\n",
       "      <td>1060</td>\n",
       "      <td>8490.87</td>\n",
       "      <td>91</td>\n",
       "      <td>728.93</td>\n",
       "      <td>5</td>\n",
       "      <td>40.05</td>\n",
       "      <td>?</td>\n",
       "      <td>9988.79</td>\n",
       "    </tr>\n",
       "    <tr>\n",
       "      <td>...</td>\n",
       "      <td>...</td>\n",
       "      <td>...</td>\n",
       "      <td>...</td>\n",
       "      <td>...</td>\n",
       "      <td>...</td>\n",
       "      <td>...</td>\n",
       "      <td>...</td>\n",
       "      <td>...</td>\n",
       "      <td>...</td>\n",
       "      <td>...</td>\n",
       "      <td>...</td>\n",
       "      <td>...</td>\n",
       "      <td>...</td>\n",
       "      <td>...</td>\n",
       "      <td>...</td>\n",
       "      <td>...</td>\n",
       "      <td>...</td>\n",
       "      <td>...</td>\n",
       "      <td>...</td>\n",
       "      <td>...</td>\n",
       "      <td>...</td>\n",
       "    </tr>\n",
       "    <tr>\n",
       "      <td>2210</td>\n",
       "      <td>Mercedcity</td>\n",
       "      <td>CA</td>\n",
       "      <td>?</td>\n",
       "      <td>?</td>\n",
       "      <td>10</td>\n",
       "      <td>56216</td>\n",
       "      <td>3.07</td>\n",
       "      <td>6.87</td>\n",
       "      <td>61.68</td>\n",
       "      <td>15.23</td>\n",
       "      <td>...</td>\n",
       "      <td>1376</td>\n",
       "      <td>2268.72</td>\n",
       "      <td>2563</td>\n",
       "      <td>4225.82</td>\n",
       "      <td>489</td>\n",
       "      <td>806.25</td>\n",
       "      <td>34</td>\n",
       "      <td>56.06</td>\n",
       "      <td>545.75</td>\n",
       "      <td>7356.84</td>\n",
       "    </tr>\n",
       "    <tr>\n",
       "      <td>2211</td>\n",
       "      <td>Pinevillecity</td>\n",
       "      <td>LA</td>\n",
       "      <td>?</td>\n",
       "      <td>?</td>\n",
       "      <td>10</td>\n",
       "      <td>12251</td>\n",
       "      <td>2.68</td>\n",
       "      <td>21.18</td>\n",
       "      <td>76.65</td>\n",
       "      <td>1.52</td>\n",
       "      <td>...</td>\n",
       "      <td>104</td>\n",
       "      <td>860.43</td>\n",
       "      <td>574</td>\n",
       "      <td>4748.9</td>\n",
       "      <td>24</td>\n",
       "      <td>198.56</td>\n",
       "      <td>2</td>\n",
       "      <td>16.55</td>\n",
       "      <td>124.1</td>\n",
       "      <td>5824.44</td>\n",
       "    </tr>\n",
       "    <tr>\n",
       "      <td>2212</td>\n",
       "      <td>Yucaipacity</td>\n",
       "      <td>CA</td>\n",
       "      <td>?</td>\n",
       "      <td>?</td>\n",
       "      <td>10</td>\n",
       "      <td>32824</td>\n",
       "      <td>2.46</td>\n",
       "      <td>0.52</td>\n",
       "      <td>92.62</td>\n",
       "      <td>0.98</td>\n",
       "      <td>...</td>\n",
       "      <td>628</td>\n",
       "      <td>1709.26</td>\n",
       "      <td>895</td>\n",
       "      <td>2435.97</td>\n",
       "      <td>179</td>\n",
       "      <td>487.19</td>\n",
       "      <td>8</td>\n",
       "      <td>21.77</td>\n",
       "      <td>353.83</td>\n",
       "      <td>4654.2</td>\n",
       "    </tr>\n",
       "    <tr>\n",
       "      <td>2213</td>\n",
       "      <td>Beevillecity</td>\n",
       "      <td>TX</td>\n",
       "      <td>?</td>\n",
       "      <td>?</td>\n",
       "      <td>10</td>\n",
       "      <td>13547</td>\n",
       "      <td>2.89</td>\n",
       "      <td>3.37</td>\n",
       "      <td>69.91</td>\n",
       "      <td>0.90</td>\n",
       "      <td>...</td>\n",
       "      <td>192</td>\n",
       "      <td>1508.01</td>\n",
       "      <td>474</td>\n",
       "      <td>3722.9</td>\n",
       "      <td>13</td>\n",
       "      <td>102.1</td>\n",
       "      <td>1</td>\n",
       "      <td>7.85</td>\n",
       "      <td>691.17</td>\n",
       "      <td>5340.87</td>\n",
       "    </tr>\n",
       "    <tr>\n",
       "      <td>2214</td>\n",
       "      <td>WestSacramentocity</td>\n",
       "      <td>CA</td>\n",
       "      <td>?</td>\n",
       "      <td>?</td>\n",
       "      <td>10</td>\n",
       "      <td>28898</td>\n",
       "      <td>2.61</td>\n",
       "      <td>2.39</td>\n",
       "      <td>71.27</td>\n",
       "      <td>9.09</td>\n",
       "      <td>...</td>\n",
       "      <td>791</td>\n",
       "      <td>2614.53</td>\n",
       "      <td>1458</td>\n",
       "      <td>4819.2</td>\n",
       "      <td>405</td>\n",
       "      <td>1338.67</td>\n",
       "      <td>20</td>\n",
       "      <td>66.11</td>\n",
       "      <td>918.89</td>\n",
       "      <td>8838.5</td>\n",
       "    </tr>\n",
       "  </tbody>\n",
       "</table>\n",
       "<p>2215 rows × 147 columns</p>\n",
       "</div>"
      ],
      "text/plain": [
       "                communityname state countyCode communityCode  fold  \\\n",
       "0     BerkeleyHeightstownship    NJ         39          5320     1   \n",
       "1              Marpletownship    PA         45         47616     1   \n",
       "2                  Tigardcity    OR          ?             ?     1   \n",
       "3            Gloversvillecity    NY         35         29443     1   \n",
       "4                 Bemidjicity    MN          7          5068     1   \n",
       "...                       ...   ...        ...           ...   ...   \n",
       "2210               Mercedcity    CA          ?             ?    10   \n",
       "2211            Pinevillecity    LA          ?             ?    10   \n",
       "2212              Yucaipacity    CA          ?             ?    10   \n",
       "2213             Beevillecity    TX          ?             ?    10   \n",
       "2214       WestSacramentocity    CA          ?             ?    10   \n",
       "\n",
       "      population  householdsize  racepctblack  racePctWhite  racePctAsian  \\\n",
       "0          11980           3.10          1.37         91.78          6.50   \n",
       "1          23123           2.82          0.80         95.57          3.44   \n",
       "2          29344           2.43          0.74         94.33          3.43   \n",
       "3          16656           2.40          1.70         97.35          0.50   \n",
       "4          11245           2.76          0.53         89.16          1.17   \n",
       "...          ...            ...           ...           ...           ...   \n",
       "2210       56216           3.07          6.87         61.68         15.23   \n",
       "2211       12251           2.68         21.18         76.65          1.52   \n",
       "2212       32824           2.46          0.52         92.62          0.98   \n",
       "2213       13547           2.89          3.37         69.91          0.90   \n",
       "2214       28898           2.61          2.39         71.27          9.09   \n",
       "\n",
       "      ...  burglaries  burglPerPop  larcenies  larcPerPop  autoTheft  \\\n",
       "0     ...          14       114.85        138     1132.08         16   \n",
       "1     ...          57       242.37        376     1598.78         26   \n",
       "2     ...         274       758.14       1797     4972.19        136   \n",
       "3     ...         225      1301.78        716     4142.56         47   \n",
       "4     ...          91       728.93       1060     8490.87         91   \n",
       "...   ...         ...          ...        ...         ...        ...   \n",
       "2210  ...        1376      2268.72       2563     4225.82        489   \n",
       "2211  ...         104       860.43        574      4748.9         24   \n",
       "2212  ...         628      1709.26        895     2435.97        179   \n",
       "2213  ...         192      1508.01        474      3722.9         13   \n",
       "2214  ...         791      2614.53       1458      4819.2        405   \n",
       "\n",
       "      autoTheftPerPop  arsons  arsonsPerPop  ViolentCrimesPerPop  \\\n",
       "0              131.26       2         16.41                41.02   \n",
       "1              110.55       1          4.25               127.56   \n",
       "2               376.3      22         60.87               218.59   \n",
       "3              271.93       ?             ?               306.64   \n",
       "4              728.93       5         40.05                    ?   \n",
       "...               ...     ...           ...                  ...   \n",
       "2210           806.25      34         56.06               545.75   \n",
       "2211           198.56       2         16.55                124.1   \n",
       "2212           487.19       8         21.77               353.83   \n",
       "2213            102.1       1          7.85               691.17   \n",
       "2214          1338.67      20         66.11               918.89   \n",
       "\n",
       "      nonViolPerPop  \n",
       "0           1394.59  \n",
       "1           1955.95  \n",
       "2           6167.51  \n",
       "3                 ?  \n",
       "4           9988.79  \n",
       "...             ...  \n",
       "2210        7356.84  \n",
       "2211        5824.44  \n",
       "2212         4654.2  \n",
       "2213        5340.87  \n",
       "2214         8838.5  \n",
       "\n",
       "[2215 rows x 147 columns]"
      ]
     },
     "execution_count": 68,
     "metadata": {},
     "output_type": "execute_result"
    }
   ],
   "source": [
    "df"
   ]
  },
  {
   "cell_type": "markdown",
   "metadata": {},
   "source": [
    "Ganti semua special character '?'  menggunakan <b>np.nan</b>."
   ]
  },
  {
   "cell_type": "code",
   "execution_count": 69,
   "metadata": {},
   "outputs": [],
   "source": [
    "df = df.replace('?',np.nan)"
   ]
  },
  {
   "cell_type": "code",
   "execution_count": 70,
   "metadata": {},
   "outputs": [
    {
     "data": {
      "text/html": [
       "<div>\n",
       "<style scoped>\n",
       "    .dataframe tbody tr th:only-of-type {\n",
       "        vertical-align: middle;\n",
       "    }\n",
       "\n",
       "    .dataframe tbody tr th {\n",
       "        vertical-align: top;\n",
       "    }\n",
       "\n",
       "    .dataframe thead th {\n",
       "        text-align: right;\n",
       "    }\n",
       "</style>\n",
       "<table border=\"1\" class=\"dataframe\">\n",
       "  <thead>\n",
       "    <tr style=\"text-align: right;\">\n",
       "      <th></th>\n",
       "      <th>communityname</th>\n",
       "      <th>state</th>\n",
       "      <th>countyCode</th>\n",
       "      <th>communityCode</th>\n",
       "      <th>fold</th>\n",
       "      <th>population</th>\n",
       "      <th>householdsize</th>\n",
       "      <th>racepctblack</th>\n",
       "      <th>racePctWhite</th>\n",
       "      <th>racePctAsian</th>\n",
       "      <th>...</th>\n",
       "      <th>burglaries</th>\n",
       "      <th>burglPerPop</th>\n",
       "      <th>larcenies</th>\n",
       "      <th>larcPerPop</th>\n",
       "      <th>autoTheft</th>\n",
       "      <th>autoTheftPerPop</th>\n",
       "      <th>arsons</th>\n",
       "      <th>arsonsPerPop</th>\n",
       "      <th>ViolentCrimesPerPop</th>\n",
       "      <th>nonViolPerPop</th>\n",
       "    </tr>\n",
       "  </thead>\n",
       "  <tbody>\n",
       "    <tr>\n",
       "      <td>0</td>\n",
       "      <td>BerkeleyHeightstownship</td>\n",
       "      <td>NJ</td>\n",
       "      <td>39</td>\n",
       "      <td>5320</td>\n",
       "      <td>1</td>\n",
       "      <td>11980</td>\n",
       "      <td>3.10</td>\n",
       "      <td>1.37</td>\n",
       "      <td>91.78</td>\n",
       "      <td>6.50</td>\n",
       "      <td>...</td>\n",
       "      <td>14</td>\n",
       "      <td>114.85</td>\n",
       "      <td>138</td>\n",
       "      <td>1132.08</td>\n",
       "      <td>16</td>\n",
       "      <td>131.26</td>\n",
       "      <td>2</td>\n",
       "      <td>16.41</td>\n",
       "      <td>41.02</td>\n",
       "      <td>1394.59</td>\n",
       "    </tr>\n",
       "    <tr>\n",
       "      <td>1</td>\n",
       "      <td>Marpletownship</td>\n",
       "      <td>PA</td>\n",
       "      <td>45</td>\n",
       "      <td>47616</td>\n",
       "      <td>1</td>\n",
       "      <td>23123</td>\n",
       "      <td>2.82</td>\n",
       "      <td>0.80</td>\n",
       "      <td>95.57</td>\n",
       "      <td>3.44</td>\n",
       "      <td>...</td>\n",
       "      <td>57</td>\n",
       "      <td>242.37</td>\n",
       "      <td>376</td>\n",
       "      <td>1598.78</td>\n",
       "      <td>26</td>\n",
       "      <td>110.55</td>\n",
       "      <td>1</td>\n",
       "      <td>4.25</td>\n",
       "      <td>127.56</td>\n",
       "      <td>1955.95</td>\n",
       "    </tr>\n",
       "    <tr>\n",
       "      <td>2</td>\n",
       "      <td>Tigardcity</td>\n",
       "      <td>OR</td>\n",
       "      <td>NaN</td>\n",
       "      <td>NaN</td>\n",
       "      <td>1</td>\n",
       "      <td>29344</td>\n",
       "      <td>2.43</td>\n",
       "      <td>0.74</td>\n",
       "      <td>94.33</td>\n",
       "      <td>3.43</td>\n",
       "      <td>...</td>\n",
       "      <td>274</td>\n",
       "      <td>758.14</td>\n",
       "      <td>1797</td>\n",
       "      <td>4972.19</td>\n",
       "      <td>136</td>\n",
       "      <td>376.3</td>\n",
       "      <td>22</td>\n",
       "      <td>60.87</td>\n",
       "      <td>218.59</td>\n",
       "      <td>6167.51</td>\n",
       "    </tr>\n",
       "    <tr>\n",
       "      <td>3</td>\n",
       "      <td>Gloversvillecity</td>\n",
       "      <td>NY</td>\n",
       "      <td>35</td>\n",
       "      <td>29443</td>\n",
       "      <td>1</td>\n",
       "      <td>16656</td>\n",
       "      <td>2.40</td>\n",
       "      <td>1.70</td>\n",
       "      <td>97.35</td>\n",
       "      <td>0.50</td>\n",
       "      <td>...</td>\n",
       "      <td>225</td>\n",
       "      <td>1301.78</td>\n",
       "      <td>716</td>\n",
       "      <td>4142.56</td>\n",
       "      <td>47</td>\n",
       "      <td>271.93</td>\n",
       "      <td>NaN</td>\n",
       "      <td>NaN</td>\n",
       "      <td>306.64</td>\n",
       "      <td>NaN</td>\n",
       "    </tr>\n",
       "    <tr>\n",
       "      <td>4</td>\n",
       "      <td>Bemidjicity</td>\n",
       "      <td>MN</td>\n",
       "      <td>7</td>\n",
       "      <td>5068</td>\n",
       "      <td>1</td>\n",
       "      <td>11245</td>\n",
       "      <td>2.76</td>\n",
       "      <td>0.53</td>\n",
       "      <td>89.16</td>\n",
       "      <td>1.17</td>\n",
       "      <td>...</td>\n",
       "      <td>91</td>\n",
       "      <td>728.93</td>\n",
       "      <td>1060</td>\n",
       "      <td>8490.87</td>\n",
       "      <td>91</td>\n",
       "      <td>728.93</td>\n",
       "      <td>5</td>\n",
       "      <td>40.05</td>\n",
       "      <td>NaN</td>\n",
       "      <td>9988.79</td>\n",
       "    </tr>\n",
       "    <tr>\n",
       "      <td>...</td>\n",
       "      <td>...</td>\n",
       "      <td>...</td>\n",
       "      <td>...</td>\n",
       "      <td>...</td>\n",
       "      <td>...</td>\n",
       "      <td>...</td>\n",
       "      <td>...</td>\n",
       "      <td>...</td>\n",
       "      <td>...</td>\n",
       "      <td>...</td>\n",
       "      <td>...</td>\n",
       "      <td>...</td>\n",
       "      <td>...</td>\n",
       "      <td>...</td>\n",
       "      <td>...</td>\n",
       "      <td>...</td>\n",
       "      <td>...</td>\n",
       "      <td>...</td>\n",
       "      <td>...</td>\n",
       "      <td>...</td>\n",
       "      <td>...</td>\n",
       "    </tr>\n",
       "    <tr>\n",
       "      <td>2210</td>\n",
       "      <td>Mercedcity</td>\n",
       "      <td>CA</td>\n",
       "      <td>NaN</td>\n",
       "      <td>NaN</td>\n",
       "      <td>10</td>\n",
       "      <td>56216</td>\n",
       "      <td>3.07</td>\n",
       "      <td>6.87</td>\n",
       "      <td>61.68</td>\n",
       "      <td>15.23</td>\n",
       "      <td>...</td>\n",
       "      <td>1376</td>\n",
       "      <td>2268.72</td>\n",
       "      <td>2563</td>\n",
       "      <td>4225.82</td>\n",
       "      <td>489</td>\n",
       "      <td>806.25</td>\n",
       "      <td>34</td>\n",
       "      <td>56.06</td>\n",
       "      <td>545.75</td>\n",
       "      <td>7356.84</td>\n",
       "    </tr>\n",
       "    <tr>\n",
       "      <td>2211</td>\n",
       "      <td>Pinevillecity</td>\n",
       "      <td>LA</td>\n",
       "      <td>NaN</td>\n",
       "      <td>NaN</td>\n",
       "      <td>10</td>\n",
       "      <td>12251</td>\n",
       "      <td>2.68</td>\n",
       "      <td>21.18</td>\n",
       "      <td>76.65</td>\n",
       "      <td>1.52</td>\n",
       "      <td>...</td>\n",
       "      <td>104</td>\n",
       "      <td>860.43</td>\n",
       "      <td>574</td>\n",
       "      <td>4748.9</td>\n",
       "      <td>24</td>\n",
       "      <td>198.56</td>\n",
       "      <td>2</td>\n",
       "      <td>16.55</td>\n",
       "      <td>124.1</td>\n",
       "      <td>5824.44</td>\n",
       "    </tr>\n",
       "    <tr>\n",
       "      <td>2212</td>\n",
       "      <td>Yucaipacity</td>\n",
       "      <td>CA</td>\n",
       "      <td>NaN</td>\n",
       "      <td>NaN</td>\n",
       "      <td>10</td>\n",
       "      <td>32824</td>\n",
       "      <td>2.46</td>\n",
       "      <td>0.52</td>\n",
       "      <td>92.62</td>\n",
       "      <td>0.98</td>\n",
       "      <td>...</td>\n",
       "      <td>628</td>\n",
       "      <td>1709.26</td>\n",
       "      <td>895</td>\n",
       "      <td>2435.97</td>\n",
       "      <td>179</td>\n",
       "      <td>487.19</td>\n",
       "      <td>8</td>\n",
       "      <td>21.77</td>\n",
       "      <td>353.83</td>\n",
       "      <td>4654.2</td>\n",
       "    </tr>\n",
       "    <tr>\n",
       "      <td>2213</td>\n",
       "      <td>Beevillecity</td>\n",
       "      <td>TX</td>\n",
       "      <td>NaN</td>\n",
       "      <td>NaN</td>\n",
       "      <td>10</td>\n",
       "      <td>13547</td>\n",
       "      <td>2.89</td>\n",
       "      <td>3.37</td>\n",
       "      <td>69.91</td>\n",
       "      <td>0.90</td>\n",
       "      <td>...</td>\n",
       "      <td>192</td>\n",
       "      <td>1508.01</td>\n",
       "      <td>474</td>\n",
       "      <td>3722.9</td>\n",
       "      <td>13</td>\n",
       "      <td>102.1</td>\n",
       "      <td>1</td>\n",
       "      <td>7.85</td>\n",
       "      <td>691.17</td>\n",
       "      <td>5340.87</td>\n",
       "    </tr>\n",
       "    <tr>\n",
       "      <td>2214</td>\n",
       "      <td>WestSacramentocity</td>\n",
       "      <td>CA</td>\n",
       "      <td>NaN</td>\n",
       "      <td>NaN</td>\n",
       "      <td>10</td>\n",
       "      <td>28898</td>\n",
       "      <td>2.61</td>\n",
       "      <td>2.39</td>\n",
       "      <td>71.27</td>\n",
       "      <td>9.09</td>\n",
       "      <td>...</td>\n",
       "      <td>791</td>\n",
       "      <td>2614.53</td>\n",
       "      <td>1458</td>\n",
       "      <td>4819.2</td>\n",
       "      <td>405</td>\n",
       "      <td>1338.67</td>\n",
       "      <td>20</td>\n",
       "      <td>66.11</td>\n",
       "      <td>918.89</td>\n",
       "      <td>8838.5</td>\n",
       "    </tr>\n",
       "  </tbody>\n",
       "</table>\n",
       "<p>2215 rows × 147 columns</p>\n",
       "</div>"
      ],
      "text/plain": [
       "                communityname state countyCode communityCode  fold  \\\n",
       "0     BerkeleyHeightstownship    NJ         39          5320     1   \n",
       "1              Marpletownship    PA         45         47616     1   \n",
       "2                  Tigardcity    OR        NaN           NaN     1   \n",
       "3            Gloversvillecity    NY         35         29443     1   \n",
       "4                 Bemidjicity    MN          7          5068     1   \n",
       "...                       ...   ...        ...           ...   ...   \n",
       "2210               Mercedcity    CA        NaN           NaN    10   \n",
       "2211            Pinevillecity    LA        NaN           NaN    10   \n",
       "2212              Yucaipacity    CA        NaN           NaN    10   \n",
       "2213             Beevillecity    TX        NaN           NaN    10   \n",
       "2214       WestSacramentocity    CA        NaN           NaN    10   \n",
       "\n",
       "      population  householdsize  racepctblack  racePctWhite  racePctAsian  \\\n",
       "0          11980           3.10          1.37         91.78          6.50   \n",
       "1          23123           2.82          0.80         95.57          3.44   \n",
       "2          29344           2.43          0.74         94.33          3.43   \n",
       "3          16656           2.40          1.70         97.35          0.50   \n",
       "4          11245           2.76          0.53         89.16          1.17   \n",
       "...          ...            ...           ...           ...           ...   \n",
       "2210       56216           3.07          6.87         61.68         15.23   \n",
       "2211       12251           2.68         21.18         76.65          1.52   \n",
       "2212       32824           2.46          0.52         92.62          0.98   \n",
       "2213       13547           2.89          3.37         69.91          0.90   \n",
       "2214       28898           2.61          2.39         71.27          9.09   \n",
       "\n",
       "      ...  burglaries  burglPerPop  larcenies  larcPerPop  autoTheft  \\\n",
       "0     ...          14       114.85        138     1132.08         16   \n",
       "1     ...          57       242.37        376     1598.78         26   \n",
       "2     ...         274       758.14       1797     4972.19        136   \n",
       "3     ...         225      1301.78        716     4142.56         47   \n",
       "4     ...          91       728.93       1060     8490.87         91   \n",
       "...   ...         ...          ...        ...         ...        ...   \n",
       "2210  ...        1376      2268.72       2563     4225.82        489   \n",
       "2211  ...         104       860.43        574      4748.9         24   \n",
       "2212  ...         628      1709.26        895     2435.97        179   \n",
       "2213  ...         192      1508.01        474      3722.9         13   \n",
       "2214  ...         791      2614.53       1458      4819.2        405   \n",
       "\n",
       "      autoTheftPerPop  arsons  arsonsPerPop  ViolentCrimesPerPop  \\\n",
       "0              131.26       2         16.41                41.02   \n",
       "1              110.55       1          4.25               127.56   \n",
       "2               376.3      22         60.87               218.59   \n",
       "3              271.93     NaN           NaN               306.64   \n",
       "4              728.93       5         40.05                  NaN   \n",
       "...               ...     ...           ...                  ...   \n",
       "2210           806.25      34         56.06               545.75   \n",
       "2211           198.56       2         16.55                124.1   \n",
       "2212           487.19       8         21.77               353.83   \n",
       "2213            102.1       1          7.85               691.17   \n",
       "2214          1338.67      20         66.11               918.89   \n",
       "\n",
       "      nonViolPerPop  \n",
       "0           1394.59  \n",
       "1           1955.95  \n",
       "2           6167.51  \n",
       "3               NaN  \n",
       "4           9988.79  \n",
       "...             ...  \n",
       "2210        7356.84  \n",
       "2211        5824.44  \n",
       "2212         4654.2  \n",
       "2213        5340.87  \n",
       "2214         8838.5  \n",
       "\n",
       "[2215 rows x 147 columns]"
      ]
     },
     "execution_count": 70,
     "metadata": {},
     "output_type": "execute_result"
    }
   ],
   "source": [
    "df"
   ]
  },
  {
   "cell_type": "markdown",
   "metadata": {},
   "source": [
    "Selanjutnya kita akan menghitung kelompok usia yang berbeda, secara simpel menggunakan komputasi tervektorisasi"
   ]
  },
  {
   "cell_type": "code",
   "execution_count": 71,
   "metadata": {},
   "outputs": [
    {
     "data": {
      "text/html": [
       "<div>\n",
       "<style scoped>\n",
       "    .dataframe tbody tr th:only-of-type {\n",
       "        vertical-align: middle;\n",
       "    }\n",
       "\n",
       "    .dataframe tbody tr th {\n",
       "        vertical-align: top;\n",
       "    }\n",
       "\n",
       "    .dataframe thead th {\n",
       "        text-align: right;\n",
       "    }\n",
       "</style>\n",
       "<table border=\"1\" class=\"dataframe\">\n",
       "  <thead>\n",
       "    <tr style=\"text-align: right;\">\n",
       "      <th></th>\n",
       "      <th>population</th>\n",
       "      <th>agePct12t21</th>\n",
       "      <th>agePct12t29</th>\n",
       "      <th>agePct16t24</th>\n",
       "      <th>agePct65up</th>\n",
       "      <th>agePct12t21</th>\n",
       "      <th>agePct12t29</th>\n",
       "      <th>agePct16t24</th>\n",
       "      <th>agePct65up</th>\n",
       "    </tr>\n",
       "  </thead>\n",
       "  <tbody>\n",
       "    <tr>\n",
       "      <td>0</td>\n",
       "      <td>11980</td>\n",
       "      <td>12.47</td>\n",
       "      <td>21.44</td>\n",
       "      <td>10.93</td>\n",
       "      <td>11.33</td>\n",
       "      <td>12.47</td>\n",
       "      <td>21.44</td>\n",
       "      <td>10.93</td>\n",
       "      <td>11.33</td>\n",
       "    </tr>\n",
       "    <tr>\n",
       "      <td>1</td>\n",
       "      <td>23123</td>\n",
       "      <td>11.01</td>\n",
       "      <td>21.30</td>\n",
       "      <td>10.48</td>\n",
       "      <td>17.18</td>\n",
       "      <td>11.01</td>\n",
       "      <td>21.30</td>\n",
       "      <td>10.48</td>\n",
       "      <td>17.18</td>\n",
       "    </tr>\n",
       "    <tr>\n",
       "      <td>2</td>\n",
       "      <td>29344</td>\n",
       "      <td>11.36</td>\n",
       "      <td>25.88</td>\n",
       "      <td>11.01</td>\n",
       "      <td>10.28</td>\n",
       "      <td>11.36</td>\n",
       "      <td>25.88</td>\n",
       "      <td>11.01</td>\n",
       "      <td>10.28</td>\n",
       "    </tr>\n",
       "    <tr>\n",
       "      <td>3</td>\n",
       "      <td>16656</td>\n",
       "      <td>12.55</td>\n",
       "      <td>25.20</td>\n",
       "      <td>12.19</td>\n",
       "      <td>17.57</td>\n",
       "      <td>12.55</td>\n",
       "      <td>25.20</td>\n",
       "      <td>12.19</td>\n",
       "      <td>17.57</td>\n",
       "    </tr>\n",
       "    <tr>\n",
       "      <td>4</td>\n",
       "      <td>11245</td>\n",
       "      <td>24.46</td>\n",
       "      <td>40.53</td>\n",
       "      <td>28.69</td>\n",
       "      <td>12.65</td>\n",
       "      <td>24.46</td>\n",
       "      <td>40.53</td>\n",
       "      <td>28.69</td>\n",
       "      <td>12.65</td>\n",
       "    </tr>\n",
       "  </tbody>\n",
       "</table>\n",
       "</div>"
      ],
      "text/plain": [
       "   population  agePct12t21  agePct12t29  agePct16t24  agePct65up  agePct12t21  \\\n",
       "0       11980        12.47        21.44        10.93       11.33        12.47   \n",
       "1       23123        11.01        21.30        10.48       17.18        11.01   \n",
       "2       29344        11.36        25.88        11.01       10.28        11.36   \n",
       "3       16656        12.55        25.20        12.19       17.57        12.55   \n",
       "4       11245        24.46        40.53        28.69       12.65        24.46   \n",
       "\n",
       "   agePct12t29  agePct16t24  agePct65up  \n",
       "0        21.44        10.93       11.33  \n",
       "1        21.30        10.48       17.18  \n",
       "2        25.88        11.01       10.28  \n",
       "3        25.20        12.19       17.57  \n",
       "4        40.53        28.69       12.65  "
      ]
     },
     "execution_count": 71,
     "metadata": {},
     "output_type": "execute_result"
    }
   ],
   "source": [
    "age_groups = ['12t21', '12t29', '16t24', '65up']\n",
    "\n",
    "for group in age_groups:\n",
    "    df['ageCnt' + group] = (df['population'] * df['agePct' + group]).astype(int)\n",
    "\n",
    "df[['population'] + ['agePct' + group for group in age_groups] + ['agePct' + group for group in age_groups]].head()"
   ]
  },
  {
   "cell_type": "code",
   "execution_count": 73,
   "metadata": {},
   "outputs": [
    {
     "data": {
      "text/html": [
       "<div>\n",
       "<style scoped>\n",
       "    .dataframe tbody tr th:only-of-type {\n",
       "        vertical-align: middle;\n",
       "    }\n",
       "\n",
       "    .dataframe tbody tr th {\n",
       "        vertical-align: top;\n",
       "    }\n",
       "\n",
       "    .dataframe thead th {\n",
       "        text-align: right;\n",
       "    }\n",
       "</style>\n",
       "<table border=\"1\" class=\"dataframe\">\n",
       "  <thead>\n",
       "    <tr style=\"text-align: right;\">\n",
       "      <th></th>\n",
       "      <th>ageCnt12t21</th>\n",
       "      <th>ageCnt12t29</th>\n",
       "      <th>ageCnt16t24</th>\n",
       "      <th>ageCnt65up</th>\n",
       "    </tr>\n",
       "    <tr>\n",
       "      <th>state</th>\n",
       "      <th></th>\n",
       "      <th></th>\n",
       "      <th></th>\n",
       "      <th></th>\n",
       "    </tr>\n",
       "  </thead>\n",
       "  <tbody>\n",
       "    <tr>\n",
       "      <td>AK</td>\n",
       "      <td>3971927</td>\n",
       "      <td>8302160</td>\n",
       "      <td>3835631</td>\n",
       "      <td>1059150</td>\n",
       "    </tr>\n",
       "    <tr>\n",
       "      <td>AL</td>\n",
       "      <td>26531311</td>\n",
       "      <td>48598259</td>\n",
       "      <td>25509908</td>\n",
       "      <td>20155405</td>\n",
       "    </tr>\n",
       "    <tr>\n",
       "      <td>AR</td>\n",
       "      <td>12457357</td>\n",
       "      <td>23201471</td>\n",
       "      <td>11819576</td>\n",
       "      <td>10139231</td>\n",
       "    </tr>\n",
       "    <tr>\n",
       "      <td>AZ</td>\n",
       "      <td>37010700</td>\n",
       "      <td>74073284</td>\n",
       "      <td>36542705</td>\n",
       "      <td>24874683</td>\n",
       "    </tr>\n",
       "    <tr>\n",
       "      <td>CA</td>\n",
       "      <td>313751289</td>\n",
       "      <td>655608220</td>\n",
       "      <td>320917351</td>\n",
       "      <td>205368238</td>\n",
       "    </tr>\n",
       "    <tr>\n",
       "      <td>CO</td>\n",
       "      <td>26880244</td>\n",
       "      <td>54754699</td>\n",
       "      <td>26904829</td>\n",
       "      <td>18303615</td>\n",
       "    </tr>\n",
       "    <tr>\n",
       "      <td>CT</td>\n",
       "      <td>33001089</td>\n",
       "      <td>68383070</td>\n",
       "      <td>33322119</td>\n",
       "      <td>32500776</td>\n",
       "    </tr>\n",
       "    <tr>\n",
       "      <td>DC</td>\n",
       "      <td>8217425</td>\n",
       "      <td>18103827</td>\n",
       "      <td>9522261</td>\n",
       "      <td>6997557</td>\n",
       "    </tr>\n",
       "    <tr>\n",
       "      <td>DE</td>\n",
       "      <td>528838</td>\n",
       "      <td>951577</td>\n",
       "      <td>576638</td>\n",
       "      <td>252814</td>\n",
       "    </tr>\n",
       "    <tr>\n",
       "      <td>FL</td>\n",
       "      <td>57150727</td>\n",
       "      <td>117464860</td>\n",
       "      <td>58223953</td>\n",
       "      <td>75890164</td>\n",
       "    </tr>\n",
       "    <tr>\n",
       "      <td>GA</td>\n",
       "      <td>24504966</td>\n",
       "      <td>47842234</td>\n",
       "      <td>24588825</td>\n",
       "      <td>17309143</td>\n",
       "    </tr>\n",
       "    <tr>\n",
       "      <td>IA</td>\n",
       "      <td>12757729</td>\n",
       "      <td>23953859</td>\n",
       "      <td>12785676</td>\n",
       "      <td>9828973</td>\n",
       "    </tr>\n",
       "    <tr>\n",
       "      <td>ID</td>\n",
       "      <td>3732325</td>\n",
       "      <td>6323250</td>\n",
       "      <td>3621371</td>\n",
       "      <td>2066505</td>\n",
       "    </tr>\n",
       "    <tr>\n",
       "      <td>IL</td>\n",
       "      <td>61107091</td>\n",
       "      <td>125169008</td>\n",
       "      <td>59954994</td>\n",
       "      <td>45375782</td>\n",
       "    </tr>\n",
       "    <tr>\n",
       "      <td>IN</td>\n",
       "      <td>34615283</td>\n",
       "      <td>67596028</td>\n",
       "      <td>33669666</td>\n",
       "      <td>28169932</td>\n",
       "    </tr>\n",
       "    <tr>\n",
       "      <td>KS</td>\n",
       "      <td>3936942</td>\n",
       "      <td>8372462</td>\n",
       "      <td>3888300</td>\n",
       "      <td>3377562</td>\n",
       "    </tr>\n",
       "    <tr>\n",
       "      <td>KY</td>\n",
       "      <td>11463558</td>\n",
       "      <td>22035953</td>\n",
       "      <td>11017306</td>\n",
       "      <td>10835299</td>\n",
       "    </tr>\n",
       "    <tr>\n",
       "      <td>LA</td>\n",
       "      <td>24912861</td>\n",
       "      <td>45048166</td>\n",
       "      <td>23474442</td>\n",
       "      <td>17057009</td>\n",
       "    </tr>\n",
       "    <tr>\n",
       "      <td>MA</td>\n",
       "      <td>59843350</td>\n",
       "      <td>126623399</td>\n",
       "      <td>64224510</td>\n",
       "      <td>54276422</td>\n",
       "    </tr>\n",
       "    <tr>\n",
       "      <td>MD</td>\n",
       "      <td>12858017</td>\n",
       "      <td>27624449</td>\n",
       "      <td>13529942</td>\n",
       "      <td>11972899</td>\n",
       "    </tr>\n",
       "    <tr>\n",
       "      <td>ME</td>\n",
       "      <td>5705632</td>\n",
       "      <td>11189820</td>\n",
       "      <td>6034395</td>\n",
       "      <td>4667684</td>\n",
       "    </tr>\n",
       "    <tr>\n",
       "      <td>MI</td>\n",
       "      <td>72452551</td>\n",
       "      <td>136312203</td>\n",
       "      <td>70637480</td>\n",
       "      <td>50191441</td>\n",
       "    </tr>\n",
       "    <tr>\n",
       "      <td>MN</td>\n",
       "      <td>27729171</td>\n",
       "      <td>57917269</td>\n",
       "      <td>28074723</td>\n",
       "      <td>18949360</td>\n",
       "    </tr>\n",
       "    <tr>\n",
       "      <td>MO</td>\n",
       "      <td>22786960</td>\n",
       "      <td>43945359</td>\n",
       "      <td>22846900</td>\n",
       "      <td>18750747</td>\n",
       "    </tr>\n",
       "    <tr>\n",
       "      <td>MS</td>\n",
       "      <td>10409764</td>\n",
       "      <td>18808225</td>\n",
       "      <td>9697084</td>\n",
       "      <td>7430543</td>\n",
       "    </tr>\n",
       "    <tr>\n",
       "      <td>NC</td>\n",
       "      <td>31261221</td>\n",
       "      <td>62845152</td>\n",
       "      <td>33305643</td>\n",
       "      <td>22595299</td>\n",
       "    </tr>\n",
       "    <tr>\n",
       "      <td>ND</td>\n",
       "      <td>4313585</td>\n",
       "      <td>8362040</td>\n",
       "      <td>4547749</td>\n",
       "      <td>2603188</td>\n",
       "    </tr>\n",
       "    <tr>\n",
       "      <td>NH</td>\n",
       "      <td>7518100</td>\n",
       "      <td>15596682</td>\n",
       "      <td>7718610</td>\n",
       "      <td>5338595</td>\n",
       "    </tr>\n",
       "    <tr>\n",
       "      <td>NJ</td>\n",
       "      <td>77870593</td>\n",
       "      <td>156862929</td>\n",
       "      <td>75941057</td>\n",
       "      <td>71426699</td>\n",
       "    </tr>\n",
       "    <tr>\n",
       "      <td>NM</td>\n",
       "      <td>8331604</td>\n",
       "      <td>16141685</td>\n",
       "      <td>7738429</td>\n",
       "      <td>6125784</td>\n",
       "    </tr>\n",
       "    <tr>\n",
       "      <td>NV</td>\n",
       "      <td>6583769</td>\n",
       "      <td>14208650</td>\n",
       "      <td>6700067</td>\n",
       "      <td>5181018</td>\n",
       "    </tr>\n",
       "    <tr>\n",
       "      <td>NY</td>\n",
       "      <td>126813971</td>\n",
       "      <td>263953647</td>\n",
       "      <td>129050997</td>\n",
       "      <td>114188916</td>\n",
       "    </tr>\n",
       "    <tr>\n",
       "      <td>OH</td>\n",
       "      <td>69823137</td>\n",
       "      <td>135828318</td>\n",
       "      <td>68787224</td>\n",
       "      <td>57157393</td>\n",
       "    </tr>\n",
       "    <tr>\n",
       "      <td>OK</td>\n",
       "      <td>25270322</td>\n",
       "      <td>48498862</td>\n",
       "      <td>24178732</td>\n",
       "      <td>18939492</td>\n",
       "    </tr>\n",
       "    <tr>\n",
       "      <td>OR</td>\n",
       "      <td>18335606</td>\n",
       "      <td>36090870</td>\n",
       "      <td>18283415</td>\n",
       "      <td>15923972</td>\n",
       "    </tr>\n",
       "    <tr>\n",
       "      <td>PA</td>\n",
       "      <td>57990001</td>\n",
       "      <td>113533582</td>\n",
       "      <td>57587074</td>\n",
       "      <td>59969355</td>\n",
       "    </tr>\n",
       "    <tr>\n",
       "      <td>RI</td>\n",
       "      <td>12793091</td>\n",
       "      <td>24831768</td>\n",
       "      <td>13118328</td>\n",
       "      <td>12226440</td>\n",
       "    </tr>\n",
       "    <tr>\n",
       "      <td>SC</td>\n",
       "      <td>13069161</td>\n",
       "      <td>25804934</td>\n",
       "      <td>14101493</td>\n",
       "      <td>8624010</td>\n",
       "    </tr>\n",
       "    <tr>\n",
       "      <td>SD</td>\n",
       "      <td>4182395</td>\n",
       "      <td>7997121</td>\n",
       "      <td>4291766</td>\n",
       "      <td>2915513</td>\n",
       "    </tr>\n",
       "    <tr>\n",
       "      <td>TN</td>\n",
       "      <td>25943744</td>\n",
       "      <td>48858766</td>\n",
       "      <td>25620522</td>\n",
       "      <td>19720082</td>\n",
       "    </tr>\n",
       "    <tr>\n",
       "      <td>TX</td>\n",
       "      <td>165406498</td>\n",
       "      <td>325256686</td>\n",
       "      <td>161039655</td>\n",
       "      <td>90949867</td>\n",
       "    </tr>\n",
       "    <tr>\n",
       "      <td>UT</td>\n",
       "      <td>15027046</td>\n",
       "      <td>27008549</td>\n",
       "      <td>14066769</td>\n",
       "      <td>6690488</td>\n",
       "    </tr>\n",
       "    <tr>\n",
       "      <td>VA</td>\n",
       "      <td>34243165</td>\n",
       "      <td>70261129</td>\n",
       "      <td>37318022</td>\n",
       "      <td>21983596</td>\n",
       "    </tr>\n",
       "    <tr>\n",
       "      <td>VT</td>\n",
       "      <td>1713945</td>\n",
       "      <td>3130789</td>\n",
       "      <td>1981139</td>\n",
       "      <td>829790</td>\n",
       "    </tr>\n",
       "    <tr>\n",
       "      <td>WA</td>\n",
       "      <td>25552000</td>\n",
       "      <td>54774362</td>\n",
       "      <td>27652854</td>\n",
       "      <td>23502317</td>\n",
       "    </tr>\n",
       "    <tr>\n",
       "      <td>WI</td>\n",
       "      <td>35903720</td>\n",
       "      <td>70629959</td>\n",
       "      <td>36535105</td>\n",
       "      <td>27737041</td>\n",
       "    </tr>\n",
       "    <tr>\n",
       "      <td>WV</td>\n",
       "      <td>5286821</td>\n",
       "      <td>9012435</td>\n",
       "      <td>5105269</td>\n",
       "      <td>6075189</td>\n",
       "    </tr>\n",
       "    <tr>\n",
       "      <td>WY</td>\n",
       "      <td>2486641</td>\n",
       "      <td>4408833</td>\n",
       "      <td>2249456</td>\n",
       "      <td>1279518</td>\n",
       "    </tr>\n",
       "  </tbody>\n",
       "</table>\n",
       "</div>"
      ],
      "text/plain": [
       "       ageCnt12t21  ageCnt12t29  ageCnt16t24  ageCnt65up\n",
       "state                                                   \n",
       "AK         3971927      8302160      3835631     1059150\n",
       "AL        26531311     48598259     25509908    20155405\n",
       "AR        12457357     23201471     11819576    10139231\n",
       "AZ        37010700     74073284     36542705    24874683\n",
       "CA       313751289    655608220    320917351   205368238\n",
       "CO        26880244     54754699     26904829    18303615\n",
       "CT        33001089     68383070     33322119    32500776\n",
       "DC         8217425     18103827      9522261     6997557\n",
       "DE          528838       951577       576638      252814\n",
       "FL        57150727    117464860     58223953    75890164\n",
       "GA        24504966     47842234     24588825    17309143\n",
       "IA        12757729     23953859     12785676     9828973\n",
       "ID         3732325      6323250      3621371     2066505\n",
       "IL        61107091    125169008     59954994    45375782\n",
       "IN        34615283     67596028     33669666    28169932\n",
       "KS         3936942      8372462      3888300     3377562\n",
       "KY        11463558     22035953     11017306    10835299\n",
       "LA        24912861     45048166     23474442    17057009\n",
       "MA        59843350    126623399     64224510    54276422\n",
       "MD        12858017     27624449     13529942    11972899\n",
       "ME         5705632     11189820      6034395     4667684\n",
       "MI        72452551    136312203     70637480    50191441\n",
       "MN        27729171     57917269     28074723    18949360\n",
       "MO        22786960     43945359     22846900    18750747\n",
       "MS        10409764     18808225      9697084     7430543\n",
       "NC        31261221     62845152     33305643    22595299\n",
       "ND         4313585      8362040      4547749     2603188\n",
       "NH         7518100     15596682      7718610     5338595\n",
       "NJ        77870593    156862929     75941057    71426699\n",
       "NM         8331604     16141685      7738429     6125784\n",
       "NV         6583769     14208650      6700067     5181018\n",
       "NY       126813971    263953647    129050997   114188916\n",
       "OH        69823137    135828318     68787224    57157393\n",
       "OK        25270322     48498862     24178732    18939492\n",
       "OR        18335606     36090870     18283415    15923972\n",
       "PA        57990001    113533582     57587074    59969355\n",
       "RI        12793091     24831768     13118328    12226440\n",
       "SC        13069161     25804934     14101493     8624010\n",
       "SD         4182395      7997121      4291766     2915513\n",
       "TN        25943744     48858766     25620522    19720082\n",
       "TX       165406498    325256686    161039655    90949867\n",
       "UT        15027046     27008549     14066769     6690488\n",
       "VA        34243165     70261129     37318022    21983596\n",
       "VT         1713945      3130789      1981139      829790\n",
       "WA        25552000     54774362     27652854    23502317\n",
       "WI        35903720     70629959     36535105    27737041\n",
       "WV         5286821      9012435      5105269     6075189\n",
       "WY         2486641      4408833      2249456     1279518"
      ]
     },
     "execution_count": 73,
     "metadata": {},
     "output_type": "execute_result"
    }
   ],
   "source": [
    "group_state_df = df.groupby('state')\n",
    "group_state_df.sum()[['ageCnt' + group for group in age_groups]]"
   ]
  },
  {
   "cell_type": "code",
   "execution_count": 74,
   "metadata": {},
   "outputs": [
    {
     "data": {
      "text/html": [
       "<div>\n",
       "<style scoped>\n",
       "    .dataframe tbody tr th:only-of-type {\n",
       "        vertical-align: middle;\n",
       "    }\n",
       "\n",
       "    .dataframe tbody tr th {\n",
       "        vertical-align: top;\n",
       "    }\n",
       "\n",
       "    .dataframe thead th {\n",
       "        text-align: right;\n",
       "    }\n",
       "</style>\n",
       "<table border=\"1\" class=\"dataframe\">\n",
       "  <thead>\n",
       "    <tr style=\"text-align: right;\">\n",
       "      <th></th>\n",
       "      <th>fold</th>\n",
       "      <th>population</th>\n",
       "      <th>householdsize</th>\n",
       "      <th>racepctblack</th>\n",
       "      <th>racePctWhite</th>\n",
       "      <th>racePctAsian</th>\n",
       "      <th>racePctHisp</th>\n",
       "      <th>agePct12t21</th>\n",
       "      <th>agePct12t29</th>\n",
       "      <th>agePct16t24</th>\n",
       "      <th>...</th>\n",
       "      <th>LandArea</th>\n",
       "      <th>PopDens</th>\n",
       "      <th>PctUsePubTrans</th>\n",
       "      <th>LemasPctOfficDrugUn</th>\n",
       "      <th>murders</th>\n",
       "      <th>murdPerPop</th>\n",
       "      <th>ageCnt12t21</th>\n",
       "      <th>ageCnt12t29</th>\n",
       "      <th>ageCnt16t24</th>\n",
       "      <th>ageCnt65up</th>\n",
       "    </tr>\n",
       "  </thead>\n",
       "  <tbody>\n",
       "    <tr>\n",
       "      <td>count</td>\n",
       "      <td>2215.000000</td>\n",
       "      <td>2.215000e+03</td>\n",
       "      <td>2215.000000</td>\n",
       "      <td>2215.000000</td>\n",
       "      <td>2215.000000</td>\n",
       "      <td>2215.000000</td>\n",
       "      <td>2215.000000</td>\n",
       "      <td>2215.000000</td>\n",
       "      <td>2215.000000</td>\n",
       "      <td>2215.000000</td>\n",
       "      <td>...</td>\n",
       "      <td>2215.000000</td>\n",
       "      <td>2215.000000</td>\n",
       "      <td>2215.000000</td>\n",
       "      <td>2215.000000</td>\n",
       "      <td>2215.000000</td>\n",
       "      <td>2215.000000</td>\n",
       "      <td>2.215000e+03</td>\n",
       "      <td>2.215000e+03</td>\n",
       "      <td>2.215000e+03</td>\n",
       "      <td>2.215000e+03</td>\n",
       "    </tr>\n",
       "    <tr>\n",
       "      <td>mean</td>\n",
       "      <td>5.494357</td>\n",
       "      <td>5.311798e+04</td>\n",
       "      <td>2.707327</td>\n",
       "      <td>9.335102</td>\n",
       "      <td>83.979819</td>\n",
       "      <td>2.670203</td>\n",
       "      <td>7.950176</td>\n",
       "      <td>14.445837</td>\n",
       "      <td>27.644840</td>\n",
       "      <td>13.975142</td>\n",
       "      <td>...</td>\n",
       "      <td>27.419955</td>\n",
       "      <td>2783.835034</td>\n",
       "      <td>3.041124</td>\n",
       "      <td>0.980163</td>\n",
       "      <td>7.764786</td>\n",
       "      <td>5.859296</td>\n",
       "      <td>7.602877e+05</td>\n",
       "      <td>1.526908e+06</td>\n",
       "      <td>7.639458e+05</td>\n",
       "      <td>5.859072e+05</td>\n",
       "    </tr>\n",
       "    <tr>\n",
       "      <td>std</td>\n",
       "      <td>2.872924</td>\n",
       "      <td>2.046203e+05</td>\n",
       "      <td>0.334120</td>\n",
       "      <td>14.247156</td>\n",
       "      <td>16.419080</td>\n",
       "      <td>4.473843</td>\n",
       "      <td>14.589832</td>\n",
       "      <td>4.518623</td>\n",
       "      <td>6.181517</td>\n",
       "      <td>5.970747</td>\n",
       "      <td>...</td>\n",
       "      <td>109.822600</td>\n",
       "      <td>2828.993341</td>\n",
       "      <td>4.912917</td>\n",
       "      <td>2.877128</td>\n",
       "      <td>58.166468</td>\n",
       "      <td>9.156829</td>\n",
       "      <td>2.792631e+06</td>\n",
       "      <td>5.872683e+06</td>\n",
       "      <td>2.860104e+06</td>\n",
       "      <td>2.256703e+06</td>\n",
       "    </tr>\n",
       "    <tr>\n",
       "      <td>min</td>\n",
       "      <td>1.000000</td>\n",
       "      <td>1.000500e+04</td>\n",
       "      <td>1.600000</td>\n",
       "      <td>0.000000</td>\n",
       "      <td>2.680000</td>\n",
       "      <td>0.030000</td>\n",
       "      <td>0.120000</td>\n",
       "      <td>4.580000</td>\n",
       "      <td>9.380000</td>\n",
       "      <td>4.640000</td>\n",
       "      <td>...</td>\n",
       "      <td>0.900000</td>\n",
       "      <td>10.000000</td>\n",
       "      <td>0.000000</td>\n",
       "      <td>0.000000</td>\n",
       "      <td>0.000000</td>\n",
       "      <td>0.000000</td>\n",
       "      <td>6.308400e+04</td>\n",
       "      <td>1.151000e+05</td>\n",
       "      <td>5.824800e+04</td>\n",
       "      <td>2.369900e+04</td>\n",
       "    </tr>\n",
       "    <tr>\n",
       "      <td>25%</td>\n",
       "      <td>3.000000</td>\n",
       "      <td>1.436600e+04</td>\n",
       "      <td>2.500000</td>\n",
       "      <td>0.860000</td>\n",
       "      <td>76.320000</td>\n",
       "      <td>0.620000</td>\n",
       "      <td>0.930000</td>\n",
       "      <td>12.250000</td>\n",
       "      <td>24.415000</td>\n",
       "      <td>11.320000</td>\n",
       "      <td>...</td>\n",
       "      <td>7.300000</td>\n",
       "      <td>1181.900000</td>\n",
       "      <td>0.360000</td>\n",
       "      <td>0.000000</td>\n",
       "      <td>0.000000</td>\n",
       "      <td>0.000000</td>\n",
       "      <td>2.022965e+05</td>\n",
       "      <td>3.772230e+05</td>\n",
       "      <td>1.801620e+05</td>\n",
       "      <td>1.637320e+05</td>\n",
       "    </tr>\n",
       "    <tr>\n",
       "      <td>50%</td>\n",
       "      <td>5.000000</td>\n",
       "      <td>2.279200e+04</td>\n",
       "      <td>2.660000</td>\n",
       "      <td>2.870000</td>\n",
       "      <td>90.350000</td>\n",
       "      <td>1.230000</td>\n",
       "      <td>2.180000</td>\n",
       "      <td>13.620000</td>\n",
       "      <td>26.780000</td>\n",
       "      <td>12.540000</td>\n",
       "      <td>...</td>\n",
       "      <td>13.700000</td>\n",
       "      <td>2027.300000</td>\n",
       "      <td>1.220000</td>\n",
       "      <td>0.000000</td>\n",
       "      <td>1.000000</td>\n",
       "      <td>2.170000</td>\n",
       "      <td>3.209700e+05</td>\n",
       "      <td>6.166910e+05</td>\n",
       "      <td>3.016520e+05</td>\n",
       "      <td>2.608680e+05</td>\n",
       "    </tr>\n",
       "    <tr>\n",
       "      <td>75%</td>\n",
       "      <td>8.000000</td>\n",
       "      <td>4.302400e+04</td>\n",
       "      <td>2.850000</td>\n",
       "      <td>11.145000</td>\n",
       "      <td>96.225000</td>\n",
       "      <td>2.670000</td>\n",
       "      <td>7.810000</td>\n",
       "      <td>15.360000</td>\n",
       "      <td>29.205000</td>\n",
       "      <td>14.345000</td>\n",
       "      <td>...</td>\n",
       "      <td>26.100000</td>\n",
       "      <td>3321.700000</td>\n",
       "      <td>3.365000</td>\n",
       "      <td>0.000000</td>\n",
       "      <td>3.000000</td>\n",
       "      <td>8.365000</td>\n",
       "      <td>6.170790e+05</td>\n",
       "      <td>1.225713e+06</td>\n",
       "      <td>6.083580e+05</td>\n",
       "      <td>4.835810e+05</td>\n",
       "    </tr>\n",
       "    <tr>\n",
       "      <td>max</td>\n",
       "      <td>10.000000</td>\n",
       "      <td>7.322564e+06</td>\n",
       "      <td>5.280000</td>\n",
       "      <td>96.670000</td>\n",
       "      <td>99.630000</td>\n",
       "      <td>57.460000</td>\n",
       "      <td>95.290000</td>\n",
       "      <td>54.400000</td>\n",
       "      <td>70.510000</td>\n",
       "      <td>63.620000</td>\n",
       "      <td>...</td>\n",
       "      <td>3569.800000</td>\n",
       "      <td>44229.900000</td>\n",
       "      <td>54.330000</td>\n",
       "      <td>48.440000</td>\n",
       "      <td>1946.000000</td>\n",
       "      <td>91.090000</td>\n",
       "      <td>9.563268e+07</td>\n",
       "      <td>2.010776e+08</td>\n",
       "      <td>9.585236e+07</td>\n",
       "      <td>8.508819e+07</td>\n",
       "    </tr>\n",
       "  </tbody>\n",
       "</table>\n",
       "<p>8 rows × 108 columns</p>\n",
       "</div>"
      ],
      "text/plain": [
       "              fold    population  householdsize  racepctblack  racePctWhite  \\\n",
       "count  2215.000000  2.215000e+03    2215.000000   2215.000000   2215.000000   \n",
       "mean      5.494357  5.311798e+04       2.707327      9.335102     83.979819   \n",
       "std       2.872924  2.046203e+05       0.334120     14.247156     16.419080   \n",
       "min       1.000000  1.000500e+04       1.600000      0.000000      2.680000   \n",
       "25%       3.000000  1.436600e+04       2.500000      0.860000     76.320000   \n",
       "50%       5.000000  2.279200e+04       2.660000      2.870000     90.350000   \n",
       "75%       8.000000  4.302400e+04       2.850000     11.145000     96.225000   \n",
       "max      10.000000  7.322564e+06       5.280000     96.670000     99.630000   \n",
       "\n",
       "       racePctAsian  racePctHisp  agePct12t21  agePct12t29  agePct16t24  ...  \\\n",
       "count   2215.000000  2215.000000  2215.000000  2215.000000  2215.000000  ...   \n",
       "mean       2.670203     7.950176    14.445837    27.644840    13.975142  ...   \n",
       "std        4.473843    14.589832     4.518623     6.181517     5.970747  ...   \n",
       "min        0.030000     0.120000     4.580000     9.380000     4.640000  ...   \n",
       "25%        0.620000     0.930000    12.250000    24.415000    11.320000  ...   \n",
       "50%        1.230000     2.180000    13.620000    26.780000    12.540000  ...   \n",
       "75%        2.670000     7.810000    15.360000    29.205000    14.345000  ...   \n",
       "max       57.460000    95.290000    54.400000    70.510000    63.620000  ...   \n",
       "\n",
       "          LandArea       PopDens  PctUsePubTrans  LemasPctOfficDrugUn  \\\n",
       "count  2215.000000   2215.000000     2215.000000          2215.000000   \n",
       "mean     27.419955   2783.835034        3.041124             0.980163   \n",
       "std     109.822600   2828.993341        4.912917             2.877128   \n",
       "min       0.900000     10.000000        0.000000             0.000000   \n",
       "25%       7.300000   1181.900000        0.360000             0.000000   \n",
       "50%      13.700000   2027.300000        1.220000             0.000000   \n",
       "75%      26.100000   3321.700000        3.365000             0.000000   \n",
       "max    3569.800000  44229.900000       54.330000            48.440000   \n",
       "\n",
       "           murders   murdPerPop   ageCnt12t21   ageCnt12t29   ageCnt16t24  \\\n",
       "count  2215.000000  2215.000000  2.215000e+03  2.215000e+03  2.215000e+03   \n",
       "mean      7.764786     5.859296  7.602877e+05  1.526908e+06  7.639458e+05   \n",
       "std      58.166468     9.156829  2.792631e+06  5.872683e+06  2.860104e+06   \n",
       "min       0.000000     0.000000  6.308400e+04  1.151000e+05  5.824800e+04   \n",
       "25%       0.000000     0.000000  2.022965e+05  3.772230e+05  1.801620e+05   \n",
       "50%       1.000000     2.170000  3.209700e+05  6.166910e+05  3.016520e+05   \n",
       "75%       3.000000     8.365000  6.170790e+05  1.225713e+06  6.083580e+05   \n",
       "max    1946.000000    91.090000  9.563268e+07  2.010776e+08  9.585236e+07   \n",
       "\n",
       "         ageCnt65up  \n",
       "count  2.215000e+03  \n",
       "mean   5.859072e+05  \n",
       "std    2.256703e+06  \n",
       "min    2.369900e+04  \n",
       "25%    1.637320e+05  \n",
       "50%    2.608680e+05  \n",
       "75%    4.835810e+05  \n",
       "max    8.508819e+07  \n",
       "\n",
       "[8 rows x 108 columns]"
      ]
     },
     "execution_count": 74,
     "metadata": {},
     "output_type": "execute_result"
    }
   ],
   "source": [
    "# Coba kita ambil informasi secara detail pada objek df\n",
    "df.describe()"
   ]
  },
  {
   "cell_type": "markdown",
   "metadata": {},
   "source": [
    "Visualisasikan hitungannya menggunakan boxplot"
   ]
  },
  {
   "cell_type": "code",
   "execution_count": 75,
   "metadata": {},
   "outputs": [
    {
     "data": {
      "image/png": "[encoded data removed]",
      "text/plain": [
       "<Figure size 936x720 with 1 Axes>"
      ]
     },
     "metadata": {
      "needs_background": "light"
     },
     "output_type": "display_data"
    }
   ],
   "source": [
    "crime_df = df[['burglPerPop','larcPerPop','autoTheftPerPop', 'arsonsPerPop','nonViolPerPop']]\n",
    "\n",
    "f, ax = plt.subplots(figsize=(13,10))\n",
    "sns.boxplot(data=crime_df)\n",
    "plt.show()"
   ]
  },
  {
   "cell_type": "markdown",
   "metadata": {},
   "source": [
    "Bisa kita lihat, bahwa kejahatan yang bukan kekerasan, adalah yang paling umum"
   ]
  },
  {
   "cell_type": "markdown",
   "metadata": {},
   "source": [
    "Sekarang kita coba visualisasi menggunakan heatmap, untuk matriks korelasi yang mengacu pada data yang sudah kita pretelin sebelumnya."
   ]
  },
  {
   "cell_type": "code",
   "execution_count": 76,
   "metadata": {},
   "outputs": [
    {
     "data": {
      "image/png": "[encoded data removed]",
      "text/plain": [
       "<Figure size 936x720 with 2 Axes>"
      ]
     },
     "metadata": {
      "needs_background": "light"
     },
     "output_type": "display_data"
    }
   ],
   "source": [
    "feature_columns = ['PctPopUnderPov', 'PctLess9thGrade','PctUnemployed', 'ViolentCrimesPerPop', 'nonViolPerPop']\n",
    "filtered_df = df[feature_columns]\n",
    "f, ax = plt.subplots(figsize=(13, 10))\n",
    "sns.heatmap(filtered_df.dropna().astype(float).corr(), center=0, annot=True)\n",
    "bottom, top = ax.get_ylim()\n",
    "ax.set_ylim(bottom + 0.5, top - 0.5)\n",
    "plt.show()\n"
   ]
  },
  {
   "cell_type": "markdown",
   "metadata": {},
   "source": [
    "Di sini kita bisa melihat, penduduk di bawah tingkat kemiskinan dan persentase pengangguran memiliki korelasi yang tinggi. Ini adalah insight yang seharusnya bisa dimengerti untuk menginfokan bagaimana faktor kejahatan terhubung satu sama lain."
   ]
  },
  {
   "cell_type": "code",
   "execution_count": null,
   "metadata": {},
   "outputs": [],
   "source": []
  }
 ],
 "metadata": {
  "interpreter": {
   "hash": "9d3bae0a0f66551680ef8a166f6b92cc2774d5d7901f027deb7bb883ed06d5ae"
  },
  "kernelspec": {
   "display_name": "Python 3.7.4 64-bit ('base': conda)",
   "name": "python3"
  },
  "language_info": {
   "codemirror_mode": {
    "name": "ipython",
    "version": 3
   },
   "file_extension": ".py",
   "mimetype": "text/x-python",
   "name": "python",
   "nbconvert_exporter": "python",
   "pygments_lexer": "ipython3",
   "version": "3.7.4"
  },
  "orig_nbformat": 4
 },
 "nbformat": 4,
 "nbformat_minor": 2
}
