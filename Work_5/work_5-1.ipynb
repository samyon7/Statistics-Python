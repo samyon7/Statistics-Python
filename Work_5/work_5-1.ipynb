{
 "cells": [
  {
   "cell_type": "code",
   "execution_count": 2,
   "metadata": {},
   "outputs": [
    {
     "data": {
      "text/plain": [
       "6"
      ]
     },
     "execution_count": 2,
     "metadata": {},
     "output_type": "execute_result"
    }
   ],
   "source": [
    "6"
   ]
  },
  {
   "cell_type": "code",
   "execution_count": 3,
   "metadata": {},
   "outputs": [],
   "source": [
    "def my_sequence(arg1, arg2, n):\n",
    "    result = 0\n",
    "    for i in range(n):\n",
    "        result = result + arg1 + arg2\n",
    "        print(result)"
   ]
  },
  {
   "cell_type": "code",
   "execution_count": 4,
   "metadata": {},
   "outputs": [
    {
     "name": "stdout",
     "output_type": "stream",
     "text": [
      "11\n",
      "22\n",
      "33\n",
      "44\n"
     ]
    }
   ],
   "source": [
    "my_sequence(2, 9, 4)"
   ]
  },
  {
   "cell_type": "code",
   "execution_count": 5,
   "metadata": {},
   "outputs": [],
   "source": [
    "def my_sequence(arg1, arg2, n):\n",
    "    result = 0\n",
    "    i = 0\n",
    "    while i < n:\n",
    "        result = result + arg1 + arg2\n",
    "        i += 1\n",
    "        print(result)"
   ]
  },
  {
   "cell_type": "code",
   "execution_count": 6,
   "metadata": {},
   "outputs": [
    {
     "name": "stdout",
     "output_type": "stream",
     "text": [
      "11\n",
      "22\n",
      "33\n",
      "44\n"
     ]
    }
   ],
   "source": [
    "my_sequence(2, 9, 4)"
   ]
  },
  {
   "cell_type": "code",
   "execution_count": 7,
   "metadata": {},
   "outputs": [],
   "source": [
    "def my_sequence(arg1, arg2, n):\n",
    "    result = 0\n",
    "    i = 0\n",
    "    while i < n:\n",
    "        result = result + arg1 + arg2\n",
    "        i += 1\n",
    "        yield result\n",
    "\n",
    "my_gen = my_sequence(2, 9, 4)"
   ]
  },
  {
   "cell_type": "code",
   "execution_count": 8,
   "metadata": {},
   "outputs": [
    {
     "data": {
      "text/plain": [
       "<generator object my_sequence at 0x000001EE471DCA48>"
      ]
     },
     "execution_count": 8,
     "metadata": {},
     "output_type": "execute_result"
    }
   ],
   "source": [
    "my_gen"
   ]
  },
  {
   "cell_type": "code",
   "execution_count": 9,
   "metadata": {},
   "outputs": [
    {
     "data": {
      "text/plain": [
       "11"
      ]
     },
     "execution_count": 9,
     "metadata": {},
     "output_type": "execute_result"
    }
   ],
   "source": [
    "next(my_gen)"
   ]
  },
  {
   "cell_type": "code",
   "execution_count": 10,
   "metadata": {},
   "outputs": [
    {
     "data": {
      "text/plain": [
       "22"
      ]
     },
     "execution_count": 10,
     "metadata": {},
     "output_type": "execute_result"
    }
   ],
   "source": [
    "next(my_gen)"
   ]
  },
  {
   "cell_type": "code",
   "execution_count": 11,
   "metadata": {},
   "outputs": [
    {
     "data": {
      "text/plain": [
       "33"
      ]
     },
     "execution_count": 11,
     "metadata": {},
     "output_type": "execute_result"
    }
   ],
   "source": [
    "next(my_gen)"
   ]
  },
  {
   "cell_type": "code",
   "execution_count": 12,
   "metadata": {},
   "outputs": [
    {
     "data": {
      "text/plain": [
       "44"
      ]
     },
     "execution_count": 12,
     "metadata": {},
     "output_type": "execute_result"
    }
   ],
   "source": [
    "next(my_gen)"
   ]
  },
  {
   "cell_type": "code",
   "execution_count": 13,
   "metadata": {},
   "outputs": [
    {
     "name": "stdout",
     "output_type": "stream",
     "text": [
      "If you run this, your code will turn error\n"
     ]
    }
   ],
   "source": [
    "\"\"\" \n",
    "next(my_gen)\n",
    "\"\"\"\n",
    "print(\"If you run this, your code will turn error\")"
   ]
  },
  {
   "cell_type": "markdown",
   "metadata": {},
   "source": [
    "### Determining the n-th Term of an Arithmetic Sequence and Arithmetic Series"
   ]
  },
  {
   "cell_type": "markdown",
   "metadata": {},
   "source": [
    "Dalam latihan ini, kita akan membuat barisan aritmatika berhingga dan tak hingga menggunakan fungsi Python sederhana. Sebagai masukan, kita ingin memberikan suku pertama barisan tersebut, a1 , beda persekutuan , d , dan panjang barisan, n ."
   ]
  },
  {
   "cell_type": "markdown",
   "metadata": {},
   "source": [
    "<li>Hanya satu suku (suku ke- n ) dari barisan tersebut.\n",
    "<li>Urutan angka lengkap.\n",
    "<li>Jumlah n suku deret aritmatika, untuk membandingkannya dengan hasil deret aritmatika yang diberikan sebelumnya.\n"
   ]
  },
  {
   "cell_type": "markdown",
   "metadata": {},
   "source": [
    "We need to provide the first term of the sequence, a1, the common difference, d, and the length of the sequence, n, as inputs. "
   ]
  },
  {
   "cell_type": "code",
   "execution_count": 14,
   "metadata": {},
   "outputs": [],
   "source": [
    "# Pertama, tulis fungsi yang mereturn hanya n-th.\n",
    "\n",
    "def a_n(a1, d, n):\n",
    "    an = a1 + (n-1) * d\n",
    "    return an"
   ]
  },
  {
   "cell_type": "markdown",
   "metadata": {},
   "source": [
    "Test thy codes"
   ]
  },
  {
   "cell_type": "code",
   "execution_count": 15,
   "metadata": {},
   "outputs": [
    {
     "data": {
      "text/plain": [
       "31"
      ]
     },
     "execution_count": 15,
     "metadata": {},
     "output_type": "execute_result"
    }
   ],
   "source": [
    "a_n(4,3,10)"
   ]
  },
  {
   "cell_type": "markdown",
   "metadata": {},
   "source": [
    "Sekarang, tulis fungsi yang menginkrementasi suku awal, a1, sebanyak d, dan n kali. Selanjutnya kita menyimpannya semua kenaikan levelnya di dalam list"
   ]
  },
  {
   "cell_type": "code",
   "execution_count": 16,
   "metadata": {},
   "outputs": [],
   "source": [
    "def a_seq(a1, d, n):\n",
    "    sequence = []\n",
    "    for _ in range(n):\n",
    "        sequence.append(a1)\n",
    "        a1 = a1+d\n",
    "    return sequence"
   ]
  },
  {
   "cell_type": "markdown",
   "metadata": {},
   "source": [
    "Test the code"
   ]
  },
  {
   "cell_type": "code",
   "execution_count": 17,
   "metadata": {},
   "outputs": [
    {
     "data": {
      "text/plain": [
       "[4, 7, 10, 13, 16, 19, 22, 25, 28, 31]"
      ]
     },
     "execution_count": 17,
     "metadata": {},
     "output_type": "execute_result"
    }
   ],
   "source": [
    "a_seq(4,3,10)\n",
    "\n",
    "# From here, we can check, that the value increases by 3 starts at 4 and has a length of 10"
   ]
  },
  {
   "cell_type": "markdown",
   "metadata": {},
   "source": [
    "Sekarang, mari buat urutan infinit. Gunakan generator"
   ]
  },
  {
   "cell_type": "code",
   "execution_count": 18,
   "metadata": {},
   "outputs": [
    {
     "name": "stdout",
     "output_type": "stream",
     "text": [
      "Don't run this cell\n"
     ]
    }
   ],
   "source": [
    "\"\"\"def infinite_a_sequence(a1,d):\n",
    "    while True:\n",
    "        yield a1\n",
    "        a1 = a1 + d\n",
    "\n",
    "for i in infinite_a_sequence(4,3):\n",
    "    print(i, end=\" \")\"\"\"\n",
    "\n",
    "print(\"Don't run this cell\")"
   ]
  },
  {
   "cell_type": "code",
   "execution_count": 19,
   "metadata": {},
   "outputs": [
    {
     "data": {
      "text/plain": [
       "175"
      ]
     },
     "execution_count": 19,
     "metadata": {},
     "output_type": "execute_result"
    }
   ],
   "source": [
    "# So let's calculate the sum of the terms of our sequence by calling the sum() method\n",
    "sum(a_seq(4,3,10))"
   ]
  },
  {
   "cell_type": "markdown",
   "metadata": {},
   "source": [
    "Implementasikan formula an=a1 + (n-1)d, yang memberi kita urutan aritmetik, jadi kita bisa membandingkannya dengan hasil kita"
   ]
  },
  {
   "cell_type": "code",
   "execution_count": 20,
   "metadata": {},
   "outputs": [
    {
     "data": {
      "text/plain": [
       "175.0"
      ]
     },
     "execution_count": 20,
     "metadata": {},
     "output_type": "execute_result"
    }
   ],
   "source": [
    "def a_series(a1, d, n):\n",
    "    result = n*(a1 + a_n(a1, d, n))/2\n",
    "    return result\n",
    "\n",
    "a_series(4,3,10)"
   ]
  },
  {
   "cell_type": "markdown",
   "metadata": {},
   "source": [
    "## Geometric Sequences"
   ]
  },
  {
   "cell_type": "code",
   "execution_count": 21,
   "metadata": {},
   "outputs": [],
   "source": [
    "# First as example, let's write a python function that calculates the nth term of a geomteric\n",
    "# function, based of the an = rn - 1a formula\n",
    "\n",
    "def n_geom_seq(r, a, n):\n",
    "    an = r**(n-1)*a\n",
    "    return an"
   ]
  },
  {
   "cell_type": "code",
   "execution_count": 22,
   "metadata": {},
   "outputs": [
    {
     "data": {
      "text/plain": [
       "1536"
      ]
     },
     "execution_count": 22,
     "metadata": {},
     "output_type": "execute_result"
    }
   ],
   "source": [
    "n_geom_seq(2,3,10)"
   ]
  },
  {
   "cell_type": "code",
   "execution_count": 23,
   "metadata": {},
   "outputs": [
    {
     "data": {
      "text/plain": [
       "3069.0"
      ]
     },
     "execution_count": 23,
     "metadata": {},
     "output_type": "execute_result"
    }
   ],
   "source": [
    "def sum_n(r, a, n):\n",
    "    sum_n = a*(1-r**n)/(1-r)\n",
    "    return sum_n\n",
    "\n",
    "sum_n(2,3,10)"
   ]
  },
  {
   "cell_type": "markdown",
   "metadata": {},
   "source": [
    "### Writing a Function to Find the Next Term of the Sequence"
   ]
  },
  {
   "cell_type": "markdown",
   "metadata": {},
   "source": [
    "Jumlah bakteri meningkat secara geometris dan sekuensial. Diberikan jumalh populasi bakteri per hari, dalam hari n, selanjutnya kita akan membuat fungsi yang menghitung populasi pada hari n+1."
   ]
  },
  {
   "cell_type": "markdown",
   "metadata": {},
   "source": [
    "<li>1.\tTulis fungsi yang menerima sejumlah variabel argumen ( *args ) dan menghitung rasio antara elemen apa pun dan elemen sebelumnya (dimulai dari elemen kedua). Kemudian, periksa apakah semua rasio yang ditemukan identik dan kembalikan nilai uniknya. Jika tidak, fungsi mengembalikan -1 (urutan tidak memiliki rasio umum yang unik)"
   ]
  },
  {
   "cell_type": "code",
   "execution_count": 24,
   "metadata": {},
   "outputs": [],
   "source": [
    "def find_ratio(*args):\n",
    "    arg0 = args[0]\n",
    "    ratios = []\n",
    "    for arg in args[1:]:\n",
    "        ratio = round(arg/arg0,8)\n",
    "        arg0 = arg\n",
    "        ratios.append(ratio)\n",
    "    \n",
    "    if len(set(ratios)) == 1:\n",
    "        return ratio\n",
    "    else:\n",
    "        return -1"
   ]
  },
  {
   "cell_type": "markdown",
   "metadata": {},
   "source": [
    "<li> Sekarang, cek fungsi tersebut untuk 2 kasus berbeda. Pertama, gunakan urutan berikut"
   ]
  },
  {
   "cell_type": "code",
   "execution_count": 25,
   "metadata": {},
   "outputs": [
    {
     "data": {
      "text/plain": [
       "2.0"
      ]
     },
     "execution_count": 25,
     "metadata": {},
     "output_type": "execute_result"
    }
   ],
   "source": [
    "find_ratio(1,2,4,8,16,32,64,128,256,512)"
   ]
  },
  {
   "cell_type": "markdown",
   "metadata": {},
   "source": [
    "<li>Gunakan urutan yang lebih berbeda lagi"
   ]
  },
  {
   "cell_type": "code",
   "execution_count": 26,
   "metadata": {},
   "outputs": [
    {
     "data": {
      "text/plain": [
       "-1"
      ]
     },
     "execution_count": 26,
     "metadata": {},
     "output_type": "execute_result"
    }
   ],
   "source": [
    "find_ratio(1,2,3)"
   ]
  },
  {
   "cell_type": "markdown",
   "metadata": {},
   "source": [
    "Seperti output di atas, fungsi mencetak rasio jika rasionya ada, dan memprint -1 jika urutannya tidak geometris"
   ]
  },
  {
   "cell_type": "markdown",
   "metadata": {},
   "source": [
    "<li>Selanjutnya, buat fungsi kedua yang membaca secara berurutan dan mencetak next term yang akan terjadi. Untuk melakukannya, baca dalam daftar angka (dipisahkan koma), temukan rasionya, dan dari situ, prediksi suku berikutnya"
   ]
  },
  {
   "cell_type": "code",
   "execution_count": 27,
   "metadata": {},
   "outputs": [],
   "source": [
    "def find_next(*args):\n",
    "    if find_ratio(*args) == -1:\n",
    "        raise ValueError(\"The sequence you entered isn't geometric sequence. Pls check the input!\")\n",
    "    else:\n",
    "        return args[-1]*find_ratio(*args)"
   ]
  },
  {
   "cell_type": "markdown",
   "metadata": {},
   "source": [
    "Ingat bahwa kita ingin memeriksa apakah daftar bilangan ini memiliki rasio yang sama dengan cara memanggil fungsi <b>find_ratio()</b>. Jika ada kesalahan, dia akan me-raise value error, jika tidak, dia akanmencari next term, dan meretrunnya."
   ]
  },
  {
   "cell_type": "markdown",
   "metadata": {},
   "source": [
    "<li>Check if it works by using the following sequence"
   ]
  },
  {
   "cell_type": "code",
   "execution_count": 28,
   "metadata": {},
   "outputs": [
    {
     "data": {
      "text/plain": [
       "8.0"
      ]
     },
     "execution_count": 28,
     "metadata": {},
     "output_type": "execute_result"
    }
   ],
   "source": [
    "find_next(1,2,4)"
   ]
  },
  {
   "cell_type": "code",
   "execution_count": 29,
   "metadata": {},
   "outputs": [
    {
     "data": {
      "text/plain": [
       "0.2142402696"
      ]
     },
     "execution_count": 29,
     "metadata": {},
     "output_type": "execute_result"
    }
   ],
   "source": [
    "find_next(1.36,0.85680,0.539784,0.34006392)"
   ]
  },
  {
   "cell_type": "markdown",
   "metadata": {},
   "source": [
    "Dalam kasus pertama, hasil yang jelas, 8.0 , dicetak. Dalam kasus kedua, hasil yang kurang jelas dari barisan geometri menurun ditemukan dan dicetak. Untuk meringkasnya, kita dapat menulis fungsi yang mendeteksi barisan geometri, menemukan rasionya, dan menggunakannya untuk memprediksi suku barisan berikutnya. Ini sangat berguna dalam skenario kehidupan nyata, seperti dalam kasus di mana suku bunga majemuk perlu diverifikasi"
   ]
  },
  {
   "cell_type": "code",
   "execution_count": 30,
   "metadata": {},
   "outputs": [
    {
     "name": "stdout",
     "output_type": "stream",
     "text": [
      "ValueError\n"
     ]
    }
   ],
   "source": [
    "\"\"\"\n",
    "find_next(1,2,4,3)\n",
    "\"\"\"\n",
    "\n",
    "print(\"ValueError\")"
   ]
  },
  {
   "cell_type": "code",
   "execution_count": 31,
   "metadata": {},
   "outputs": [],
   "source": [
    "def factorial(n):\n",
    "    if n==0 or n==1 :\n",
    "        return 1\n",
    "    elif n==2:\n",
    "        return 2\n",
    "    else:\n",
    "        return n*factorial(n-1)"
   ]
  },
  {
   "cell_type": "code",
   "execution_count": 32,
   "metadata": {},
   "outputs": [
    {
     "data": {
      "text/plain": [
       "1"
      ]
     },
     "execution_count": 32,
     "metadata": {},
     "output_type": "execute_result"
    }
   ],
   "source": [
    "factorial(1)"
   ]
  },
  {
   "cell_type": "code",
   "execution_count": 33,
   "metadata": {},
   "outputs": [
    {
     "data": {
      "text/plain": [
       "2"
      ]
     },
     "execution_count": 33,
     "metadata": {},
     "output_type": "execute_result"
    }
   ],
   "source": [
    "factorial(2)"
   ]
  },
  {
   "cell_type": "code",
   "execution_count": 34,
   "metadata": {},
   "outputs": [
    {
     "data": {
      "text/plain": [
       "6"
      ]
     },
     "execution_count": 34,
     "metadata": {},
     "output_type": "execute_result"
    }
   ],
   "source": [
    "factorial(3)"
   ]
  },
  {
   "cell_type": "code",
   "execution_count": 35,
   "metadata": {},
   "outputs": [
    {
     "data": {
      "text/plain": [
       "24"
      ]
     },
     "execution_count": 35,
     "metadata": {},
     "output_type": "execute_result"
    }
   ],
   "source": [
    "factorial(4)"
   ]
  },
  {
   "cell_type": "code",
   "execution_count": 36,
   "metadata": {},
   "outputs": [
    {
     "data": {
      "text/plain": [
       "120"
      ]
     },
     "execution_count": 36,
     "metadata": {},
     "output_type": "execute_result"
    }
   ],
   "source": [
    "factorial(5)"
   ]
  },
  {
   "cell_type": "code",
   "execution_count": 37,
   "metadata": {},
   "outputs": [
    {
     "data": {
      "text/plain": [
       "93326215443944152681699238856266700490715968264381621468592963895217599993229915608941463976156518286253697920827223758251185210916864000000000000000000000000"
      ]
     },
     "execution_count": 37,
     "metadata": {},
     "output_type": "execute_result"
    }
   ],
   "source": [
    "factorial(100)"
   ]
  },
  {
   "cell_type": "markdown",
   "metadata": {},
   "source": [
    "### Creating a Custom Recursive Sequence"
   ]
  },
  {
   "cell_type": "markdown",
   "metadata": {},
   "source": [
    "In this exercise, we will create a custom recursive sequence using the concepts we explained in the previous section. Given the first three elements of the sequence, Pn, that is, P1=1, P2=7, and P3=2, find the next seven terms of the sequence that is recursively defined via the relation: Pn+3= (3*Pn+1 - Pn+2)/(Pn – 1). "
   ]
  },
  {
   "cell_type": "markdown",
   "metadata": {},
   "source": [
    "<li>Pertama, kita define fungsi rekursif python, dan mengimplementasikan hubungan yang diberikan sebelumnya untuk elemen ke-n."
   ]
  },
  {
   "cell_type": "code",
   "execution_count": 38,
   "metadata": {},
   "outputs": [],
   "source": [
    "def p_n(n):\n",
    "    if n < 1:\n",
    "        return -1\n",
    "    elif n == 1:\n",
    "        return 1\n",
    "    elif n == 2:\n",
    "        return 7\n",
    "    elif n == 3:\n",
    "        return 2\n",
    "    else:\n",
    "        pn = (3*p_n(n-2) - p_n(n-1) )/ (p_n(n-3) + 1)\n",
    "        return pn"
   ]
  },
  {
   "cell_type": "markdown",
   "metadata": {},
   "source": [
    "Di sini, kita mulai dengan mendefinisikan kasus dasar, yaitu hasil yang diketahui seperti yang diberikan dalam ringkasan: jika n=1 , maka P=1 , jika n=2 , maka P=7 , dan jika n=3 , maka P =2 . Kami juga menyertakan kasus di mana n<1 . Ini adalah input yang tidak valid dan, seperti biasa, fungsi kami mengembalikan nilai -1 . Ini membuat fungsi kita dibatasi dan dilindungi dari memasuki infinite loop dan input yang tidak valid. Setelah kasus-kasus ini telah ditangani, maka kita telah mendefinisikan relasi rekursif."
   ]
  },
  {
   "cell_type": "markdown",
   "metadata": {},
   "source": [
    "<li>Sekarang, mari uji fungsi kita dan mencetak 10 nilai percentile"
   ]
  },
  {
   "cell_type": "code",
   "execution_count": 39,
   "metadata": {},
   "outputs": [
    {
     "name": "stdout",
     "output_type": "stream",
     "text": [
      "1\n",
      "7\n",
      "2\n",
      "9.5\n",
      "-0.4375\n",
      "9.645833333333334\n",
      "-1.0436507936507937\n",
      "53.29982363315697\n",
      "-5.30073825572847\n",
      "-3784.586609737289\n"
     ]
    }
   ],
   "source": [
    "for i in range(1,11):\n",
    "    print(p_n(i))"
   ]
  },
  {
   "cell_type": "markdown",
   "metadata": {},
   "source": [
    "Bisa dilihat, fungsi kita bekerja dan mereturn kembali nilai yang diketahui ( P 1 = 1 , P 2 = 7 , dan P 3 = 2 ) dari barisan dan suku berikutnya ( P_1 hingga P_10 ) yang kita sedang mencari"
   ]
  },
  {
   "cell_type": "markdown",
   "metadata": {},
   "source": [
    "<li>Sebagai bonus, sekarang kita coba plot hasilnya"
   ]
  },
  {
   "cell_type": "code",
   "execution_count": 40,
   "metadata": {},
   "outputs": [
    {
     "name": "stdout",
     "output_type": "stream",
     "text": [
      "Don't run this. Take a long time fuck\n"
     ]
    }
   ],
   "source": [
    "\"\"\"from matplotlib import pyplot as plt\n",
    "\n",
    "plist = []\n",
    "for i in range(1,40):\n",
    "    plist.append(p_n(i))\n",
    "plt.plot(plist,linestyle = \"--\", marker='o',color='b')\n",
    "plt.show()\"\"\"\n",
    "\n",
    "print(\"Don't run this. Take a long time fuck\")"
   ]
  },
  {
   "cell_type": "code",
   "execution_count": 41,
   "metadata": {},
   "outputs": [
    {
     "data": {
      "text/plain": [
       "5.0"
      ]
     },
     "execution_count": 41,
     "metadata": {},
     "output_type": "execute_result"
    }
   ],
   "source": [
    "from math import sqrt\n",
    "\n",
    "def hypotenuse(a,b):\n",
    "    h = sqrt(a**2 + b**2)\n",
    "    return h\n",
    "\n",
    "hypotenuse(3,4)"
   ]
  },
  {
   "cell_type": "markdown",
   "metadata": {},
   "source": [
    "### Plotting a Right-Angled Triangle"
   ]
  },
  {
   "cell_type": "markdown",
   "metadata": {},
   "source": [
    "In this exercise, we will write Python functions that will plot a right triangle for the given points, p1 and p2. The right-angled triangle will correspond to the endpoints of the legs of the triangle. We will also calculate the three trigonometric functions for either of the non-right angles. Let's plot the basic trigonometry functions"
   ]
  },
  {
   "cell_type": "code",
   "execution_count": 42,
   "metadata": {},
   "outputs": [],
   "source": [
    "import numpy as np\n",
    "from matplotlib import pyplot as plt\n",
    "\n",
    "# Sekarang, tulis sebuah fungsi yang mereturn hipotemus menggunakan algoritma pitagoras\n",
    "\n",
    "def find_hypotenuse(p1,p2):\n",
    "    p3 = round((p1**2 + p2**2)**0.5,8)\n",
    "    return p3"
   ]
  },
  {
   "cell_type": "markdown",
   "metadata": {},
   "source": [
    "<li>Tulis fungsi lain yang mengimplementasikan relasi untuk, sinus, cosinus, dan tangen. Inputnya adalah panjang dari tiap sisi di setiap sisi segitiga"
   ]
  },
  {
   "cell_type": "code",
   "execution_count": 43,
   "metadata": {},
   "outputs": [],
   "source": [
    "def find_trig(adjacent, opposite, hypotenuse):\n",
    "    return opposite/hypotenuse, adjacent/hypotenuse, opposite/adjacent"
   ]
  },
  {
   "cell_type": "markdown",
   "metadata": {},
   "source": [
    "<li>Tulis fungsi yang memvisualisasikan triangle nya. Secara simple, tempatkan angle yang bagus pada koordinat (0,0)."
   ]
  },
  {
   "cell_type": "code",
   "execution_count": 44,
   "metadata": {},
   "outputs": [],
   "source": [
    "def plot_triangle(p1, p2, lw=5):\n",
    "    x = [0, p1, 0]\n",
    "    y = [0, 0, p2]\n",
    "    n = ['0', 'p1', 'p2']\n",
    "    fig, ax = plt.subplots(figsize=(p1,p2))\n",
    "    # plot points\n",
    "    ax.scatter(x, y, s=400, c=\"#8C4799\", alpha=0.4)\n",
    "    ax.annotate(find_hypotenuse(p1,p2),(p1/2,p2/2))\n",
    "    # plot edges\n",
    "    ax.plot([0, p1], [0, 0], lw=lw, color='r')\n",
    "    ax.plot([0, 0], [0, p2], lw=lw, color='b')\n",
    "    ax.plot([0, p1], [p2, 0], lw=lw, color='y')\n",
    "    for i, txt in enumerate(n):\n",
    "        ax.annotate(txt, (x[i], y[i]), va='center')"
   ]
  },
  {
   "cell_type": "markdown",
   "metadata": {},
   "source": [
    "Di sini, kita membuat daftar, x dan y , yang menyimpan poin dan satu daftar lagi, n , untuk label. Kemudian, kita membuat objek pyplot yang memplot titik terlebih dahulu, lalu tepinya. Dua baris terakhir digunakan untuk membubuhi keterangan plot kita; yaitu, tambahkan label (dari daftar, n ) di sebelah poin kita"
   ]
  },
  {
   "cell_type": "markdown",
   "metadata": {},
   "source": [
    "<li>Selanjutnya kita perlu memilih 2 point secara berurut untuk mendefine sebuah segitiga. Kemudain kita panggil fungsi kita untuk menampilkan visualisasinya"
   ]
  },
  {
   "cell_type": "code",
   "execution_count": 45,
   "metadata": {},
   "outputs": [
    {
     "name": "stdout",
     "output_type": "stream",
     "text": [
      "(0.707106781123095, 0.707106781123095, 1.0)\n"
     ]
    },
    {
     "data": {
      "image/png": "[encoded data removed]",
      "text/plain": [
       "<Figure size 288x288 with 1 Axes>"
      ]
     },
     "metadata": {
      "needs_background": "light"
     },
     "output_type": "display_data"
    }
   ],
   "source": [
    "p01 = 4\n",
    "p02 = 4\n",
    "print(find_trig(p01,p02,find_hypotenuse(p01,p02)))\n",
    "plot_triangle(p01,p02)"
   ]
  },
  {
   "cell_type": "markdown",
   "metadata": {},
   "source": [
    "<b>Correct!</b>"
   ]
  },
  {
   "cell_type": "markdown",
   "metadata": {},
   "source": [
    "<li>finally, untuk mendapatkan general overview dari sinus dan cosinus, kita visualisasikan mereka!"
   ]
  },
  {
   "cell_type": "code",
   "execution_count": 46,
   "metadata": {},
   "outputs": [
    {
     "data": {
      "image/png": "[encoded data removed]",
      "text/plain": [
       "<Figure size 432x288 with 1 Axes>"
      ]
     },
     "metadata": {
      "needs_background": "light"
     },
     "output_type": "display_data"
    }
   ],
   "source": [
    "x = np.linspace(0,10,200)\n",
    "sin = np.sin(x) # For sinus\n",
    "cos = np.cos(x) # For cosinus\n",
    "\n",
    "plt.xticks([0, np.pi/2, np.pi, 3*np.pi/2, 2*np.pi, 5*np.pi/2, 3*np.pi],['0','','\\u03C0','','2\\u03C0','','3\\u03C0'])\n",
    "plt.plot(x, sin, marker='o', label='sin')\n",
    "plt.plot(x, cos, marker='x', label='cos')\n",
    "plt.legend(loc=\"upper left\")\n",
    "plt.ylim(-1.1, 1.6)\n",
    "plt.show()"
   ]
  },
  {
   "cell_type": "markdown",
   "metadata": {},
   "source": [
    "### Finding the Shortest Way to the Treasure Using Inverse Trigonometric Functions"
   ]
  },
  {
   "cell_type": "markdown",
   "metadata": {},
   "source": [
    "Pada kegiatan kali ini, anda akan diberikan secret map yang mengarah pada B, tempat target yakni harta telah tersimpan lama. Asumsikan anda pada point A, dan instruksinya. Anda harus menavigasi 20 km ke selatan lalu 33 km ke barat sehingga Anda tiba di harta karun. Namun, segmen garis lurus, AB , adalah yang terpendek. Anda perlu menemukan sudut θ pada peta sehingga navigasi Anda berorientasi dengan benar"
   ]
  },
  {
   "cell_type": "markdown",
   "metadata": {},
   "source": [
    "- First import <i>atan</i> and <i>phi</i>"
   ]
  },
  {
   "cell_type": "code",
   "execution_count": 47,
   "metadata": {},
   "outputs": [],
   "source": [
    "from math import atan, pi"
   ]
  },
  {
   "cell_type": "markdown",
   "metadata": {},
   "source": [
    "- Find the tangent of theta using BC and AC"
   ]
  },
  {
   "cell_type": "code",
   "execution_count": 48,
   "metadata": {},
   "outputs": [
    {
     "name": "stdout",
     "output_type": "stream",
     "text": [
      "0.6060606060606061\n"
     ]
    }
   ],
   "source": [
    "AC = 33\n",
    "BC = 20\n",
    "\n",
    "tan_th = BC/AC\n",
    "print(tan_th)"
   ]
  },
  {
   "cell_type": "markdown",
   "metadata": {},
   "source": [
    "- Selanjutnya, temukan angle nya dengan menggunakan reverse tangent"
   ]
  },
  {
   "cell_type": "code",
   "execution_count": 49,
   "metadata": {},
   "outputs": [
    {
     "name": "stdout",
     "output_type": "stream",
     "text": [
      "0.5448639154515437\n"
     ]
    }
   ],
   "source": [
    "theta = atan(tan_th)\n",
    "print(theta)"
   ]
  },
  {
   "cell_type": "code",
   "execution_count": 50,
   "metadata": {},
   "outputs": [
    {
     "name": "stdout",
     "output_type": "stream",
     "text": [
      "31.218402764346372\n"
     ]
    }
   ],
   "source": [
    "theta_degrees = theta * 180/pi\n",
    "print(theta_degrees)"
   ]
  },
  {
   "cell_type": "markdown",
   "metadata": {},
   "source": [
    "This answer is 31.22, that will navigate us correctly"
   ]
  },
  {
   "cell_type": "markdown",
   "metadata": {},
   "source": [
    "- Calculate the distance that we will travel along the path AB using Pythagorean Theorem"
   ]
  },
  {
   "cell_type": "code",
   "execution_count": 51,
   "metadata": {},
   "outputs": [
    {
     "name": "stdout",
     "output_type": "stream",
     "text": [
      "38.58756276314948\n"
     ]
    }
   ],
   "source": [
    "AB = (AC**2 + BC**2)**0.5\n",
    "print(AB)"
   ]
  },
  {
   "cell_type": "markdown",
   "metadata": {},
   "source": [
    "The sortest distance is 38.59 km."
   ]
  },
  {
   "cell_type": "markdown",
   "metadata": {},
   "source": [
    "### Finding the Optimal Distance from an Object"
   ]
  },
  {
   "cell_type": "markdown",
   "metadata": {},
   "source": [
    "Anda mengunjungiing arena lokal Anda untuk menonton acara favorit Anda, dan Anda berdiri di tengah arena. Selain panggung utama, ada juga layar tampilan agar orang bisa menonton dan tidak ketinggalan detail pertunjukan. Bagian bawah layar berdiri 3 m di atas ketinggian mata Anda, dan layar itu sendiri tingginya 7 m. Sudut pandang dibentuk dengan melihat bagian bawah dan atas layar. Temukan jarak optimal, x , antara Anda dan layar sehingga sudut pandang dimaksimalkan"
   ]
  },
  {
   "cell_type": "markdown",
   "metadata": {},
   "source": [
    "Ini adalah masalah yang sedikit melibatkan yang membutuhkan sedikit aljabar, tetapi kami akan memecahnya menjadi langkah-langkah sederhana dan menjelaskan logikanya. Pertama, perhatikan seberapa banyak plot masalah memandu kita dan membantu kita sampai pada solusi. Masalah dunia nyata yang tampaknya kompleks ini diterjemahkan ke dalam gambaran geometris yang jauh lebih abstrak dan sederhana."
   ]
  },
  {
   "cell_type": "markdown",
   "metadata": {},
   "source": [
    "## Vectors"
   ]
  },
  {
   "cell_type": "code",
   "execution_count": 52,
   "metadata": {},
   "outputs": [
    {
     "name": "stdout",
     "output_type": "stream",
     "text": [
      "[5 7 9]\n"
     ]
    }
   ],
   "source": [
    "import numpy as np\n",
    "\n",
    "A = np.array([1,2,3]) # Vector A\n",
    "B = np.array([4,5,6]) # Vector B\n",
    "\n",
    "# Sum of A and B\n",
    "print(A + B)"
   ]
  },
  {
   "cell_type": "code",
   "execution_count": 53,
   "metadata": {},
   "outputs": [
    {
     "data": {
      "text/plain": [
       "array([-3, -3, -3])"
      ]
     },
     "execution_count": 53,
     "metadata": {},
     "output_type": "execute_result"
    }
   ],
   "source": [
    "# The difference \n",
    "A - B"
   ]
  },
  {
   "cell_type": "code",
   "execution_count": 54,
   "metadata": {},
   "outputs": [
    {
     "data": {
      "text/plain": [
       "array([ 4, 10, 18])"
      ]
     },
     "execution_count": 54,
     "metadata": {},
     "output_type": "execute_result"
    }
   ],
   "source": [
    "# Element-wise product\n",
    "A * B"
   ]
  },
  {
   "cell_type": "code",
   "execution_count": 55,
   "metadata": {},
   "outputs": [
    {
     "data": {
      "text/plain": [
       "32"
      ]
     },
     "execution_count": 55,
     "metadata": {},
     "output_type": "execute_result"
    }
   ],
   "source": [
    "# Dot product\n",
    "A.dot(B)"
   ]
  },
  {
   "cell_type": "code",
   "execution_count": 56,
   "metadata": {},
   "outputs": [
    {
     "data": {
      "text/plain": [
       "array([-3,  6, -3])"
      ]
     },
     "execution_count": 56,
     "metadata": {},
     "output_type": "execute_result"
    }
   ],
   "source": [
    "# Cross product\n",
    "np.cross(A,B)"
   ]
  },
  {
   "cell_type": "markdown",
   "metadata": {},
   "source": [
    "Note that vector addition, subtraction, and the dot product are associative and commutative operations, whereas the cross product is associative but not commutative. In other words, a x b does not equal b x a, but rather b x a, which is why it is called anticommutative."
   ]
  },
  {
   "cell_type": "code",
   "execution_count": 57,
   "metadata": {},
   "outputs": [
    {
     "name": "stdout",
     "output_type": "stream",
     "text": [
      "[ 2 10  0]\n",
      "[ 9  1 -1]\n",
      "-----------\n",
      "10.198039027185569\n",
      "9.1104335791443\n",
      "-----------\n",
      "1.2646655256233297\n"
     ]
    }
   ],
   "source": [
    "# Next we write a Python program that calculates the angle between two vectors with numpy!\n",
    "\n",
    "import numpy as np\n",
    "from math import acos\n",
    "\n",
    "A = np.array([2,10,0])\n",
    "B = np.array([9,1,-1])\n",
    "\n",
    "print(A)\n",
    "print(B)\n",
    "print(\"-----------\")\n",
    "\n",
    "# find the norm (magnitude) of each vector\n",
    "Amagn = np.sqrt(A.dot(A))\n",
    "Bmagn = np.sqrt(B.dot(B))\n",
    "\n",
    "print(Amagn)\n",
    "print(Bmagn)\n",
    "print(\"-----------\")\n",
    "\n",
    "# Finally, find the angle\n",
    "theta = acos(A.dot(B) / (Amagn * Bmagn))\n",
    "print(theta)"
   ]
  },
  {
   "cell_type": "markdown",
   "metadata": {},
   "source": [
    "### Visualizing Vectors"
   ]
  },
  {
   "cell_type": "code",
   "execution_count": 58,
   "metadata": {},
   "outputs": [],
   "source": [
    "# Here we will write function that plots two vctors in 2D space.\n",
    "import numpy as np\n",
    "import matplotlib.pyplot as plt\n",
    "\n",
    "# Create functiion that admits two vectors as inputs, as list, plots them\n",
    "def plot_vectors(vec1, vec2, isSum=False):\n",
    "    label1 = \"A\";label2 = \"B\";label3 = \"A+B\"\n",
    "    orig = [0.0, 0.0] # Position of origin axes"
   ]
  },
  {
   "cell_type": "markdown",
   "metadata": {},
   "source": [
    "vector 1 dan vector 2 masing-masing berisi dua bilangan real. Di mana tiap pasangannya menunjukkan koordinat titik akhir (head) dari vector yang sesuai, sedangkan titik asalnya ditetapkan pada koordinat (0,0). Untuk label sendiri sudah ada pada label yang terletak pada variable label di dalam function tersebut."
   ]
  },
  {
   "cell_type": "markdown",
   "metadata": {},
   "source": [
    "- Next, kita tempatkan koordinat pada objek matplotlib.pyplot"
   ]
  },
  {
   "cell_type": "code",
   "execution_count": 59,
   "metadata": {},
   "outputs": [],
   "source": [
    "def plot_vectors(vec1, vec2, isSum = False):\n",
    "    label1 = \"A\"; label2 = \"B\"; label3 = \"A+B\"\n",
    "    orig = [0.0, 0.0] # position of origin of axes\n",
    "    ax = plt.axes()\n",
    "    ax.annotate(label1, [vec1[0]+0.5,vec1[1]+0.5] )\n",
    "    # shift position of label for better visibility\n",
    "    ax.annotate(label2, [vec2[0]+0.5,vec2[1]+0.5] )\n",
    "    if isSum:\n",
    "        vec3 = [vec1[0]+vec2[0], vec1[1]+vec2[1]]\n",
    "        # if isSum=True calculate the sum of the two vectors\n",
    "        ax.annotate(label3, [vec3[0]+0.5,vec3[1]+0.5] )\n",
    "    ax.arrow(*orig, *vec1, head_width=0.4, head_length=0.65)\n",
    "    ax.arrow(*orig, *vec2, head_width=0.4, head_length=0.65, \\\n",
    "             ec='blue')\n",
    "    if isSum:\n",
    "        ax.arrow(*orig, *vec3, head_width=0.2, \\\n",
    "                 head_length=0.25, ec='yellow')\n",
    "        # plot the vector sum as well\n",
    "    plt.grid()\n",
    "    e=3\n",
    "    # shift limits by e for better visibility\n",
    "    plt.xlim(min(vec1[0],vec2[0],0)-e, max(vec1[0],\\\n",
    "                 vec2[0],0)+e)\n",
    "    # set plot limits to the min/max of coordinates\n",
    "    plt.ylim(min(vec1[1],vec2[1],0)-e, max(vec1[1],\\\n",
    "                 vec2[1],0)+e)\n",
    "    # so that all vectors are inside the plot area\n",
    "    plt.title('Vector sum',fontsize=14)\n",
    "    plt.show()\n",
    "    plt.close()\n"
   ]
  },
  {
   "cell_type": "markdown",
   "metadata": {},
   "source": [
    "- Now, we will write a function that calculates the angle between the two input vectors, as explained previously, with the help of the dot (inner) product"
   ]
  },
  {
   "cell_type": "code",
   "execution_count": 60,
   "metadata": {},
   "outputs": [],
   "source": [
    "def find_angle(vec1, vec2, isRadians = True, isSum = False):\n",
    "    vec1 = np.array(vec1)\n",
    "    vec2 = np.array(vec2)\n",
    "    product12 = np.dot(vec1,vec2)\n",
    "    cos_theta = product12/(np.dot(vec1,vec1)**0.5 * \\\n",
    "                           np.dot(vec2,vec2)**0.5 )\n",
    "    cos_theta = round(cos_theta, 12)\n",
    "    theta = np.arccos(cos_theta)\n",
    "    plot_vectors(vec1, vec2, isSum=isSum)\n",
    "    if isRadians:\n",
    "        return theta\n",
    "    else:\n",
    "        return 180*theta/np.pi"
   ]
  },
  {
   "cell_type": "markdown",
   "metadata": {},
   "source": [
    "First, we map our input lists to numpy arrays so that we can use the methods of this module. We calculate the dot product (named product12) and then divide that by the product of the magnitude of vec1 with the magnitude of vec2. Recall that the magnitude of a vector is given by the square root (or **0.5) of the dot product with itself. As given by the definition of the dot product, we know that this quantity is the cos of the angle theta between the two vectors. Lastly, after rounding cos to avoid input errors in the next line, calculate theta by making use of the arccos method of numpy"
   ]
  },
  {
   "cell_type": "markdown",
   "metadata": {},
   "source": [
    "- Selanjutnya kita gabungkan dua fungsi untuk mengimplementasikannya"
   ]
  },
  {
   "cell_type": "code",
   "execution_count": 61,
   "metadata": {},
   "outputs": [
    {
     "data": {
      "image/png": "[encoded data removed]",
      "text/plain": [
       "<Figure size 432x288 with 1 Axes>"
      ]
     },
     "metadata": {
      "needs_background": "light"
     },
     "output_type": "display_data"
    },
    {
     "data": {
      "text/plain": [
       "90.0"
      ]
     },
     "execution_count": 61,
     "metadata": {},
     "output_type": "execute_result"
    }
   ],
   "source": [
    "ve1 = [1,5]\n",
    "ve2 = [5,-1]\n",
    "\n",
    "find_angle(ve1,ve2,isRadians=False,isSum=True)"
   ]
  },
  {
   "cell_type": "code",
   "execution_count": 62,
   "metadata": {},
   "outputs": [
    {
     "data": {
      "image/png": "[encoded data removed]",
      "text/plain": [
       "<Figure size 432x288 with 1 Axes>"
      ]
     },
     "metadata": {
      "needs_background": "light"
     },
     "output_type": "display_data"
    },
    {
     "data": {
      "text/plain": [
       "0.0"
      ]
     },
     "execution_count": 62,
     "metadata": {},
     "output_type": "execute_result"
    }
   ],
   "source": [
    "ve1 = [1,5]\n",
    "ve2 = [0.5,2.5]\n",
    "find_angle(ve1, ve2, isRadians = False, isSum = True)"
   ]
  },
  {
   "cell_type": "code",
   "execution_count": 63,
   "metadata": {},
   "outputs": [
    {
     "data": {
      "image/png": "[encoded data removed]",
      "text/plain": [
       "<Figure size 432x288 with 1 Axes>"
      ]
     },
     "metadata": {
      "needs_background": "light"
     },
     "output_type": "display_data"
    },
    {
     "data": {
      "text/plain": [
       "160.3461759419744"
      ]
     },
     "execution_count": 63,
     "metadata": {},
     "output_type": "execute_result"
    }
   ],
   "source": [
    "ve1 = [1,5]\n",
    "ve2 = [-3,-5]\n",
    "find_angle(ve1, ve2, isRadians = False, isSum = True)"
   ]
  },
  {
   "cell_type": "markdown",
   "metadata": {},
   "source": [
    "## Complex Numbers"
   ]
  },
  {
   "cell_type": "code",
   "execution_count": 64,
   "metadata": {},
   "outputs": [
    {
     "name": "stdout",
     "output_type": "stream",
     "text": [
      "(1-3j)\n"
     ]
    }
   ],
   "source": [
    "a = 1\n",
    "b = -3\n",
    "z = complex(a,b)\n",
    "print(z)"
   ]
  },
  {
   "cell_type": "code",
   "execution_count": 65,
   "metadata": {},
   "outputs": [
    {
     "name": "stdout",
     "output_type": "stream",
     "text": [
      "1.0\n"
     ]
    }
   ],
   "source": [
    "print(z.real)"
   ]
  },
  {
   "cell_type": "code",
   "execution_count": 66,
   "metadata": {},
   "outputs": [
    {
     "name": "stdout",
     "output_type": "stream",
     "text": [
      "-3.0\n"
     ]
    }
   ],
   "source": [
    "print(z.imag)"
   ]
  },
  {
   "cell_type": "code",
   "execution_count": 67,
   "metadata": {},
   "outputs": [
    {
     "data": {
      "text/plain": [
       "(3.1622776601683795, -1.2490457723982544)"
      ]
     },
     "execution_count": 67,
     "metadata": {},
     "output_type": "execute_result"
    }
   ],
   "source": [
    "def find_polar(x):\n",
    "    from math import asin\n",
    "    x = z.real\n",
    "    y = z.imag\n",
    "    r = (x**2 + y**2)**0.5\n",
    "    phi = asin(y/r)\n",
    "\n",
    "    return r, phi\n",
    "\n",
    "find_polar(1-3j)"
   ]
  },
  {
   "cell_type": "code",
   "execution_count": 69,
   "metadata": {},
   "outputs": [],
   "source": [
    "def complex_operations2(c1, c2):\n",
    "    print('Addition =', c1 + c2)\n",
    "    print('Subtraction =', c1 - c2)\n",
    "    print('Multiplication =', c1 * c2)\n",
    "    print('Division =', c1 / c2)"
   ]
  },
  {
   "cell_type": "markdown",
   "metadata": {},
   "source": [
    "Now, let's try these functions for a generic pair of complex numbers, c1=10+2j/3 and c2=2.9+1j/3"
   ]
  },
  {
   "cell_type": "code",
   "execution_count": 70,
   "metadata": {},
   "outputs": [
    {
     "name": "stdout",
     "output_type": "stream",
     "text": [
      "Addition = (12.9+1j)\n",
      "Subtraction = (7.1+0.3333333333333333j)\n",
      "Multiplication = (28.77777777777778+5.266666666666666j)\n",
      "Division = (3.429391054896336-0.16429782240187768j)\n"
     ]
    }
   ],
   "source": [
    "complex_operations2(10+2j/3, 2.9+1j/3)"
   ]
  },
  {
   "cell_type": "markdown",
   "metadata": {},
   "source": [
    "Using purely imaginary number"
   ]
  },
  {
   "cell_type": "code",
   "execution_count": 71,
   "metadata": {},
   "outputs": [
    {
     "name": "stdout",
     "output_type": "stream",
     "text": [
      "Addition = (1+1j)\n",
      "Subtraction = (1-1j)\n",
      "Multiplication = 1j\n",
      "Division = -1j\n"
     ]
    }
   ],
   "source": [
    "complex_operations2(1, 1j)"
   ]
  },
  {
   "cell_type": "code",
   "execution_count": 72,
   "metadata": {},
   "outputs": [
    {
     "name": "stdout",
     "output_type": "stream",
     "text": [
      "Modulus = 5.0\n",
      "Phase = 0.9272952180016122\n",
      "Polar Coordinates = (5.0, 0.9272952180016122)\n",
      "Conjugate = (3-4j)\n",
      "Rectangular Coordinates = (3.0000000000000004+3.9999999999999996j)\n"
     ]
    }
   ],
   "source": [
    "import cmath\n",
    "def complex_operations1(c):\n",
    "    modulus = abs(c)\n",
    "    phase = cmath.phase(c)\n",
    "    polar = cmath.polar(c)\n",
    "    print('Modulus =', modulus)\n",
    "    print('Phase =', phase)\n",
    "    print('Polar Coordinates =', polar)\n",
    "    print('Conjugate =',c.conjugate())\n",
    "    print('Rectangular Coordinates =', \\\n",
    "           cmath.rect(modulus, phase))\n",
    "complex_operations1(3+4j)"
   ]
  },
  {
   "cell_type": "markdown",
   "metadata": {},
   "source": [
    "### Conditional Multiplication of Complex Numbers"
   ]
  },
  {
   "cell_type": "markdown",
   "metadata": {},
   "source": [
    "Dalam latihan ini, Anda akan menulis sebuah fungsi yang membaca bilangan kompleks, c , dan mengalikannya dengan dirinya sendiri jika argumen bilangan kompleks lebih besar dari nol, mengambil akar kuadrat dari c jika argumennya kurang dari nol, dan tidak tidak ada jika argumen sama dengan nol. Plot dan diskusikan temuan Anda"
   ]
  },
  {
   "cell_type": "markdown",
   "metadata": {},
   "source": [
    "- Import the necessary packages!"
   ]
  },
  {
   "cell_type": "code",
   "execution_count": 73,
   "metadata": {},
   "outputs": [],
   "source": [
    "import cmath\n",
    "from matplotlib import pyplot as plt\n",
    "import warnings\n",
    "warnings.filterwarnings(\"ignore\")"
   ]
  },
  {
   "cell_type": "markdown",
   "metadata": {},
   "source": [
    "- Define a function to plot the vector of the input complex number"
   ]
  },
  {
   "cell_type": "code",
   "execution_count": 76,
   "metadata": {},
   "outputs": [],
   "source": [
    "def plot_complex(c, color='b', label=None):\n",
    "    ax = plt.axes()\n",
    "    ax.arrow(0,0, c.real, c.imag, head_width=0.2, head_length=0.3, color=color)\n",
    "    ax.annotate(label, xy=(0.6*c.real, 1.15*c.imag))\n",
    "    plt.xlim(-3,3)\n",
    "    plt.ylim(-3,3)\n",
    "    plt.grid(b=True, which='major')"
   ]
  },
  {
   "cell_type": "markdown",
   "metadata": {},
   "source": [
    "- Next, create a function that reads the input, plot it by calling the function defined previously, and then investigates the different cases, depending on the phase of the input."
   ]
  },
  {
   "cell_type": "code",
   "execution_count": 77,
   "metadata": {},
   "outputs": [],
   "source": [
    "def mult_complex(c, label1='old', label2='new'):\n",
    "    phase = cmath.phase(c)\n",
    "    plot_complex(c, label=label1)\n",
    "    if phase == 0:\n",
    "        result = -1\n",
    "    elif phase < 0:\n",
    "        print('old phase:', phase)\n",
    "        result = cmath.sqrt(c)\n",
    "        print('new phase:', cmath.phase(result))\n",
    "        plot_complex(result, 'red', label=label2)\n",
    "    elif phase > 0:\n",
    "        print('old phase:', phase)\n",
    "        result = c*c\n",
    "        print('new phase:', cmath.phase(result))\n",
    "        plot_complex(result, 'red', label=label2)\n",
    "    return result"
   ]
  },
  {
   "cell_type": "markdown",
   "metadata": {},
   "source": [
    "Note that for negative phases, we take the square root of c, whereas for positive phases, we take the square of c"
   ]
  },
  {
   "cell_type": "markdown",
   "metadata": {},
   "source": [
    "- Now, transform a number that lies on the upper half of the complex plane"
   ]
  },
  {
   "cell_type": "code",
   "execution_count": 81,
   "metadata": {},
   "outputs": [
    {
     "name": "stdout",
     "output_type": "stream",
     "text": [
      "old phase: 0.8760580505981934\n",
      "new phase: 1.7521161011963868\n"
     ]
    },
    {
     "data": {
      "text/plain": [
       "(-0.43999999999999995+2.4j)"
      ]
     },
     "execution_count": 81,
     "metadata": {},
     "output_type": "execute_result"
    },
    {
     "data": {
      "image/png": "[encoded data removed]",
      "text/plain": [
       "<Figure size 432x288 with 1 Axes>"
      ]
     },
     "metadata": {
      "needs_background": "light"
     },
     "output_type": "display_data"
    }
   ],
   "source": [
    "mult_complex(1 + 1.2j)\n"
   ]
  },
  {
   "cell_type": "code",
   "execution_count": 82,
   "metadata": {},
   "outputs": [
    {
     "name": "stdout",
     "output_type": "stream",
     "text": [
      "old phase: -0.8760580505981934\n",
      "new phase: -0.43802902529909676\n"
     ]
    },
    {
     "data": {
      "text/plain": [
       "(1.1318237352126281-0.5301178808441246j)"
      ]
     },
     "execution_count": 82,
     "metadata": {},
     "output_type": "execute_result"
    },
    {
     "data": {
      "image/png": "[encoded data removed]",
      "text/plain": [
       "<Figure size 432x288 with 1 Axes>"
      ]
     },
     "metadata": {
      "needs_background": "light"
     },
     "output_type": "display_data"
    }
   ],
   "source": [
    "mult_complex(1-1.2j)"
   ]
  },
  {
   "cell_type": "code",
   "execution_count": 83,
   "metadata": {},
   "outputs": [
    {
     "name": "stdout",
     "output_type": "stream",
     "text": [
      "old phase: 0.8760580505981934\n",
      "new phase: 1.7521161011963868\n",
      "old phase: 1.7521161011963868\n",
      "new phase: -2.778953104786813\n",
      "old phase: -2.778953104786813\n",
      "new phase: -1.3894765523934065\n",
      "old phase: -1.3894765523934065\n",
      "new phase: -0.6947382761967033\n",
      "old phase: -0.6947382761967033\n",
      "new phase: -0.3473691380983516\n",
      "old phase: -0.3473691380983516\n",
      "new phase: -0.1736845690491758\n"
     ]
    },
    {
     "data": {
      "image/png": "[encoded data removed]",
      "text/plain": [
       "<Figure size 432x288 with 1 Axes>"
      ]
     },
     "metadata": {
      "needs_background": "light"
     },
     "output_type": "display_data"
    }
   ],
   "source": [
    "c0 = 1+1.2j\n",
    "n = 0\n",
    "while n < 6:\n",
    "    c0 = mult_complex(c0, None, str(n))\n",
    "    n+=1"
   ]
  },
  {
   "cell_type": "markdown",
   "metadata": {},
   "source": [
    "### Calculating Your Retirement Plan Using Series"
   ]
  },
  {
   "cell_type": "markdown",
   "metadata": {},
   "source": [
    "Di beberapa negara, program pensiun ditawarkan oleh beberapa perusahaan. Rencana ini memungkinkan anda langsung berkontribusi dari gaji anda, sehingga membuat efektivitas meningkat untuk menabung dan berinvestasi untuk masa pensiun. Next, anda ditugaskan untuk menghitung dan memplot pengembalian bulanan anda berdasarkan jumlah dan durasi kontribusi.<br><br>\n",
    "\n",
    "Rencana ini terakumulasi oleh waktu, persis seperti deret geometris. Modelnya seperti investasi, di mana anda menyimpan uang setiap bulan untuk mengumpulkannya nanti, setiap bulan, dengan nilai tambah atau bunga. Variabel utama untuk menghitung laba ini adalah saldo anda saat ini, kontribusi bulanan, kontribusi majikan, usia pensiun, tingkat pengembalian, harapan hidup, dan biaya lainnya. "
   ]
  },
  {
   "cell_type": "markdown",
   "metadata": {},
   "source": [
    "1.\tIdentify the variables of our problem. These will be the variables of our functions. Make sure you read through the activity description carefully and internalize what is known and what is to be calculated.\n",
    "2.\tIdentify the sequence and write one function that calculates the value of the retirement plan at some year, n. The function should admit the current balance, annual salary, year, n, and more as inputs and return a tuple of contribution, employer's match, and total retirement value at year n.\n",
    "3.\tIdentify the series and write one function that calculates the accumulated value of the retirement plan after n years. The present function should read the input, call the previous function that calculates the value of the plan at each year, and sum all the (per year) savings. For visualization purposes, the contributions (per year), employer match (per year), and total value (per year) should be returned as lists in a tuple.\n",
    "4.\tRun the function for a variety of chosen values and ensure it runs properly.\n",
    "5.\tPlot the results with Matplotlib\n"
   ]
  },
  {
   "cell_type": "markdown",
   "metadata": {},
   "source": [
    "- First, we need to identify the input variables and note that the problem boils down to calculating the n-term of a geometric sequence with a common ratio (1 + interest) and scale factor for the annual salary.\n",
    "annual_salary and the percentage, contrib, of it is what we contribute toward our plan. current_balance is the money that we have at year 0 and should be added to the total amount. annual_cap is the maximum percentage that we can contribute; any input value beyond that should be equal to contrib_cap. annual_salary_increase tells us how much we expect our salary to increase by per year. employer_match gives us the percentage amount the employer contributes to the plan (typically, this is between 0.5 and 1). Lastly, the current age, the duration of the plan in years, the life expectancy in years, and any other fees that the plan might incur are input variables. The per_month Boolean variable determines whether the output will be printed as a per-year or per-month amount of the return.\n"
   ]
  },
  {
   "cell_type": "markdown",
   "metadata": {},
   "source": [
    "- Buat fungsi pertama. untuk menghitung element ke-n dari deret punya kita, yang mereturn kontribusi dan kecocokan pemberi kerja sebagai tuple yang dipisahkan koma"
   ]
  },
  {
   "cell_type": "code",
   "execution_count": 92,
   "metadata": {},
   "outputs": [],
   "source": [
    "def retirement_n(current_balance, annual_salary, \\\n",
    "                 annual_cap, n, contrib, \\\n",
    "                 annual_salary_increase, employer_match, \\\n",
    "                 match_cap, rate):\n",
    "    '''\n",
    "    return :: retirement amount at year n\n",
    "    '''\n",
    "    annual_salary_n = annual_salary*\\\n",
    "                      (1+annual_salary_increase)**n\n",
    "    your_contrib = contrib*annual_salary_n\n",
    "    your_contrib = min(your_contrib, annual_cap)\n",
    "    employer_contrib = contrib*annual_salary_n*employer_match\n",
    "    employer_contrib = min(employer_contrib,match_cap\\\n",
    "                           *annual_salary_n*employer_match)\n",
    "    contrib_total = your_contrib + employer_contrib\n",
    "    return your_contrib, employer_contrib, current_balance + contrib_total*(1+rate)**n\n"
   ]
  },
  {
   "cell_type": "markdown",
   "metadata": {},
   "source": [
    "Seperti yang ditunjukkan di sini, adalah saldo saat ini dan gaji tahunan dalam nilai absolut. Kita juga mendefinisikan kontribusi, batas kontribusi (yaitu nilai maksimum yang diizinkan), kenaikan gaji tahunan, kecocokan pemberi kerja, dan tingkat pengembalian sebagai nilai relatif (floating antara 0 dan 1). Batas tahunan juga dimaksudkan untuk dibaca sebagai nilai absolut"
   ]
  },
  {
   "cell_type": "markdown",
   "metadata": {},
   "source": [
    "- Buat fungsi untuk menjumlahkan jumlah individu setiap tahun dan menghhitung nilai total dari rencananya. Ini akan membagi angka ini dengan jumlah tahun di mana rencana kana digunakan, sehingga pengembalian per tahun dari rencana akan direturn oleh fungsi ini. Sebagai input, parameter ini harus membaca usia saat ini, durasi paket, dan harapan hidup."
   ]
  },
  {
   "cell_type": "code",
   "execution_count": 93,
   "metadata": {},
   "outputs": [],
   "source": [
    "def retirement_total(current_balance, annual_salary, \\\n",
    "    annual_cap=18000, contrib=0.05, \\\n",
    "    annual_salary_increase=0.02, employer_match=0.5, \\\n",
    "    match_cap=0.06, rate=0.03, current_age=35, \\\n",
    "    plan_years=35, life_expectancy=80, fees=0, \\\n",
    "    per_month=False):\n",
    "    i = 0\n",
    "    result = 0\n",
    "    contrib_list = []; ematch_list = []; total_list = []\n",
    "    while i <= plan_years:\n",
    "        cn = retirement_n(current_balance=current_balance, \\\n",
    "             annual_salary=annual_salary, \\\n",
    "             annual_cap=annual_cap, n=i, \\\n",
    "             contrib=contrib, match_cap=match_cap, \\\n",
    "             annual_salary_increase=annual_salary_increase,\\\n",
    "             employer_match=employer_match, rate=rate)\n",
    "        contrib_list.append(cn[0])\n",
    "        ematch_list.append(cn[1])\n",
    "        total_list.append(cn[2])\n",
    "        result = result + cn[2]\n",
    "        i+=1\n",
    "    result = result - fees\n",
    "    years_payback = life_expectancy - (current_age + plan_years)\n",
    "    if per_month:\n",
    "        months = 12\n",
    "    else:\n",
    "        months = 1\n",
    "    result = result / (years_payback*months)\n",
    "    print('You get back:',result)\n",
    "    return result, contrib_list, ematch_list, total_list"
   ]
  },
  {
   "cell_type": "code",
   "execution_count": 94,
   "metadata": {},
   "outputs": [
    {
     "name": "stdout",
     "output_type": "stream",
     "text": [
      "You get back: 3029.952393422356\n"
     ]
    }
   ],
   "source": [
    "result, contrib, ematch, total = retirement_total(current_balance=1000, plan_years=35,\\\n",
    "                 current_age=36, annual_salary=40000, \\\n",
    "                 per_month=True)\n"
   ]
  },
  {
   "cell_type": "code",
   "execution_count": 95,
   "metadata": {},
   "outputs": [
    {
     "data": {
      "image/png": "[encoded data removed]",
      "text/plain": [
       "<Figure size 432x288 with 1 Axes>"
      ]
     },
     "metadata": {
      "needs_background": "light"
     },
     "output_type": "display_data"
    }
   ],
   "source": [
    "from matplotlib import pyplot as plt\n",
    "years = [i for i in range(len(total))]\n",
    "plt.plot(years, total,'-o',color='b')\n",
    "width=0.85\n",
    "p1 = plt.bar(years, total, width=width)\n",
    "p2 = plt.bar(years, contrib, width=width)\n",
    "p3 = plt.bar(years, ematch, width=width)\n",
    "plt.xlabel('Years')\n",
    "plt.ylabel('Return')\n",
    "plt.title('Retirement plan evolution')\n",
    "plt.legend((p1[0], p2[0], p3[0]), ('Investment returns','Contributions','Employer match'))\n",
    "plt.show()"
   ]
  },
  {
   "cell_type": "code",
   "execution_count": null,
   "metadata": {},
   "outputs": [],
   "source": []
  }
 ],
 "metadata": {
  "interpreter": {
   "hash": "9d3bae0a0f66551680ef8a166f6b92cc2774d5d7901f027deb7bb883ed06d5ae"
  },
  "kernelspec": {
   "display_name": "Python 3.7.4 64-bit ('base': conda)",
   "name": "python3"
  },
  "language_info": {
   "codemirror_mode": {
    "name": "ipython",
    "version": 3
   },
   "file_extension": ".py",
   "mimetype": "text/x-python",
   "name": "python",
   "nbconvert_exporter": "python",
   "pygments_lexer": "ipython3",
   "version": "3.7.4"
  },
  "orig_nbformat": 4
 },
 "nbformat": 4,
 "nbformat_minor": 2
}
