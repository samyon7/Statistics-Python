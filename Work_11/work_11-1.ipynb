{
 "cells": [
  {
   "cell_type": "code",
   "execution_count": 2,
   "metadata": {},
   "outputs": [
    {
     "data": {
      "text/plain": [
       "3"
      ]
     },
     "execution_count": 2,
     "metadata": {},
     "output_type": "execute_result"
    }
   ],
   "source": [
    "3"
   ]
  },
  {
   "cell_type": "code",
   "execution_count": 3,
   "metadata": {},
   "outputs": [
    {
     "name": "stdout",
     "output_type": "stream",
     "text": [
      "4.476608090821848\n"
     ]
    }
   ],
   "source": [
    "from math import sqrt\n",
    "\n",
    "def derivative(f,x):\n",
    "    delta_x = 1/1000000\n",
    "    return (f(x+delta_x) - f(x))/delta_x\n",
    "\n",
    "def trap_integral(f,a,b,num):\n",
    "    width = (b-a)/num\n",
    "    area = 0.5*width*(f(a) + f(b) + 2*sum([f(a+width*n) for n in range(num)]))\n",
    "    return area\n",
    "\n",
    "def curve_length(f,a,b,num):\n",
    "    def g(x):\n",
    "        return sqrt(1+(derivative(f,x)**2))\n",
    "    \n",
    "    return trap_integral(g,a,b,num)\n",
    "\n",
    "def f(x):\n",
    "    return 2*x\n",
    "print(curve_length(f,0,2,1000))\n"
   ]
  },
  {
   "cell_type": "code",
   "execution_count": 4,
   "metadata": {},
   "outputs": [
    {
     "name": "stdout",
     "output_type": "stream",
     "text": [
      "9.628984854276812\n"
     ]
    }
   ],
   "source": [
    "def f(x):\n",
    "    return 0.7*x**5 + 1.6*x**4-2.05*x**3 -3*x**2+2.95*x+2.9\n",
    "print(curve_length(f,-2,1,1000))\n"
   ]
  },
  {
   "cell_type": "code",
   "execution_count": 5,
   "metadata": {},
   "outputs": [],
   "source": [
    "def f(x):\n",
    "    return 0.7*x**5 + 1.6*x**4-2.05*x**3 -3*x**2+2.95*x+2.9\n",
    "def curve_length2(f,a,b,num=1000):\n",
    "    \"\"\"Returns the length of f between\\\n",
    "    a and b using num slices\"\"\"\n",
    "    output = 0\n",
    "    width = (b-a)/num\n",
    "    for i in range(num):\n",
    "        output += sqrt((f(a+(i+1)*width)-f(a+i*width))**2 + width**2)\n",
    "    return output\n"
   ]
  },
  {
   "cell_type": "code",
   "execution_count": 6,
   "metadata": {},
   "outputs": [
    {
     "name": "stdout",
     "output_type": "stream",
     "text": [
      "9.614118659973549\n"
     ]
    }
   ],
   "source": [
    "print(curve_length2(f,-2,1))"
   ]
  },
  {
   "cell_type": "markdown",
   "metadata": {},
   "source": [
    "### Finding the length of the curve"
   ]
  },
  {
   "cell_type": "markdown",
   "metadata": {},
   "source": [
    "- Declare first a circle function\n",
    "- Create and run a new function"
   ]
  },
  {
   "cell_type": "code",
   "execution_count": 7,
   "metadata": {},
   "outputs": [],
   "source": [
    "def circle(x):\n",
    "    return sqrt(1-x**2)\n",
    "\n",
    "def curve_length2(f,a,b,num=1000):\n",
    "    \"\"\"Returns the length of f between\\\n",
    "       a and b using num slices\"\"\"\n",
    "    output = 0\n",
    "    width = (b-a)/num\n",
    "    for i in range(num):\n",
    "        output += sqrt((f(a+(i+1)*width)-f(a+i*width))**2 \\\n",
    "                        + width**2)\n",
    "    return output\n"
   ]
  },
  {
   "cell_type": "markdown",
   "metadata": {},
   "source": [
    "- Print the output of the function, measuring from x=-1 to x=-1"
   ]
  },
  {
   "cell_type": "code",
   "execution_count": 8,
   "metadata": {},
   "outputs": [
    {
     "name": "stdout",
     "output_type": "stream",
     "text": [
      "3.1415663562164773\n"
     ]
    }
   ],
   "source": [
    "print(curve_length2 (circle,-1,1))"
   ]
  },
  {
   "cell_type": "markdown",
   "metadata": {},
   "source": [
    "### Finding the Length of a Sine Wave"
   ]
  },
  {
   "cell_type": "code",
   "execution_count": 9,
   "metadata": {},
   "outputs": [],
   "source": [
    "# Now, import the library, sin and pi\n",
    "from math import sin,pi"
   ]
  },
  {
   "cell_type": "code",
   "execution_count": 10,
   "metadata": {},
   "outputs": [
    {
     "name": "stdout",
     "output_type": "stream",
     "text": [
      "7.640391636335927\n"
     ]
    }
   ],
   "source": [
    "# We've already written our curve function. We just need to tell it the function to use, and the beginning and ending x values\n",
    "print(curve_length2(sin,0,2*pi))"
   ]
  },
  {
   "cell_type": "markdown",
   "metadata": {},
   "source": [
    "---"
   ]
  },
  {
   "cell_type": "code",
   "execution_count": 11,
   "metadata": {},
   "outputs": [],
   "source": [
    "def opposite(a,b,C):\n",
    "    \"\"\"Returns the side opposite the given angle in\n",
    "       a triangle using the Law of Cosines\n",
    "       Enter side, side, angle\"\"\"\n",
    "    c = sqrt(a**2 + b**2 - 2*a*b*cos(C))\n",
    "    return c\n"
   ]
  },
  {
   "cell_type": "code",
   "execution_count": 12,
   "metadata": {},
   "outputs": [],
   "source": [
    "from math import sqrt,cos,pi\n",
    "def spiral(r,a,b,step=0.0001):\n",
    "    \"\"\"Returns length of spiral r from\n",
    "       a to b taking given step size\"\"\"\n",
    "    length = 0\n",
    "    theta = a\n",
    "    while theta < b:\n",
    "        length += opposite(r(theta),r(theta+step),step)\n",
    "        theta += step\n",
    "    return length\n",
    "\n",
    "def r(theta):\n",
    "    return 5 + 0.12892*theta"
   ]
  },
  {
   "cell_type": "code",
   "execution_count": 13,
   "metadata": {},
   "outputs": [
    {
     "data": {
      "text/plain": [
       "378.8146271783955"
      ]
     },
     "execution_count": 13,
     "metadata": {},
     "output_type": "execute_result"
    }
   ],
   "source": [
    "spiral(r,0,2*pi*7.5)"
   ]
  },
  {
   "cell_type": "markdown",
   "metadata": {},
   "source": [
    "### Finding the Length of the Polar Spiral Curve"
   ]
  },
  {
   "cell_type": "markdown",
   "metadata": {},
   "source": [
    "In this exercise, you will find the length of the polar spiral curve, which starts at (3,0), makes 12 complete revolutions around the center, and ends at (16,0)."
   ]
  },
  {
   "cell_type": "markdown",
   "metadata": {},
   "source": [
    "- We don't know the formula for this spiral, but we do know that the radius increases 13 units (from 3 to 16) in 12 revolutions. This means that for every increase of 2π in the angle, θ, the radius increases 13/12 units. So, we divide 13/12 by 2π. "
   ]
  },
  {
   "cell_type": "code",
   "execution_count": 14,
   "metadata": {},
   "outputs": [
    {
     "name": "stdout",
     "output_type": "stream",
     "text": [
      "3.0 15.998653763493127\n"
     ]
    }
   ],
   "source": [
    "def r(theta):\n",
    "    return 3 + 0.1724*theta\n",
    "\n",
    "# Check to make sure\n",
    "print(r(0),r(24*pi))"
   ]
  },
  {
   "cell_type": "code",
   "execution_count": 15,
   "metadata": {},
   "outputs": [
    {
     "data": {
      "text/plain": [
       "716.3778471288748"
      ]
     },
     "execution_count": 15,
     "metadata": {},
     "output_type": "execute_result"
    }
   ],
   "source": [
    "# So simply put that in our spiral function\n",
    "spiral(r,0,2*pi*12)"
   ]
  },
  {
   "cell_type": "markdown",
   "metadata": {},
   "source": [
    "---"
   ]
  },
  {
   "cell_type": "markdown",
   "metadata": {},
   "source": [
    "### Finding the Length of Insulation in a Roll"
   ]
  },
  {
   "cell_type": "markdown",
   "metadata": {},
   "source": [
    "You measure the roll and find that the center is an empty circle whose diameter is 4 inches (so r(0) = 2). The outer diameter of the roll is 26 inches. You count the layers from the center to the outside and estimate that the spiral takes 23 and a half turns, so r(2π*23.5)= 26/2 = 13"
   ]
  },
  {
   "cell_type": "code",
   "execution_count": 16,
   "metadata": {},
   "outputs": [
    {
     "data": {
      "text/plain": [
       "1107.502879450013"
      ]
     },
     "execution_count": 16,
     "metadata": {},
     "output_type": "execute_result"
    }
   ],
   "source": [
    "# Let's define the code!\n",
    "\n",
    "def r(theta):\n",
    "    return 2+0.0745*theta\n",
    "\n",
    "spiral(r,0,2*pi*23.5) # 1,107 inches is just over 92 feet of insulation"
   ]
  },
  {
   "cell_type": "markdown",
   "metadata": {},
   "source": [
    "---"
   ]
  },
  {
   "cell_type": "markdown",
   "metadata": {},
   "source": [
    "### Finding the Length of Archimedean Spiral"
   ]
  },
  {
   "cell_type": "code",
   "execution_count": 17,
   "metadata": {},
   "outputs": [],
   "source": [
    "from math import e\n",
    "\n",
    "def r(theta):\n",
    "    return 2*e**(0.315*theta)"
   ]
  },
  {
   "cell_type": "markdown",
   "metadata": {},
   "source": [
    "- Run the spiral function from 0 to 2π"
   ]
  },
  {
   "cell_type": "code",
   "execution_count": 18,
   "metadata": {},
   "outputs": [
    {
     "data": {
      "text/plain": [
       "41.518256747758976"
      ]
     },
     "execution_count": 18,
     "metadata": {},
     "output_type": "execute_result"
    }
   ],
   "source": [
    "spiral(r,0,2*pi)"
   ]
  },
  {
   "cell_type": "markdown",
   "metadata": {},
   "source": [
    "---"
   ]
  },
  {
   "cell_type": "code",
   "execution_count": 19,
   "metadata": {},
   "outputs": [],
   "source": [
    "def partial_d(f,u,v,w,num=10000):\n",
    "    \"\"\"returns the partial derivative of f\n",
    "    with respect to u at (v,w)\"\"\"\n",
    "    delta_u = 1/num\n",
    "    try:\n",
    "        if u == 'x':\n",
    "            return (f(v+delta_u,w) - f(v,w))/delta_u\n",
    "        else:\n",
    "            return (f(v,w+delta_u) - f(v,w))/delta_u\n",
    "    except ValueError:\n",
    "        pass"
   ]
  },
  {
   "cell_type": "code",
   "execution_count": 20,
   "metadata": {},
   "outputs": [],
   "source": [
    "def cross(u,v):\n",
    "    \"\"\"Returns the cross product of 2 3D vectors\n",
    "    [[i,j,k],\\\n",
    "    [1,0,dz/dx],\\\n",
    "    [0,1,dz,dy]]\n",
    "    cross([1,-1,2],[2,3,-5])\n",
    "    >>> [-1, -9, 5]\n",
    "    \"\"\"\n",
    "    return [u[1]*v[2]-v[1]*u[2],\\\n",
    "            -u[0]*v[2]+v[0]*u[2],\\\n",
    "            u[0]*v[1]-v[0]*u[1]]"
   ]
  },
  {
   "cell_type": "code",
   "execution_count": 21,
   "metadata": {},
   "outputs": [
    {
     "name": "stdout",
     "output_type": "stream",
     "text": [
      "[-3, 6, -3]\n"
     ]
    }
   ],
   "source": [
    "print(cross([2,3,4],[5,6,7]))"
   ]
  },
  {
   "cell_type": "code",
   "execution_count": 22,
   "metadata": {},
   "outputs": [],
   "source": [
    "from math import sqrt\n",
    "def sphere(x,y):\n",
    "    \"\"\"Sphere of radius 1\"\"\"\n",
    "    return sqrt(1-x**2-y**2)\n",
    "def area(f,ax,bx,ay,by,num=1000):\n",
    "    \"\"\"Returns area of parallelogram formed by\n",
    "    vectors with given partial derives\"\"\"\n",
    "    running_sum = 0\n",
    "    dx = (bx-ax)/num\n",
    "    dy = (by-ay)/num\n",
    "    for i in range(num):\n",
    "        for j in range(num):\n",
    "            x = ax+i*dx\n",
    "            y = ay+j*dy\n",
    "            dz_dx=partial_d(f,'x',x,y)\n",
    "            dz_dy=partial_d(f,'y',x,y)\n",
    "            try:\n",
    "                running_sum += mag(cross([1,0,dz_dx],[0,1,dz_dy]))*dx*dy\n",
    "            except:\n",
    "                pass\n",
    "    return running_sum"
   ]
  },
  {
   "cell_type": "markdown",
   "metadata": {},
   "source": [
    "### Finding the Area of a 3D Surface Part 1"
   ]
  },
  {
   "cell_type": "code",
   "execution_count": 24,
   "metadata": {},
   "outputs": [
    {
     "name": "stdout",
     "output_type": "stream",
     "text": [
      "Area of wave surface: 0\n"
     ]
    }
   ],
   "source": [
    "from math import sin, cos, sqrt\n",
    "def surface(x,y):\n",
    "    return 10*sin(sqrt(x**2+y**2))\n",
    "print(\"Area of wave surface:\",area(surface,-5,5,-5,5))\n"
   ]
  },
  {
   "cell_type": "markdown",
   "metadata": {},
   "source": [
    "### Finding the Area of a 3D Surface Part 2"
   ]
  },
  {
   "cell_type": "code",
   "execution_count": 25,
   "metadata": {},
   "outputs": [
    {
     "name": "stdout",
     "output_type": "stream",
     "text": [
      "Area of surface: 0\n"
     ]
    }
   ],
   "source": [
    "def surface(x,y):\n",
    "    return 3*cos(x)+2*cos(x)*cos(y)\n",
    "\n",
    "print(\"Area of surface:\",area(surface,0,6.28,0,6.28))"
   ]
  },
  {
   "cell_type": "markdown",
   "metadata": {},
   "source": [
    "### Finding the Area of a 3D Surface Part 3"
   ]
  },
  {
   "cell_type": "code",
   "execution_count": 26,
   "metadata": {},
   "outputs": [
    {
     "name": "stdout",
     "output_type": "stream",
     "text": [
      "Area of surface: 0\n"
     ]
    }
   ],
   "source": [
    "def surface(x,y):\n",
    "    return sqrt(1+sin(x)*cos(y))\n",
    "print(\"Area of surface:\",area(surface,0,6.28,0,6.28))"
   ]
  },
  {
   "cell_type": "code",
   "execution_count": null,
   "metadata": {},
   "outputs": [],
   "source": []
  }
 ],
 "metadata": {
  "interpreter": {
   "hash": "9d3bae0a0f66551680ef8a166f6b92cc2774d5d7901f027deb7bb883ed06d5ae"
  },
  "kernelspec": {
   "display_name": "Python 3.7.4 ('base')",
   "language": "python",
   "name": "python3"
  },
  "language_info": {
   "codemirror_mode": {
    "name": "ipython",
    "version": 3
   },
   "file_extension": ".py",
   "mimetype": "text/x-python",
   "name": "python",
   "nbconvert_exporter": "python",
   "pygments_lexer": "ipython3",
   "version": "3.7.4"
  },
  "orig_nbformat": 4
 },
 "nbformat": 4,
 "nbformat_minor": 2
}
