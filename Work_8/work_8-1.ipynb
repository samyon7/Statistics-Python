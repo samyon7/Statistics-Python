{
 "cells": [
  {
   "cell_type": "code",
   "execution_count": 2,
   "metadata": {},
   "outputs": [
    {
     "data": {
      "text/plain": [
       "4"
      ]
     },
     "execution_count": 2,
     "metadata": {},
     "output_type": "execute_result"
    }
   ],
   "source": [
    "4"
   ]
  },
  {
   "cell_type": "code",
   "execution_count": 3,
   "metadata": {},
   "outputs": [],
   "source": [
    "import pandas as pd\n",
    "import numpy as np\n",
    "import matplotlib.pyplot as plt\n",
    "import seaborn as sns\n",
    "\n",
    "%matplotlib inline"
   ]
  },
  {
   "cell_type": "code",
   "execution_count": 4,
   "metadata": {},
   "outputs": [
    {
     "name": "stdout",
     "output_type": "stream",
     "text": [
      "2\n",
      "6\n",
      "6\n",
      "1\n",
      "1\n",
      "1\n",
      "2\n",
      "4\n",
      "2\n",
      "5\n"
     ]
    }
   ],
   "source": [
    "# Tossing a regular die\n",
    "def toss_die():\n",
    "    outcome = np.random.randint(1,7)\n",
    "    return outcome\n",
    "\n",
    "# Use the function ten times to observe the works\n",
    "for x in range(10):\n",
    "    print(toss_die())"
   ]
  },
  {
   "cell_type": "code",
   "execution_count": 5,
   "metadata": {},
   "outputs": [
    {
     "name": "stdout",
     "output_type": "stream",
     "text": [
      "6,3,5,3,2,4,3,4,2,2,"
     ]
    }
   ],
   "source": [
    "np.random.seed(123)\n",
    "for x in range(10):\n",
    "    print(toss_die(), end=',')"
   ]
  },
  {
   "cell_type": "code",
   "execution_count": 6,
   "metadata": {},
   "outputs": [
    {
     "name": "stdout",
     "output_type": "stream",
     "text": [
      "['students_9' 'students_27' 'students_23' 'students_14']\n"
     ]
    }
   ],
   "source": [
    "# Next we will sample elements from a vector\n",
    "students = ['students_' + str(i) for i in range(1,31)]\n",
    "\n",
    "# Now use np.random.choice\n",
    "sample_students = np.random.choice(a=students, size=4, replace=False)\n",
    "print(sample_students)"
   ]
  },
  {
   "cell_type": "code",
   "execution_count": 7,
   "metadata": {},
   "outputs": [
    {
     "name": "stdout",
     "output_type": "stream",
     "text": [
      "Week 1: students_29\n",
      "Week 2: students_29\n",
      "Week 3: students_21\n",
      "Week 4: students_7\n",
      "Week 5: students_2\n",
      "Week 6: students_22\n",
      "Week 7: students_23\n",
      "Week 8: students_28\n",
      "Week 9: students_3\n",
      "Week 10: students_2\n",
      "Week 11: students_13\n",
      "Week 12: students_9\n"
     ]
    }
   ],
   "source": [
    "sample_students2 = np.random.choice(a=students, size=12, replace=True)\n",
    "\n",
    "for i, s in enumerate(sample_students2):\n",
    "    print(f'Week {i+1}: {s}')"
   ]
  },
  {
   "cell_type": "markdown",
   "metadata": {},
   "source": [
    "### Sampling with and without Replacement"
   ]
  },
  {
   "cell_type": "code",
   "execution_count": 8,
   "metadata": {},
   "outputs": [],
   "source": [
    "import numpy as np"
   ]
  },
  {
   "cell_type": "markdown",
   "metadata": {},
   "source": [
    "- Create two lists containing four different suits and 13 different ranks in the set of standard cards"
   ]
  },
  {
   "cell_type": "code",
   "execution_count": 9,
   "metadata": {},
   "outputs": [],
   "source": [
    "suits = ['hearts', 'diamonds', 'spades', 'clubs']\n",
    "ranks = ['Ace', '2', '3', '4', '5', '6', '7', '8', '9', '10', 'Jack', 'Queen', 'King']"
   ]
  },
  {
   "cell_type": "markdown",
   "metadata": {},
   "source": [
    "- Create a list, named as cards, containing 52 cards of standard deck"
   ]
  },
  {
   "cell_type": "code",
   "execution_count": 10,
   "metadata": {},
   "outputs": [],
   "source": [
    "cards = [rank + '-' + suit for rank in ranks for suit in suits]"
   ]
  },
  {
   "cell_type": "code",
   "execution_count": 11,
   "metadata": {},
   "outputs": [
    {
     "data": {
      "text/plain": [
       "['Ace-hearts',\n",
       " 'Ace-diamonds',\n",
       " 'Ace-spades',\n",
       " 'Ace-clubs',\n",
       " '2-hearts',\n",
       " '2-diamonds',\n",
       " '2-spades',\n",
       " '2-clubs',\n",
       " '3-hearts',\n",
       " '3-diamonds',\n",
       " '3-spades',\n",
       " '3-clubs',\n",
       " '4-hearts',\n",
       " '4-diamonds',\n",
       " '4-spades',\n",
       " '4-clubs',\n",
       " '5-hearts',\n",
       " '5-diamonds',\n",
       " '5-spades',\n",
       " '5-clubs',\n",
       " '6-hearts',\n",
       " '6-diamonds',\n",
       " '6-spades',\n",
       " '6-clubs',\n",
       " '7-hearts',\n",
       " '7-diamonds',\n",
       " '7-spades',\n",
       " '7-clubs',\n",
       " '8-hearts',\n",
       " '8-diamonds',\n",
       " '8-spades',\n",
       " '8-clubs',\n",
       " '9-hearts',\n",
       " '9-diamonds',\n",
       " '9-spades',\n",
       " '9-clubs',\n",
       " '10-hearts',\n",
       " '10-diamonds',\n",
       " '10-spades',\n",
       " '10-clubs',\n",
       " 'Jack-hearts',\n",
       " 'Jack-diamonds',\n",
       " 'Jack-spades',\n",
       " 'Jack-clubs',\n",
       " 'Queen-hearts',\n",
       " 'Queen-diamonds',\n",
       " 'Queen-spades',\n",
       " 'Queen-clubs',\n",
       " 'King-hearts',\n",
       " 'King-diamonds',\n",
       " 'King-spades',\n",
       " 'King-clubs']"
      ]
     },
     "execution_count": 11,
     "metadata": {},
     "output_type": "execute_result"
    }
   ],
   "source": [
    "cards"
   ]
  },
  {
   "cell_type": "markdown",
   "metadata": {},
   "source": [
    "- Use np.random.choice to draw a hand (five cards) from the deck. Don't forget to use replace=True, so all cards gets selected only once"
   ]
  },
  {
   "cell_type": "code",
   "execution_count": 12,
   "metadata": {},
   "outputs": [
    {
     "name": "stdout",
     "output_type": "stream",
     "text": [
      "['Jack-clubs' '9-diamonds' 'Jack-hearts' '2-hearts' '9-clubs']\n"
     ]
    }
   ],
   "source": [
    "print(np.random.choice(cards, size=5, replace=False))"
   ]
  },
  {
   "cell_type": "markdown",
   "metadata": {},
   "source": [
    "- Now, create a function named deal_hands that returns two lists, each with five cards drawn from the same deck. Use replace=False in the np.random.choice function. This function will perform sampling without replacement"
   ]
  },
  {
   "cell_type": "code",
   "execution_count": 13,
   "metadata": {},
   "outputs": [
    {
     "data": {
      "text/plain": [
       "(['7-spades', 'King-hearts', 'Ace-spades', 'Jack-hearts', 'Jack-spades'],\n",
       " ['King-spades', '9-spades', '9-diamonds', '8-diamonds', '8-spades'])"
      ]
     },
     "execution_count": 13,
     "metadata": {},
     "output_type": "execute_result"
    }
   ],
   "source": [
    "def deal_hands():\n",
    "    drawn_cards = np.random.choice(cards, size=10, replace=False)\n",
    "    hand_1 = drawn_cards[:5].tolist()\n",
    "    hand_2 = drawn_cards[5:].tolist()\n",
    "    return hand_1, hand_2\n",
    "\n",
    "deal_hands()"
   ]
  },
  {
   "cell_type": "markdown",
   "metadata": {},
   "source": [
    "- Next, creatre a function which is identical to the before, but with the replace=True argument in the np.random.choice function."
   ]
  },
  {
   "cell_type": "code",
   "execution_count": 14,
   "metadata": {},
   "outputs": [
    {
     "data": {
      "text/plain": [
       "(['10-diamonds', '10-hearts', '9-hearts', '10-clubs', 'Queen-clubs'],\n",
       " ['Ace-hearts', '7-clubs', 'Ace-diamonds', '6-clubs', '4-diamonds'])"
      ]
     },
     "execution_count": 14,
     "metadata": {},
     "output_type": "execute_result"
    }
   ],
   "source": [
    "def deal_hands2():\n",
    "    drawn_cards = np.random.choice(cards, size=10, replace=True)\n",
    "    hand_1 = drawn_cards[:5].tolist()\n",
    "    hand_2 = drawn_cards[5:].tolist()\n",
    "    return hand_1, hand_2\n",
    "\n",
    "np.random.seed(2)\n",
    "deal_hands()"
   ]
  },
  {
   "cell_type": "markdown",
   "metadata": {},
   "source": [
    "---"
   ]
  },
  {
   "cell_type": "code",
   "execution_count": 15,
   "metadata": {},
   "outputs": [
    {
     "data": {
      "text/plain": [
       "array([4, 2, 1, 4, 4, 4, 2, 2, 6, 3])"
      ]
     },
     "execution_count": 15,
     "metadata": {},
     "output_type": "execute_result"
    }
   ],
   "source": [
    "np.random.seed(81)\n",
    "one_million_tosses = np.random.randint(low=1, \\\n",
    "                                       high=7, size=int(1e6))\n",
    "\n",
    "\n",
    "one_million_tosses[:10]"
   ]
  },
  {
   "cell_type": "code",
   "execution_count": 16,
   "metadata": {},
   "outputs": [
    {
     "name": "stdout",
     "output_type": "stream",
     "text": [
      "P(A)=0.16595\n"
     ]
    }
   ],
   "source": [
    "N_A_occurs = (one_million_tosses == 2).sum()\n",
    "Prob_A = N_A_occurs/one_million_tosses.shape[0]\n",
    "print(f'P(A)={Prob_A}')"
   ]
  },
  {
   "cell_type": "code",
   "execution_count": 17,
   "metadata": {},
   "outputs": [
    {
     "name": "stdout",
     "output_type": "stream",
     "text": [
      "P(B)=0.166809\n"
     ]
    }
   ],
   "source": [
    "N_B_occurs = (one_million_tosses == 6).sum()\n",
    "Prob_B = N_B_occurs/one_million_tosses.shape[0]\n",
    "print(f'P(B)={Prob_B}')"
   ]
  },
  {
   "cell_type": "code",
   "execution_count": 18,
   "metadata": {},
   "outputs": [
    {
     "name": "stdout",
     "output_type": "stream",
     "text": [
      "P(C)=0.501162\n"
     ]
    }
   ],
   "source": [
    "N_odd_number = (\n",
    "    (one_million_tosses == 1) |\n",
    "    (one_million_tosses == 3) |\n",
    "    (one_million_tosses == 5)).sum()\n",
    "Prob_C = N_odd_number/one_million_tosses.shape[0]\n",
    "print(f'P(C)={Prob_C}')\n"
   ]
  },
  {
   "cell_type": "code",
   "execution_count": 19,
   "metadata": {},
   "outputs": [
    {
     "name": "stdout",
     "output_type": "stream",
     "text": [
      "P(D)=0.666004\n"
     ]
    }
   ],
   "source": [
    "N_D_occurs = (one_million_tosses < 5).sum()\n",
    "Prob_D = N_D_occurs/one_million_tosses.shape[0]\n",
    "print(f'P(D)={Prob_D}')"
   ]
  },
  {
   "cell_type": "code",
   "execution_count": 20,
   "metadata": {},
   "outputs": [
    {
     "name": "stdout",
     "output_type": "stream",
     "text": [
      "[6 3 1 6 6 6 6 6 4 2]\n",
      "[1 2 3 5 1 3 3 6 3 1]\n",
      "[ 7  5  4 11  7  9  9 12  7  3]\n"
     ]
    }
   ],
   "source": [
    "np.random.seed(55)\n",
    "number_of_tosses = int(1e5)\n",
    "die_1 = np.random.randint(1,7,size=number_of_tosses)\n",
    "die_2 = np.random.randint(1,7,size=number_of_tosses)\n",
    "\n",
    "X = die_1 + die_2\n",
    "\n",
    "print(die_1[:10])\n",
    "print(die_2[:10])\n",
    "print(X[:10])"
   ]
  },
  {
   "cell_type": "code",
   "execution_count": 21,
   "metadata": {},
   "outputs": [
    {
     "name": "stdout",
     "output_type": "stream",
     "text": [
      "P(X = 10) = 0.08329\n"
     ]
    }
   ],
   "source": [
    "Prob_X_is_10 = (X == 10).sum()/X.shape[0]\n",
    "print(f'P(X = 10) = {Prob_X_is_10}')"
   ]
  },
  {
   "cell_type": "code",
   "execution_count": 22,
   "metadata": {},
   "outputs": [
    {
     "name": "stdout",
     "output_type": "stream",
     "text": [
      "P(X > 5) = 0.72197\n"
     ]
    }
   ],
   "source": [
    "Prob_X_is_gt_5 = (X > 5).sum()/X.shape[0]\n",
    "print(f'P(X > 5) = {Prob_X_is_gt_5}')"
   ]
  },
  {
   "cell_type": "code",
   "execution_count": 23,
   "metadata": {},
   "outputs": [
    {
     "data": {
      "image/png": "[encoded data removed]",
      "text/plain": [
       "<Figure size 432x288 with 1 Axes>"
      ]
     },
     "metadata": {
      "needs_background": "light"
     },
     "output_type": "display_data"
    }
   ],
   "source": [
    "# So here we try to visualize the number of times each of the possible values\n",
    "X = pd.Series(X)\n",
    "freq_of_X_values = X.value_counts()\n",
    "freq_of_X_values.sort_index().plot(kind='bar')\n",
    "\n",
    "plt.grid();"
   ]
  },
  {
   "cell_type": "code",
   "execution_count": 24,
   "metadata": {},
   "outputs": [
    {
     "data": {
      "image/png": "[encoded data removed]",
      "text/plain": [
       "<Figure size 432x288 with 1 Axes>"
      ]
     },
     "metadata": {
      "needs_background": "light"
     },
     "output_type": "display_data"
    }
   ],
   "source": [
    "Prob_of_X_values = freq_of_X_values/X.shape[0]\n",
    "Prob_of_X_values.sort_index().plot(kind = 'bar')\n",
    "plt.grid();"
   ]
  },
  {
   "cell_type": "code",
   "execution_count": 25,
   "metadata": {},
   "outputs": [
    {
     "data": {
      "text/plain": [
       "array([[0, 1, 1, 1, 1, 1, 0, 1, 1, 0],\n",
       "       [0, 0, 1, 1, 1, 0, 1, 0, 0, 0],\n",
       "       [0, 1, 0, 1, 1, 0, 0, 0, 0, 1],\n",
       "       [1, 0, 1, 1, 0, 1, 0, 0, 1, 1],\n",
       "       [1, 0, 1, 0, 1, 0, 1, 0, 0, 0],\n",
       "       [0, 1, 1, 1, 0, 1, 1, 1, 1, 0],\n",
       "       [1, 1, 1, 1, 0, 1, 0, 1, 0, 1],\n",
       "       [0, 1, 0, 0, 1, 1, 1, 0, 0, 0],\n",
       "       [1, 0, 0, 1, 1, 1, 0, 0, 0, 0],\n",
       "       [0, 1, 0, 1, 0, 1, 0, 1, 0, 1],\n",
       "       [1, 0, 1, 1, 1, 0, 0, 0, 1, 0],\n",
       "       [0, 0, 0, 0, 1, 1, 1, 0, 1, 1]])"
      ]
     },
     "execution_count": 25,
     "metadata": {},
     "output_type": "execute_result"
    }
   ],
   "source": [
    "# Again, let's simulate the experiment of tossing 10 coins 1 million times\n",
    "np.random.seed(97)\n",
    "ten_coins_a_million_times = np.random.randint(0,2,size=int(1e6)).reshape(-1,10)\n",
    "ten_coins_a_million_times[:12,:]"
   ]
  },
  {
   "cell_type": "code",
   "execution_count": 26,
   "metadata": {},
   "outputs": [
    {
     "data": {
      "text/plain": [
       "array([7, 4, 4, ..., 1, 5, 6])"
      ]
     },
     "execution_count": 26,
     "metadata": {},
     "output_type": "execute_result"
    }
   ],
   "source": [
    "Y = ten_coins_a_million_times.sum(axis=1)\n",
    "Y"
   ]
  },
  {
   "cell_type": "code",
   "execution_count": 27,
   "metadata": {},
   "outputs": [
    {
     "name": "stdout",
     "output_type": "stream",
     "text": [
      "P(Y = 0) = 0.00099\n"
     ]
    }
   ],
   "source": [
    "Prob_Y_is_0 = (Y == 0).sum()/Y.shape[0]\n",
    "print(f'P(Y = 0) = {Prob_Y_is_0}')"
   ]
  },
  {
   "cell_type": "code",
   "execution_count": 28,
   "metadata": {},
   "outputs": [
    {
     "data": {
      "image/png": "[encoded data removed]",
      "text/plain": [
       "<Figure size 432x288 with 1 Axes>"
      ]
     },
     "metadata": {
      "needs_background": "light"
     },
     "output_type": "display_data"
    }
   ],
   "source": [
    "Y = pd.Series(Y)\n",
    "freq_of_Y_values = Y.value_counts()\n",
    "Prob_of_Y_values = freq_of_Y_values/Y.shape[0]\n",
    "Prob_of_Y_values.sort_index().plot(kind = 'bar')\n",
    "plt.grid();"
   ]
  },
  {
   "cell_type": "code",
   "execution_count": 29,
   "metadata": {},
   "outputs": [
    {
     "name": "stdout",
     "output_type": "stream",
     "text": [
      "4    0.20507\n",
      "5    0.24583\n",
      "6    0.20678\n",
      "dtype: float64\n"
     ]
    }
   ],
   "source": [
    "print(Prob_of_Y_values.loc[[4,5,6]])"
   ]
  },
  {
   "cell_type": "code",
   "execution_count": 30,
   "metadata": {},
   "outputs": [
    {
     "name": "stdout",
     "output_type": "stream",
     "text": [
      "P(4<=Y<=6) = 0.6576799999999999\n"
     ]
    }
   ],
   "source": [
    "print(f'P(4<=Y<=6) = {Prob_of_Y_values.loc[[4,5,6]].sum()}')"
   ]
  },
  {
   "cell_type": "markdown",
   "metadata": {},
   "source": [
    "### Calculating the Average Wins in Roulette"
   ]
  },
  {
   "cell_type": "markdown",
   "metadata": {},
   "source": [
    "Dalam latihan ini, kita akan belajar bagaimana menggunakan np.random.choice untuk mensimulasikan proses acak dunia nyata. Kemudian, kita akan mengambil simulasi ini dan menghitung berapa banyak uang yang akan kita peroleh/kehilangkan rata-rata jika kita bermain berkali-kali.<br><br>\n",
    "Kami akan mensimulasikan kasino untuk bermain roulette. Roulette Eropa terdiri dari bola yang jatuh pada salah satu nomor bilangan bulat dari 0 hingga 36 secara acak dengan peluang yang sama untuk jatuh pada nomor berapa pun. Banyak modalitas taruhan diperbolehkan, tetapi kami akan memainkannya hanya dalam satu cara (yang setara dengan cara bertaruh yang terkenal pada warna merah atau hitam)\n"
   ]
  },
  {
   "cell_type": "markdown",
   "metadata": {},
   "source": [
    "•\tBet m units (of your favorite currency) on the numbers from 19 to 36.<br>\n",
    "•\tIf the outcome of the roulette is any of the selected numbers, then you win m units.<br>\n",
    "•\tIf the outcome of the roulette is any number between 0 and 18 (inclusive), then you lose m units.\n"
   ]
  },
  {
   "cell_type": "markdown",
   "metadata": {},
   "source": [
    "- Import the libraries"
   ]
  },
  {
   "cell_type": "code",
   "execution_count": 31,
   "metadata": {},
   "outputs": [],
   "source": [
    "import numpy as np"
   ]
  },
  {
   "cell_type": "markdown",
   "metadata": {},
   "source": [
    "- Use the random choice function to write a function that simulates any number of games from European roulette"
   ]
  },
  {
   "cell_type": "code",
   "execution_count": 32,
   "metadata": {},
   "outputs": [],
   "source": [
    "def roulette(number_of_games=1):\n",
    "    roulette_numbers = np.arange(0,37)\n",
    "    outcome = np.random.choice(a=roulette_numbers, size=number_of_games, replace=True)\n",
    "    return outcome"
   ]
  },
  {
   "cell_type": "markdown",
   "metadata": {},
   "source": [
    "- Create a new function that encodes the preceding payoff logic. This function will receives two arguments, a number from roulette and bet with default value of 1"
   ]
  },
  {
   "cell_type": "code",
   "execution_count": 33,
   "metadata": {},
   "outputs": [],
   "source": [
    "def payoff(outcome, units=1):\n",
    "    if outcome>18:\n",
    "        pay = units\n",
    "    \n",
    "    else:\n",
    "        pay = -units\n",
    "    \n",
    "    return pay"
   ]
  },
  {
   "cell_type": "markdown",
   "metadata": {},
   "source": [
    "- Vectorize the function si it can also accept a vector of roulette outcomes."
   ]
  },
  {
   "cell_type": "code",
   "execution_count": 34,
   "metadata": {},
   "outputs": [],
   "source": [
    "payoff = np.vectorize(payoff)"
   ]
  },
  {
   "cell_type": "markdown",
   "metadata": {},
   "source": [
    "- Next, simulate playinh roulette 20 times."
   ]
  },
  {
   "cell_type": "code",
   "execution_count": 35,
   "metadata": {},
   "outputs": [
    {
     "name": "stdout",
     "output_type": "stream",
     "text": [
      "[33 14  9 27  3  8 16  7 18 30  4 10 16 24 13 24 27  0 16  3]\n",
      "[ 1 -1 -1  1 -1 -1 -1 -1 -1  1 -1 -1 -1  1 -1  1  1 -1 -1 -1]\n"
     ]
    }
   ],
   "source": [
    "outcomes = roulette(20)\n",
    "payoffs = payoff(outcomes)\n",
    "print(outcomes)\n",
    "print(payoffs)"
   ]
  },
  {
   "cell_type": "markdown",
   "metadata": {},
   "source": [
    "- Next, simulate 1 million games"
   ]
  },
  {
   "cell_type": "code",
   "execution_count": 36,
   "metadata": {},
   "outputs": [
    {
     "name": "stdout",
     "output_type": "stream",
     "text": [
      "[34 35 30 ...  7 24 27]\n",
      "[ 1  1  1 ... -1  1  1]\n"
     ]
    }
   ],
   "source": [
    "number_of_games = int(1e6)\n",
    "outcomes = roulette(number_of_games)\n",
    "payoffs = payoff(outcomes)\n",
    "print(outcomes)\n",
    "print(payoffs)"
   ]
  },
  {
   "cell_type": "code",
   "execution_count": 37,
   "metadata": {},
   "outputs": [
    {
     "data": {
      "text/plain": [
       "-0.025212"
      ]
     },
     "execution_count": 37,
     "metadata": {},
     "output_type": "execute_result"
    }
   ],
   "source": [
    "np.mean(payoffs)"
   ]
  },
  {
   "cell_type": "markdown",
   "metadata": {},
   "source": [
    "The negative means if we lose -0.025212 for every you bet"
   ]
  },
  {
   "cell_type": "markdown",
   "metadata": {},
   "source": [
    "---"
   ]
  },
  {
   "cell_type": "code",
   "execution_count": 38,
   "metadata": {},
   "outputs": [
    {
     "data": {
      "text/plain": [
       "array(['good', 'good', 'good', 'good', 'good', 'good', 'good',\n",
       "       'defective', 'good', 'good', 'good', 'good'], dtype='<U9')"
      ]
     },
     "execution_count": 38,
     "metadata": {},
     "output_type": "execute_result"
    }
   ],
   "source": [
    "np.random.seed(977)\n",
    "np.random.choice(['defective','good'],size=12, p=(0.04, 0.96))"
   ]
  },
  {
   "cell_type": "code",
   "execution_count": 39,
   "metadata": {},
   "outputs": [],
   "source": [
    "np.random.seed(10)\n",
    "n_boxes = int(1e6)\n",
    "parts_per_box = 12\n",
    "\n",
    "one_million_boxes = np.random.choice([1,0],size=(n_boxes,parts_per_box), p=(0.04, 0.96)) "
   ]
  },
  {
   "cell_type": "code",
   "execution_count": 40,
   "metadata": {},
   "outputs": [
    {
     "data": {
      "text/plain": [
       "array([[0, 1, 0, 0, 0, 0, 0, 0, 0, 0, 0, 0],\n",
       "       [1, 0, 0, 0, 0, 0, 0, 0, 0, 0, 0, 0],\n",
       "       [0, 0, 0, 0, 0, 0, 0, 0, 0, 0, 0, 0],\n",
       "       [0, 0, 0, 0, 0, 0, 0, 0, 0, 0, 0, 0],\n",
       "       [0, 0, 0, 0, 0, 0, 0, 0, 0, 0, 0, 0]])"
      ]
     },
     "execution_count": 40,
     "metadata": {},
     "output_type": "execute_result"
    }
   ],
   "source": [
    "one_million_boxes[:5,:]"
   ]
  },
  {
   "cell_type": "code",
   "execution_count": 41,
   "metadata": {},
   "outputs": [],
   "source": [
    "# Count defective pieces per box\n",
    "decetive_pieces_per_box = one_million_boxes.sum(axis=1)\n",
    "\n",
    "# Count how many times we observed\n",
    "decetive_pieces_per_box = pd.Series(decetive_pieces_per_box)\n",
    "frequencies = decetive_pieces_per_box.value_counts()\n",
    "\n",
    "# Probability distribution\n",
    "probs_Z = frequencies/n_boxes"
   ]
  },
  {
   "cell_type": "code",
   "execution_count": 42,
   "metadata": {},
   "outputs": [
    {
     "data": {
      "text/plain": [
       "0    0.612402\n",
       "1    0.306383\n",
       "2    0.070584\n",
       "3    0.009630\n",
       "4    0.000940\n",
       "5    0.000056\n",
       "6    0.000004\n",
       "7    0.000001\n",
       "dtype: float64"
      ]
     },
     "execution_count": 42,
     "metadata": {},
     "output_type": "execute_result"
    }
   ],
   "source": [
    "probs_Z"
   ]
  },
  {
   "cell_type": "code",
   "execution_count": 43,
   "metadata": {},
   "outputs": [
    {
     "name": "stdout",
     "output_type": "stream",
     "text": [
      "0    0.612402\n",
      "1    0.306383\n",
      "2    0.070584\n",
      "3    0.009630\n",
      "4    0.000940\n",
      "5    0.000056\n",
      "6    0.000004\n",
      "7    0.000001\n",
      "dtype: float64\n"
     ]
    },
    {
     "data": {
      "image/png": "[encoded data removed]",
      "text/plain": [
       "<Figure size 432x288 with 1 Axes>"
      ]
     },
     "metadata": {
      "needs_background": "light"
     },
     "output_type": "display_data"
    }
   ],
   "source": [
    "# Now visualize\n",
    "print(probs_Z.sort_index())\n",
    "probs_Z.sort_index().plot(kind='bar')\n",
    "plt.grid()"
   ]
  },
  {
   "cell_type": "code",
   "execution_count": 44,
   "metadata": {},
   "outputs": [
    {
     "data": {
      "image/png": "[encoded data removed]",
      "text/plain": [
       "<Figure size 432x288 with 1 Axes>"
      ]
     },
     "metadata": {
      "needs_background": "light"
     },
     "output_type": "display_data"
    }
   ],
   "source": [
    "import scipy.stats as stats\n",
    "Y_rv = stats.binom(\n",
    "    n=10,\n",
    "    p=0.5\n",
    ")\n",
    "\n",
    "y_values = np.arange(0,11) # Integer from 0 to 10\n",
    "Y_probs = Y_rv.pmf(y_values) # Probability mass function\n",
    "\n",
    "# Next visualize this\n",
    "fig,ax = plt.subplots()\n",
    "ax.bar(y_values,Y_probs)\n",
    "ax.set_xticks(y_values)\n",
    "ax.grid()"
   ]
  },
  {
   "cell_type": "markdown",
   "metadata": {},
   "source": [
    "Compare both plots!"
   ]
  },
  {
   "cell_type": "code",
   "execution_count": 45,
   "metadata": {},
   "outputs": [
    {
     "data": {
      "image/png": "[encoded data removed]",
      "text/plain": [
       "<Figure size 432x288 with 1 Axes>"
      ]
     },
     "metadata": {
      "needs_background": "light"
     },
     "output_type": "display_data"
    }
   ],
   "source": [
    "Y_rv_df = pd.DataFrame({'Y_simulated_pmf': Prob_of_Y_values,\\\n",
    "                        'Y_theoretical_pmf': Y_probs},\\\n",
    "                        index=y_values)\n",
    "Y_rv_df.plot(kind='bar')\n",
    "plt.grid();"
   ]
  },
  {
   "cell_type": "markdown",
   "metadata": {},
   "source": [
    "### Checking If a Random Variable Follows a Binomial Distribution"
   ]
  },
  {
   "cell_type": "markdown",
   "metadata": {},
   "source": [
    "Here, we will check if the random variable, Z: number of defective auto parts in a 12-box pack, follows a binomial distribution (remember that we consider 4% of the auto parts are defective)."
   ]
  },
  {
   "cell_type": "code",
   "execution_count": 46,
   "metadata": {},
   "outputs": [],
   "source": [
    "import numpy as np\n",
    "import scipy.stats as stats\n",
    "import matplotlib.pyplot as plt\n",
    "\n",
    "%matplotlib inline"
   ]
  },
  {
   "cell_type": "markdown",
   "metadata": {},
   "source": [
    "- Secara konseptual, coba cek apakah Z memenuhi syarat daru 3 karakteristik yang akan diberikan <br><br>\n",
    "a. Condition 1: For each individual auto part, there are only two possible outcomes, defective or good. Since we were interested in the defective parts, then that outcome can be considered the success, with a fixed probability of 0.04 (4%).<br><br>\n",
    "b. Condition 2: The number of parts per box was fixed at 12, so the experiment was performed a fixed number of times per box.<br><br>\n",
    "c. Condition 3: We assumed that the defective parts had no relationship between one another because the machine randomly produces an average of 4% defective parts.\n"
   ]
  },
  {
   "cell_type": "markdown",
   "metadata": {},
   "source": [
    "- Determine the p and n parameters for the distributions of this variable, that is, p = 0.04 and n = 12"
   ]
  },
  {
   "cell_type": "code",
   "execution_count": 47,
   "metadata": {},
   "outputs": [
    {
     "data": {
      "image/png": "[encoded data removed]",
      "text/plain": [
       "<Figure size 432x288 with 1 Axes>"
      ]
     },
     "metadata": {
      "needs_background": "light"
     },
     "output_type": "display_data"
    }
   ],
   "source": [
    "parts_per_box = 12\n",
    "Z_rv = stats.binom(n=parts_per_box, p=0.04)\n",
    "\n",
    "# Next plot the PMF of Z\n",
    "z_possible_values = np.arange(0, parts_per_box + 1)\n",
    "Z_probs = Z_rv.pmf(z_possible_values)\n",
    "fig, ax = plt.subplots()\n",
    "ax.bar(z_possible_values, Z_probs)\n",
    "ax.set_xticks(z_possible_values)\n",
    "ax.grid();"
   ]
  },
  {
   "cell_type": "markdown",
   "metadata": {},
   "source": [
    "---"
   ]
  },
  {
   "cell_type": "code",
   "execution_count": 48,
   "metadata": {},
   "outputs": [],
   "source": [
    "games = pd.read_csv('appstore_games.csv')"
   ]
  },
  {
   "cell_type": "code",
   "execution_count": 49,
   "metadata": {},
   "outputs": [],
   "source": [
    "original_columns_dict = {x: x.lower().replace(' ','_') for x in games.columns}\n",
    "\n",
    "games.rename(columns=original_columns_dict, inplace=True)"
   ]
  },
  {
   "cell_type": "code",
   "execution_count": 50,
   "metadata": {},
   "outputs": [
    {
     "data": {
      "text/plain": [
       "<matplotlib.axes._subplots.AxesSubplot at 0x26e088f1c88>"
      ]
     },
     "execution_count": 50,
     "metadata": {},
     "output_type": "execute_result"
    },
    {
     "data": {
      "image/png": "[encoded data removed]",
      "text/plain": [
       "<Figure size 432x288 with 1 Axes>"
      ]
     },
     "metadata": {
      "needs_background": "light"
     },
     "output_type": "display_data"
    }
   ],
   "source": [
    "games['size'] = games['size']/(1e6)\n",
    "games['size'] = games['size'].fillna(games['size'].median())\n",
    "games['size'].hist(bins=50, ec='k')\n"
   ]
  },
  {
   "cell_type": "code",
   "execution_count": 51,
   "metadata": {},
   "outputs": [
    {
     "name": "stdout",
     "output_type": "stream",
     "text": [
      "P(X > 100) = 0.33098\n",
      "P(100 <= X <= 400) = 0.28306\n",
      "P(X = 152.53) = 0.00000\n"
     ]
    }
   ],
   "source": [
    "number_of_games = games['size'].size\n",
    "\n",
    "# Calculate probabilities\n",
    "prob_X_gt_100 = (games['size']>100).sum()/number_of_games\n",
    "prob_X_bt_100_and_400 = ((games['size'] >= 100) & (games['size'] <= 400)).sum()/number_of_games\n",
    "prob_X_eq_152_53 = (games['size'] == 152.53).sum()/number_of_games\n",
    "\n",
    "# Print the results\n",
    "print(f'P(X > 100) = {prob_X_gt_100:0.5f}')\n",
    "print(f'P(100 <= X <= 400) = {prob_X_bt_100_and_400:0.5f}')\n",
    "print(f'P(X = 152.53) = {prob_X_eq_152_53:0.5f}')"
   ]
  },
  {
   "cell_type": "code",
   "execution_count": 52,
   "metadata": {},
   "outputs": [],
   "source": [
    "# Assumed variables\n",
    "heights_mean = 170\n",
    "heights_sd = 10\n",
    "\n",
    "# Instantiate the random variable object\n",
    "heights_rv = stats.norm(\n",
    "    loc = heights_mean,\n",
    "    scale = heights_sd\n",
    ")"
   ]
  },
  {
   "cell_type": "code",
   "execution_count": 53,
   "metadata": {},
   "outputs": [
    {
     "name": "stdout",
     "output_type": "stream",
     "text": [
      "0.011092083467945555\n"
     ]
    }
   ],
   "source": [
    "print(heights_rv.pdf(186))"
   ]
  },
  {
   "cell_type": "code",
   "execution_count": 54,
   "metadata": {},
   "outputs": [
    {
     "data": {
      "text/plain": [
       "[<matplotlib.lines.Line2D at 0x26e08c26f88>]"
      ]
     },
     "execution_count": 54,
     "metadata": {},
     "output_type": "execute_result"
    },
    {
     "data": {
      "image/png": "[encoded data removed]",
      "text/plain": [
       "<Figure size 432x288 with 1 Axes>"
      ]
     },
     "metadata": {
      "needs_background": "light"
     },
     "output_type": "display_data"
    }
   ],
   "source": [
    "values = np.linspace(130,210, num=200)\n",
    "heights_rv_pdf = heights_rv.pdf(values)\n",
    "\n",
    "plt.plot(values, heights_rv_pdf)"
   ]
  },
  {
   "cell_type": "code",
   "execution_count": 55,
   "metadata": {},
   "outputs": [
    {
     "name": "stdout",
     "output_type": "stream",
     "text": [
      "Men 1 height: 171.2\n",
      "Men 2 height: 173.3\n",
      "Men 3 height: 157.1\n",
      "Men 4 height: 164.9\n",
      "Men 5 height: 179.1\n"
     ]
    }
   ],
   "source": [
    "sample_heighs = heights_rv.rvs(size=5, random_state=998)\n",
    "for i, h in enumerate(sample_heighs):\n",
    "    print(f'Men {i + 1} height: {h:0.1f}')"
   ]
  },
  {
   "cell_type": "code",
   "execution_count": 56,
   "metadata": {},
   "outputs": [
    {
     "name": "stdout",
     "output_type": "stream",
     "text": [
      "Probability of a male > 190 cm: 0.02303(or 2.30%)\n"
     ]
    }
   ],
   "source": [
    "# Next, this's the code that calculates the simulation using our previously defined random variable\n",
    "\n",
    "sim_size = int(1e5)\n",
    "\n",
    "# Simulate the random samples\n",
    "sample_heights = heights_rv.rvs(size = sim_size, random_state=88)\n",
    "Prob_event = (sample_heights>190).sum()/sim_size\n",
    "print(f'Probability of a male > 190 cm: {Prob_event:0.5f}(or {100*Prob_event:0.2f}%)')\n"
   ]
  },
  {
   "cell_type": "code",
   "execution_count": 57,
   "metadata": {},
   "outputs": [
    {
     "data": {
      "image/png": "[encoded data removed]",
      "text/plain": [
       "<Figure size 576x288 with 1 Axes>"
      ]
     },
     "metadata": {
      "needs_background": "light"
     },
     "output_type": "display_data"
    }
   ],
   "source": [
    "heights_means = [170, 170, 175]\n",
    "heights_sds = [10, 5, 10]\n",
    "countries = ['Country A', 'Country B', 'Country C']\n",
    "heights_rvs = {}\n",
    "plotting_values = {}\n",
    "# creating the random variables\n",
    "for i, country in enumerate(countries):\n",
    "    heights_rvs[country] = stats.norm(\n",
    "        loc = heights_means[i], # mean of the distribution\n",
    "        scale = heights_sds[i] # standard deviation\n",
    "    )\n",
    "\n",
    "for i, country in enumerate(countries):\n",
    "    x_values = np.linspace(heights_means[i] - 4*heights_sds[i], \\\n",
    "                           heights_means[i] + 4*heights_sds[i])\n",
    "    y_values = heights_rvs[country].pdf(x_values)\n",
    "    plotting_values[country] = (x_values, y_values)\n",
    "# plotting the three distributions\n",
    "fig, ax = plt.subplots(figsize = (8, 4))\n",
    "for i, country in enumerate(countries):\n",
    "    ax.plot(plotting_values[country][0], \\\n",
    "            plotting_values[country][1], \\\n",
    "            label=country, lw = 2)\n",
    "ax.set_xticks(np.arange(130, 220, 5))\n",
    "plt.legend()\n",
    "plt.grid();"
   ]
  },
  {
   "cell_type": "code",
   "execution_count": 60,
   "metadata": {},
   "outputs": [
    {
     "data": {
      "image/png": "[encoded data removed]",
      "text/plain": [
       "<Figure size 576x288 with 1 Axes>"
      ]
     },
     "metadata": {
      "needs_background": "light"
     },
     "output_type": "display_data"
    }
   ],
   "source": [
    "from matplotlib.patches import Polygon\n",
    "\n",
    "def func(x):\n",
    "    return heights_rv.pdf(x)\n",
    "\n",
    "lower_lim = 160\n",
    "upper_lim = 180\n",
    "\n",
    "x = np.linspace(130,210)\n",
    "y = func(x)\n",
    "\n",
    "fig, ax = plt.subplots(figsize=(8,4))\n",
    "\n",
    "ax.plot(x, y, 'blue', linewidth=2)\n",
    "ax.set_ylim(bottom=0)\n",
    "# Make the shaded region\n",
    "ix = np.linspace(lower_lim, upper_lim)\n",
    "iy = func(ix)\n",
    "verts = [(lower_lim, 0), *zip(ix, iy), (upper_lim, 0)]\n",
    "poly = Polygon(verts, facecolor='0.9', edgecolor='0.5')\n",
    "ax.add_patch(poly)\n",
    "ax.text(0.5 * (lower_lim + upper_lim), 0.01, \\\n",
    "        r\"$\\int_{160}^{180} f(x)\\mathrm{d}x$\", \\\n",
    "        horizontalalignment='center', fontsize=15)\n",
    "fig.text(0.85, 0.05, '$height$')\n",
    "fig.text(0.08, 0.85, '$f(x)$')\n",
    "ax.spines['right'].set_visible(False)\n",
    "ax.spines['top'].set_visible(False)\n",
    "ax.xaxis.set_ticks_position('bottom')\n",
    "ax.set_xticks((lower_lim, upper_lim))\n",
    "ax.set_xticklabels(('$160$', '$180$'))\n",
    "ax.set_yticks([]);"
   ]
  },
  {
   "cell_type": "code",
   "execution_count": 61,
   "metadata": {},
   "outputs": [
    {
     "name": "stdout",
     "output_type": "stream",
     "text": [
      "Prob(160 <= X <= 180) = 0.6827\n"
     ]
    }
   ],
   "source": [
    "# limits of the integral\n",
    "lower_lim = 160\n",
    "upper_lim = 180\n",
    "# calculating the area under the curve\n",
    "\n",
    "Prob_X_in_160_180 = heights_rv.cdf(upper_lim) - heights_rv.cdf(lower_lim)\n",
    "\n",
    "print(f'Prob(160 <= X <= 180) = {Prob_X_in_160_180:0.4f}')"
   ]
  },
  {
   "cell_type": "code",
   "execution_count": 62,
   "metadata": {},
   "outputs": [
    {
     "name": "stdout",
     "output_type": "stream",
     "text": [
      "Probability of a male > 190 cm: 0.02275       (or 2.28%)\n"
     ]
    }
   ],
   "source": [
    "lower_lim = 190\n",
    "upper_lim = np.Inf # since we are asking X > 190\n",
    "# calculating the area under the curve\n",
    "Prob_X_gt_190 = heights_rv.cdf(upper_lim) - \\\n",
    "                heights_rv.cdf(lower_lim)\n",
    "# print the result\n",
    "print(f'Probability of a male > 190 cm: {Prob_X_gt_190:0.5f} \\\n",
    "      (or {100*Prob_X_gt_190:0.2f}%)')\n"
   ]
  },
  {
   "cell_type": "markdown",
   "metadata": {},
   "source": [
    "### Using Normal Distribution ihn Education"
   ]
  },
  {
   "cell_type": "code",
   "execution_count": 63,
   "metadata": {},
   "outputs": [],
   "source": [
    "import numpy as np\n",
    "import scipy.stats as stats\n",
    "import matplotlib.pyplot as plt\n",
    "\n",
    "%matplotlib inline"
   ]
  },
  {
   "cell_type": "code",
   "execution_count": 64,
   "metadata": {},
   "outputs": [],
   "source": [
    "# producing the normal distribution\n",
    "X_mean = 100\n",
    "X_sd = 15\n",
    "\n",
    "# Create the random variable\n",
    "\n",
    "X_rv = stats.norm(loc=X_mean,scale=X_sd)"
   ]
  },
  {
   "cell_type": "markdown",
   "metadata": {},
   "source": [
    "- Plot the probability distribution of X"
   ]
  },
  {
   "cell_type": "code",
   "execution_count": 65,
   "metadata": {},
   "outputs": [
    {
     "data": {
      "image/png": "[encoded data removed]",
      "text/plain": [
       "<Figure size 432x288 with 1 Axes>"
      ]
     },
     "metadata": {
      "needs_background": "light"
     },
     "output_type": "display_data"
    }
   ],
   "source": [
    "x_values = np.linspace(X_mean - 4 * X_sd, X_mean + 4 * X_sd)\n",
    "y_values = X_rv.pdf(x_values)\n",
    "\n",
    "plt.plot(x_values, y_values, lw=2)\n",
    "plt.grid();"
   ]
  },
  {
   "cell_type": "markdown",
   "metadata": {},
   "source": [
    "- Decided that minimum score for someone to be considered as competent in mathematics is 80. Use the cdf method to calculate"
   ]
  },
  {
   "cell_type": "code",
   "execution_count": 66,
   "metadata": {},
   "outputs": [
    {
     "name": "stdout",
     "output_type": "stream",
     "text": [
      "Prob(X >= 80): 0.90879 (or 90.88%)\n"
     ]
    }
   ],
   "source": [
    "Prob_X_gt_80 = X_rv.cdf(np.Inf) - X_rv.cdf(80)\n",
    "print(f'Prob(X >= 80): {Prob_X_gt_80:0.5f} (or {100*Prob_X_gt_80:0.2f}%)')\n"
   ]
  },
  {
   "cell_type": "markdown",
   "metadata": {},
   "source": [
    "Around 91% of the students are considered competent in mathematics."
   ]
  },
  {
   "cell_type": "markdown",
   "metadata": {},
   "source": [
    "- We see, that the policy of university is to only admit students with mathematics scores in the top 2% of the population. Here we use ppf method with an argument 1-0.02"
   ]
  },
  {
   "cell_type": "code",
   "execution_count": 67,
   "metadata": {},
   "outputs": [
    {
     "name": "stdout",
     "output_type": "stream",
     "text": [
      "To admit the top 2%, the cut-off score should be 130.8\n"
     ]
    }
   ],
   "source": [
    "proportion_of_admitted = 0.02\n",
    "cut_off = X_rv.ppf(1-proportion_of_admitted)\n",
    "print(f'To admit the top {100*proportion_of_admitted:0.0f}%, the cut-off score should be {cut_off:0.1f}')\n",
    "top_percents = np.arange(0.9, 1, 0.01)"
   ]
  },
  {
   "cell_type": "markdown",
   "metadata": {},
   "source": [
    "### Using the Normal Distribution in Finance"
   ]
  },
  {
   "cell_type": "markdown",
   "metadata": {},
   "source": [
    "This activity was about observing real-world data and trying to use a theoretical distribution to describe it. It's important because by having a theoretical model, we can use its known properties to arrive at real world conclusions and implications."
   ]
  },
  {
   "cell_type": "markdown",
   "metadata": {},
   "source": [
    "- Import the libraries and the data"
   ]
  },
  {
   "cell_type": "code",
   "execution_count": 68,
   "metadata": {},
   "outputs": [],
   "source": [
    "import pandas as pd\n",
    "import numpy as np\n",
    "import scipy.stats as stats\n",
    "import matplotlib.pyplot as plt\n",
    "%matplotlib inline\n",
    "\n",
    "\n",
    "msft = pd.read_csv('MSFT.csv')"
   ]
  },
  {
   "cell_type": "markdown",
   "metadata": {},
   "source": [
    "- Rename the columns, so they are easy to work"
   ]
  },
  {
   "cell_type": "code",
   "execution_count": 69,
   "metadata": {},
   "outputs": [],
   "source": [
    "msft.rename(columns=lambda x: x.lower().replace(' ','_'),inplace=True)\n",
    "msft['date'] = pd.to_datetime(msft['date']) # Transform the date, so we can work with it\n",
    "msft.set_index('date',inplace=True) # Set the date column as index"
   ]
  },
  {
   "cell_type": "markdown",
   "metadata": {},
   "source": [
    "- In finance, the daily returns of a stock are defined as the percentage change of the daily closing price. Create the returns column by calculating the percent change of the adj_close column"
   ]
  },
  {
   "cell_type": "code",
   "execution_count": 70,
   "metadata": {},
   "outputs": [],
   "source": [
    "msft['returns'] = msft['adj_close'].pct_change()"
   ]
  },
  {
   "cell_type": "markdown",
   "metadata": {},
   "source": [
    "- Restrict the analysis period to th dates inclusive"
   ]
  },
  {
   "cell_type": "code",
   "execution_count": 71,
   "metadata": {},
   "outputs": [],
   "source": [
    "start_date = '2014-01-01'\n",
    "end_date = '2018-12-31'\n",
    "msft = msft.loc[start_date: end_date]"
   ]
  },
  {
   "cell_type": "markdown",
   "metadata": {},
   "source": [
    "- Now use the histogram to visualize the distribution. Use 40 bins to do so."
   ]
  },
  {
   "cell_type": "code",
   "execution_count": 72,
   "metadata": {},
   "outputs": [
    {
     "data": {
      "image/png": "[encoded data removed]",
      "text/plain": [
       "<Figure size 432x288 with 1 Axes>"
      ]
     },
     "metadata": {
      "needs_background": "light"
     },
     "output_type": "display_data"
    }
   ],
   "source": [
    "msft['returns'].hist(ec='k', bins=40);"
   ]
  },
  {
   "cell_type": "markdown",
   "metadata": {},
   "source": [
    "- Calculate the descriptice statistics of the returns column"
   ]
  },
  {
   "cell_type": "code",
   "execution_count": 73,
   "metadata": {},
   "outputs": [
    {
     "data": {
      "text/plain": [
       "count    1258.000000\n",
       "mean        0.000996\n",
       "std         0.014591\n",
       "min        -0.092534\n",
       "25%        -0.005956\n",
       "50%         0.000651\n",
       "75%         0.007830\n",
       "max         0.104522\n",
       "Name: returns, dtype: float64"
      ]
     },
     "execution_count": 73,
     "metadata": {},
     "output_type": "execute_result"
    }
   ],
   "source": [
    "msft['returns'].describe()"
   ]
  },
  {
   "cell_type": "markdown",
   "metadata": {},
   "source": [
    "- Create a random variable that will represent the daily returns of the stock. Here we use the mean and standard deviation of the return columns as parameters for the distribution"
   ]
  },
  {
   "cell_type": "code",
   "execution_count": 74,
   "metadata": {},
   "outputs": [],
   "source": [
    "R_mean = msft['returns'].mean()\n",
    "R_std = msft['returns'].std()\n",
    "R_rv = stats.norm(loc=R_mean,scale=R_std)"
   ]
  },
  {
   "cell_type": "markdown",
   "metadata": {},
   "source": [
    "- Now, plot the distribution, with density is true. So both real data and theoretical will appears in the same scale"
   ]
  },
  {
   "cell_type": "code",
   "execution_count": 77,
   "metadata": {},
   "outputs": [
    {
     "data": {
      "image/png": "[encoded data removed]",
      "text/plain": [
       "<Figure size 432x288 with 1 Axes>"
      ]
     },
     "metadata": {
      "needs_background": "light"
     },
     "output_type": "display_data"
    }
   ],
   "source": [
    "fig, ax = plt.subplots()\n",
    "ax.hist(x = msft['returns'], ec = 'k', \\\n",
    "        bins = 40, density = True,);\n",
    "x_values = np.linspace(msft['returns'].min(), \\\n",
    "                       msft['returns'].max(), num=100)\n",
    "densities = R_rv.pdf(x_values)\n",
    "ax.plot(x_values, densities, color='r')\n",
    "ax.grid();"
   ]
  },
  {
   "cell_type": "code",
   "execution_count": null,
   "metadata": {},
   "outputs": [],
   "source": []
  }
 ],
 "metadata": {
  "interpreter": {
   "hash": "9d3bae0a0f66551680ef8a166f6b92cc2774d5d7901f027deb7bb883ed06d5ae"
  },
  "kernelspec": {
   "display_name": "Python 3.7.4 ('base')",
   "language": "python",
   "name": "python3"
  },
  "language_info": {
   "codemirror_mode": {
    "name": "ipython",
    "version": 3
   },
   "file_extension": ".py",
   "mimetype": "text/x-python",
   "name": "python",
   "nbconvert_exporter": "python",
   "pygments_lexer": "ipython3",
   "version": "3.7.4"
  },
  "orig_nbformat": 4
 },
 "nbformat": 4,
 "nbformat_minor": 2
}
