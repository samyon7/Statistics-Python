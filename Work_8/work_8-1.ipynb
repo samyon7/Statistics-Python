{
 "cells": [
  {
   "cell_type": "code",
   "execution_count": 1,
   "metadata": {},
   "outputs": [
    {
     "data": {
      "text/plain": [
       "1"
      ]
     },
     "execution_count": 1,
     "metadata": {},
     "output_type": "execute_result"
    }
   ],
   "source": [
    "1"
   ]
  },
  {
   "cell_type": "code",
   "execution_count": 2,
   "metadata": {},
   "outputs": [],
   "source": [
    "import pandas as pd\n",
    "import numpy as np\n",
    "import matplotlib.pyplot as plt\n",
    "import seaborn as sns\n",
    "\n",
    "%matplotlib inline"
   ]
  },
  {
   "cell_type": "code",
   "execution_count": 3,
   "metadata": {},
   "outputs": [
    {
     "name": "stdout",
     "output_type": "stream",
     "text": [
      "4\n",
      "5\n",
      "3\n",
      "6\n",
      "1\n",
      "4\n",
      "4\n",
      "6\n",
      "5\n",
      "6\n"
     ]
    }
   ],
   "source": [
    "# Tossing a regular die\n",
    "def toss_die():\n",
    "    outcome = np.random.randint(1,7)\n",
    "    return outcome\n",
    "\n",
    "# Use the function ten times to observe the works\n",
    "for x in range(10):\n",
    "    print(toss_die())"
   ]
  },
  {
   "cell_type": "code",
   "execution_count": 4,
   "metadata": {},
   "outputs": [
    {
     "name": "stdout",
     "output_type": "stream",
     "text": [
      "6,3,5,3,2,4,3,4,2,2,"
     ]
    }
   ],
   "source": [
    "np.random.seed(123)\n",
    "for x in range(10):\n",
    "    print(toss_die(), end=',')"
   ]
  },
  {
   "cell_type": "code",
   "execution_count": 5,
   "metadata": {},
   "outputs": [
    {
     "name": "stdout",
     "output_type": "stream",
     "text": [
      "['students_9' 'students_27' 'students_23' 'students_14']\n"
     ]
    }
   ],
   "source": [
    "# Next we will sample elements from a vector\n",
    "students = ['students_' + str(i) for i in range(1,31)]\n",
    "\n",
    "# Now use np.random.choice\n",
    "sample_students = np.random.choice(a=students, size=4, replace=False)\n",
    "print(sample_students)"
   ]
  },
  {
   "cell_type": "code",
   "execution_count": 6,
   "metadata": {},
   "outputs": [
    {
     "name": "stdout",
     "output_type": "stream",
     "text": [
      "Week 1: students_29\n",
      "Week 2: students_29\n",
      "Week 3: students_21\n",
      "Week 4: students_7\n",
      "Week 5: students_2\n",
      "Week 6: students_22\n",
      "Week 7: students_23\n",
      "Week 8: students_28\n",
      "Week 9: students_3\n",
      "Week 10: students_2\n",
      "Week 11: students_13\n",
      "Week 12: students_9\n"
     ]
    }
   ],
   "source": [
    "sample_students2 = np.random.choice(a=students, size=12, replace=True)\n",
    "\n",
    "for i, s in enumerate(sample_students2):\n",
    "    print(f'Week {i+1}: {s}')"
   ]
  },
  {
   "cell_type": "markdown",
   "metadata": {},
   "source": [
    "### Sampling with and without Replacement"
   ]
  },
  {
   "cell_type": "code",
   "execution_count": 7,
   "metadata": {},
   "outputs": [],
   "source": [
    "import numpy as np"
   ]
  },
  {
   "cell_type": "markdown",
   "metadata": {},
   "source": [
    "- Create two lists containing four different suits and 13 different ranks in the set of standard cards"
   ]
  },
  {
   "cell_type": "code",
   "execution_count": 8,
   "metadata": {},
   "outputs": [],
   "source": [
    "suits = ['hearts', 'diamonds', 'spades', 'clubs']\n",
    "ranks = ['Ace', '2', '3', '4', '5', '6', '7', '8', '9', '10', 'Jack', 'Queen', 'King']"
   ]
  },
  {
   "cell_type": "markdown",
   "metadata": {},
   "source": [
    "- Create a list, named as cards, containing 52 cards of standard deck"
   ]
  },
  {
   "cell_type": "code",
   "execution_count": 9,
   "metadata": {},
   "outputs": [],
   "source": [
    "cards = [rank + '-' + suit for rank in ranks for suit in suits]"
   ]
  },
  {
   "cell_type": "code",
   "execution_count": 10,
   "metadata": {},
   "outputs": [
    {
     "data": {
      "text/plain": [
       "['Ace-hearts',\n",
       " 'Ace-diamonds',\n",
       " 'Ace-spades',\n",
       " 'Ace-clubs',\n",
       " '2-hearts',\n",
       " '2-diamonds',\n",
       " '2-spades',\n",
       " '2-clubs',\n",
       " '3-hearts',\n",
       " '3-diamonds',\n",
       " '3-spades',\n",
       " '3-clubs',\n",
       " '4-hearts',\n",
       " '4-diamonds',\n",
       " '4-spades',\n",
       " '4-clubs',\n",
       " '5-hearts',\n",
       " '5-diamonds',\n",
       " '5-spades',\n",
       " '5-clubs',\n",
       " '6-hearts',\n",
       " '6-diamonds',\n",
       " '6-spades',\n",
       " '6-clubs',\n",
       " '7-hearts',\n",
       " '7-diamonds',\n",
       " '7-spades',\n",
       " '7-clubs',\n",
       " '8-hearts',\n",
       " '8-diamonds',\n",
       " '8-spades',\n",
       " '8-clubs',\n",
       " '9-hearts',\n",
       " '9-diamonds',\n",
       " '9-spades',\n",
       " '9-clubs',\n",
       " '10-hearts',\n",
       " '10-diamonds',\n",
       " '10-spades',\n",
       " '10-clubs',\n",
       " 'Jack-hearts',\n",
       " 'Jack-diamonds',\n",
       " 'Jack-spades',\n",
       " 'Jack-clubs',\n",
       " 'Queen-hearts',\n",
       " 'Queen-diamonds',\n",
       " 'Queen-spades',\n",
       " 'Queen-clubs',\n",
       " 'King-hearts',\n",
       " 'King-diamonds',\n",
       " 'King-spades',\n",
       " 'King-clubs']"
      ]
     },
     "execution_count": 10,
     "metadata": {},
     "output_type": "execute_result"
    }
   ],
   "source": [
    "cards"
   ]
  },
  {
   "cell_type": "markdown",
   "metadata": {},
   "source": [
    "- Use np.random.choice to draw a hand (five cards) from the deck. Don't forget to use replace=True, so all cards gets selected only once"
   ]
  },
  {
   "cell_type": "code",
   "execution_count": 11,
   "metadata": {},
   "outputs": [
    {
     "name": "stdout",
     "output_type": "stream",
     "text": [
      "['Jack-clubs' '9-diamonds' 'Jack-hearts' '2-hearts' '9-clubs']\n"
     ]
    }
   ],
   "source": [
    "print(np.random.choice(cards, size=5, replace=False))"
   ]
  },
  {
   "cell_type": "markdown",
   "metadata": {},
   "source": [
    "- Now, create a function named deal_hands that returns two lists, each with five cards drawn from the same deck. Use replace=False in the np.random.choice function. This function will perform sampling without replacement"
   ]
  },
  {
   "cell_type": "code",
   "execution_count": 12,
   "metadata": {},
   "outputs": [
    {
     "data": {
      "text/plain": [
       "(['7-spades', 'King-hearts', 'Ace-spades', 'Jack-hearts', 'Jack-spades'],\n",
       " ['King-spades', '9-spades', '9-diamonds', '8-diamonds', '8-spades'])"
      ]
     },
     "execution_count": 12,
     "metadata": {},
     "output_type": "execute_result"
    }
   ],
   "source": [
    "def deal_hands():\n",
    "    drawn_cards = np.random.choice(cards, size=10, replace=False)\n",
    "    hand_1 = drawn_cards[:5].tolist()\n",
    "    hand_2 = drawn_cards[5:].tolist()\n",
    "    return hand_1, hand_2\n",
    "\n",
    "deal_hands()"
   ]
  },
  {
   "cell_type": "markdown",
   "metadata": {},
   "source": [
    "- Next, creatre a function which is identical to the before, but with the replace=True argument in the np.random.choice function."
   ]
  },
  {
   "cell_type": "code",
   "execution_count": 13,
   "metadata": {},
   "outputs": [
    {
     "data": {
      "text/plain": [
       "(['10-diamonds', '10-hearts', '9-hearts', '10-clubs', 'Queen-clubs'],\n",
       " ['Ace-hearts', '7-clubs', 'Ace-diamonds', '6-clubs', '4-diamonds'])"
      ]
     },
     "execution_count": 13,
     "metadata": {},
     "output_type": "execute_result"
    }
   ],
   "source": [
    "def deal_hands2():\n",
    "    drawn_cards = np.random.choice(cards, size=10, replace=True)\n",
    "    hand_1 = drawn_cards[:5].tolist()\n",
    "    hand_2 = drawn_cards[5:].tolist()\n",
    "    return hand_1, hand_2\n",
    "\n",
    "np.random.seed(2)\n",
    "deal_hands()"
   ]
  },
  {
   "cell_type": "markdown",
   "metadata": {},
   "source": [
    "---"
   ]
  },
  {
   "cell_type": "code",
   "execution_count": 14,
   "metadata": {},
   "outputs": [
    {
     "data": {
      "text/plain": [
       "array([4, 2, 1, 4, 4, 4, 2, 2, 6, 3])"
      ]
     },
     "execution_count": 14,
     "metadata": {},
     "output_type": "execute_result"
    }
   ],
   "source": [
    "np.random.seed(81)\n",
    "one_million_tosses = np.random.randint(low=1, \\\n",
    "                                       high=7, size=int(1e6))\n",
    "\n",
    "\n",
    "one_million_tosses[:10]"
   ]
  },
  {
   "cell_type": "code",
   "execution_count": 15,
   "metadata": {},
   "outputs": [
    {
     "name": "stdout",
     "output_type": "stream",
     "text": [
      "P(A)=0.16595\n"
     ]
    }
   ],
   "source": [
    "N_A_occurs = (one_million_tosses == 2).sum()\n",
    "Prob_A = N_A_occurs/one_million_tosses.shape[0]\n",
    "print(f'P(A)={Prob_A}')"
   ]
  },
  {
   "cell_type": "code",
   "execution_count": 16,
   "metadata": {},
   "outputs": [
    {
     "name": "stdout",
     "output_type": "stream",
     "text": [
      "P(B)=0.166809\n"
     ]
    }
   ],
   "source": [
    "N_B_occurs = (one_million_tosses == 6).sum()\n",
    "Prob_B = N_B_occurs/one_million_tosses.shape[0]\n",
    "print(f'P(B)={Prob_B}')"
   ]
  },
  {
   "cell_type": "code",
   "execution_count": 17,
   "metadata": {},
   "outputs": [
    {
     "name": "stdout",
     "output_type": "stream",
     "text": [
      "P(C)=0.501162\n"
     ]
    }
   ],
   "source": [
    "N_odd_number = (\n",
    "    (one_million_tosses == 1) |\n",
    "    (one_million_tosses == 3) |\n",
    "    (one_million_tosses == 5)).sum()\n",
    "Prob_C = N_odd_number/one_million_tosses.shape[0]\n",
    "print(f'P(C)={Prob_C}')\n"
   ]
  },
  {
   "cell_type": "code",
   "execution_count": 18,
   "metadata": {},
   "outputs": [
    {
     "name": "stdout",
     "output_type": "stream",
     "text": [
      "P(D)=0.666004\n"
     ]
    }
   ],
   "source": [
    "N_D_occurs = (one_million_tosses < 5).sum()\n",
    "Prob_D = N_D_occurs/one_million_tosses.shape[0]\n",
    "print(f'P(D)={Prob_D}')"
   ]
  },
  {
   "cell_type": "code",
   "execution_count": null,
   "metadata": {},
   "outputs": [],
   "source": []
  }
 ],
 "metadata": {
  "interpreter": {
   "hash": "9d3bae0a0f66551680ef8a166f6b92cc2774d5d7901f027deb7bb883ed06d5ae"
  },
  "kernelspec": {
   "display_name": "Python 3.7.4 ('base')",
   "language": "python",
   "name": "python3"
  },
  "language_info": {
   "codemirror_mode": {
    "name": "ipython",
    "version": 3
   },
   "file_extension": ".py",
   "mimetype": "text/x-python",
   "name": "python",
   "nbconvert_exporter": "python",
   "pygments_lexer": "ipython3",
   "version": "3.7.4"
  },
  "orig_nbformat": 4
 },
 "nbformat": 4,
 "nbformat_minor": 2
}
