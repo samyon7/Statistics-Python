{
 "cells": [
  {
   "cell_type": "code",
   "execution_count": 2,
   "metadata": {},
   "outputs": [
    {
     "data": {
      "text/plain": [
       "2"
      ]
     },
     "execution_count": 2,
     "metadata": {},
     "output_type": "execute_result"
    }
   ],
   "source": [
    "2"
   ]
  },
  {
   "cell_type": "markdown",
   "metadata": {},
   "source": [
    "### The Law of Large Numbers"
   ]
  },
  {
   "cell_type": "code",
   "execution_count": 3,
   "metadata": {},
   "outputs": [],
   "source": [
    "import random\n",
    "random.seed(54321)"
   ]
  },
  {
   "cell_type": "code",
   "execution_count": 4,
   "metadata": {},
   "outputs": [],
   "source": [
    "# Define a variable for our sample size, set it equal to 10\n",
    "sample_size = 100"
   ]
  },
  {
   "cell_type": "markdown",
   "metadata": {},
   "source": [
    "- Create empty list to collect the results of our coin flip experiment"
   ]
  },
  {
   "cell_type": "code",
   "execution_count": 5,
   "metadata": {},
   "outputs": [],
   "source": [
    "# Here we create for loop and collect the result in a list\n",
    "result_list = []\n",
    "\n",
    "for i in range(sample_size):\n",
    "    result = random.randint(0,1)\n",
    "    result_list.append(result)"
   ]
  },
  {
   "cell_type": "markdown",
   "metadata": {},
   "source": [
    "- Define two variables to compile the results"
   ]
  },
  {
   "cell_type": "code",
   "execution_count": 6,
   "metadata": {},
   "outputs": [],
   "source": [
    "num_of_heads = sum(result_list)\n",
    "avg_of_heads = float(num_of_heads) / sample_size"
   ]
  },
  {
   "cell_type": "code",
   "execution_count": 7,
   "metadata": {},
   "outputs": [
    {
     "name": "stdout",
     "output_type": "stream",
     "text": [
      "Results: 51 heads out of 100 flips.\n",
      "Average number of heads per flip is 0.51.\n"
     ]
    }
   ],
   "source": [
    "# print the results\n",
    "print(f'Results: {num_of_heads} heads out of {sample_size} flips.')\n",
    "print(f'Average number of heads per flip is {avg_of_heads}.')\n"
   ]
  },
  {
   "cell_type": "markdown",
   "metadata": {},
   "source": [
    "- Now change the size of sample to 100, and do it again!"
   ]
  },
  {
   "cell_type": "markdown",
   "metadata": {},
   "source": [
    "---"
   ]
  },
  {
   "cell_type": "markdown",
   "metadata": {},
   "source": [
    "### Coin Flipping Average over Time"
   ]
  },
  {
   "cell_type": "code",
   "execution_count": 8,
   "metadata": {},
   "outputs": [],
   "source": [
    "import random\n",
    "import matplotlib.pyplot as plt\n",
    "random.seed(54321)"
   ]
  },
  {
   "cell_type": "markdown",
   "metadata": {},
   "source": [
    "- Define the sample size"
   ]
  },
  {
   "cell_type": "code",
   "execution_count": 9,
   "metadata": {},
   "outputs": [],
   "source": [
    "sample_size = 20000"
   ]
  },
  {
   "cell_type": "markdown",
   "metadata": {},
   "source": [
    "- Initialize the variables required for our loop"
   ]
  },
  {
   "cell_type": "code",
   "execution_count": 10,
   "metadata": {},
   "outputs": [],
   "source": [
    "# 1 = heads and 0 = tails\n",
    "num_of_heads = 0\n",
    "heads_list = []\n",
    "trials_list = []\n",
    "freq_list = []"
   ]
  },
  {
   "cell_type": "markdown",
   "metadata": {},
   "source": [
    "- Run the simulation!"
   ]
  },
  {
   "cell_type": "code",
   "execution_count": 11,
   "metadata": {},
   "outputs": [
    {
     "name": "stdout",
     "output_type": "stream",
     "text": [
      "Results: 10008 heads out of 20000 flips.\n",
      "Average number of heads is 0.5004\n"
     ]
    }
   ],
   "source": [
    "for i in range(1, sample_size+1):\n",
    "    result = random.randint(0,1)\n",
    "    if result == 1:\n",
    "        num_of_heads += 1\n",
    "\n",
    "    avg_of_heads = float(num_of_heads)/i\n",
    "    heads_list.append(num_of_heads)\n",
    "    trials_list.append(i)\n",
    "    freq_list.append(avg_of_heads)\n",
    "\n",
    "\n",
    "# Print the results\n",
    "print(f'Results: {num_of_heads} heads out of {sample_size} flips.')\n",
    "print(f'Average number of heads is {avg_of_heads}')"
   ]
  },
  {
   "cell_type": "markdown",
   "metadata": {},
   "source": [
    "- Create the line graph, to show the sample mean over time, along with marking our expected value using a dashed line"
   ]
  },
  {
   "cell_type": "code",
   "execution_count": 12,
   "metadata": {},
   "outputs": [
    {
     "data": {
      "image/png": "[encoded data removed]",
      "text/plain": [
       "<Figure size 432x288 with 1 Axes>"
      ]
     },
     "metadata": {
      "needs_background": "light"
     },
     "output_type": "display_data"
    }
   ],
   "source": [
    "plt.plot(trials_list, freq_list)\n",
    "plt.ylabel('Sample Average')\n",
    "plt.xlabel('Sample Size')\n",
    "plt.hlines(0.50,0,sample_size, linestyles='dashed')\n",
    "plt.show()"
   ]
  },
  {
   "cell_type": "markdown",
   "metadata": {},
   "source": [
    "---"
   ]
  },
  {
   "cell_type": "markdown",
   "metadata": {},
   "source": [
    "### Calculating the Avg Winnings for a Game of Roulette If We Constantly Bet on Red"
   ]
  },
  {
   "cell_type": "code",
   "execution_count": 13,
   "metadata": {},
   "outputs": [],
   "source": [
    "import random\n",
    "import matplotlib.pyplot as plt\n",
    "random.seed(54321)"
   ]
  },
  {
   "cell_type": "code",
   "execution_count": 14,
   "metadata": {},
   "outputs": [],
   "source": [
    "# Create variable for the sample size and set it to 10, variable bet, and set it to $1\n",
    "\n",
    "sample_size = 100\n",
    "bet = 1"
   ]
  },
  {
   "cell_type": "markdown",
   "metadata": {},
   "source": [
    "- Initialize the variables that we will use to collect the results of our simulation"
   ]
  },
  {
   "cell_type": "code",
   "execution_count": 15,
   "metadata": {},
   "outputs": [],
   "source": [
    "net_money = 0\n",
    "wins = 0\n",
    "money_track = []\n",
    "trials_track = []\n",
    "\n",
    "# Run the simulation \n",
    "for i in range(1, sample_size+1):\n",
    "    result = random.randint(1,38)\n",
    "    if result%2==1 and result!=37:\n",
    "        net_money += bet\n",
    "        wins += 1\n",
    "    \n",
    "    else:\n",
    "        net_money = bet\n",
    "    \n",
    "    money_track.append(net_money/i)\n",
    "    trials_track.append(i)"
   ]
  },
  {
   "cell_type": "code",
   "execution_count": 16,
   "metadata": {},
   "outputs": [
    {
     "name": "stdout",
     "output_type": "stream",
     "text": [
      "Results: You won 55 games out of100 and won an average of 0.01 dollars per game\n",
      "Results: You are expected to win -0.05263157894736842 per game\n"
     ]
    }
   ],
   "source": [
    "print(f'Results: You won {wins} games out of{sample_size} and won an average of {net_money/sample_size} dollars per game')\n",
    "print(f'Results: You are expected to win {((18/38)*bet+(20/38)*(-bet))} per game')\n"
   ]
  },
  {
   "cell_type": "markdown",
   "metadata": {},
   "source": [
    "- Create the graph of the expected value of the net chyange in money per game and the sample average of the net change in money per game"
   ]
  },
  {
   "cell_type": "code",
   "execution_count": 17,
   "metadata": {},
   "outputs": [
    {
     "data": {
      "image/png": "[encoded data removed]",
      "text/plain": [
       "<Figure size 432x288 with 1 Axes>"
      ]
     },
     "metadata": {
      "needs_background": "light"
     },
     "output_type": "display_data"
    }
   ],
   "source": [
    "plt.plot(trials_track, money_track)\n",
    "plt.ylabel('Net Money')\n",
    "plt.xlabel('Number of games')\n",
    "plt.hlines(((18/38)*bet+(20/38)*(-bet)), 0, sample_size, linestyles='dashed')\n",
    "plt.show()"
   ]
  },
  {
   "cell_type": "markdown",
   "metadata": {},
   "source": [
    "### Showing the Sample Mean for a Uniform Distribution"
   ]
  },
  {
   "cell_type": "markdown",
   "metadata": {},
   "source": [
    "Here we will draw a random sample from a random number generator that generates random numbers between 0 and 100. Thenm we calculates the sample average"
   ]
  },
  {
   "cell_type": "code",
   "execution_count": 21,
   "metadata": {},
   "outputs": [],
   "source": [
    "import random\n",
    "import matplotlib.pyplot as plt\n",
    "import math\n",
    "import numpy as np\n",
    "import scipy.stats as stats\n",
    "random.seed(54321)"
   ]
  },
  {
   "cell_type": "markdown",
   "metadata": {},
   "source": [
    "- Create a variable for the size of each sample and the total number of samples that you want to take. Since the CLT states that we need a sufficiently large sample, we have selected a sample size of 30. Next, we are going to need a lot of sample means to graph and have set that value equal to 10,000"
   ]
  },
  {
   "cell_type": "code",
   "execution_count": 22,
   "metadata": {},
   "outputs": [],
   "source": [
    "sample_size = 30\n",
    "calc_means = 10000"
   ]
  },
  {
   "cell_type": "markdown",
   "metadata": {},
   "source": [
    "- Initialize the list that will be used to collect our sample means, and run through our simulation the specified number of times, collecting the sample mean of each sample"
   ]
  },
  {
   "cell_type": "code",
   "execution_count": 23,
   "metadata": {},
   "outputs": [],
   "source": [
    "mean_list = []\n",
    "\n",
    "for j in range(calc_means):\n",
    "    sample_list = [] # This used to track our results\n",
    "    for j in range(sample_size):\n",
    "        sample_list.append(random.randint(0, 100))\n",
    "    \n",
    "    sample_mean = sum(sample_list)/sample_size\n",
    "    mean_list.append(sample_mean)"
   ]
  },
  {
   "cell_type": "markdown",
   "metadata": {},
   "source": [
    "- Create the histogram of the sample means that we collected"
   ]
  },
  {
   "cell_type": "code",
   "execution_count": 24,
   "metadata": {},
   "outputs": [
    {
     "data": {
      "image/png": "[encoded data removed]",
      "text/plain": [
       "<Figure size 432x288 with 1 Axes>"
      ]
     },
     "metadata": {
      "needs_background": "light"
     },
     "output_type": "display_data"
    }
   ],
   "source": [
    "n, bins, patches = plt.hist(mean_list, math.floor(math.sqrt(calc_means)),density=True,facecolor='g',alpha=0.75)\n",
    "plt.grid(True)\n",
    "\n",
    "mu = 50\n",
    "sigma = math.sqrt(((100 ** 2) / 12)) / (math.sqrt(sample_size))\n",
    "x = np.linspace(mu -3 * sigma, mu+3*sigma, 100)\n",
    "plt.plot(x, stats.norm.pdf(x, mu, sigma))\n",
    "plt.show()"
   ]
  },
  {
   "cell_type": "markdown",
   "metadata": {},
   "source": [
    "### Taking a Sample from an Exponential Distribution"
   ]
  },
  {
   "cell_type": "code",
   "execution_count": 25,
   "metadata": {},
   "outputs": [],
   "source": [
    "import random\n",
    "import matplotlib.pyplot as plt\n",
    "import math\n",
    "import numpy as np\n",
    "import scipy.stats as stats\n",
    "\n",
    "# Create sample size\n",
    "sample_size = 5\n",
    "calc_means = 10000"
   ]
  },
  {
   "cell_type": "markdown",
   "metadata": {},
   "source": [
    "- Initialize the variable that we will use to collect the results of our simulation. Run the simulation, but this time sample from an exponential distribution rather than a uniform distribution"
   ]
  },
  {
   "cell_type": "code",
   "execution_count": 26,
   "metadata": {},
   "outputs": [],
   "source": [
    "mean_list = []\n",
    "\n",
    "# Run the loop to collect a sample\n",
    "for j in range(calc_means):\n",
    "    sample_list = []\n",
    "    for i in range(sample_size):\n",
    "        draw = np.random.exponential(1)\n",
    "        sample_list.append(draw)\n",
    "    sample_mean = sum(sample_list)/sample_size\n",
    "    mean_list.append(sample_mean)"
   ]
  },
  {
   "cell_type": "markdown",
   "metadata": {},
   "source": [
    "- Create a histogram of the sample means we collected and overlay what the CLT says we should expect from it"
   ]
  },
  {
   "cell_type": "code",
   "execution_count": 27,
   "metadata": {},
   "outputs": [
    {
     "data": {
      "image/png": "[encoded data removed]",
      "text/plain": [
       "<Figure size 432x288 with 1 Axes>"
      ]
     },
     "metadata": {
      "needs_background": "light"
     },
     "output_type": "display_data"
    }
   ],
   "source": [
    "n, bins, patches = plt.hist(mean_list, \\\n",
    "                   math.floor(math.sqrt(calc_means)), \\\n",
    "                   density=True, facecolor='g', \\\n",
    "                   alpha=0.75)\n",
    "plt.grid(True)\n",
    "mu = 1\n",
    "sigma = 1 / (math.sqrt(sample_size))\n",
    "x = np.linspace(mu - 3 * sigma, mu + 3 * sigma, 100)\n",
    "plt.plot(x, stats.norm.pdf(x, mu, sigma))\n",
    "plt.show()"
   ]
  },
  {
   "cell_type": "markdown",
   "metadata": {},
   "source": [
    "---"
   ]
  },
  {
   "cell_type": "markdown",
   "metadata": {},
   "source": [
    "### Finding the Confidence Interval of Polling Figures"
   ]
  },
  {
   "cell_type": "markdown",
   "metadata": {},
   "source": [
    "Ceritanya anda sedang menjalankan kampanye politik, di mana anda memutuskan untuk menjalankan 30 kelompok fokus dengan sekitar 10 orang di setiap kelompok. Anda mendapatkan hasilnya, dan ingin melaporkan kepada kandidat anda, jumlah orang yang akan memilih merka dalam kelompok 10 orang biasa. Karena ada bebrapa variabilitas di setiap kelompok fokus, Anda memutuskan bahwa cara yang paling akurat adalah dengan memberikan interval kepercayaan yakni 95% interval. Anda mengasumsikan dari pengalaman dengan standar deviasi 2.89."
   ]
  },
  {
   "cell_type": "code",
   "execution_count": 28,
   "metadata": {},
   "outputs": [],
   "source": [
    "import random\n",
    "random.seed(39809)"
   ]
  },
  {
   "cell_type": "markdown",
   "metadata": {},
   "source": [
    "- Initialize sample list, and collect our samples from our focus groups. From here, we just enter the information into our function"
   ]
  },
  {
   "cell_type": "code",
   "execution_count": 29,
   "metadata": {},
   "outputs": [],
   "source": [
    "def z_confidence_interval(data, st_dev, con_lvl):\n",
    "    import statistics as st\n",
    "    import scipy.stats as sp\n",
    "    import math\n",
    "    sample_mean = st.mean(data)\n",
    "    n = len(data)\n",
    "    crit_value = sp.norm.ppf(((1 - con_lvl) / 2) + \\\n",
    "                             con_lvl)\n",
    "    lower_limit = sample_mean - (crit_value * \\\n",
    "                                 (st_dev/math.sqrt(n)))\n",
    "    higher_limit = sample_mean + (crit_value * \\\n",
    "                                  (st_dev / math.sqrt(n)))\n",
    "    print (f'Your {con_lvl} z confidence interval is ({lower_limit}, {higher_limit})')\n",
    "    return (lower_limit,higher_limit)\n"
   ]
  },
  {
   "cell_type": "code",
   "execution_count": 30,
   "metadata": {},
   "outputs": [
    {
     "name": "stdout",
     "output_type": "stream",
     "text": [
      "Your 0.95 z confidence interval is (3.965845784931483, 6.034154215068517)\n"
     ]
    },
    {
     "data": {
      "text/plain": [
       "(3.965845784931483, 6.034154215068517)"
      ]
     },
     "execution_count": 30,
     "metadata": {},
     "output_type": "execute_result"
    }
   ],
   "source": [
    "sample_list = []\n",
    "\n",
    "for i in range(30):\n",
    "    sample_list.append(random.randint(0,10))\n",
    "\n",
    "z_confidence_interval(sample_list,2.89,0.95)"
   ]
  },
  {
   "cell_type": "markdown",
   "metadata": {},
   "source": [
    "This tell us that in a typical focus group, anywhere between 4 to 6 people in each group will vote for our candidate. This signals to you that the campaign should keep working harder to convince more people to vote for your candidate"
   ]
  },
  {
   "cell_type": "markdown",
   "metadata": {},
   "source": [
    "---"
   ]
  },
  {
   "cell_type": "code",
   "execution_count": null,
   "metadata": {},
   "outputs": [],
   "source": []
  }
 ],
 "metadata": {
  "interpreter": {
   "hash": "9d3bae0a0f66551680ef8a166f6b92cc2774d5d7901f027deb7bb883ed06d5ae"
  },
  "kernelspec": {
   "display_name": "Python 3.7.4 ('base')",
   "language": "python",
   "name": "python3"
  },
  "language_info": {
   "codemirror_mode": {
    "name": "ipython",
    "version": 3
   },
   "file_extension": ".py",
   "mimetype": "text/x-python",
   "name": "python",
   "nbconvert_exporter": "python",
   "pygments_lexer": "ipython3",
   "version": "3.7.4"
  },
  "orig_nbformat": 4
 },
 "nbformat": 4,
 "nbformat_minor": 2
}
