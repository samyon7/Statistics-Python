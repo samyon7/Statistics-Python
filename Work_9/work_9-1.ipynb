{
 "cells": [
  {
   "cell_type": "code",
   "execution_count": 1,
   "metadata": {},
   "outputs": [
    {
     "data": {
      "text/plain": [
       "1"
      ]
     },
     "execution_count": 1,
     "metadata": {},
     "output_type": "execute_result"
    }
   ],
   "source": [
    "1"
   ]
  },
  {
   "cell_type": "markdown",
   "metadata": {},
   "source": [
    "### The Law of Large Numbers"
   ]
  },
  {
   "cell_type": "code",
   "execution_count": 3,
   "metadata": {},
   "outputs": [],
   "source": [
    "import random\n",
    "random.seed(54321)"
   ]
  },
  {
   "cell_type": "code",
   "execution_count": 9,
   "metadata": {},
   "outputs": [],
   "source": [
    "# Define a variable for our sample size, set it equal to 10\n",
    "sample_size = 100"
   ]
  },
  {
   "cell_type": "markdown",
   "metadata": {},
   "source": [
    "- Create empty list to collect the results of our coin flip experiment"
   ]
  },
  {
   "cell_type": "code",
   "execution_count": 10,
   "metadata": {},
   "outputs": [],
   "source": [
    "# Here we create for loop and collect the result in a list\n",
    "result_list = []\n",
    "\n",
    "for i in range(sample_size):\n",
    "    result = random.randint(0,1)\n",
    "    result_list.append(result)"
   ]
  },
  {
   "cell_type": "markdown",
   "metadata": {},
   "source": [
    "- Define two variables to compile the results"
   ]
  },
  {
   "cell_type": "code",
   "execution_count": 11,
   "metadata": {},
   "outputs": [],
   "source": [
    "num_of_heads = sum(result_list)\n",
    "avg_of_heads = float(num_of_heads) / sample_size"
   ]
  },
  {
   "cell_type": "code",
   "execution_count": 12,
   "metadata": {},
   "outputs": [
    {
     "name": "stdout",
     "output_type": "stream",
     "text": [
      "Results: 49 heads out of 100 flips.\n",
      "Average number of heads per flip is 0.49.\n"
     ]
    }
   ],
   "source": [
    "# print the results\n",
    "print(f'Results: {num_of_heads} heads out of {sample_size} flips.')\n",
    "print(f'Average number of heads per flip is {avg_of_heads}.')\n"
   ]
  },
  {
   "cell_type": "markdown",
   "metadata": {},
   "source": [
    "- Now change the size of sample to 100, and do it again!"
   ]
  },
  {
   "cell_type": "markdown",
   "metadata": {},
   "source": [
    "---"
   ]
  },
  {
   "cell_type": "markdown",
   "metadata": {},
   "source": [
    "### Coin Flipping Average over Time"
   ]
  },
  {
   "cell_type": "code",
   "execution_count": 13,
   "metadata": {},
   "outputs": [],
   "source": [
    "import random\n",
    "import matplotlib.pyplot as plt\n",
    "random.seed(54321)"
   ]
  },
  {
   "cell_type": "markdown",
   "metadata": {},
   "source": [
    "- Define the sample size"
   ]
  },
  {
   "cell_type": "code",
   "execution_count": 14,
   "metadata": {},
   "outputs": [],
   "source": [
    "sample_size = 20000"
   ]
  },
  {
   "cell_type": "markdown",
   "metadata": {},
   "source": [
    "- Initialize the variables required for our loop"
   ]
  },
  {
   "cell_type": "code",
   "execution_count": 15,
   "metadata": {},
   "outputs": [],
   "source": [
    "# 1 = heads and 0 = tails\n",
    "num_of_heads = 0\n",
    "heads_list = []\n",
    "trials_list = []\n",
    "freq_list = []"
   ]
  },
  {
   "cell_type": "markdown",
   "metadata": {},
   "source": [
    "- Run the simulation!"
   ]
  },
  {
   "cell_type": "code",
   "execution_count": 16,
   "metadata": {},
   "outputs": [
    {
     "name": "stdout",
     "output_type": "stream",
     "text": [
      "Results: 10008 heads out of 20000 flips.\n",
      "Average number of heads is 0.5004\n"
     ]
    }
   ],
   "source": [
    "for i in range(1, sample_size+1):\n",
    "    result = random.randint(0,1)\n",
    "    if result == 1:\n",
    "        num_of_heads += 1\n",
    "\n",
    "    avg_of_heads = float(num_of_heads)/i\n",
    "    heads_list.append(num_of_heads)\n",
    "    trials_list.append(i)\n",
    "    freq_list.append(avg_of_heads)\n",
    "\n",
    "\n",
    "# Print the results\n",
    "print(f'Results: {num_of_heads} heads out of {sample_size} flips.')\n",
    "print(f'Average number of heads is {avg_of_heads}')"
   ]
  },
  {
   "cell_type": "markdown",
   "metadata": {},
   "source": [
    "- Create the line graph, to show the sample mean over time, along with marking our expected value using a dashed line"
   ]
  },
  {
   "cell_type": "code",
   "execution_count": 17,
   "metadata": {},
   "outputs": [
    {
     "data": {
      "image/png": "[encoded data removed]",
      "text/plain": [
       "<Figure size 432x288 with 1 Axes>"
      ]
     },
     "metadata": {
      "needs_background": "light"
     },
     "output_type": "display_data"
    }
   ],
   "source": [
    "plt.plot(trials_list, freq_list)\n",
    "plt.ylabel('Sample Average')\n",
    "plt.xlabel('Sample Size')\n",
    "plt.hlines(0.50,0,sample_size, linestyles='dashed')\n",
    "plt.show()"
   ]
  },
  {
   "cell_type": "markdown",
   "metadata": {},
   "source": [
    "---"
   ]
  },
  {
   "cell_type": "markdown",
   "metadata": {},
   "source": [
    "### Calculating the Avg Winnings for a Game of Roulette If We Constantly Bet on Red"
   ]
  },
  {
   "cell_type": "code",
   "execution_count": 26,
   "metadata": {},
   "outputs": [],
   "source": [
    "import random\n",
    "import matplotlib.pyplot as plt\n",
    "random.seed(54321)"
   ]
  },
  {
   "cell_type": "code",
   "execution_count": 27,
   "metadata": {},
   "outputs": [],
   "source": [
    "# Create variable for the sample size and set it to 10, variable bet, and set it to $1\n",
    "\n",
    "sample_size = 100\n",
    "bet = 1"
   ]
  },
  {
   "cell_type": "markdown",
   "metadata": {},
   "source": [
    "- Initialize the variables that we will use to collect the results of our simulation"
   ]
  },
  {
   "cell_type": "code",
   "execution_count": 28,
   "metadata": {},
   "outputs": [],
   "source": [
    "net_money = 0\n",
    "wins = 0\n",
    "money_track = []\n",
    "trials_track = []\n",
    "\n",
    "# Run the simulation \n",
    "for i in range(1, sample_size+1):\n",
    "    result = random.randint(1,38)\n",
    "    if result%2==1 and result!=37:\n",
    "        net_money += bet\n",
    "        wins += 1\n",
    "    \n",
    "    else:\n",
    "        net_money = bet\n",
    "    \n",
    "    money_track.append(net_money/i)\n",
    "    trials_track.append(i)"
   ]
  },
  {
   "cell_type": "code",
   "execution_count": 29,
   "metadata": {},
   "outputs": [
    {
     "name": "stdout",
     "output_type": "stream",
     "text": [
      "Results: You won 55 games out of100 and won an average of 0.01 dollars per game\n",
      "Results: You are expected to win -0.05263157894736842 per game\n"
     ]
    }
   ],
   "source": [
    "print(f'Results: You won {wins} games out of{sample_size} and won an average of {net_money/sample_size} dollars per game')\n",
    "print(f'Results: You are expected to win {((18/38)*bet+(20/38)*(-bet))} per game')\n"
   ]
  },
  {
   "cell_type": "markdown",
   "metadata": {},
   "source": [
    "- Create the graph of the expected value of the net chyange in money per game and the sample average of the net change in money per game"
   ]
  },
  {
   "cell_type": "code",
   "execution_count": 30,
   "metadata": {},
   "outputs": [
    {
     "data": {
      "image/png": "[encoded data removed]",
      "text/plain": [
       "<Figure size 432x288 with 1 Axes>"
      ]
     },
     "metadata": {
      "needs_background": "light"
     },
     "output_type": "display_data"
    }
   ],
   "source": [
    "plt.plot(trials_track, money_track)\n",
    "plt.ylabel('Net Money')\n",
    "plt.xlabel('Number of games')\n",
    "plt.hlines(((18/38)*bet+(20/38)*(-bet)), 0, sample_size, linestyles='dashed')\n",
    "plt.show()"
   ]
  },
  {
   "cell_type": "code",
   "execution_count": null,
   "metadata": {},
   "outputs": [],
   "source": []
  }
 ],
 "metadata": {
  "interpreter": {
   "hash": "9d3bae0a0f66551680ef8a166f6b92cc2774d5d7901f027deb7bb883ed06d5ae"
  },
  "kernelspec": {
   "display_name": "Python 3.7.4 ('base')",
   "language": "python",
   "name": "python3"
  },
  "language_info": {
   "codemirror_mode": {
    "name": "ipython",
    "version": 3
   },
   "file_extension": ".py",
   "mimetype": "text/x-python",
   "name": "python",
   "nbconvert_exporter": "python",
   "pygments_lexer": "ipython3",
   "version": "3.7.4"
  },
  "orig_nbformat": 4
 },
 "nbformat": 4,
 "nbformat_minor": 2
}
