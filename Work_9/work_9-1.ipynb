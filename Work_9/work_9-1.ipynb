{
 "cells": [
  {
   "cell_type": "code",
   "execution_count": 2,
   "metadata": {},
   "outputs": [
    {
     "data": {
      "text/plain": [
       "5"
      ]
     },
     "execution_count": 2,
     "metadata": {},
     "output_type": "execute_result"
    }
   ],
   "source": [
    "5"
   ]
  },
  {
   "cell_type": "markdown",
   "metadata": {},
   "source": [
    "### The Law of Large Numbers"
   ]
  },
  {
   "cell_type": "code",
   "execution_count": 3,
   "metadata": {},
   "outputs": [],
   "source": [
    "import random\n",
    "random.seed(54321)"
   ]
  },
  {
   "cell_type": "code",
   "execution_count": 4,
   "metadata": {},
   "outputs": [],
   "source": [
    "# Define a variable for our sample size, set it equal to 10\n",
    "sample_size = 100"
   ]
  },
  {
   "cell_type": "markdown",
   "metadata": {},
   "source": [
    "- Create empty list to collect the results of our coin flip experiment"
   ]
  },
  {
   "cell_type": "code",
   "execution_count": 5,
   "metadata": {},
   "outputs": [],
   "source": [
    "# Here we create for loop and collect the result in a list\n",
    "result_list = []\n",
    "\n",
    "for i in range(sample_size):\n",
    "    result = random.randint(0,1)\n",
    "    result_list.append(result)"
   ]
  },
  {
   "cell_type": "markdown",
   "metadata": {},
   "source": [
    "- Define two variables to compile the results"
   ]
  },
  {
   "cell_type": "code",
   "execution_count": 6,
   "metadata": {},
   "outputs": [],
   "source": [
    "num_of_heads = sum(result_list)\n",
    "avg_of_heads = float(num_of_heads) / sample_size"
   ]
  },
  {
   "cell_type": "code",
   "execution_count": 7,
   "metadata": {},
   "outputs": [
    {
     "name": "stdout",
     "output_type": "stream",
     "text": [
      "Results: 51 heads out of 100 flips.\n",
      "Average number of heads per flip is 0.51.\n"
     ]
    }
   ],
   "source": [
    "# print the results\n",
    "print(f'Results: {num_of_heads} heads out of {sample_size} flips.')\n",
    "print(f'Average number of heads per flip is {avg_of_heads}.')\n"
   ]
  },
  {
   "cell_type": "markdown",
   "metadata": {},
   "source": [
    "- Now change the size of sample to 100, and do it again!"
   ]
  },
  {
   "cell_type": "markdown",
   "metadata": {},
   "source": [
    "---"
   ]
  },
  {
   "cell_type": "markdown",
   "metadata": {},
   "source": [
    "### Coin Flipping Average over Time"
   ]
  },
  {
   "cell_type": "code",
   "execution_count": 8,
   "metadata": {},
   "outputs": [],
   "source": [
    "import random\n",
    "import matplotlib.pyplot as plt\n",
    "random.seed(54321)"
   ]
  },
  {
   "cell_type": "markdown",
   "metadata": {},
   "source": [
    "- Define the sample size"
   ]
  },
  {
   "cell_type": "code",
   "execution_count": 9,
   "metadata": {},
   "outputs": [],
   "source": [
    "sample_size = 20000"
   ]
  },
  {
   "cell_type": "markdown",
   "metadata": {},
   "source": [
    "- Initialize the variables required for our loop"
   ]
  },
  {
   "cell_type": "code",
   "execution_count": 10,
   "metadata": {},
   "outputs": [],
   "source": [
    "# 1 = heads and 0 = tails\n",
    "num_of_heads = 0\n",
    "heads_list = []\n",
    "trials_list = []\n",
    "freq_list = []"
   ]
  },
  {
   "cell_type": "markdown",
   "metadata": {},
   "source": [
    "- Run the simulation!"
   ]
  },
  {
   "cell_type": "code",
   "execution_count": 11,
   "metadata": {},
   "outputs": [
    {
     "name": "stdout",
     "output_type": "stream",
     "text": [
      "Results: 10008 heads out of 20000 flips.\n",
      "Average number of heads is 0.5004\n"
     ]
    }
   ],
   "source": [
    "for i in range(1, sample_size+1):\n",
    "    result = random.randint(0,1)\n",
    "    if result == 1:\n",
    "        num_of_heads += 1\n",
    "\n",
    "    avg_of_heads = float(num_of_heads)/i\n",
    "    heads_list.append(num_of_heads)\n",
    "    trials_list.append(i)\n",
    "    freq_list.append(avg_of_heads)\n",
    "\n",
    "\n",
    "# Print the results\n",
    "print(f'Results: {num_of_heads} heads out of {sample_size} flips.')\n",
    "print(f'Average number of heads is {avg_of_heads}')"
   ]
  },
  {
   "cell_type": "markdown",
   "metadata": {},
   "source": [
    "- Create the line graph, to show the sample mean over time, along with marking our expected value using a dashed line"
   ]
  },
  {
   "cell_type": "code",
   "execution_count": 12,
   "metadata": {},
   "outputs": [
    {
     "data": {
      "image/png": "[encoded data removed]",
      "text/plain": [
       "<Figure size 432x288 with 1 Axes>"
      ]
     },
     "metadata": {
      "needs_background": "light"
     },
     "output_type": "display_data"
    }
   ],
   "source": [
    "plt.plot(trials_list, freq_list)\n",
    "plt.ylabel('Sample Average')\n",
    "plt.xlabel('Sample Size')\n",
    "plt.hlines(0.50,0,sample_size, linestyles='dashed')\n",
    "plt.show()"
   ]
  },
  {
   "cell_type": "markdown",
   "metadata": {},
   "source": [
    "---"
   ]
  },
  {
   "cell_type": "markdown",
   "metadata": {},
   "source": [
    "### Calculating the Avg Winnings for a Game of Roulette If We Constantly Bet on Red"
   ]
  },
  {
   "cell_type": "code",
   "execution_count": 13,
   "metadata": {},
   "outputs": [],
   "source": [
    "import random\n",
    "import matplotlib.pyplot as plt\n",
    "random.seed(54321)"
   ]
  },
  {
   "cell_type": "code",
   "execution_count": 14,
   "metadata": {},
   "outputs": [],
   "source": [
    "# Create variable for the sample size and set it to 10, variable bet, and set it to $1\n",
    "\n",
    "sample_size = 100\n",
    "bet = 1"
   ]
  },
  {
   "cell_type": "markdown",
   "metadata": {},
   "source": [
    "- Initialize the variables that we will use to collect the results of our simulation"
   ]
  },
  {
   "cell_type": "code",
   "execution_count": 15,
   "metadata": {},
   "outputs": [],
   "source": [
    "net_money = 0\n",
    "wins = 0\n",
    "money_track = []\n",
    "trials_track = []\n",
    "\n",
    "# Run the simulation \n",
    "for i in range(1, sample_size+1):\n",
    "    result = random.randint(1,38)\n",
    "    if result%2==1 and result!=37:\n",
    "        net_money += bet\n",
    "        wins += 1\n",
    "    \n",
    "    else:\n",
    "        net_money = bet\n",
    "    \n",
    "    money_track.append(net_money/i)\n",
    "    trials_track.append(i)"
   ]
  },
  {
   "cell_type": "code",
   "execution_count": 16,
   "metadata": {},
   "outputs": [
    {
     "name": "stdout",
     "output_type": "stream",
     "text": [
      "Results: You won 55 games out of100 and won an average of 0.01 dollars per game\n",
      "Results: You are expected to win -0.05263157894736842 per game\n"
     ]
    }
   ],
   "source": [
    "print(f'Results: You won {wins} games out of{sample_size} and won an average of {net_money/sample_size} dollars per game')\n",
    "print(f'Results: You are expected to win {((18/38)*bet+(20/38)*(-bet))} per game')\n"
   ]
  },
  {
   "cell_type": "markdown",
   "metadata": {},
   "source": [
    "- Create the graph of the expected value of the net chyange in money per game and the sample average of the net change in money per game"
   ]
  },
  {
   "cell_type": "code",
   "execution_count": 17,
   "metadata": {},
   "outputs": [
    {
     "data": {
      "image/png": "[encoded data removed]",
      "text/plain": [
       "<Figure size 432x288 with 1 Axes>"
      ]
     },
     "metadata": {
      "needs_background": "light"
     },
     "output_type": "display_data"
    }
   ],
   "source": [
    "plt.plot(trials_track, money_track)\n",
    "plt.ylabel('Net Money')\n",
    "plt.xlabel('Number of games')\n",
    "plt.hlines(((18/38)*bet+(20/38)*(-bet)), 0, sample_size, linestyles='dashed')\n",
    "plt.show()"
   ]
  },
  {
   "cell_type": "markdown",
   "metadata": {},
   "source": [
    "### Showing the Sample Mean for a Uniform Distribution"
   ]
  },
  {
   "cell_type": "markdown",
   "metadata": {},
   "source": [
    "Here we will draw a random sample from a random number generator that generates random numbers between 0 and 100. Thenm we calculates the sample average"
   ]
  },
  {
   "cell_type": "code",
   "execution_count": 18,
   "metadata": {},
   "outputs": [],
   "source": [
    "import random\n",
    "import matplotlib.pyplot as plt\n",
    "import math\n",
    "import numpy as np\n",
    "import scipy.stats as stats\n",
    "random.seed(54321)"
   ]
  },
  {
   "cell_type": "markdown",
   "metadata": {},
   "source": [
    "- Create a variable for the size of each sample and the total number of samples that you want to take. Since the CLT states that we need a sufficiently large sample, we have selected a sample size of 30. Next, we are going to need a lot of sample means to graph and have set that value equal to 10,000"
   ]
  },
  {
   "cell_type": "code",
   "execution_count": 19,
   "metadata": {},
   "outputs": [],
   "source": [
    "sample_size = 30\n",
    "calc_means = 10000"
   ]
  },
  {
   "cell_type": "markdown",
   "metadata": {},
   "source": [
    "- Initialize the list that will be used to collect our sample means, and run through our simulation the specified number of times, collecting the sample mean of each sample"
   ]
  },
  {
   "cell_type": "code",
   "execution_count": 20,
   "metadata": {},
   "outputs": [],
   "source": [
    "mean_list = []\n",
    "\n",
    "for j in range(calc_means):\n",
    "    sample_list = [] # This used to track our results\n",
    "    for j in range(sample_size):\n",
    "        sample_list.append(random.randint(0, 100))\n",
    "    \n",
    "    sample_mean = sum(sample_list)/sample_size\n",
    "    mean_list.append(sample_mean)"
   ]
  },
  {
   "cell_type": "markdown",
   "metadata": {},
   "source": [
    "- Create the histogram of the sample means that we collected"
   ]
  },
  {
   "cell_type": "code",
   "execution_count": 21,
   "metadata": {},
   "outputs": [
    {
     "data": {
      "image/png": "[encoded data removed]",
      "text/plain": [
       "<Figure size 432x288 with 1 Axes>"
      ]
     },
     "metadata": {
      "needs_background": "light"
     },
     "output_type": "display_data"
    }
   ],
   "source": [
    "n, bins, patches = plt.hist(mean_list, math.floor(math.sqrt(calc_means)),density=True,facecolor='g',alpha=0.75)\n",
    "plt.grid(True)\n",
    "\n",
    "mu = 50\n",
    "sigma = math.sqrt(((100 ** 2) / 12)) / (math.sqrt(sample_size))\n",
    "x = np.linspace(mu -3 * sigma, mu+3*sigma, 100)\n",
    "plt.plot(x, stats.norm.pdf(x, mu, sigma))\n",
    "plt.show()"
   ]
  },
  {
   "cell_type": "markdown",
   "metadata": {},
   "source": [
    "### Taking a Sample from an Exponential Distribution"
   ]
  },
  {
   "cell_type": "code",
   "execution_count": 22,
   "metadata": {},
   "outputs": [],
   "source": [
    "import random\n",
    "import matplotlib.pyplot as plt\n",
    "import math\n",
    "import numpy as np\n",
    "import scipy.stats as stats\n",
    "\n",
    "# Create sample size\n",
    "sample_size = 5\n",
    "calc_means = 10000"
   ]
  },
  {
   "cell_type": "markdown",
   "metadata": {},
   "source": [
    "- Initialize the variable that we will use to collect the results of our simulation. Run the simulation, but this time sample from an exponential distribution rather than a uniform distribution"
   ]
  },
  {
   "cell_type": "code",
   "execution_count": 23,
   "metadata": {},
   "outputs": [],
   "source": [
    "mean_list = []\n",
    "\n",
    "# Run the loop to collect a sample\n",
    "for j in range(calc_means):\n",
    "    sample_list = []\n",
    "    for i in range(sample_size):\n",
    "        draw = np.random.exponential(1)\n",
    "        sample_list.append(draw)\n",
    "    sample_mean = sum(sample_list)/sample_size\n",
    "    mean_list.append(sample_mean)"
   ]
  },
  {
   "cell_type": "markdown",
   "metadata": {},
   "source": [
    "- Create a histogram of the sample means we collected and overlay what the CLT says we should expect from it"
   ]
  },
  {
   "cell_type": "code",
   "execution_count": 24,
   "metadata": {},
   "outputs": [
    {
     "data": {
      "image/png": "[encoded data removed]",
      "text/plain": [
       "<Figure size 432x288 with 1 Axes>"
      ]
     },
     "metadata": {
      "needs_background": "light"
     },
     "output_type": "display_data"
    }
   ],
   "source": [
    "n, bins, patches = plt.hist(mean_list, \\\n",
    "                   math.floor(math.sqrt(calc_means)), \\\n",
    "                   density=True, facecolor='g', \\\n",
    "                   alpha=0.75)\n",
    "plt.grid(True)\n",
    "mu = 1\n",
    "sigma = 1 / (math.sqrt(sample_size))\n",
    "x = np.linspace(mu - 3 * sigma, mu + 3 * sigma, 100)\n",
    "plt.plot(x, stats.norm.pdf(x, mu, sigma))\n",
    "plt.show()"
   ]
  },
  {
   "cell_type": "markdown",
   "metadata": {},
   "source": [
    "---"
   ]
  },
  {
   "cell_type": "markdown",
   "metadata": {},
   "source": [
    "### Finding the Confidence Interval of Polling Figures"
   ]
  },
  {
   "cell_type": "markdown",
   "metadata": {},
   "source": [
    "Ceritanya anda sedang menjalankan kampanye politik, di mana anda memutuskan untuk menjalankan 30 kelompok fokus dengan sekitar 10 orang di setiap kelompok. Anda mendapatkan hasilnya, dan ingin melaporkan kepada kandidat anda, jumlah orang yang akan memilih merka dalam kelompok 10 orang biasa. Karena ada bebrapa variabilitas di setiap kelompok fokus, Anda memutuskan bahwa cara yang paling akurat adalah dengan memberikan interval kepercayaan yakni 95% interval. Anda mengasumsikan dari pengalaman dengan standar deviasi 2.89."
   ]
  },
  {
   "cell_type": "code",
   "execution_count": 25,
   "metadata": {},
   "outputs": [],
   "source": [
    "import random\n",
    "random.seed(39809)"
   ]
  },
  {
   "cell_type": "markdown",
   "metadata": {},
   "source": [
    "- Initialize sample list, and collect our samples from our focus groups. From here, we just enter the information into our function"
   ]
  },
  {
   "cell_type": "code",
   "execution_count": 26,
   "metadata": {},
   "outputs": [],
   "source": [
    "def z_confidence_interval(data, st_dev, con_lvl):\n",
    "    import statistics as st\n",
    "    import scipy.stats as sp\n",
    "    import math\n",
    "    sample_mean = st.mean(data)\n",
    "    n = len(data)\n",
    "    crit_value = sp.norm.ppf(((1 - con_lvl) / 2) + \\\n",
    "                             con_lvl)\n",
    "    lower_limit = sample_mean - (crit_value * \\\n",
    "                                 (st_dev/math.sqrt(n)))\n",
    "    higher_limit = sample_mean + (crit_value * \\\n",
    "                                  (st_dev / math.sqrt(n)))\n",
    "    print (f'Your {con_lvl} z confidence interval is ({lower_limit}, {higher_limit})')\n",
    "    return (lower_limit,higher_limit)\n"
   ]
  },
  {
   "cell_type": "code",
   "execution_count": 27,
   "metadata": {},
   "outputs": [
    {
     "name": "stdout",
     "output_type": "stream",
     "text": [
      "Your 0.95 z confidence interval is (3.965845784931483, 6.034154215068517)\n"
     ]
    },
    {
     "data": {
      "text/plain": [
       "(3.965845784931483, 6.034154215068517)"
      ]
     },
     "execution_count": 27,
     "metadata": {},
     "output_type": "execute_result"
    }
   ],
   "source": [
    "sample_list = []\n",
    "\n",
    "for i in range(30):\n",
    "    sample_list.append(random.randint(0,10))\n",
    "\n",
    "z_confidence_interval(sample_list,2.89,0.95)"
   ]
  },
  {
   "cell_type": "markdown",
   "metadata": {},
   "source": [
    "This tell us that in a typical focus group, anywhere between 4 to 6 people in each group will vote for our candidate. This signals to you that the campaign should keep working harder to convince more people to vote for your candidate"
   ]
  },
  {
   "cell_type": "markdown",
   "metadata": {},
   "source": [
    "---"
   ]
  },
  {
   "cell_type": "code",
   "execution_count": 28,
   "metadata": {},
   "outputs": [
    {
     "name": "stdout",
     "output_type": "stream",
     "text": [
      "Your 0.95 t confidence interval is (3.827357936126168,6.172642063873832)\n"
     ]
    },
    {
     "data": {
      "text/plain": [
       "(3.827357936126168, 6.172642063873832)"
      ]
     },
     "execution_count": 28,
     "metadata": {},
     "output_type": "execute_result"
    }
   ],
   "source": [
    "def t_confidence_interval(data, con_lvl):\n",
    "    import statistics as st\n",
    "    import scipy.stats as sp\n",
    "    import math\n",
    "\n",
    "    sample_mean = st.mean(data)\n",
    "    sample_st_dev = st.stdev(data)\n",
    "\n",
    "    n = len(data)\n",
    "\n",
    "    crit_value = sp.t.ppf(((1-con_lvl)/2)+con_lvl, n-1)\n",
    "    lower_limit = sample_mean - (crit_value*(sample_st_dev/math.sqrt(n)))\n",
    "    higher_limit = sample_mean + (crit_value*(sample_st_dev/math.sqrt(n)))\n",
    "\n",
    "    print(f'Your {con_lvl} t confidence interval is ({lower_limit},{higher_limit})')\n",
    "    return (lower_limit, higher_limit)\n",
    "\n",
    "t_confidence_interval(sample_list, 0.95)"
   ]
  },
  {
   "cell_type": "code",
   "execution_count": 29,
   "metadata": {},
   "outputs": [
    {
     "name": "stdout",
     "output_type": "stream",
     "text": [
      "Your 0.95 proportional confidence interval is (0.4877856513683282,0.5922143486316719)\n"
     ]
    },
    {
     "data": {
      "text/plain": [
       "(0.4877856513683282, 0.5922143486316719)"
      ]
     },
     "execution_count": 29,
     "metadata": {},
     "output_type": "execute_result"
    }
   ],
   "source": [
    "def prop_confidenct_interval(p_hat, n, con_lvl):\n",
    "    import math\n",
    "    import scipy.stats as sp\n",
    "    crit_value = sp.norm.ppf(((1 - con_lvl) / 2) + \\\n",
    "                             con_lvl)\n",
    "    lower_limit = p_hat - (crit_value * (math.sqrt(\\\n",
    "                 (p_hat * (1-p_hat)) / n)))\n",
    "    higher_limit = p_hat + (crit_value * (math.sqrt(\\\n",
    "                  (p_hat * (1 - p_hat)) / n)))\n",
    "    print(f'Your {con_lvl} proportional confidence \\\n",
    "interval is ({lower_limit},{higher_limit})')\n",
    "    return (lower_limit,higher_limit)\n",
    "\n",
    "prop_confidenct_interval(0.54,350, 0.95)"
   ]
  },
  {
   "cell_type": "markdown",
   "metadata": {},
   "source": [
    "### Z-Test in Action"
   ]
  },
  {
   "cell_type": "code",
   "execution_count": 30,
   "metadata": {},
   "outputs": [],
   "source": [
    "import scipy.stats as st\n",
    "import numpy as np\n",
    "import pandas as pd\n",
    "import math as mt\n",
    "import statistics as stat\n",
    "import statsmodels.stats.weightstats as mod\n",
    "import statsmodels.stats.proportion as prop\n",
    "\n",
    "np.random.seed(12345)"
   ]
  },
  {
   "cell_type": "markdown",
   "metadata": {},
   "source": [
    "- Write a function to do the test. The inputs will be a sample, std, value of our hypothesis, significance level, and test type (upper, lower, or two tailed test). We will calculate the sample mean and sample size from given list, after that we will take the inputs and calculate our test statistic. Finally, we compare our p-value to the level significance, if it less than a standard, we reject the null hypothesis, and otherwise"
   ]
  },
  {
   "cell_type": "code",
   "execution_count": 31,
   "metadata": {},
   "outputs": [],
   "source": [
    "def z_test(sample, pop_st_dev, hypoth_value, sig_level, test_type):\n",
    "    sample_mean = stat.mean(sample)\n",
    "    sample_size = len(sample)\n",
    "\n",
    "    test_statistic = (sample_mean - hypoth_value)/(pop_st_dev/(mt.sqrt(sample_size)))\n",
    "\n",
    "    if test_type == 'lower':\n",
    "        p_value = st.norm.cdf(test_statistic)\n",
    "\n",
    "    if test_type == 'upper':\n",
    "        p_value = 1 - st.norm.cdf(test_statistic)\n",
    "\n",
    "    if test_type == 'two':\n",
    "        p_value = 2*(1-st.norm.cdf(abs(test_statistic)))\n",
    "    \n",
    "    print(f'P Value = {p_value}')\n",
    "\n",
    "    if p_value < sig_level:\n",
    "        print(f'Results are significant. Reject the Null')\n",
    "\n",
    "    else:\n",
    "        print(\"Do not reject the Null\")"
   ]
  },
  {
   "cell_type": "markdown",
   "metadata": {},
   "source": [
    "- We draw a random sample size of 50 from a normal distribution with a mean of 15 and a standard deviation of 1. We will print the sample mean to the console so we know what it is (it will be different every time you run this code since we take a random sample every time). We use our z-test function to conduct a lower-tailed test since we want to see whether our mean is significantly less than 16. We specify the list that contains our data (data1), the population standard deviation (we know this is 1), the value of the hypothesis (we want to see whether it is significantly less than 16), the level of significance (most of the time this will be 0.05), and finally the type of test (since we want to see whether the mean is lower than 16, this is a lower-tailed test)"
   ]
  },
  {
   "cell_type": "code",
   "execution_count": 32,
   "metadata": {},
   "outputs": [
    {
     "name": "stdout",
     "output_type": "stream",
     "text": [
      "Sample mean: 14.94804802516884\n",
      "P Value = 5.094688086201483e-14\n",
      "Results are significant. Reject the Null\n"
     ]
    }
   ],
   "source": [
    "# Lower tailed test\n",
    "data1 = np.random.normal(15,1,50)\n",
    "\n",
    "# Test to see if mean is significantly less than 16\n",
    "print(f'Sample mean: {stat.mean(data1)}')\n",
    "\n",
    "z_test(data1,1,16,0.05,'lower')"
   ]
  },
  {
   "cell_type": "markdown",
   "metadata": {},
   "source": [
    "Because the p-value is less than 0.05, this's true if the sample mean is under than 16"
   ]
  },
  {
   "cell_type": "markdown",
   "metadata": {},
   "source": [
    "- Let's test to see wether our mean is significantly larger than 14"
   ]
  },
  {
   "cell_type": "code",
   "execution_count": 33,
   "metadata": {},
   "outputs": [
    {
     "name": "stdout",
     "output_type": "stream",
     "text": [
      "Sample mean: 14.94804802516884\n",
      "P Value = 1.0159539876042345e-11\n",
      "Results are significant. Reject the Null\n"
     ]
    }
   ],
   "source": [
    "print(f'Sample mean: {stat.mean(data1)}')\n",
    "z_test(data1,1,14,0.05,'upper')"
   ]
  },
  {
   "cell_type": "markdown",
   "metadata": {},
   "source": [
    "Still, because this's under 15"
   ]
  },
  {
   "cell_type": "markdown",
   "metadata": {},
   "source": [
    "- For the final test, perform two tailed test, and see whether our sample mean differs significantly from 15"
   ]
  },
  {
   "cell_type": "code",
   "execution_count": 34,
   "metadata": {},
   "outputs": [
    {
     "name": "stdout",
     "output_type": "stream",
     "text": [
      "Sample mean: 14.94804802516884\n",
      "P Value = 0.7133535345453159\n",
      "Do not reject the Null\n"
     ]
    }
   ],
   "source": [
    "print(f'Sample mean: {stat.mean(data1)}')\n",
    "z_test(data1,1,15,0.05,'two')"
   ]
  },
  {
   "cell_type": "markdown",
   "metadata": {},
   "source": [
    "---"
   ]
  },
  {
   "cell_type": "markdown",
   "metadata": {},
   "source": [
    "### T-Test"
   ]
  },
  {
   "cell_type": "markdown",
   "metadata": {},
   "source": [
    "Here we use two different samples, one for large and one for small sample. Both will be randomly selected from a normal distibution from a mean of 50 and std of 10. The only difference between the two samples is that the large sample will have a size of 100, and the smaller sample will have a size of 10."
   ]
  },
  {
   "cell_type": "code",
   "execution_count": 35,
   "metadata": {},
   "outputs": [],
   "source": [
    "import scipy.stats as st\n",
    "import numpy as np\n",
    "import pandas as pd\n",
    "import math as mt\n",
    "import statistics as stat\n",
    "import statsmodels.stats.weightstats as mod\n",
    "import statsmodels.stats.proportion as prop\n",
    "\n",
    "np.random.seed(1)\n",
    "data1 = np.random.normal(50,10,100)"
   ]
  },
  {
   "cell_type": "markdown",
   "metadata": {},
   "source": [
    "- Create function for t-test"
   ]
  },
  {
   "cell_type": "code",
   "execution_count": 36,
   "metadata": {},
   "outputs": [],
   "source": [
    "def t_test(sample, hypoth_value, sig_level, test_type):\n",
    "    sample_mean = stat.mean(sample)\n",
    "    sample_st_dev = stat.stdev(sample)\n",
    "    sample_size = len(sample)\n",
    "    test_statistic = (sample_mean - hypoth_value)/(sample_st_dev/(mt.sqrt(sample_size)))\n",
    "\n",
    "    if test_type == 'lower':\n",
    "        p_value = st.t.cdf(test_statistic,df=sample_size-1)\n",
    "    \n",
    "    if test_type == 'upper':\n",
    "        p_value = 1 - st.t.cdf(test_statistic,df=sample_size-1)\n",
    "    \n",
    "    if test_type == 'two':\n",
    "        p_value = 2 * (1 - st.t.cdf(abs(test_statistic), df=sample_size-1))\n",
    "\n",
    "    print(f'P Value = {p_value}')\n",
    "\n",
    "    if p_value < sig_level:\n",
    "        print(\"Reject Null\")\n",
    "    else:\n",
    "        print(\"Do not reject Null\")"
   ]
  },
  {
   "cell_type": "markdown",
   "metadata": {},
   "source": [
    "- Now we will run three different tests."
   ]
  },
  {
   "cell_type": "code",
   "execution_count": 37,
   "metadata": {},
   "outputs": [
    {
     "name": "stdout",
     "output_type": "stream",
     "text": [
      "large sample\n",
      "Sample mean: 50.60582852075699\n",
      "P Value = 0.49746099844105474\n",
      "Do not reject Null\n",
      "P Value = 0.32933701868279674\n",
      "Do not reject Null\n",
      "P Value = 0.002109341573010348\n",
      "Reject Null\n"
     ]
    }
   ],
   "source": [
    "print('large sample')\n",
    "print(f'Sample mean: {stat.mean(data1)}')\n",
    "t_test(data1,50,0.05,'two')\n",
    "t_test(data1,51,0.05,'lower')\n",
    "t_test(data1,48,0.05,'upper')"
   ]
  },
  {
   "cell_type": "markdown",
   "metadata": {},
   "source": [
    "- Next, we will run the same three tests, only this time we will use a sample with a size of 5, whereas they are different one by one"
   ]
  },
  {
   "cell_type": "code",
   "execution_count": 38,
   "metadata": {},
   "outputs": [
    {
     "name": "stdout",
     "output_type": "stream",
     "text": [
      "[66.24345364 43.88243586 44.71828248 39.27031378 58.65407629]\n",
      "small sample\n",
      "Sample mean: 50.553712409836436\n",
      "P Value = 0.918572770568147\n",
      "Do not reject Null\n",
      "P Value = 0.4671568669546634\n",
      "Do not reject Null\n",
      "P Value = 0.32103491333328793\n",
      "Do not reject Null\n"
     ]
    }
   ],
   "source": [
    "data2 = data1[:5]\n",
    "print(data2)\n",
    "#two-tailed test = Is the sample mean significantly\n",
    "#different from 50?\n",
    "print('small sample')\n",
    "print(f'Sample mean: {stat.mean(data2)}')\n",
    "t_test(data2,50,0.05,'two')\n",
    "#lower tailed = Is the sample mean significantly\n",
    "#lower than 51?\n",
    "t_test(data2,51,0.05,'lower')\n",
    "#upper tailed = is the sample mean significantly\n",
    "#more than 48?\n",
    "t_test(data2,48,0.05,'upper')"
   ]
  },
  {
   "cell_type": "markdown",
   "metadata": {},
   "source": [
    "### A/B Testing Example"
   ]
  },
  {
   "cell_type": "markdown",
   "metadata": {},
   "source": [
    "Here we have two samples, one drawn from a normal distribution with a mean of 50, and another drawn from a normal distribution with a mean of 100. Both samples have a size of 100. In this exercise, we're going to determine whether the sample mean of one sample is significantly different, lower, or higher than the other"
   ]
  },
  {
   "cell_type": "code",
   "execution_count": 39,
   "metadata": {},
   "outputs": [],
   "source": [
    "import scipy.stats as st\n",
    "import numpy as np"
   ]
  },
  {
   "cell_type": "markdown",
   "metadata": {},
   "source": [
    "- Draw our random samples and print the sample means, so we know what they are remember to set the seed"
   ]
  },
  {
   "cell_type": "code",
   "execution_count": 40,
   "metadata": {},
   "outputs": [
    {
     "name": "stdout",
     "output_type": "stream",
     "text": [
      "Sample mean 1: 50.54824784997514\n",
      "Sample mean 2: 97.95949096047315\n"
     ]
    }
   ],
   "source": [
    "np.random.seed(16172)\n",
    "sample1 = np.random.normal(50,10,100)\n",
    "sample2 = np.random.normal(100,10,100)\n",
    "print(f'Sample mean 1: {stat.mean(sample1)}')\n",
    "print(f'Sample mean 2: {stat.mean(sample2)}')"
   ]
  },
  {
   "cell_type": "markdown",
   "metadata": {},
   "source": [
    "- Perform 2-sample t-test using the function from scipy"
   ]
  },
  {
   "cell_type": "code",
   "execution_count": 41,
   "metadata": {},
   "outputs": [
    {
     "name": "stdout",
     "output_type": "stream",
     "text": [
      "Ttest_indResult(statistic=-33.72952277672986, pvalue=6.3445365508664585e-84)\n"
     ]
    }
   ],
   "source": [
    "two_tail_results = st.ttest_ind(sample1, sample2, equal_var=False)\n",
    "print(two_tail_results)"
   ]
  },
  {
   "cell_type": "markdown",
   "metadata": {},
   "source": [
    "- If we want to test whether the mean of sample 2 is significantly greater than sample 1, switch the position of sample 1 and sample 2 in the function"
   ]
  },
  {
   "cell_type": "code",
   "execution_count": 42,
   "metadata": {},
   "outputs": [
    {
     "name": "stdout",
     "output_type": "stream",
     "text": [
      "Ttest_indResult(statistic=33.72952277672986, pvalue=6.3445365508664585e-84)\n"
     ]
    }
   ],
   "source": [
    "upper_tail = st.ttest_ind(sample2, sample1, equal_var=False)\n",
    "print(upper_tail)"
   ]
  },
  {
   "cell_type": "markdown",
   "metadata": {},
   "source": [
    "---"
   ]
  },
  {
   "cell_type": "markdown",
   "metadata": {},
   "source": [
    "### Linear Regression"
   ]
  },
  {
   "cell_type": "code",
   "execution_count": 44,
   "metadata": {},
   "outputs": [],
   "source": [
    "import pandas as pd\n",
    "import statistics as st\n",
    "import scipy.stats as sp\n",
    "import math\n",
    "import sklearn.linear_model as lm\n",
    "import matplotlib.pyplot as plt\n",
    "\n",
    "from mpl_toolkits import mplot3d\n",
    "\n",
    "import numpy as np\n",
    "data = pd.read_csv(\"winequality-red.csv\")"
   ]
  },
  {
   "cell_type": "markdown",
   "metadata": {},
   "source": [
    "- Subset the data to the two columns we need. Set the pH level as our dependent variable and critic acid as the independent variable"
   ]
  },
  {
   "cell_type": "code",
   "execution_count": 45,
   "metadata": {},
   "outputs": [
    {
     "data": {
      "image/png": "[encoded data removed]",
      "text/plain": [
       "<Figure size 432x288 with 1 Axes>"
      ]
     },
     "metadata": {
      "needs_background": "light"
     },
     "output_type": "display_data"
    }
   ],
   "source": [
    "data1 = data[['pH','citric acid']]\n",
    "\n",
    "plt.scatter(x=data1['citric acid'],y=data1['pH'])\n",
    "\n",
    "y = data1['pH']\n",
    "x = data1[['citric acid']]"
   ]
  },
  {
   "cell_type": "markdown",
   "metadata": {},
   "source": [
    "- Fit the linear model and graph the data as scatter plot and the regression model"
   ]
  },
  {
   "cell_type": "code",
   "execution_count": 46,
   "metadata": {},
   "outputs": [
    {
     "data": {
      "image/png": "[encoded data removed]",
      "text/plain": [
       "<Figure size 432x288 with 1 Axes>"
      ]
     },
     "metadata": {
      "needs_background": "light"
     },
     "output_type": "display_data"
    }
   ],
   "source": [
    "model = lm.LinearRegression()\n",
    "model.fit(x,y)\n",
    "plt.scatter(x,y,color='g')\n",
    "plt.plot(x, model.predict(x),color='k')\n",
    "plt.show()"
   ]
  },
  {
   "cell_type": "markdown",
   "metadata": {},
   "source": [
    "- Next, set our independent variables as citric acid and residual sugar and fit the model"
   ]
  },
  {
   "cell_type": "code",
   "execution_count": 47,
   "metadata": {},
   "outputs": [],
   "source": [
    "data2 = data[['pH','citric acid','residual sugar']]\n",
    "\n",
    "y = data2['pH']\n",
    "x = data2[['citric acid', 'residual sugar']]\n",
    "\n",
    "model = lm.LinearRegression()\n",
    "model.fit(x,y)\n",
    "y_pred = model.predict(x)"
   ]
  },
  {
   "cell_type": "markdown",
   "metadata": {},
   "source": [
    "- Create 3D scatter plot to check whether it fits our data well"
   ]
  },
  {
   "cell_type": "code",
   "execution_count": 48,
   "metadata": {},
   "outputs": [
    {
     "data": {
      "image/png": "[encoded data removed]",
      "text/plain": [
       "<Figure size 432x288 with 1 Axes>"
      ]
     },
     "metadata": {
      "needs_background": "light"
     },
     "output_type": "display_data"
    }
   ],
   "source": [
    "threedee = plt.figure().gca(projection='3d')\n",
    "threedee.scatter(data2['citric acid'],data2['residual sugar'],data2['pH'])\n",
    "threedee.set_xlabel('citric acid')\n",
    "threedee.set_ylabel('residual sugar')\n",
    "threedee.set_zlabel('pH')\n",
    "\n",
    "xline = np.linspace(0,1,100)\n",
    "yline = np.linspace(0,16,100)\n",
    "zline = xline*(-0.429) + yline*(-0.000877) + 3.430\n",
    "\n",
    "threedee.plot3D(xline, yline, zline, 'red')\n",
    "plt.show()"
   ]
  },
  {
   "cell_type": "markdown",
   "metadata": {},
   "source": [
    "---"
   ]
  },
  {
   "cell_type": "markdown",
   "metadata": {},
   "source": [
    "### Standarized Test Performance"
   ]
  },
  {
   "cell_type": "markdown",
   "metadata": {},
   "source": [
    "Here we will construct a linear model that will predict another variable"
   ]
  },
  {
   "cell_type": "markdown",
   "metadata": {},
   "source": [
    "You are given the task of describing the results of the 2015 PISA test and investigating possible effects of the prevalence of internet infrastructure on test scores."
   ]
  },
  {
   "cell_type": "code",
   "execution_count": 49,
   "metadata": {},
   "outputs": [],
   "source": [
    "import pandas as pd\n",
    "\n",
    "data = pd.read_csv('pisa_test_scores.csv')"
   ]
  },
  {
   "cell_type": "markdown",
   "metadata": {},
   "source": [
    "- Use the t-confidence interval function to calculate 95% confidence interval"
   ]
  },
  {
   "cell_type": "code",
   "execution_count": 50,
   "metadata": {},
   "outputs": [
    {
     "name": "stdout",
     "output_type": "stream",
     "text": [
      "For Math:\n",
      "Your 0.95 t confidence interval is (448.2561338314995,473.6869804542148)\n",
      "For Reading:\n",
      "Your 0.95 t confidence interval is (449.1937943789569,472.80078847818595)\n",
      "For Science:\n",
      "Your 0.95 t confidence interval is (453.8991748650865,476.9790108491992)\n"
     ]
    },
    {
     "data": {
      "text/plain": [
       "(453.8991748650865, 476.9790108491992)"
      ]
     },
     "execution_count": 50,
     "metadata": {},
     "output_type": "execute_result"
    }
   ],
   "source": [
    "print(\"For Math:\")\n",
    "t_confidence_interval(list(data['Math']),0.95)\n",
    "print(\"For Reading:\")\n",
    "t_confidence_interval(list(data['Reading']),0.95)\n",
    "print(\"For Science:\")\n",
    "t_confidence_interval(list(data['Science']),0.95)"
   ]
  },
  {
   "cell_type": "markdown",
   "metadata": {},
   "source": [
    "Sepertinya kita dapat mengatakan dengan keyakinan 95% bahwa skor rata-rata dalam matematika untuk suatu negara adalah antara 448,3 dan 473,7 , antara 449,2 dan 472,8 untuk membaca, dan antara 453,9 dan 477,0 untuk sains."
   ]
  },
  {
   "cell_type": "markdown",
   "metadata": {},
   "source": [
    "- Next, divide the dataset into two different datasets, one where there are more than 50 internet users per 100 people, and another where there are 50 or fewer internet users per 100 people"
   ]
  },
  {
   "cell_type": "code",
   "execution_count": 52,
   "metadata": {},
   "outputs": [
    {
     "name": "stdout",
     "output_type": "stream",
     "text": [
      "   Country Code  internet_users_per_100      Math   Reading   Science\n",
      "0           ALB               63.252933  413.1570  405.2588  427.2250\n",
      "1           ARE               90.500000  427.4827  433.5423  436.7311\n",
      "2           ARG               68.043064  409.0333  425.3031  432.2262\n",
      "3           AUS               84.560519  493.8962  502.9006  509.9939\n",
      "4           AUT               83.940142  496.7423  484.8656  495.0375\n",
      "..          ...                     ...       ...       ...       ...\n",
      "62          SWE               90.610200  493.9181  500.1556  493.4224\n",
      "64          TTO               69.198471  417.2434  427.2733  424.5905\n",
      "66          TUR               53.744979  420.4540  428.3351  425.4895\n",
      "67          URY               64.600000  417.9919  436.5721  435.3630\n",
      "68          USA               74.554202  469.6285  496.9351  496.2424\n",
      "\n",
      "[63 rows x 5 columns]\n",
      "   Country Code  internet_users_per_100      Math   Reading   Science\n",
      "19          DZA               38.200000  359.6062  349.8593  375.7451\n",
      "25          GEO               47.569760  403.8332  401.2881  411.1315\n",
      "30          IDN               21.976068  386.1096  397.2595  403.0997\n",
      "53          PER               40.900000  386.5606  397.5414  396.6836\n",
      "63          THA               39.316127  415.4638  409.1301  421.3373\n",
      "65          TUN               48.519836  366.8180  361.0555  386.4034\n",
      "69          VNM               43.500000  494.5183  486.7738  524.6445\n"
     ]
    }
   ],
   "source": [
    "# Use hypothesis Test to evaluate whether having\n",
    "\n",
    "data1 = data[data['internet_users_per_100']>50]\n",
    "data0 = data[data['internet_users_per_100']<50]\n",
    "\n",
    "print(data1)\n",
    "print(data0)"
   ]
  },
  {
   "cell_type": "markdown",
   "metadata": {},
   "source": [
    "Here we have 2 datasets. Notice how data1 has all the countries, and data0 has 50 or fewer"
   ]
  },
  {
   "cell_type": "markdown",
   "metadata": {},
   "source": [
    "- Since we are going to compare two samples with likely different variances, here we will use 2-sample t-test. Our significance level is going to be 5%. Since we want to test to see whether the internet users' majority mean is higher, this will be an upper-tailed test. This means that we will have to divide our p-value by 2 and only accept the results as significant if the test statistic is positive"
   ]
  },
  {
   "cell_type": "code",
   "execution_count": 55,
   "metadata": {},
   "outputs": [
    {
     "name": "stdout",
     "output_type": "stream",
     "text": [
      "Math\n",
      "3.6040958108257892\n",
      "0.003661826264299647\n",
      "\n",
      "\n",
      "Reading\n",
      "3.8196670837378237\n",
      "0.0028727977455195778\n",
      "\n",
      "\n",
      "Science\n",
      "2.734488895919944\n",
      "0.014259363259381578\n"
     ]
    }
   ],
   "source": [
    "import scipy.stats as sp\n",
    "\n",
    "math_test_results = sp.ttest_ind(data1['Math'],data0['Math'],equal_var=False)\n",
    "print(\"Math\")\n",
    "print(math_test_results.statistic)\n",
    "print(math_test_results.pvalue / 2)\n",
    "\n",
    "reading_test_results = sp.ttest_ind(data1['Reading'],data0['Reading'],equal_var=False)\n",
    "print(\"\\n\\nReading\")\n",
    "print(reading_test_results.statistic)\n",
    "print(reading_test_results.pvalue / 2)\n",
    "\n",
    "science_test_results = sp.ttest_ind(data1['Science'],data0['Science'],equal_var=False)\n",
    "print(\"\\n\\nScience\")\n",
    "print(science_test_results.statistic)\n",
    "print(science_test_results.pvalue / 2)\n"
   ]
  },
  {
   "cell_type": "markdown",
   "metadata": {},
   "source": [
    "- Next, build a linear regression model that describes mathematics scores in terms of reading and science scores. First, extract the scores from our DataFrame, put mathematics scores in their own DataFrame, separate from reading and science scores. Use Linear Regression function from sklearn, and assign it to its own variable. Then, we will fir the model using smaller DataFrames. Finally, print intercept and the coefficients of regression equation"
   ]
  },
  {
   "cell_type": "code",
   "execution_count": 56,
   "metadata": {},
   "outputs": [
    {
     "name": "stdout",
     "output_type": "stream",
     "text": [
      "[1.02301989 0.0516567 ]\n",
      "-38.99549267679225\n"
     ]
    }
   ],
   "source": [
    "import sklearn.linear_model as lm\n",
    "\n",
    "y = data['Math']\n",
    "x = data[['Science','Reading']]\n",
    "\n",
    "model = lm.LinearRegression()\n",
    "model.fit(x,y)\n",
    "print(model.coef_)\n",
    "print(model.intercept_)"
   ]
  },
  {
   "cell_type": "markdown",
   "metadata": {},
   "source": [
    "- Graph the points and the regression and notice that the linear model fits the data well"
   ]
  },
  {
   "cell_type": "code",
   "execution_count": 57,
   "metadata": {},
   "outputs": [
    {
     "data": {
      "image/png": "[encoded data removed]",
      "text/plain": [
       "<Figure size 432x288 with 1 Axes>"
      ]
     },
     "metadata": {
      "needs_background": "light"
     },
     "output_type": "display_data"
    }
   ],
   "source": [
    "import matplotlib.pyplot as plt\n",
    "from mpl_toolkits import mplot3d\n",
    "import numpy as np\n",
    "\n",
    "threedee = plt.figure().gca(projection='3d')\n",
    "threedee.scatter(data['Science'], data['Reading'],data['Math'])\n",
    "threedee.set_xlabel('Science Score')\n",
    "threedee.set_ylabel('Reading Score')\n",
    "threedee.set_zlabel('Math Score')\n",
    "\n",
    "xline = np.linspace(0, 600, 600)\n",
    "yline = np.linspace(0, 600, 600)\n",
    "zline = xline*1.02301989 + yline*0.0516567-38.99549267679242\n",
    "\n",
    "threedee.plot3D(xline, yline, zline, 'red')\n",
    "plt.show()\n"
   ]
  },
  {
   "cell_type": "code",
   "execution_count": null,
   "metadata": {},
   "outputs": [],
   "source": []
  }
 ],
 "metadata": {
  "interpreter": {
   "hash": "9d3bae0a0f66551680ef8a166f6b92cc2774d5d7901f027deb7bb883ed06d5ae"
  },
  "kernelspec": {
   "display_name": "Python 3.7.4 ('base')",
   "language": "python",
   "name": "python3"
  },
  "language_info": {
   "codemirror_mode": {
    "name": "ipython",
    "version": 3
   },
   "file_extension": ".py",
   "mimetype": "text/x-python",
   "name": "python",
   "nbconvert_exporter": "python",
   "pygments_lexer": "ipython3",
   "version": "3.7.4"
  },
  "orig_nbformat": 4
 },
 "nbformat": 4,
 "nbformat_minor": 2
}
