{
 "cells": [
  {
   "cell_type": "code",
   "execution_count": 2,
   "metadata": {},
   "outputs": [
    {
     "data": {
      "text/plain": [
       "16"
      ]
     },
     "execution_count": 2,
     "metadata": {},
     "output_type": "execute_result"
    }
   ],
   "source": [
    "16"
   ]
  },
  {
   "cell_type": "code",
   "execution_count": 3,
   "metadata": {},
   "outputs": [],
   "source": [
    "import random\n",
    "import math\n",
    "\n",
    "import numpy as np\n",
    "import pandas as pd\n",
    "import matplotlib.pyplot as plt\n",
    "\n",
    "from timeit import Timer"
   ]
  },
  {
   "cell_type": "code",
   "execution_count": 4,
   "metadata": {},
   "outputs": [],
   "source": [
    "my_list = list(range(10**6))\n",
    "my_array = np.array(my_list)"
   ]
  },
  {
   "cell_type": "code",
   "execution_count": 5,
   "metadata": {},
   "outputs": [],
   "source": [
    "def for_add():\n",
    "    return [item + 1 for item in my_list]\n",
    "\n",
    "def vec_add():\n",
    "    return my_array + 1"
   ]
  },
  {
   "cell_type": "code",
   "execution_count": 6,
   "metadata": {},
   "outputs": [
    {
     "name": "stdout",
     "output_type": "stream",
     "text": [
      "For loop addition :\n",
      "0.8853031000000016\n",
      "Vectorized addition :\n",
      "0.020530499999999563\n"
     ]
    }
   ],
   "source": [
    "print(\"For loop addition :\")\n",
    "print(min(Timer(for_add).repeat(10, 10)))\n",
    "print(\"Vectorized addition :\")\n",
    "print(min(Timer(vec_add).repeat(10,10)))"
   ]
  },
  {
   "cell_type": "code",
   "execution_count": 7,
   "metadata": {},
   "outputs": [
    {
     "name": "stdout",
     "output_type": "stream",
     "text": [
      "For-loop multiplication:\n",
      "0.9040932999999995\n",
      "Vectorized multiplication:\n",
      "0.022061900000004186\n"
     ]
    }
   ],
   "source": [
    "def for_mul():\n",
    "    return [item * 2 for item in my_list]\n",
    "\n",
    "def vec_mul():\n",
    "    return my_array * 2\n",
    "\n",
    "print('For-loop multiplication:')\n",
    "print(min(Timer(for_mul).repeat(10, 10)))\n",
    "print('Vectorized multiplication:')\n",
    "print(min(Timer(vec_mul).repeat(10, 10)))"
   ]
  },
  {
   "cell_type": "code",
   "execution_count": 8,
   "metadata": {},
   "outputs": [
    {
     "name": "stdout",
     "output_type": "stream",
     "text": [
      "For-loop square root:\n",
      "1.9627419000000046\n",
      "Vectorized square root:\n",
      "0.09173069999999939\n"
     ]
    }
   ],
   "source": [
    "import math\n",
    "\n",
    "def for_sqrt():\n",
    "    return [math.sqrt(item) for item in my_list]\n",
    "\n",
    "def vec_sqrt():\n",
    "    return np.sqrt(my_array)\n",
    "\n",
    "print('For-loop square root:')\n",
    "print(min(Timer(for_sqrt).repeat(10, 10)))\n",
    "print('Vectorized square root:')\n",
    "print(min(Timer(vec_sqrt).repeat(10, 10)))"
   ]
  },
  {
   "cell_type": "code",
   "execution_count": 9,
   "metadata": {},
   "outputs": [
    {
     "data": {
      "text/plain": [
       "-0.3737243397844094"
      ]
     },
     "execution_count": 9,
     "metadata": {},
     "output_type": "execute_result"
    }
   ],
   "source": [
    "sample = np.random.normal()\n",
    "sample"
   ]
  },
  {
   "cell_type": "code",
   "execution_count": 10,
   "metadata": {},
   "outputs": [
    {
     "data": {
      "text/plain": [
       "92.10800421735638"
      ]
     },
     "execution_count": 10,
     "metadata": {},
     "output_type": "execute_result"
    }
   ],
   "source": [
    "sample = np.random.normal(loc=100, scale=10)\n",
    "sample"
   ]
  },
  {
   "cell_type": "code",
   "execution_count": 11,
   "metadata": {},
   "outputs": [
    {
     "data": {
      "text/plain": [
       "array([[ 90.44891587,  95.06395212, 101.94940232],\n",
       "       [ 91.83671022, 130.47454169,  88.61327681]])"
      ]
     },
     "execution_count": 11,
     "metadata": {},
     "output_type": "execute_result"
    }
   ],
   "source": [
    "sample = np.random.normal(loc=100, scale=10,size=(2,3))\n",
    "sample"
   ]
  },
  {
   "cell_type": "code",
   "execution_count": 12,
   "metadata": {},
   "outputs": [
    {
     "data": {
      "text/plain": [
       "array([[ 4, 10],\n",
       "       [12, 12]])"
      ]
     },
     "execution_count": 12,
     "metadata": {},
     "output_type": "execute_result"
    }
   ],
   "source": [
    "samples = np.random.poisson(lam=10, size=(2,2))\n",
    "samples"
   ]
  },
  {
   "cell_type": "code",
   "execution_count": 13,
   "metadata": {},
   "outputs": [
    {
     "data": {
      "text/plain": [
       "array([[3, 2, 1, 0, 2],\n",
       "       [1, 1, 3, 0, 4]])"
      ]
     },
     "execution_count": 13,
     "metadata": {},
     "output_type": "execute_result"
    }
   ],
   "source": [
    "np.random.randint(low=0, high=5, size=(2,5))"
   ]
  },
  {
   "cell_type": "code",
   "execution_count": 14,
   "metadata": {},
   "outputs": [
    {
     "data": {
      "text/plain": [
       "array([[3, 3],\n",
       "       [1, 4]])"
      ]
     },
     "execution_count": 14,
     "metadata": {},
     "output_type": "execute_result"
    }
   ],
   "source": [
    "np.random.choice([1,3,4,-6], size=(2, 2))"
   ]
  },
  {
   "cell_type": "code",
   "execution_count": 15,
   "metadata": {},
   "outputs": [
    {
     "name": "stdout",
     "output_type": "stream",
     "text": [
      "[3, 2, 1, 4]\n",
      "[4, 2, 1, 3]\n",
      "[2, 3, 4, 1]\n"
     ]
    }
   ],
   "source": [
    "a = [1,2,3,4]\n",
    "for _ in range(3):\n",
    "    np.random.shuffle(a)\n",
    "    print(a)"
   ]
  },
  {
   "cell_type": "code",
   "execution_count": 16,
   "metadata": {},
   "outputs": [],
   "source": [
    "import random\n",
    "\n",
    "random.seed(0)"
   ]
  },
  {
   "cell_type": "code",
   "execution_count": 17,
   "metadata": {},
   "outputs": [
    {
     "data": {
      "text/html": [
       "<div>\n",
       "<style scoped>\n",
       "    .dataframe tbody tr th:only-of-type {\n",
       "        vertical-align: middle;\n",
       "    }\n",
       "\n",
       "    .dataframe tbody tr th {\n",
       "        vertical-align: top;\n",
       "    }\n",
       "\n",
       "    .dataframe thead th {\n",
       "        text-align: right;\n",
       "    }\n",
       "</style>\n",
       "<table border=\"1\" class=\"dataframe\">\n",
       "  <thead>\n",
       "    <tr style=\"text-align: right;\">\n",
       "      <th></th>\n",
       "      <th>col1</th>\n",
       "      <th>col2</th>\n",
       "      <th>col3</th>\n",
       "    </tr>\n",
       "  </thead>\n",
       "  <tbody>\n",
       "    <tr>\n",
       "      <td>0</td>\n",
       "      <td>1</td>\n",
       "      <td>3</td>\n",
       "      <td>5</td>\n",
       "    </tr>\n",
       "    <tr>\n",
       "      <td>1</td>\n",
       "      <td>2</td>\n",
       "      <td>4</td>\n",
       "      <td>6</td>\n",
       "    </tr>\n",
       "  </tbody>\n",
       "</table>\n",
       "</div>"
      ],
      "text/plain": [
       "   col1  col2  col3\n",
       "0     1     3     5\n",
       "1     2     4     6"
      ]
     },
     "execution_count": 17,
     "metadata": {},
     "output_type": "execute_result"
    }
   ],
   "source": [
    "import pandas as pd\n",
    "\n",
    "my_dict = {'col1': [1, 2], 'col2': np.array([3, 4]),'col3': [5, 6]}\n",
    "df = pd.DataFrame(my_dict)\n",
    "df"
   ]
  },
  {
   "cell_type": "code",
   "execution_count": 18,
   "metadata": {},
   "outputs": [
    {
     "data": {
      "text/html": [
       "<div>\n",
       "<style scoped>\n",
       "    .dataframe tbody tr th:only-of-type {\n",
       "        vertical-align: middle;\n",
       "    }\n",
       "\n",
       "    .dataframe tbody tr th {\n",
       "        vertical-align: top;\n",
       "    }\n",
       "\n",
       "    .dataframe thead th {\n",
       "        text-align: right;\n",
       "    }\n",
       "</style>\n",
       "<table border=\"1\" class=\"dataframe\">\n",
       "  <thead>\n",
       "    <tr style=\"text-align: right;\">\n",
       "      <th></th>\n",
       "      <th>col1</th>\n",
       "      <th>col2</th>\n",
       "      <th>col3</th>\n",
       "    </tr>\n",
       "  </thead>\n",
       "  <tbody>\n",
       "    <tr>\n",
       "      <td>0</td>\n",
       "      <td>1</td>\n",
       "      <td>3</td>\n",
       "      <td>5</td>\n",
       "    </tr>\n",
       "    <tr>\n",
       "      <td>1</td>\n",
       "      <td>2</td>\n",
       "      <td>4</td>\n",
       "      <td>6</td>\n",
       "    </tr>\n",
       "  </tbody>\n",
       "</table>\n",
       "</div>"
      ],
      "text/plain": [
       "   col1  col2  col3\n",
       "0     1     3     5\n",
       "1     2     4     6"
      ]
     },
     "execution_count": 18,
     "metadata": {},
     "output_type": "execute_result"
    }
   ],
   "source": [
    "my_array = np.array([[1, 3, 5], [2, 4, 6]])\n",
    "alt_df = pd.DataFrame(my_array, columns=['col1', 'col2', 'col3'])\n",
    "alt_df"
   ]
  },
  {
   "cell_type": "code",
   "execution_count": 19,
   "metadata": {},
   "outputs": [
    {
     "data": {
      "text/plain": [
       "col1    2\n",
       "col2    4\n",
       "col3    6\n",
       "Name: 1, dtype: int64"
      ]
     },
     "execution_count": 19,
     "metadata": {},
     "output_type": "execute_result"
    }
   ],
   "source": [
    "df.loc[1]"
   ]
  },
  {
   "cell_type": "code",
   "execution_count": 20,
   "metadata": {},
   "outputs": [
    {
     "data": {
      "text/plain": [
       "col1    1\n",
       "col2    3\n",
       "col3    5\n",
       "Name: 0, dtype: int64"
      ]
     },
     "execution_count": 20,
     "metadata": {},
     "output_type": "execute_result"
    }
   ],
   "source": [
    "df.loc[0]"
   ]
  },
  {
   "cell_type": "code",
   "execution_count": 21,
   "metadata": {},
   "outputs": [
    {
     "data": {
      "text/html": [
       "<div>\n",
       "<style scoped>\n",
       "    .dataframe tbody tr th:only-of-type {\n",
       "        vertical-align: middle;\n",
       "    }\n",
       "\n",
       "    .dataframe tbody tr th {\n",
       "        vertical-align: top;\n",
       "    }\n",
       "\n",
       "    .dataframe thead th {\n",
       "        text-align: right;\n",
       "    }\n",
       "</style>\n",
       "<table border=\"1\" class=\"dataframe\">\n",
       "  <thead>\n",
       "    <tr style=\"text-align: right;\">\n",
       "      <th></th>\n",
       "      <th>col1</th>\n",
       "      <th>col2</th>\n",
       "      <th>col3</th>\n",
       "    </tr>\n",
       "  </thead>\n",
       "  <tbody>\n",
       "    <tr>\n",
       "      <td>1</td>\n",
       "      <td>2</td>\n",
       "      <td>4</td>\n",
       "      <td>6</td>\n",
       "    </tr>\n",
       "    <tr>\n",
       "      <td>0</td>\n",
       "      <td>1</td>\n",
       "      <td>3</td>\n",
       "      <td>5</td>\n",
       "    </tr>\n",
       "  </tbody>\n",
       "</table>\n",
       "</div>"
      ],
      "text/plain": [
       "   col1  col2  col3\n",
       "1     2     4     6\n",
       "0     1     3     5"
      ]
     },
     "execution_count": 21,
     "metadata": {},
     "output_type": "execute_result"
    }
   ],
   "source": [
    "df.loc[[1,0]]"
   ]
  },
  {
   "cell_type": "code",
   "execution_count": 22,
   "metadata": {},
   "outputs": [
    {
     "data": {
      "text/html": [
       "<div>\n",
       "<style scoped>\n",
       "    .dataframe tbody tr th:only-of-type {\n",
       "        vertical-align: middle;\n",
       "    }\n",
       "\n",
       "    .dataframe tbody tr th {\n",
       "        vertical-align: top;\n",
       "    }\n",
       "\n",
       "    .dataframe thead th {\n",
       "        text-align: right;\n",
       "    }\n",
       "</style>\n",
       "<table border=\"1\" class=\"dataframe\">\n",
       "  <thead>\n",
       "    <tr style=\"text-align: right;\">\n",
       "      <th></th>\n",
       "      <th>col1</th>\n",
       "      <th>col2</th>\n",
       "      <th>col3</th>\n",
       "    </tr>\n",
       "  </thead>\n",
       "  <tbody>\n",
       "    <tr>\n",
       "      <td>0</td>\n",
       "      <td>1</td>\n",
       "      <td>3</td>\n",
       "      <td>5</td>\n",
       "    </tr>\n",
       "    <tr>\n",
       "      <td>1</td>\n",
       "      <td>2</td>\n",
       "      <td>4</td>\n",
       "      <td>6</td>\n",
       "    </tr>\n",
       "  </tbody>\n",
       "</table>\n",
       "</div>"
      ],
      "text/plain": [
       "   col1  col2  col3\n",
       "0     1     3     5\n",
       "1     2     4     6"
      ]
     },
     "execution_count": 22,
     "metadata": {},
     "output_type": "execute_result"
    }
   ],
   "source": [
    "df.loc[[0,1]]"
   ]
  },
  {
   "cell_type": "code",
   "execution_count": 23,
   "metadata": {},
   "outputs": [
    {
     "data": {
      "text/plain": [
       "col2    3\n",
       "col3    5\n",
       "Name: 0, dtype: int64"
      ]
     },
     "execution_count": 23,
     "metadata": {},
     "output_type": "execute_result"
    }
   ],
   "source": [
    "df.loc[0, ['col2', 'col3']]"
   ]
  },
  {
   "cell_type": "code",
   "execution_count": 24,
   "metadata": {},
   "outputs": [
    {
     "name": "stdout",
     "output_type": "stream",
     "text": [
      "5\n",
      "6\n"
     ]
    }
   ],
   "source": [
    "for item in df.loc[:,'col3']:\n",
    "    print(item)"
   ]
  },
  {
   "cell_type": "code",
   "execution_count": 25,
   "metadata": {},
   "outputs": [
    {
     "data": {
      "text/html": [
       "<div>\n",
       "<style scoped>\n",
       "    .dataframe tbody tr th:only-of-type {\n",
       "        vertical-align: middle;\n",
       "    }\n",
       "\n",
       "    .dataframe tbody tr th {\n",
       "        vertical-align: top;\n",
       "    }\n",
       "\n",
       "    .dataframe thead th {\n",
       "        text-align: right;\n",
       "    }\n",
       "</style>\n",
       "<table border=\"1\" class=\"dataframe\">\n",
       "  <thead>\n",
       "    <tr style=\"text-align: right;\">\n",
       "      <th></th>\n",
       "      <th>col1</th>\n",
       "      <th>col2</th>\n",
       "      <th>col3</th>\n",
       "    </tr>\n",
       "  </thead>\n",
       "  <tbody>\n",
       "    <tr>\n",
       "      <td>0</td>\n",
       "      <td>3</td>\n",
       "      <td>6</td>\n",
       "      <td>9</td>\n",
       "    </tr>\n",
       "    <tr>\n",
       "      <td>1</td>\n",
       "      <td>2</td>\n",
       "      <td>4</td>\n",
       "      <td>6</td>\n",
       "    </tr>\n",
       "  </tbody>\n",
       "</table>\n",
       "</div>"
      ],
      "text/plain": [
       "   col1  col2  col3\n",
       "0     3     6     9\n",
       "1     2     4     6"
      ]
     },
     "execution_count": 25,
     "metadata": {},
     "output_type": "execute_result"
    }
   ],
   "source": [
    "df.loc[0] = [3,6,9]\n",
    "df"
   ]
  },
  {
   "cell_type": "code",
   "execution_count": 26,
   "metadata": {},
   "outputs": [
    {
     "data": {
      "text/html": [
       "<div>\n",
       "<style scoped>\n",
       "    .dataframe tbody tr th:only-of-type {\n",
       "        vertical-align: middle;\n",
       "    }\n",
       "\n",
       "    .dataframe tbody tr th {\n",
       "        vertical-align: top;\n",
       "    }\n",
       "\n",
       "    .dataframe thead th {\n",
       "        text-align: right;\n",
       "    }\n",
       "</style>\n",
       "<table border=\"1\" class=\"dataframe\">\n",
       "  <thead>\n",
       "    <tr style=\"text-align: right;\">\n",
       "      <th></th>\n",
       "      <th>col1</th>\n",
       "      <th>col2</th>\n",
       "      <th>col3</th>\n",
       "    </tr>\n",
       "  </thead>\n",
       "  <tbody>\n",
       "    <tr>\n",
       "      <td>0</td>\n",
       "      <td>3</td>\n",
       "      <td>0</td>\n",
       "      <td>9</td>\n",
       "    </tr>\n",
       "    <tr>\n",
       "      <td>1</td>\n",
       "      <td>2</td>\n",
       "      <td>0</td>\n",
       "      <td>6</td>\n",
       "    </tr>\n",
       "  </tbody>\n",
       "</table>\n",
       "</div>"
      ],
      "text/plain": [
       "   col1  col2  col3\n",
       "0     3     0     9\n",
       "1     2     0     6"
      ]
     },
     "execution_count": 26,
     "metadata": {},
     "output_type": "execute_result"
    }
   ],
   "source": [
    "df['col2'] = [0,0]\n",
    "df"
   ]
  },
  {
   "cell_type": "code",
   "execution_count": 27,
   "metadata": {},
   "outputs": [
    {
     "data": {
      "text/html": [
       "<div>\n",
       "<style scoped>\n",
       "    .dataframe tbody tr th:only-of-type {\n",
       "        vertical-align: middle;\n",
       "    }\n",
       "\n",
       "    .dataframe tbody tr th {\n",
       "        vertical-align: top;\n",
       "    }\n",
       "\n",
       "    .dataframe thead th {\n",
       "        text-align: right;\n",
       "    }\n",
       "</style>\n",
       "<table border=\"1\" class=\"dataframe\">\n",
       "  <thead>\n",
       "    <tr style=\"text-align: right;\">\n",
       "      <th></th>\n",
       "      <th>col1</th>\n",
       "      <th>col2</th>\n",
       "      <th>col3</th>\n",
       "      <th>col4</th>\n",
       "    </tr>\n",
       "  </thead>\n",
       "  <tbody>\n",
       "    <tr>\n",
       "      <td>0</td>\n",
       "      <td>3</td>\n",
       "      <td>0</td>\n",
       "      <td>9</td>\n",
       "      <td>10</td>\n",
       "    </tr>\n",
       "    <tr>\n",
       "      <td>1</td>\n",
       "      <td>2</td>\n",
       "      <td>0</td>\n",
       "      <td>6</td>\n",
       "      <td>10</td>\n",
       "    </tr>\n",
       "  </tbody>\n",
       "</table>\n",
       "</div>"
      ],
      "text/plain": [
       "   col1  col2  col3  col4\n",
       "0     3     0     9    10\n",
       "1     2     0     6    10"
      ]
     },
     "execution_count": 27,
     "metadata": {},
     "output_type": "execute_result"
    }
   ],
   "source": [
    "df['col4'] = [10,10]\n",
    "df"
   ]
  },
  {
   "cell_type": "code",
   "execution_count": 28,
   "metadata": {},
   "outputs": [],
   "source": [
    "df.loc[3] = [1,2,3,4]"
   ]
  },
  {
   "cell_type": "code",
   "execution_count": 29,
   "metadata": {},
   "outputs": [
    {
     "data": {
      "text/html": [
       "<div>\n",
       "<style scoped>\n",
       "    .dataframe tbody tr th:only-of-type {\n",
       "        vertical-align: middle;\n",
       "    }\n",
       "\n",
       "    .dataframe tbody tr th {\n",
       "        vertical-align: top;\n",
       "    }\n",
       "\n",
       "    .dataframe thead th {\n",
       "        text-align: right;\n",
       "    }\n",
       "</style>\n",
       "<table border=\"1\" class=\"dataframe\">\n",
       "  <thead>\n",
       "    <tr style=\"text-align: right;\">\n",
       "      <th></th>\n",
       "      <th>col1</th>\n",
       "      <th>col2</th>\n",
       "      <th>col3</th>\n",
       "      <th>col4</th>\n",
       "    </tr>\n",
       "  </thead>\n",
       "  <tbody>\n",
       "    <tr>\n",
       "      <td>0</td>\n",
       "      <td>3</td>\n",
       "      <td>0</td>\n",
       "      <td>9</td>\n",
       "      <td>10</td>\n",
       "    </tr>\n",
       "    <tr>\n",
       "      <td>1</td>\n",
       "      <td>2</td>\n",
       "      <td>0</td>\n",
       "      <td>6</td>\n",
       "      <td>10</td>\n",
       "    </tr>\n",
       "    <tr>\n",
       "      <td>3</td>\n",
       "      <td>1</td>\n",
       "      <td>2</td>\n",
       "      <td>3</td>\n",
       "      <td>4</td>\n",
       "    </tr>\n",
       "  </tbody>\n",
       "</table>\n",
       "</div>"
      ],
      "text/plain": [
       "   col1  col2  col3  col4\n",
       "0     3     0     9    10\n",
       "1     2     0     6    10\n",
       "3     1     2     3     4"
      ]
     },
     "execution_count": 29,
     "metadata": {},
     "output_type": "execute_result"
    }
   ],
   "source": [
    "df"
   ]
  },
  {
   "cell_type": "code",
   "execution_count": 30,
   "metadata": {},
   "outputs": [],
   "source": [
    "df = pd.read_csv('D:\\RESEARCH\\Dasarnya\\MATH\\Step_4_Statistics and Calculus Python\\Source Code\\The-Statistics-and-Calculus-with-Python-Workshop\\Chapter02\\Exercise2.02\\dataset.csv',index_col='id')"
   ]
  },
  {
   "cell_type": "code",
   "execution_count": 31,
   "metadata": {},
   "outputs": [
    {
     "data": {
      "text/html": [
       "<div>\n",
       "<style scoped>\n",
       "    .dataframe tbody tr th:only-of-type {\n",
       "        vertical-align: middle;\n",
       "    }\n",
       "\n",
       "    .dataframe tbody tr th {\n",
       "        vertical-align: top;\n",
       "    }\n",
       "\n",
       "    .dataframe thead th {\n",
       "        text-align: right;\n",
       "    }\n",
       "</style>\n",
       "<table border=\"1\" class=\"dataframe\">\n",
       "  <thead>\n",
       "    <tr style=\"text-align: right;\">\n",
       "      <th></th>\n",
       "      <th>x</th>\n",
       "      <th>y</th>\n",
       "      <th>z</th>\n",
       "    </tr>\n",
       "    <tr>\n",
       "      <th>id</th>\n",
       "      <th></th>\n",
       "      <th></th>\n",
       "      <th></th>\n",
       "    </tr>\n",
       "  </thead>\n",
       "  <tbody>\n",
       "    <tr>\n",
       "      <td>0</td>\n",
       "      <td>1</td>\n",
       "      <td>1.0</td>\n",
       "      <td>3.0</td>\n",
       "    </tr>\n",
       "    <tr>\n",
       "      <td>1</td>\n",
       "      <td>1</td>\n",
       "      <td>0.0</td>\n",
       "      <td>9.0</td>\n",
       "    </tr>\n",
       "    <tr>\n",
       "      <td>2</td>\n",
       "      <td>1</td>\n",
       "      <td>3.0</td>\n",
       "      <td>NaN</td>\n",
       "    </tr>\n",
       "    <tr>\n",
       "      <td>3</td>\n",
       "      <td>2</td>\n",
       "      <td>0.0</td>\n",
       "      <td>10.0</td>\n",
       "    </tr>\n",
       "    <tr>\n",
       "      <td>4</td>\n",
       "      <td>1</td>\n",
       "      <td>NaN</td>\n",
       "      <td>4.0</td>\n",
       "    </tr>\n",
       "    <tr>\n",
       "      <td>5</td>\n",
       "      <td>2</td>\n",
       "      <td>2.0</td>\n",
       "      <td>3.0</td>\n",
       "    </tr>\n",
       "  </tbody>\n",
       "</table>\n",
       "</div>"
      ],
      "text/plain": [
       "    x    y     z\n",
       "id              \n",
       "0   1  1.0   3.0\n",
       "1   1  0.0   9.0\n",
       "2   1  3.0   NaN\n",
       "3   2  0.0  10.0\n",
       "4   1  NaN   4.0\n",
       "5   2  2.0   3.0"
      ]
     },
     "execution_count": 31,
     "metadata": {},
     "output_type": "execute_result"
    }
   ],
   "source": [
    "df"
   ]
  },
  {
   "cell_type": "code",
   "execution_count": 32,
   "metadata": {},
   "outputs": [],
   "source": [
    "df = df.rename(columns = {'x':'col_x','y':'col_y','z':'col_z'})"
   ]
  },
  {
   "cell_type": "code",
   "execution_count": 33,
   "metadata": {},
   "outputs": [
    {
     "data": {
      "text/html": [
       "<div>\n",
       "<style scoped>\n",
       "    .dataframe tbody tr th:only-of-type {\n",
       "        vertical-align: middle;\n",
       "    }\n",
       "\n",
       "    .dataframe tbody tr th {\n",
       "        vertical-align: top;\n",
       "    }\n",
       "\n",
       "    .dataframe thead th {\n",
       "        text-align: right;\n",
       "    }\n",
       "</style>\n",
       "<table border=\"1\" class=\"dataframe\">\n",
       "  <thead>\n",
       "    <tr style=\"text-align: right;\">\n",
       "      <th></th>\n",
       "      <th>col_x</th>\n",
       "      <th>col_y</th>\n",
       "      <th>col_z</th>\n",
       "    </tr>\n",
       "    <tr>\n",
       "      <th>id</th>\n",
       "      <th></th>\n",
       "      <th></th>\n",
       "      <th></th>\n",
       "    </tr>\n",
       "  </thead>\n",
       "  <tbody>\n",
       "    <tr>\n",
       "      <td>0</td>\n",
       "      <td>1</td>\n",
       "      <td>1.0</td>\n",
       "      <td>3.0</td>\n",
       "    </tr>\n",
       "    <tr>\n",
       "      <td>1</td>\n",
       "      <td>1</td>\n",
       "      <td>0.0</td>\n",
       "      <td>9.0</td>\n",
       "    </tr>\n",
       "    <tr>\n",
       "      <td>2</td>\n",
       "      <td>1</td>\n",
       "      <td>3.0</td>\n",
       "      <td>NaN</td>\n",
       "    </tr>\n",
       "    <tr>\n",
       "      <td>3</td>\n",
       "      <td>2</td>\n",
       "      <td>0.0</td>\n",
       "      <td>10.0</td>\n",
       "    </tr>\n",
       "    <tr>\n",
       "      <td>4</td>\n",
       "      <td>1</td>\n",
       "      <td>NaN</td>\n",
       "      <td>4.0</td>\n",
       "    </tr>\n",
       "    <tr>\n",
       "      <td>5</td>\n",
       "      <td>2</td>\n",
       "      <td>2.0</td>\n",
       "      <td>3.0</td>\n",
       "    </tr>\n",
       "  </tbody>\n",
       "</table>\n",
       "</div>"
      ],
      "text/plain": [
       "    col_x  col_y  col_z\n",
       "id                     \n",
       "0       1    1.0    3.0\n",
       "1       1    0.0    9.0\n",
       "2       1    3.0    NaN\n",
       "3       2    0.0   10.0\n",
       "4       1    NaN    4.0\n",
       "5       2    2.0    3.0"
      ]
     },
     "execution_count": 33,
     "metadata": {},
     "output_type": "execute_result"
    }
   ],
   "source": [
    "df"
   ]
  },
  {
   "cell_type": "code",
   "execution_count": 34,
   "metadata": {},
   "outputs": [
    {
     "data": {
      "text/html": [
       "<div>\n",
       "<style scoped>\n",
       "    .dataframe tbody tr th:only-of-type {\n",
       "        vertical-align: middle;\n",
       "    }\n",
       "\n",
       "    .dataframe tbody tr th {\n",
       "        vertical-align: top;\n",
       "    }\n",
       "\n",
       "    .dataframe thead th {\n",
       "        text-align: right;\n",
       "    }\n",
       "</style>\n",
       "<table border=\"1\" class=\"dataframe\">\n",
       "  <thead>\n",
       "    <tr style=\"text-align: right;\">\n",
       "      <th></th>\n",
       "      <th>col_x</th>\n",
       "      <th>col_y</th>\n",
       "      <th>col_z</th>\n",
       "    </tr>\n",
       "    <tr>\n",
       "      <th>id</th>\n",
       "      <th></th>\n",
       "      <th></th>\n",
       "      <th></th>\n",
       "    </tr>\n",
       "  </thead>\n",
       "  <tbody>\n",
       "    <tr>\n",
       "      <td>0</td>\n",
       "      <td>1</td>\n",
       "      <td>1.0</td>\n",
       "      <td>3.0</td>\n",
       "    </tr>\n",
       "    <tr>\n",
       "      <td>1</td>\n",
       "      <td>1</td>\n",
       "      <td>0.0</td>\n",
       "      <td>9.0</td>\n",
       "    </tr>\n",
       "    <tr>\n",
       "      <td>2</td>\n",
       "      <td>1</td>\n",
       "      <td>3.0</td>\n",
       "      <td>0.0</td>\n",
       "    </tr>\n",
       "    <tr>\n",
       "      <td>3</td>\n",
       "      <td>2</td>\n",
       "      <td>0.0</td>\n",
       "      <td>10.0</td>\n",
       "    </tr>\n",
       "    <tr>\n",
       "      <td>4</td>\n",
       "      <td>1</td>\n",
       "      <td>0.0</td>\n",
       "      <td>4.0</td>\n",
       "    </tr>\n",
       "    <tr>\n",
       "      <td>5</td>\n",
       "      <td>2</td>\n",
       "      <td>2.0</td>\n",
       "      <td>3.0</td>\n",
       "    </tr>\n",
       "  </tbody>\n",
       "</table>\n",
       "</div>"
      ],
      "text/plain": [
       "    col_x  col_y  col_z\n",
       "id                     \n",
       "0       1    1.0    3.0\n",
       "1       1    0.0    9.0\n",
       "2       1    3.0    0.0\n",
       "3       2    0.0   10.0\n",
       "4       1    0.0    4.0\n",
       "5       2    2.0    3.0"
      ]
     },
     "execution_count": 34,
     "metadata": {},
     "output_type": "execute_result"
    }
   ],
   "source": [
    "df = df.fillna(0)\n",
    "df"
   ]
  },
  {
   "cell_type": "code",
   "execution_count": 35,
   "metadata": {},
   "outputs": [
    {
     "data": {
      "text/html": [
       "<div>\n",
       "<style scoped>\n",
       "    .dataframe tbody tr th:only-of-type {\n",
       "        vertical-align: middle;\n",
       "    }\n",
       "\n",
       "    .dataframe tbody tr th {\n",
       "        vertical-align: top;\n",
       "    }\n",
       "\n",
       "    .dataframe thead th {\n",
       "        text-align: right;\n",
       "    }\n",
       "</style>\n",
       "<table border=\"1\" class=\"dataframe\">\n",
       "  <thead>\n",
       "    <tr style=\"text-align: right;\">\n",
       "      <th></th>\n",
       "      <th>col_x</th>\n",
       "      <th>col_y</th>\n",
       "      <th>col_z</th>\n",
       "    </tr>\n",
       "    <tr>\n",
       "      <th>id</th>\n",
       "      <th></th>\n",
       "      <th></th>\n",
       "      <th></th>\n",
       "    </tr>\n",
       "  </thead>\n",
       "  <tbody>\n",
       "    <tr>\n",
       "      <td>0</td>\n",
       "      <td>1</td>\n",
       "      <td>1</td>\n",
       "      <td>3</td>\n",
       "    </tr>\n",
       "    <tr>\n",
       "      <td>1</td>\n",
       "      <td>1</td>\n",
       "      <td>0</td>\n",
       "      <td>9</td>\n",
       "    </tr>\n",
       "    <tr>\n",
       "      <td>2</td>\n",
       "      <td>1</td>\n",
       "      <td>3</td>\n",
       "      <td>0</td>\n",
       "    </tr>\n",
       "    <tr>\n",
       "      <td>3</td>\n",
       "      <td>2</td>\n",
       "      <td>0</td>\n",
       "      <td>10</td>\n",
       "    </tr>\n",
       "    <tr>\n",
       "      <td>4</td>\n",
       "      <td>1</td>\n",
       "      <td>0</td>\n",
       "      <td>4</td>\n",
       "    </tr>\n",
       "    <tr>\n",
       "      <td>5</td>\n",
       "      <td>2</td>\n",
       "      <td>2</td>\n",
       "      <td>3</td>\n",
       "    </tr>\n",
       "  </tbody>\n",
       "</table>\n",
       "</div>"
      ],
      "text/plain": [
       "    col_x  col_y  col_z\n",
       "id                     \n",
       "0       1      1      3\n",
       "1       1      0      9\n",
       "2       1      3      0\n",
       "3       2      0     10\n",
       "4       1      0      4\n",
       "5       2      2      3"
      ]
     },
     "execution_count": 35,
     "metadata": {},
     "output_type": "execute_result"
    }
   ],
   "source": [
    "df = df.astype(int)\n",
    "df"
   ]
  },
  {
   "cell_type": "code",
   "execution_count": 36,
   "metadata": {},
   "outputs": [
    {
     "data": {
      "text/html": [
       "<div>\n",
       "<style scoped>\n",
       "    .dataframe tbody tr th:only-of-type {\n",
       "        vertical-align: middle;\n",
       "    }\n",
       "\n",
       "    .dataframe tbody tr th {\n",
       "        vertical-align: top;\n",
       "    }\n",
       "\n",
       "    .dataframe thead th {\n",
       "        text-align: right;\n",
       "    }\n",
       "</style>\n",
       "<table border=\"1\" class=\"dataframe\">\n",
       "  <thead>\n",
       "    <tr style=\"text-align: right;\">\n",
       "      <th></th>\n",
       "      <th>col_x</th>\n",
       "      <th>col_y</th>\n",
       "      <th>col_z</th>\n",
       "    </tr>\n",
       "    <tr>\n",
       "      <th>id</th>\n",
       "      <th></th>\n",
       "      <th></th>\n",
       "      <th></th>\n",
       "    </tr>\n",
       "  </thead>\n",
       "  <tbody>\n",
       "    <tr>\n",
       "      <td>0</td>\n",
       "      <td>1</td>\n",
       "      <td>1</td>\n",
       "      <td>3</td>\n",
       "    </tr>\n",
       "    <tr>\n",
       "      <td>2</td>\n",
       "      <td>1</td>\n",
       "      <td>3</td>\n",
       "      <td>0</td>\n",
       "    </tr>\n",
       "    <tr>\n",
       "      <td>5</td>\n",
       "      <td>2</td>\n",
       "      <td>2</td>\n",
       "      <td>3</td>\n",
       "    </tr>\n",
       "  </tbody>\n",
       "</table>\n",
       "</div>"
      ],
      "text/plain": [
       "    col_x  col_y  col_z\n",
       "id                     \n",
       "0       1      1      3\n",
       "2       1      3      0\n",
       "5       2      2      3"
      ]
     },
     "execution_count": 36,
     "metadata": {},
     "output_type": "execute_result"
    }
   ],
   "source": [
    "df = df.drop([1,3,4], axis=0)\n",
    "df"
   ]
  },
  {
   "cell_type": "code",
   "execution_count": 37,
   "metadata": {},
   "outputs": [
    {
     "data": {
      "text/html": [
       "<div>\n",
       "<style scoped>\n",
       "    .dataframe tbody tr th:only-of-type {\n",
       "        vertical-align: middle;\n",
       "    }\n",
       "\n",
       "    .dataframe tbody tr th {\n",
       "        vertical-align: top;\n",
       "    }\n",
       "\n",
       "    .dataframe thead th {\n",
       "        text-align: right;\n",
       "    }\n",
       "</style>\n",
       "<table border=\"1\" class=\"dataframe\">\n",
       "  <thead>\n",
       "    <tr style=\"text-align: right;\">\n",
       "      <th></th>\n",
       "      <th>col_x</th>\n",
       "      <th>col_y</th>\n",
       "      <th>col_z</th>\n",
       "    </tr>\n",
       "  </thead>\n",
       "  <tbody>\n",
       "    <tr>\n",
       "      <td>0</td>\n",
       "      <td>0.0</td>\n",
       "      <td>0.0</td>\n",
       "      <td>0.0</td>\n",
       "    </tr>\n",
       "    <tr>\n",
       "      <td>1</td>\n",
       "      <td>0.0</td>\n",
       "      <td>0.0</td>\n",
       "      <td>0.0</td>\n",
       "    </tr>\n",
       "  </tbody>\n",
       "</table>\n",
       "</div>"
      ],
      "text/plain": [
       "   col_x  col_y  col_z\n",
       "0    0.0    0.0    0.0\n",
       "1    0.0    0.0    0.0"
      ]
     },
     "execution_count": 37,
     "metadata": {},
     "output_type": "execute_result"
    }
   ],
   "source": [
    "zero_df = pd.DataFrame(np.zeros((2,3)),columns=['col_x','col_y','col_z'])\n",
    "zero_df"
   ]
  },
  {
   "cell_type": "code",
   "execution_count": 38,
   "metadata": {},
   "outputs": [
    {
     "data": {
      "text/html": [
       "<div>\n",
       "<style scoped>\n",
       "    .dataframe tbody tr th:only-of-type {\n",
       "        vertical-align: middle;\n",
       "    }\n",
       "\n",
       "    .dataframe tbody tr th {\n",
       "        vertical-align: top;\n",
       "    }\n",
       "\n",
       "    .dataframe thead th {\n",
       "        text-align: right;\n",
       "    }\n",
       "</style>\n",
       "<table border=\"1\" class=\"dataframe\">\n",
       "  <thead>\n",
       "    <tr style=\"text-align: right;\">\n",
       "      <th></th>\n",
       "      <th>col_x</th>\n",
       "      <th>col_y</th>\n",
       "      <th>col_z</th>\n",
       "    </tr>\n",
       "  </thead>\n",
       "  <tbody>\n",
       "    <tr>\n",
       "      <td>0</td>\n",
       "      <td>1.0</td>\n",
       "      <td>1.0</td>\n",
       "      <td>3.0</td>\n",
       "    </tr>\n",
       "    <tr>\n",
       "      <td>2</td>\n",
       "      <td>1.0</td>\n",
       "      <td>3.0</td>\n",
       "      <td>0.0</td>\n",
       "    </tr>\n",
       "    <tr>\n",
       "      <td>5</td>\n",
       "      <td>2.0</td>\n",
       "      <td>2.0</td>\n",
       "      <td>3.0</td>\n",
       "    </tr>\n",
       "    <tr>\n",
       "      <td>0</td>\n",
       "      <td>0.0</td>\n",
       "      <td>0.0</td>\n",
       "      <td>0.0</td>\n",
       "    </tr>\n",
       "    <tr>\n",
       "      <td>1</td>\n",
       "      <td>0.0</td>\n",
       "      <td>0.0</td>\n",
       "      <td>0.0</td>\n",
       "    </tr>\n",
       "  </tbody>\n",
       "</table>\n",
       "</div>"
      ],
      "text/plain": [
       "   col_x  col_y  col_z\n",
       "0    1.0    1.0    3.0\n",
       "2    1.0    3.0    0.0\n",
       "5    2.0    2.0    3.0\n",
       "0    0.0    0.0    0.0\n",
       "1    0.0    0.0    0.0"
      ]
     },
     "execution_count": 38,
     "metadata": {},
     "output_type": "execute_result"
    }
   ],
   "source": [
    "df = pd.concat([df, zero_df], axis=0)\n",
    "df"
   ]
  },
  {
   "cell_type": "code",
   "execution_count": 39,
   "metadata": {},
   "outputs": [
    {
     "data": {
      "text/html": [
       "<div>\n",
       "<style scoped>\n",
       "    .dataframe tbody tr th:only-of-type {\n",
       "        vertical-align: middle;\n",
       "    }\n",
       "\n",
       "    .dataframe tbody tr th {\n",
       "        vertical-align: top;\n",
       "    }\n",
       "\n",
       "    .dataframe thead th {\n",
       "        text-align: right;\n",
       "    }\n",
       "</style>\n",
       "<table border=\"1\" class=\"dataframe\">\n",
       "  <thead>\n",
       "    <tr style=\"text-align: right;\">\n",
       "      <th></th>\n",
       "      <th>col_x</th>\n",
       "      <th>col_y</th>\n",
       "      <th>col_z</th>\n",
       "    </tr>\n",
       "  </thead>\n",
       "  <tbody>\n",
       "    <tr>\n",
       "      <td>0</td>\n",
       "      <td>0.0</td>\n",
       "      <td>0.0</td>\n",
       "      <td>0.0</td>\n",
       "    </tr>\n",
       "    <tr>\n",
       "      <td>1</td>\n",
       "      <td>0.0</td>\n",
       "      <td>0.0</td>\n",
       "      <td>0.0</td>\n",
       "    </tr>\n",
       "    <tr>\n",
       "      <td>0</td>\n",
       "      <td>1.0</td>\n",
       "      <td>1.0</td>\n",
       "      <td>3.0</td>\n",
       "    </tr>\n",
       "    <tr>\n",
       "      <td>2</td>\n",
       "      <td>1.0</td>\n",
       "      <td>3.0</td>\n",
       "      <td>0.0</td>\n",
       "    </tr>\n",
       "    <tr>\n",
       "      <td>5</td>\n",
       "      <td>2.0</td>\n",
       "      <td>2.0</td>\n",
       "      <td>3.0</td>\n",
       "    </tr>\n",
       "  </tbody>\n",
       "</table>\n",
       "</div>"
      ],
      "text/plain": [
       "   col_x  col_y  col_z\n",
       "0    0.0    0.0    0.0\n",
       "1    0.0    0.0    0.0\n",
       "0    1.0    1.0    3.0\n",
       "2    1.0    3.0    0.0\n",
       "5    2.0    2.0    3.0"
      ]
     },
     "execution_count": 39,
     "metadata": {},
     "output_type": "execute_result"
    }
   ],
   "source": [
    "df = df.sort_values('col_x', axis=0)\n",
    "df"
   ]
  },
  {
   "cell_type": "code",
   "execution_count": 40,
   "metadata": {},
   "outputs": [],
   "source": [
    "df = df.astype(int)\n",
    "df.to_csv('D:\\RESEARCH\\Dasarnya\\MATH\\Step_4_Statistics and Calculus Python\\My Source Code\\Work_2\\output.csv', index=False)"
   ]
  },
  {
   "cell_type": "code",
   "execution_count": 41,
   "metadata": {},
   "outputs": [
    {
     "data": {
      "text/html": [
       "<div>\n",
       "<style scoped>\n",
       "    .dataframe tbody tr th:only-of-type {\n",
       "        vertical-align: middle;\n",
       "    }\n",
       "\n",
       "    .dataframe tbody tr th {\n",
       "        vertical-align: top;\n",
       "    }\n",
       "\n",
       "    .dataframe thead th {\n",
       "        text-align: right;\n",
       "    }\n",
       "</style>\n",
       "<table border=\"1\" class=\"dataframe\">\n",
       "  <thead>\n",
       "    <tr style=\"text-align: right;\">\n",
       "      <th></th>\n",
       "      <th>x</th>\n",
       "      <th>y</th>\n",
       "      <th>z</th>\n",
       "    </tr>\n",
       "  </thead>\n",
       "  <tbody>\n",
       "    <tr>\n",
       "      <td>0</td>\n",
       "      <td>1</td>\n",
       "      <td>-3</td>\n",
       "      <td>1</td>\n",
       "    </tr>\n",
       "    <tr>\n",
       "      <td>1</td>\n",
       "      <td>2</td>\n",
       "      <td>6</td>\n",
       "      <td>3</td>\n",
       "    </tr>\n",
       "    <tr>\n",
       "      <td>2</td>\n",
       "      <td>-1</td>\n",
       "      <td>5</td>\n",
       "      <td>2</td>\n",
       "    </tr>\n",
       "  </tbody>\n",
       "</table>\n",
       "</div>"
      ],
      "text/plain": [
       "   x  y  z\n",
       "0  1 -3  1\n",
       "1  2  6  3\n",
       "2 -1  5  2"
      ]
     },
     "execution_count": 41,
     "metadata": {},
     "output_type": "execute_result"
    }
   ],
   "source": [
    "df = pd.DataFrame({'x':[1,2,-1],'y':[-3,6,5],'z':[1,3,2]})\n",
    "df"
   ]
  },
  {
   "cell_type": "code",
   "execution_count": 42,
   "metadata": {},
   "outputs": [
    {
     "data": {
      "text/html": [
       "<div>\n",
       "<style scoped>\n",
       "    .dataframe tbody tr th:only-of-type {\n",
       "        vertical-align: middle;\n",
       "    }\n",
       "\n",
       "    .dataframe tbody tr th {\n",
       "        vertical-align: top;\n",
       "    }\n",
       "\n",
       "    .dataframe thead th {\n",
       "        text-align: right;\n",
       "    }\n",
       "</style>\n",
       "<table border=\"1\" class=\"dataframe\">\n",
       "  <thead>\n",
       "    <tr style=\"text-align: right;\">\n",
       "      <th></th>\n",
       "      <th>x</th>\n",
       "      <th>y</th>\n",
       "      <th>z</th>\n",
       "      <th>x_squared</th>\n",
       "    </tr>\n",
       "  </thead>\n",
       "  <tbody>\n",
       "    <tr>\n",
       "      <td>0</td>\n",
       "      <td>1</td>\n",
       "      <td>-3</td>\n",
       "      <td>1</td>\n",
       "      <td>1</td>\n",
       "    </tr>\n",
       "    <tr>\n",
       "      <td>1</td>\n",
       "      <td>2</td>\n",
       "      <td>6</td>\n",
       "      <td>3</td>\n",
       "      <td>4</td>\n",
       "    </tr>\n",
       "    <tr>\n",
       "      <td>2</td>\n",
       "      <td>-1</td>\n",
       "      <td>5</td>\n",
       "      <td>2</td>\n",
       "      <td>1</td>\n",
       "    </tr>\n",
       "  </tbody>\n",
       "</table>\n",
       "</div>"
      ],
      "text/plain": [
       "   x  y  z  x_squared\n",
       "0  1 -3  1          1\n",
       "1  2  6  3          4\n",
       "2 -1  5  2          1"
      ]
     },
     "execution_count": 42,
     "metadata": {},
     "output_type": "execute_result"
    }
   ],
   "source": [
    "df['x_squared'] = df['x'].apply(lambda x: x**2)\n",
    "df"
   ]
  },
  {
   "cell_type": "code",
   "execution_count": 43,
   "metadata": {},
   "outputs": [
    {
     "data": {
      "text/html": [
       "<div>\n",
       "<style scoped>\n",
       "    .dataframe tbody tr th:only-of-type {\n",
       "        vertical-align: middle;\n",
       "    }\n",
       "\n",
       "    .dataframe tbody tr th {\n",
       "        vertical-align: top;\n",
       "    }\n",
       "\n",
       "    .dataframe thead th {\n",
       "        text-align: right;\n",
       "    }\n",
       "</style>\n",
       "<table border=\"1\" class=\"dataframe\">\n",
       "  <thead>\n",
       "    <tr style=\"text-align: right;\">\n",
       "      <th></th>\n",
       "      <th>x</th>\n",
       "      <th>y</th>\n",
       "      <th>z</th>\n",
       "      <th>x_squared</th>\n",
       "      <th>x_parity</th>\n",
       "    </tr>\n",
       "  </thead>\n",
       "  <tbody>\n",
       "    <tr>\n",
       "      <td>0</td>\n",
       "      <td>1</td>\n",
       "      <td>-3</td>\n",
       "      <td>1</td>\n",
       "      <td>1</td>\n",
       "      <td>odd</td>\n",
       "    </tr>\n",
       "    <tr>\n",
       "      <td>1</td>\n",
       "      <td>2</td>\n",
       "      <td>6</td>\n",
       "      <td>3</td>\n",
       "      <td>4</td>\n",
       "      <td>even</td>\n",
       "    </tr>\n",
       "    <tr>\n",
       "      <td>2</td>\n",
       "      <td>-1</td>\n",
       "      <td>5</td>\n",
       "      <td>2</td>\n",
       "      <td>1</td>\n",
       "      <td>odd</td>\n",
       "    </tr>\n",
       "  </tbody>\n",
       "</table>\n",
       "</div>"
      ],
      "text/plain": [
       "   x  y  z  x_squared x_parity\n",
       "0  1 -3  1          1      odd\n",
       "1  2  6  3          4     even\n",
       "2 -1  5  2          1      odd"
      ]
     },
     "execution_count": 43,
     "metadata": {},
     "output_type": "execute_result"
    }
   ],
   "source": [
    "def parity_str(x):\n",
    "    if x%2 == 0:\n",
    "        return 'even'\n",
    "    return 'odd'\n",
    "\n",
    "df['x_parity'] = df['x'].apply(parity_str)\n",
    "df"
   ]
  },
  {
   "cell_type": "code",
   "execution_count": 44,
   "metadata": {},
   "outputs": [
    {
     "data": {
      "text/plain": [
       "0     odd\n",
       "1    even\n",
       "2     odd\n",
       "Name: x_parity, dtype: object"
      ]
     },
     "execution_count": 44,
     "metadata": {},
     "output_type": "execute_result"
    }
   ],
   "source": [
    "df['x_parity']"
   ]
  },
  {
   "cell_type": "code",
   "execution_count": 45,
   "metadata": {},
   "outputs": [
    {
     "data": {
      "text/html": [
       "<div>\n",
       "<style scoped>\n",
       "    .dataframe tbody tr th:only-of-type {\n",
       "        vertical-align: middle;\n",
       "    }\n",
       "\n",
       "    .dataframe tbody tr th {\n",
       "        vertical-align: top;\n",
       "    }\n",
       "\n",
       "    .dataframe thead th {\n",
       "        text-align: right;\n",
       "    }\n",
       "</style>\n",
       "<table border=\"1\" class=\"dataframe\">\n",
       "  <thead>\n",
       "    <tr style=\"text-align: right;\">\n",
       "      <th></th>\n",
       "      <th>even</th>\n",
       "      <th>odd</th>\n",
       "    </tr>\n",
       "  </thead>\n",
       "  <tbody>\n",
       "    <tr>\n",
       "      <td>0</td>\n",
       "      <td>0</td>\n",
       "      <td>1</td>\n",
       "    </tr>\n",
       "    <tr>\n",
       "      <td>1</td>\n",
       "      <td>1</td>\n",
       "      <td>0</td>\n",
       "    </tr>\n",
       "    <tr>\n",
       "      <td>2</td>\n",
       "      <td>0</td>\n",
       "      <td>1</td>\n",
       "    </tr>\n",
       "  </tbody>\n",
       "</table>\n",
       "</div>"
      ],
      "text/plain": [
       "   even  odd\n",
       "0     0    1\n",
       "1     1    0\n",
       "2     0    1"
      ]
     },
     "execution_count": 45,
     "metadata": {},
     "output_type": "execute_result"
    }
   ],
   "source": [
    "pd.get_dummies(df['x_parity'])"
   ]
  },
  {
   "cell_type": "code",
   "execution_count": 46,
   "metadata": {},
   "outputs": [
    {
     "name": "stdout",
     "output_type": "stream",
     "text": [
      "odd     2\n",
      "even    1\n",
      "Name: x_parity, dtype: int64\n"
     ]
    }
   ],
   "source": [
    "print(df['x_parity'].value_counts())"
   ]
  },
  {
   "cell_type": "code",
   "execution_count": 47,
   "metadata": {},
   "outputs": [
    {
     "data": {
      "text/html": [
       "<div>\n",
       "<style scoped>\n",
       "    .dataframe tbody tr th:only-of-type {\n",
       "        vertical-align: middle;\n",
       "    }\n",
       "\n",
       "    .dataframe tbody tr th {\n",
       "        vertical-align: top;\n",
       "    }\n",
       "\n",
       "    .dataframe thead th {\n",
       "        text-align: right;\n",
       "    }\n",
       "</style>\n",
       "<table border=\"1\" class=\"dataframe\">\n",
       "  <thead>\n",
       "    <tr style=\"text-align: right;\">\n",
       "      <th></th>\n",
       "      <th>name</th>\n",
       "      <th>gender</th>\n",
       "      <th>class</th>\n",
       "      <th>gpa</th>\n",
       "      <th>num_classes</th>\n",
       "    </tr>\n",
       "  </thead>\n",
       "  <tbody>\n",
       "    <tr>\n",
       "      <td>0</td>\n",
       "      <td>Alice</td>\n",
       "      <td>female</td>\n",
       "      <td>FY</td>\n",
       "      <td>90</td>\n",
       "      <td>4</td>\n",
       "    </tr>\n",
       "    <tr>\n",
       "      <td>1</td>\n",
       "      <td>Bob</td>\n",
       "      <td>male</td>\n",
       "      <td>SO</td>\n",
       "      <td>93</td>\n",
       "      <td>3</td>\n",
       "    </tr>\n",
       "    <tr>\n",
       "      <td>2</td>\n",
       "      <td>Carol</td>\n",
       "      <td>female</td>\n",
       "      <td>SR</td>\n",
       "      <td>97</td>\n",
       "      <td>4</td>\n",
       "    </tr>\n",
       "    <tr>\n",
       "      <td>3</td>\n",
       "      <td>Dan</td>\n",
       "      <td>male</td>\n",
       "      <td>SO</td>\n",
       "      <td>89</td>\n",
       "      <td>4</td>\n",
       "    </tr>\n",
       "    <tr>\n",
       "      <td>4</td>\n",
       "      <td>Eli</td>\n",
       "      <td>male</td>\n",
       "      <td>JR</td>\n",
       "      <td>95</td>\n",
       "      <td>3</td>\n",
       "    </tr>\n",
       "    <tr>\n",
       "      <td>5</td>\n",
       "      <td>Fran</td>\n",
       "      <td>female</td>\n",
       "      <td>SR</td>\n",
       "      <td>92</td>\n",
       "      <td>2</td>\n",
       "    </tr>\n",
       "  </tbody>\n",
       "</table>\n",
       "</div>"
      ],
      "text/plain": [
       "    name  gender class  gpa  num_classes\n",
       "0  Alice  female    FY   90            4\n",
       "1    Bob    male    SO   93            3\n",
       "2  Carol  female    SR   97            4\n",
       "3    Dan    male    SO   89            4\n",
       "4    Eli    male    JR   95            3\n",
       "5   Fran  female    SR   92            2"
      ]
     },
     "execution_count": 47,
     "metadata": {},
     "output_type": "execute_result"
    }
   ],
   "source": [
    "import pandas as pd\n",
    "student_df = pd.DataFrame({'name':['Alice','Bob','Carol','Dan','Eli','Fran'],'gender':['female','male','female','male','male','female'],'class':['FY','SO','SR','SO','JR','SR'],'gpa':[90,93,97,89,95,92],'num_classes':[4,3,4,4,3,2]})\n",
    "student_df"
   ]
  },
  {
   "cell_type": "code",
   "execution_count": 48,
   "metadata": {},
   "outputs": [
    {
     "data": {
      "text/html": [
       "<div>\n",
       "<style scoped>\n",
       "    .dataframe tbody tr th:only-of-type {\n",
       "        vertical-align: middle;\n",
       "    }\n",
       "\n",
       "    .dataframe tbody tr th {\n",
       "        vertical-align: top;\n",
       "    }\n",
       "\n",
       "    .dataframe thead th {\n",
       "        text-align: right;\n",
       "    }\n",
       "</style>\n",
       "<table border=\"1\" class=\"dataframe\">\n",
       "  <thead>\n",
       "    <tr style=\"text-align: right;\">\n",
       "      <th></th>\n",
       "      <th>name</th>\n",
       "      <th>gender</th>\n",
       "      <th>class</th>\n",
       "      <th>gpa</th>\n",
       "      <th>num_classes</th>\n",
       "      <th>female_flag</th>\n",
       "    </tr>\n",
       "  </thead>\n",
       "  <tbody>\n",
       "    <tr>\n",
       "      <td>0</td>\n",
       "      <td>Alice</td>\n",
       "      <td>female</td>\n",
       "      <td>FY</td>\n",
       "      <td>90</td>\n",
       "      <td>4</td>\n",
       "      <td>True</td>\n",
       "    </tr>\n",
       "    <tr>\n",
       "      <td>1</td>\n",
       "      <td>Bob</td>\n",
       "      <td>male</td>\n",
       "      <td>SO</td>\n",
       "      <td>93</td>\n",
       "      <td>3</td>\n",
       "      <td>False</td>\n",
       "    </tr>\n",
       "    <tr>\n",
       "      <td>2</td>\n",
       "      <td>Carol</td>\n",
       "      <td>female</td>\n",
       "      <td>SR</td>\n",
       "      <td>97</td>\n",
       "      <td>4</td>\n",
       "      <td>True</td>\n",
       "    </tr>\n",
       "    <tr>\n",
       "      <td>3</td>\n",
       "      <td>Dan</td>\n",
       "      <td>male</td>\n",
       "      <td>SO</td>\n",
       "      <td>89</td>\n",
       "      <td>4</td>\n",
       "      <td>False</td>\n",
       "    </tr>\n",
       "    <tr>\n",
       "      <td>4</td>\n",
       "      <td>Eli</td>\n",
       "      <td>male</td>\n",
       "      <td>JR</td>\n",
       "      <td>95</td>\n",
       "      <td>3</td>\n",
       "      <td>False</td>\n",
       "    </tr>\n",
       "    <tr>\n",
       "      <td>5</td>\n",
       "      <td>Fran</td>\n",
       "      <td>female</td>\n",
       "      <td>SR</td>\n",
       "      <td>92</td>\n",
       "      <td>2</td>\n",
       "      <td>True</td>\n",
       "    </tr>\n",
       "  </tbody>\n",
       "</table>\n",
       "</div>"
      ],
      "text/plain": [
       "    name  gender class  gpa  num_classes  female_flag\n",
       "0  Alice  female    FY   90            4         True\n",
       "1    Bob    male    SO   93            3        False\n",
       "2  Carol  female    SR   97            4         True\n",
       "3    Dan    male    SO   89            4        False\n",
       "4    Eli    male    JR   95            3        False\n",
       "5   Fran  female    SR   92            2         True"
      ]
     },
     "execution_count": 48,
     "metadata": {},
     "output_type": "execute_result"
    }
   ],
   "source": [
    "student_df['female_flag'] = student_df['gender'].apply(lambda x:x == 'female')\n",
    "student_df"
   ]
  },
  {
   "cell_type": "code",
   "execution_count": 49,
   "metadata": {},
   "outputs": [
    {
     "data": {
      "text/html": [
       "<div>\n",
       "<style scoped>\n",
       "    .dataframe tbody tr th:only-of-type {\n",
       "        vertical-align: middle;\n",
       "    }\n",
       "\n",
       "    .dataframe tbody tr th {\n",
       "        vertical-align: top;\n",
       "    }\n",
       "\n",
       "    .dataframe thead th {\n",
       "        text-align: right;\n",
       "    }\n",
       "</style>\n",
       "<table border=\"1\" class=\"dataframe\">\n",
       "  <thead>\n",
       "    <tr style=\"text-align: right;\">\n",
       "      <th></th>\n",
       "      <th>name</th>\n",
       "      <th>gender</th>\n",
       "      <th>class</th>\n",
       "      <th>gpa</th>\n",
       "      <th>num_classes</th>\n",
       "      <th>female_flag</th>\n",
       "    </tr>\n",
       "  </thead>\n",
       "  <tbody>\n",
       "    <tr>\n",
       "      <td>0</td>\n",
       "      <td>Alice</td>\n",
       "      <td>female</td>\n",
       "      <td>FY</td>\n",
       "      <td>90</td>\n",
       "      <td>4</td>\n",
       "      <td>True</td>\n",
       "    </tr>\n",
       "    <tr>\n",
       "      <td>1</td>\n",
       "      <td>Bob</td>\n",
       "      <td>male</td>\n",
       "      <td>SO</td>\n",
       "      <td>93</td>\n",
       "      <td>3</td>\n",
       "      <td>False</td>\n",
       "    </tr>\n",
       "    <tr>\n",
       "      <td>2</td>\n",
       "      <td>Carol</td>\n",
       "      <td>female</td>\n",
       "      <td>SR</td>\n",
       "      <td>97</td>\n",
       "      <td>4</td>\n",
       "      <td>True</td>\n",
       "    </tr>\n",
       "    <tr>\n",
       "      <td>3</td>\n",
       "      <td>Dan</td>\n",
       "      <td>male</td>\n",
       "      <td>SO</td>\n",
       "      <td>89</td>\n",
       "      <td>4</td>\n",
       "      <td>False</td>\n",
       "    </tr>\n",
       "    <tr>\n",
       "      <td>4</td>\n",
       "      <td>Eli</td>\n",
       "      <td>male</td>\n",
       "      <td>JR</td>\n",
       "      <td>95</td>\n",
       "      <td>3</td>\n",
       "      <td>False</td>\n",
       "    </tr>\n",
       "    <tr>\n",
       "      <td>5</td>\n",
       "      <td>Fran</td>\n",
       "      <td>female</td>\n",
       "      <td>SR</td>\n",
       "      <td>92</td>\n",
       "      <td>2</td>\n",
       "      <td>True</td>\n",
       "    </tr>\n",
       "  </tbody>\n",
       "</table>\n",
       "</div>"
      ],
      "text/plain": [
       "    name  gender class  gpa  num_classes  female_flag\n",
       "0  Alice  female    FY   90            4         True\n",
       "1    Bob    male    SO   93            3        False\n",
       "2  Carol  female    SR   97            4         True\n",
       "3    Dan    male    SO   89            4        False\n",
       "4    Eli    male    JR   95            3        False\n",
       "5   Fran  female    SR   92            2         True"
      ]
     },
     "execution_count": 49,
     "metadata": {},
     "output_type": "execute_result"
    }
   ],
   "source": [
    "student_df['female_flag'] = student_df['gender'] == 'female'\n",
    "student_df"
   ]
  },
  {
   "cell_type": "code",
   "execution_count": 50,
   "metadata": {},
   "outputs": [
    {
     "data": {
      "text/html": [
       "<div>\n",
       "<style scoped>\n",
       "    .dataframe tbody tr th:only-of-type {\n",
       "        vertical-align: middle;\n",
       "    }\n",
       "\n",
       "    .dataframe tbody tr th {\n",
       "        vertical-align: top;\n",
       "    }\n",
       "\n",
       "    .dataframe thead th {\n",
       "        text-align: right;\n",
       "    }\n",
       "</style>\n",
       "<table border=\"1\" class=\"dataframe\">\n",
       "  <thead>\n",
       "    <tr style=\"text-align: right;\">\n",
       "      <th></th>\n",
       "      <th>name</th>\n",
       "      <th>class</th>\n",
       "      <th>gpa</th>\n",
       "      <th>num_classes</th>\n",
       "      <th>female_flag</th>\n",
       "    </tr>\n",
       "  </thead>\n",
       "  <tbody>\n",
       "    <tr>\n",
       "      <td>0</td>\n",
       "      <td>Alice</td>\n",
       "      <td>FY</td>\n",
       "      <td>90</td>\n",
       "      <td>4</td>\n",
       "      <td>True</td>\n",
       "    </tr>\n",
       "    <tr>\n",
       "      <td>1</td>\n",
       "      <td>Bob</td>\n",
       "      <td>SO</td>\n",
       "      <td>93</td>\n",
       "      <td>3</td>\n",
       "      <td>False</td>\n",
       "    </tr>\n",
       "    <tr>\n",
       "      <td>2</td>\n",
       "      <td>Carol</td>\n",
       "      <td>SR</td>\n",
       "      <td>97</td>\n",
       "      <td>4</td>\n",
       "      <td>True</td>\n",
       "    </tr>\n",
       "    <tr>\n",
       "      <td>3</td>\n",
       "      <td>Dan</td>\n",
       "      <td>SO</td>\n",
       "      <td>89</td>\n",
       "      <td>4</td>\n",
       "      <td>False</td>\n",
       "    </tr>\n",
       "    <tr>\n",
       "      <td>4</td>\n",
       "      <td>Eli</td>\n",
       "      <td>JR</td>\n",
       "      <td>95</td>\n",
       "      <td>3</td>\n",
       "      <td>False</td>\n",
       "    </tr>\n",
       "    <tr>\n",
       "      <td>5</td>\n",
       "      <td>Fran</td>\n",
       "      <td>SR</td>\n",
       "      <td>92</td>\n",
       "      <td>2</td>\n",
       "      <td>True</td>\n",
       "    </tr>\n",
       "  </tbody>\n",
       "</table>\n",
       "</div>"
      ],
      "text/plain": [
       "    name class  gpa  num_classes  female_flag\n",
       "0  Alice    FY   90            4         True\n",
       "1    Bob    SO   93            3        False\n",
       "2  Carol    SR   97            4         True\n",
       "3    Dan    SO   89            4        False\n",
       "4    Eli    JR   95            3        False\n",
       "5   Fran    SR   92            2         True"
      ]
     },
     "execution_count": 50,
     "metadata": {},
     "output_type": "execute_result"
    }
   ],
   "source": [
    "student_df = student_df.drop('gender',axis=1)\n",
    "student_df"
   ]
  },
  {
   "cell_type": "code",
   "execution_count": 51,
   "metadata": {},
   "outputs": [
    {
     "data": {
      "text/html": [
       "<div>\n",
       "<style scoped>\n",
       "    .dataframe tbody tr th:only-of-type {\n",
       "        vertical-align: middle;\n",
       "    }\n",
       "\n",
       "    .dataframe tbody tr th {\n",
       "        vertical-align: top;\n",
       "    }\n",
       "\n",
       "    .dataframe thead th {\n",
       "        text-align: right;\n",
       "    }\n",
       "</style>\n",
       "<table border=\"1\" class=\"dataframe\">\n",
       "  <thead>\n",
       "    <tr style=\"text-align: right;\">\n",
       "      <th></th>\n",
       "      <th>FY</th>\n",
       "      <th>JR</th>\n",
       "      <th>SO</th>\n",
       "      <th>SR</th>\n",
       "    </tr>\n",
       "  </thead>\n",
       "  <tbody>\n",
       "    <tr>\n",
       "      <td>0</td>\n",
       "      <td>1</td>\n",
       "      <td>0</td>\n",
       "      <td>0</td>\n",
       "      <td>0</td>\n",
       "    </tr>\n",
       "    <tr>\n",
       "      <td>1</td>\n",
       "      <td>0</td>\n",
       "      <td>0</td>\n",
       "      <td>1</td>\n",
       "      <td>0</td>\n",
       "    </tr>\n",
       "    <tr>\n",
       "      <td>2</td>\n",
       "      <td>0</td>\n",
       "      <td>0</td>\n",
       "      <td>0</td>\n",
       "      <td>1</td>\n",
       "    </tr>\n",
       "    <tr>\n",
       "      <td>3</td>\n",
       "      <td>0</td>\n",
       "      <td>0</td>\n",
       "      <td>1</td>\n",
       "      <td>0</td>\n",
       "    </tr>\n",
       "    <tr>\n",
       "      <td>4</td>\n",
       "      <td>0</td>\n",
       "      <td>1</td>\n",
       "      <td>0</td>\n",
       "      <td>0</td>\n",
       "    </tr>\n",
       "    <tr>\n",
       "      <td>5</td>\n",
       "      <td>0</td>\n",
       "      <td>0</td>\n",
       "      <td>0</td>\n",
       "      <td>1</td>\n",
       "    </tr>\n",
       "  </tbody>\n",
       "</table>\n",
       "</div>"
      ],
      "text/plain": [
       "   FY  JR  SO  SR\n",
       "0   1   0   0   0\n",
       "1   0   0   1   0\n",
       "2   0   0   0   1\n",
       "3   0   0   1   0\n",
       "4   0   1   0   0\n",
       "5   0   0   0   1"
      ]
     },
     "execution_count": 51,
     "metadata": {},
     "output_type": "execute_result"
    }
   ],
   "source": [
    "pd.get_dummies(student_df['class'])"
   ]
  },
  {
   "cell_type": "code",
   "execution_count": 52,
   "metadata": {},
   "outputs": [],
   "source": [
    "student_df = pd.concat([student_df.drop('class',axis=1),pd.get_dummies(student_df['class'])],axis=1)"
   ]
  },
  {
   "cell_type": "code",
   "execution_count": 53,
   "metadata": {},
   "outputs": [
    {
     "data": {
      "text/html": [
       "<div>\n",
       "<style scoped>\n",
       "    .dataframe tbody tr th:only-of-type {\n",
       "        vertical-align: middle;\n",
       "    }\n",
       "\n",
       "    .dataframe tbody tr th {\n",
       "        vertical-align: top;\n",
       "    }\n",
       "\n",
       "    .dataframe thead th {\n",
       "        text-align: right;\n",
       "    }\n",
       "</style>\n",
       "<table border=\"1\" class=\"dataframe\">\n",
       "  <thead>\n",
       "    <tr style=\"text-align: right;\">\n",
       "      <th></th>\n",
       "      <th>name</th>\n",
       "      <th>gpa</th>\n",
       "      <th>num_classes</th>\n",
       "      <th>female_flag</th>\n",
       "      <th>FY</th>\n",
       "      <th>JR</th>\n",
       "      <th>SO</th>\n",
       "      <th>SR</th>\n",
       "    </tr>\n",
       "  </thead>\n",
       "  <tbody>\n",
       "    <tr>\n",
       "      <td>0</td>\n",
       "      <td>Alice</td>\n",
       "      <td>90</td>\n",
       "      <td>4</td>\n",
       "      <td>True</td>\n",
       "      <td>1</td>\n",
       "      <td>0</td>\n",
       "      <td>0</td>\n",
       "      <td>0</td>\n",
       "    </tr>\n",
       "    <tr>\n",
       "      <td>1</td>\n",
       "      <td>Bob</td>\n",
       "      <td>93</td>\n",
       "      <td>3</td>\n",
       "      <td>False</td>\n",
       "      <td>0</td>\n",
       "      <td>0</td>\n",
       "      <td>1</td>\n",
       "      <td>0</td>\n",
       "    </tr>\n",
       "    <tr>\n",
       "      <td>2</td>\n",
       "      <td>Carol</td>\n",
       "      <td>97</td>\n",
       "      <td>4</td>\n",
       "      <td>True</td>\n",
       "      <td>0</td>\n",
       "      <td>0</td>\n",
       "      <td>0</td>\n",
       "      <td>1</td>\n",
       "    </tr>\n",
       "    <tr>\n",
       "      <td>3</td>\n",
       "      <td>Dan</td>\n",
       "      <td>89</td>\n",
       "      <td>4</td>\n",
       "      <td>False</td>\n",
       "      <td>0</td>\n",
       "      <td>0</td>\n",
       "      <td>1</td>\n",
       "      <td>0</td>\n",
       "    </tr>\n",
       "    <tr>\n",
       "      <td>4</td>\n",
       "      <td>Eli</td>\n",
       "      <td>95</td>\n",
       "      <td>3</td>\n",
       "      <td>False</td>\n",
       "      <td>0</td>\n",
       "      <td>1</td>\n",
       "      <td>0</td>\n",
       "      <td>0</td>\n",
       "    </tr>\n",
       "    <tr>\n",
       "      <td>5</td>\n",
       "      <td>Fran</td>\n",
       "      <td>92</td>\n",
       "      <td>2</td>\n",
       "      <td>True</td>\n",
       "      <td>0</td>\n",
       "      <td>0</td>\n",
       "      <td>0</td>\n",
       "      <td>1</td>\n",
       "    </tr>\n",
       "  </tbody>\n",
       "</table>\n",
       "</div>"
      ],
      "text/plain": [
       "    name  gpa  num_classes  female_flag  FY  JR  SO  SR\n",
       "0  Alice   90            4         True   1   0   0   0\n",
       "1    Bob   93            3        False   0   0   1   0\n",
       "2  Carol   97            4         True   0   0   0   1\n",
       "3    Dan   89            4        False   0   0   1   0\n",
       "4    Eli   95            3        False   0   1   0   0\n",
       "5   Fran   92            2         True   0   0   0   1"
      ]
     },
     "execution_count": 53,
     "metadata": {},
     "output_type": "execute_result"
    }
   ],
   "source": [
    "student_df"
   ]
  },
  {
   "cell_type": "code",
   "execution_count": 54,
   "metadata": {},
   "outputs": [
    {
     "data": {
      "text/plain": [
       "<pandas.core.groupby.generic.DataFrameGroupBy object at 0x000001DF1B671E88>"
      ]
     },
     "execution_count": 54,
     "metadata": {},
     "output_type": "execute_result"
    }
   ],
   "source": [
    "gender_group = student_df.groupby('female_flag')\n",
    "gender_group"
   ]
  },
  {
   "cell_type": "code",
   "execution_count": 55,
   "metadata": {},
   "outputs": [
    {
     "data": {
      "text/plain": [
       "female_flag\n",
       "False    92.333333\n",
       "True     93.000000\n",
       "Name: gpa, dtype: float64"
      ]
     },
     "execution_count": 55,
     "metadata": {},
     "output_type": "execute_result"
    }
   ],
   "source": [
    "gender_group['gpa'].mean()"
   ]
  },
  {
   "cell_type": "code",
   "execution_count": 56,
   "metadata": {},
   "outputs": [
    {
     "data": {
      "text/plain": [
       "female_flag\n",
       "False    10\n",
       "True     10\n",
       "Name: num_classes, dtype: int64"
      ]
     },
     "execution_count": 56,
     "metadata": {},
     "output_type": "execute_result"
    }
   ],
   "source": [
    "gender_group['num_classes'].sum()"
   ]
  },
  {
   "cell_type": "code",
   "execution_count": 57,
   "metadata": {},
   "outputs": [],
   "source": [
    "x = [1,2,3,1.5,2]\n",
    "y = [-1,5,2,3,0]"
   ]
  },
  {
   "cell_type": "code",
   "execution_count": 58,
   "metadata": {},
   "outputs": [
    {
     "data": {
      "image/png": "[encoded data removed]",
      "text/plain": [
       "<Figure size 432x288 with 1 Axes>"
      ]
     },
     "metadata": {
      "needs_background": "light"
     },
     "output_type": "display_data"
    }
   ],
   "source": [
    "import matplotlib.pyplot as plt\n",
    "\n",
    "plt.scatter(x,y)\n",
    "plt.show()"
   ]
  },
  {
   "cell_type": "code",
   "execution_count": 59,
   "metadata": {},
   "outputs": [
    {
     "data": {
      "image/png": "[encoded data removed]",
      "text/plain": [
       "<Figure size 432x288 with 1 Axes>"
      ]
     },
     "metadata": {
      "needs_background": "light"
     },
     "output_type": "display_data"
    }
   ],
   "source": [
    "sizes = [10, 40, 60, 80, 100]\n",
    "colors = ['r', 'b', 'y', 'g', 'k']\n",
    "\n",
    "plt.scatter(x, y, s=sizes, c=colors)\n",
    "plt.show()"
   ]
  },
  {
   "cell_type": "code",
   "execution_count": 60,
   "metadata": {},
   "outputs": [
    {
     "data": {
      "image/png": "[encoded data removed]",
      "text/plain": [
       "<Figure size 432x288 with 1 Axes>"
      ]
     },
     "metadata": {
      "needs_background": "light"
     },
     "output_type": "display_data"
    }
   ],
   "source": [
    "import numpy as np\n",
    "x = np.linspace(0,10,1000)\n",
    "y = np.sin(x)\n",
    "\n",
    "plt.plot(x,y)\n",
    "plt.show()"
   ]
  },
  {
   "cell_type": "code",
   "execution_count": 61,
   "metadata": {},
   "outputs": [
    {
     "data": {
      "text/plain": [
       "array([ 0.        ,  0.01001001,  0.02002002,  0.03003003,  0.04004004,\n",
       "        0.05005005,  0.06006006,  0.07007007,  0.08008008,  0.09009009,\n",
       "        0.1001001 ,  0.11011011,  0.12012012,  0.13013013,  0.14014014,\n",
       "        0.15015015,  0.16016016,  0.17017017,  0.18018018,  0.19019019,\n",
       "        0.2002002 ,  0.21021021,  0.22022022,  0.23023023,  0.24024024,\n",
       "        0.25025025,  0.26026026,  0.27027027,  0.28028028,  0.29029029,\n",
       "        0.3003003 ,  0.31031031,  0.32032032,  0.33033033,  0.34034034,\n",
       "        0.35035035,  0.36036036,  0.37037037,  0.38038038,  0.39039039,\n",
       "        0.4004004 ,  0.41041041,  0.42042042,  0.43043043,  0.44044044,\n",
       "        0.45045045,  0.46046046,  0.47047047,  0.48048048,  0.49049049,\n",
       "        0.5005005 ,  0.51051051,  0.52052052,  0.53053053,  0.54054054,\n",
       "        0.55055055,  0.56056056,  0.57057057,  0.58058058,  0.59059059,\n",
       "        0.6006006 ,  0.61061061,  0.62062062,  0.63063063,  0.64064064,\n",
       "        0.65065065,  0.66066066,  0.67067067,  0.68068068,  0.69069069,\n",
       "        0.7007007 ,  0.71071071,  0.72072072,  0.73073073,  0.74074074,\n",
       "        0.75075075,  0.76076076,  0.77077077,  0.78078078,  0.79079079,\n",
       "        0.8008008 ,  0.81081081,  0.82082082,  0.83083083,  0.84084084,\n",
       "        0.85085085,  0.86086086,  0.87087087,  0.88088088,  0.89089089,\n",
       "        0.9009009 ,  0.91091091,  0.92092092,  0.93093093,  0.94094094,\n",
       "        0.95095095,  0.96096096,  0.97097097,  0.98098098,  0.99099099,\n",
       "        1.001001  ,  1.01101101,  1.02102102,  1.03103103,  1.04104104,\n",
       "        1.05105105,  1.06106106,  1.07107107,  1.08108108,  1.09109109,\n",
       "        1.1011011 ,  1.11111111,  1.12112112,  1.13113113,  1.14114114,\n",
       "        1.15115115,  1.16116116,  1.17117117,  1.18118118,  1.19119119,\n",
       "        1.2012012 ,  1.21121121,  1.22122122,  1.23123123,  1.24124124,\n",
       "        1.25125125,  1.26126126,  1.27127127,  1.28128128,  1.29129129,\n",
       "        1.3013013 ,  1.31131131,  1.32132132,  1.33133133,  1.34134134,\n",
       "        1.35135135,  1.36136136,  1.37137137,  1.38138138,  1.39139139,\n",
       "        1.4014014 ,  1.41141141,  1.42142142,  1.43143143,  1.44144144,\n",
       "        1.45145145,  1.46146146,  1.47147147,  1.48148148,  1.49149149,\n",
       "        1.5015015 ,  1.51151151,  1.52152152,  1.53153153,  1.54154154,\n",
       "        1.55155155,  1.56156156,  1.57157157,  1.58158158,  1.59159159,\n",
       "        1.6016016 ,  1.61161161,  1.62162162,  1.63163163,  1.64164164,\n",
       "        1.65165165,  1.66166166,  1.67167167,  1.68168168,  1.69169169,\n",
       "        1.7017017 ,  1.71171171,  1.72172172,  1.73173173,  1.74174174,\n",
       "        1.75175175,  1.76176176,  1.77177177,  1.78178178,  1.79179179,\n",
       "        1.8018018 ,  1.81181181,  1.82182182,  1.83183183,  1.84184184,\n",
       "        1.85185185,  1.86186186,  1.87187187,  1.88188188,  1.89189189,\n",
       "        1.9019019 ,  1.91191191,  1.92192192,  1.93193193,  1.94194194,\n",
       "        1.95195195,  1.96196196,  1.97197197,  1.98198198,  1.99199199,\n",
       "        2.002002  ,  2.01201201,  2.02202202,  2.03203203,  2.04204204,\n",
       "        2.05205205,  2.06206206,  2.07207207,  2.08208208,  2.09209209,\n",
       "        2.1021021 ,  2.11211211,  2.12212212,  2.13213213,  2.14214214,\n",
       "        2.15215215,  2.16216216,  2.17217217,  2.18218218,  2.19219219,\n",
       "        2.2022022 ,  2.21221221,  2.22222222,  2.23223223,  2.24224224,\n",
       "        2.25225225,  2.26226226,  2.27227227,  2.28228228,  2.29229229,\n",
       "        2.3023023 ,  2.31231231,  2.32232232,  2.33233233,  2.34234234,\n",
       "        2.35235235,  2.36236236,  2.37237237,  2.38238238,  2.39239239,\n",
       "        2.4024024 ,  2.41241241,  2.42242242,  2.43243243,  2.44244244,\n",
       "        2.45245245,  2.46246246,  2.47247247,  2.48248248,  2.49249249,\n",
       "        2.5025025 ,  2.51251251,  2.52252252,  2.53253253,  2.54254254,\n",
       "        2.55255255,  2.56256256,  2.57257257,  2.58258258,  2.59259259,\n",
       "        2.6026026 ,  2.61261261,  2.62262262,  2.63263263,  2.64264264,\n",
       "        2.65265265,  2.66266266,  2.67267267,  2.68268268,  2.69269269,\n",
       "        2.7027027 ,  2.71271271,  2.72272272,  2.73273273,  2.74274274,\n",
       "        2.75275275,  2.76276276,  2.77277277,  2.78278278,  2.79279279,\n",
       "        2.8028028 ,  2.81281281,  2.82282282,  2.83283283,  2.84284284,\n",
       "        2.85285285,  2.86286286,  2.87287287,  2.88288288,  2.89289289,\n",
       "        2.9029029 ,  2.91291291,  2.92292292,  2.93293293,  2.94294294,\n",
       "        2.95295295,  2.96296296,  2.97297297,  2.98298298,  2.99299299,\n",
       "        3.003003  ,  3.01301301,  3.02302302,  3.03303303,  3.04304304,\n",
       "        3.05305305,  3.06306306,  3.07307307,  3.08308308,  3.09309309,\n",
       "        3.1031031 ,  3.11311311,  3.12312312,  3.13313313,  3.14314314,\n",
       "        3.15315315,  3.16316316,  3.17317317,  3.18318318,  3.19319319,\n",
       "        3.2032032 ,  3.21321321,  3.22322322,  3.23323323,  3.24324324,\n",
       "        3.25325325,  3.26326326,  3.27327327,  3.28328328,  3.29329329,\n",
       "        3.3033033 ,  3.31331331,  3.32332332,  3.33333333,  3.34334334,\n",
       "        3.35335335,  3.36336336,  3.37337337,  3.38338338,  3.39339339,\n",
       "        3.4034034 ,  3.41341341,  3.42342342,  3.43343343,  3.44344344,\n",
       "        3.45345345,  3.46346346,  3.47347347,  3.48348348,  3.49349349,\n",
       "        3.5035035 ,  3.51351351,  3.52352352,  3.53353353,  3.54354354,\n",
       "        3.55355355,  3.56356356,  3.57357357,  3.58358358,  3.59359359,\n",
       "        3.6036036 ,  3.61361361,  3.62362362,  3.63363363,  3.64364364,\n",
       "        3.65365365,  3.66366366,  3.67367367,  3.68368368,  3.69369369,\n",
       "        3.7037037 ,  3.71371371,  3.72372372,  3.73373373,  3.74374374,\n",
       "        3.75375375,  3.76376376,  3.77377377,  3.78378378,  3.79379379,\n",
       "        3.8038038 ,  3.81381381,  3.82382382,  3.83383383,  3.84384384,\n",
       "        3.85385385,  3.86386386,  3.87387387,  3.88388388,  3.89389389,\n",
       "        3.9039039 ,  3.91391391,  3.92392392,  3.93393393,  3.94394394,\n",
       "        3.95395395,  3.96396396,  3.97397397,  3.98398398,  3.99399399,\n",
       "        4.004004  ,  4.01401401,  4.02402402,  4.03403403,  4.04404404,\n",
       "        4.05405405,  4.06406406,  4.07407407,  4.08408408,  4.09409409,\n",
       "        4.1041041 ,  4.11411411,  4.12412412,  4.13413413,  4.14414414,\n",
       "        4.15415415,  4.16416416,  4.17417417,  4.18418418,  4.19419419,\n",
       "        4.2042042 ,  4.21421421,  4.22422422,  4.23423423,  4.24424424,\n",
       "        4.25425425,  4.26426426,  4.27427427,  4.28428428,  4.29429429,\n",
       "        4.3043043 ,  4.31431431,  4.32432432,  4.33433433,  4.34434434,\n",
       "        4.35435435,  4.36436436,  4.37437437,  4.38438438,  4.39439439,\n",
       "        4.4044044 ,  4.41441441,  4.42442442,  4.43443443,  4.44444444,\n",
       "        4.45445445,  4.46446446,  4.47447447,  4.48448448,  4.49449449,\n",
       "        4.5045045 ,  4.51451451,  4.52452452,  4.53453453,  4.54454454,\n",
       "        4.55455455,  4.56456456,  4.57457457,  4.58458458,  4.59459459,\n",
       "        4.6046046 ,  4.61461461,  4.62462462,  4.63463463,  4.64464464,\n",
       "        4.65465465,  4.66466466,  4.67467467,  4.68468468,  4.69469469,\n",
       "        4.7047047 ,  4.71471471,  4.72472472,  4.73473473,  4.74474474,\n",
       "        4.75475475,  4.76476476,  4.77477477,  4.78478478,  4.79479479,\n",
       "        4.8048048 ,  4.81481481,  4.82482482,  4.83483483,  4.84484484,\n",
       "        4.85485485,  4.86486486,  4.87487487,  4.88488488,  4.89489489,\n",
       "        4.9049049 ,  4.91491491,  4.92492492,  4.93493493,  4.94494494,\n",
       "        4.95495495,  4.96496496,  4.97497497,  4.98498498,  4.99499499,\n",
       "        5.00500501,  5.01501502,  5.02502503,  5.03503504,  5.04504505,\n",
       "        5.05505506,  5.06506507,  5.07507508,  5.08508509,  5.0950951 ,\n",
       "        5.10510511,  5.11511512,  5.12512513,  5.13513514,  5.14514515,\n",
       "        5.15515516,  5.16516517,  5.17517518,  5.18518519,  5.1951952 ,\n",
       "        5.20520521,  5.21521522,  5.22522523,  5.23523524,  5.24524525,\n",
       "        5.25525526,  5.26526527,  5.27527528,  5.28528529,  5.2952953 ,\n",
       "        5.30530531,  5.31531532,  5.32532533,  5.33533534,  5.34534535,\n",
       "        5.35535536,  5.36536537,  5.37537538,  5.38538539,  5.3953954 ,\n",
       "        5.40540541,  5.41541542,  5.42542543,  5.43543544,  5.44544545,\n",
       "        5.45545546,  5.46546547,  5.47547548,  5.48548549,  5.4954955 ,\n",
       "        5.50550551,  5.51551552,  5.52552553,  5.53553554,  5.54554555,\n",
       "        5.55555556,  5.56556557,  5.57557558,  5.58558559,  5.5955956 ,\n",
       "        5.60560561,  5.61561562,  5.62562563,  5.63563564,  5.64564565,\n",
       "        5.65565566,  5.66566567,  5.67567568,  5.68568569,  5.6956957 ,\n",
       "        5.70570571,  5.71571572,  5.72572573,  5.73573574,  5.74574575,\n",
       "        5.75575576,  5.76576577,  5.77577578,  5.78578579,  5.7957958 ,\n",
       "        5.80580581,  5.81581582,  5.82582583,  5.83583584,  5.84584585,\n",
       "        5.85585586,  5.86586587,  5.87587588,  5.88588589,  5.8958959 ,\n",
       "        5.90590591,  5.91591592,  5.92592593,  5.93593594,  5.94594595,\n",
       "        5.95595596,  5.96596597,  5.97597598,  5.98598599,  5.995996  ,\n",
       "        6.00600601,  6.01601602,  6.02602603,  6.03603604,  6.04604605,\n",
       "        6.05605606,  6.06606607,  6.07607608,  6.08608609,  6.0960961 ,\n",
       "        6.10610611,  6.11611612,  6.12612613,  6.13613614,  6.14614615,\n",
       "        6.15615616,  6.16616617,  6.17617618,  6.18618619,  6.1961962 ,\n",
       "        6.20620621,  6.21621622,  6.22622623,  6.23623624,  6.24624625,\n",
       "        6.25625626,  6.26626627,  6.27627628,  6.28628629,  6.2962963 ,\n",
       "        6.30630631,  6.31631632,  6.32632633,  6.33633634,  6.34634635,\n",
       "        6.35635636,  6.36636637,  6.37637638,  6.38638639,  6.3963964 ,\n",
       "        6.40640641,  6.41641642,  6.42642643,  6.43643644,  6.44644645,\n",
       "        6.45645646,  6.46646647,  6.47647648,  6.48648649,  6.4964965 ,\n",
       "        6.50650651,  6.51651652,  6.52652653,  6.53653654,  6.54654655,\n",
       "        6.55655656,  6.56656657,  6.57657658,  6.58658659,  6.5965966 ,\n",
       "        6.60660661,  6.61661662,  6.62662663,  6.63663664,  6.64664665,\n",
       "        6.65665666,  6.66666667,  6.67667668,  6.68668669,  6.6966967 ,\n",
       "        6.70670671,  6.71671672,  6.72672673,  6.73673674,  6.74674675,\n",
       "        6.75675676,  6.76676677,  6.77677678,  6.78678679,  6.7967968 ,\n",
       "        6.80680681,  6.81681682,  6.82682683,  6.83683684,  6.84684685,\n",
       "        6.85685686,  6.86686687,  6.87687688,  6.88688689,  6.8968969 ,\n",
       "        6.90690691,  6.91691692,  6.92692693,  6.93693694,  6.94694695,\n",
       "        6.95695696,  6.96696697,  6.97697698,  6.98698699,  6.996997  ,\n",
       "        7.00700701,  7.01701702,  7.02702703,  7.03703704,  7.04704705,\n",
       "        7.05705706,  7.06706707,  7.07707708,  7.08708709,  7.0970971 ,\n",
       "        7.10710711,  7.11711712,  7.12712713,  7.13713714,  7.14714715,\n",
       "        7.15715716,  7.16716717,  7.17717718,  7.18718719,  7.1971972 ,\n",
       "        7.20720721,  7.21721722,  7.22722723,  7.23723724,  7.24724725,\n",
       "        7.25725726,  7.26726727,  7.27727728,  7.28728729,  7.2972973 ,\n",
       "        7.30730731,  7.31731732,  7.32732733,  7.33733734,  7.34734735,\n",
       "        7.35735736,  7.36736737,  7.37737738,  7.38738739,  7.3973974 ,\n",
       "        7.40740741,  7.41741742,  7.42742743,  7.43743744,  7.44744745,\n",
       "        7.45745746,  7.46746747,  7.47747748,  7.48748749,  7.4974975 ,\n",
       "        7.50750751,  7.51751752,  7.52752753,  7.53753754,  7.54754755,\n",
       "        7.55755756,  7.56756757,  7.57757758,  7.58758759,  7.5975976 ,\n",
       "        7.60760761,  7.61761762,  7.62762763,  7.63763764,  7.64764765,\n",
       "        7.65765766,  7.66766767,  7.67767768,  7.68768769,  7.6976977 ,\n",
       "        7.70770771,  7.71771772,  7.72772773,  7.73773774,  7.74774775,\n",
       "        7.75775776,  7.76776777,  7.77777778,  7.78778779,  7.7977978 ,\n",
       "        7.80780781,  7.81781782,  7.82782783,  7.83783784,  7.84784785,\n",
       "        7.85785786,  7.86786787,  7.87787788,  7.88788789,  7.8978979 ,\n",
       "        7.90790791,  7.91791792,  7.92792793,  7.93793794,  7.94794795,\n",
       "        7.95795796,  7.96796797,  7.97797798,  7.98798799,  7.997998  ,\n",
       "        8.00800801,  8.01801802,  8.02802803,  8.03803804,  8.04804805,\n",
       "        8.05805806,  8.06806807,  8.07807808,  8.08808809,  8.0980981 ,\n",
       "        8.10810811,  8.11811812,  8.12812813,  8.13813814,  8.14814815,\n",
       "        8.15815816,  8.16816817,  8.17817818,  8.18818819,  8.1981982 ,\n",
       "        8.20820821,  8.21821822,  8.22822823,  8.23823824,  8.24824825,\n",
       "        8.25825826,  8.26826827,  8.27827828,  8.28828829,  8.2982983 ,\n",
       "        8.30830831,  8.31831832,  8.32832833,  8.33833834,  8.34834835,\n",
       "        8.35835836,  8.36836837,  8.37837838,  8.38838839,  8.3983984 ,\n",
       "        8.40840841,  8.41841842,  8.42842843,  8.43843844,  8.44844845,\n",
       "        8.45845846,  8.46846847,  8.47847848,  8.48848849,  8.4984985 ,\n",
       "        8.50850851,  8.51851852,  8.52852853,  8.53853854,  8.54854855,\n",
       "        8.55855856,  8.56856857,  8.57857858,  8.58858859,  8.5985986 ,\n",
       "        8.60860861,  8.61861862,  8.62862863,  8.63863864,  8.64864865,\n",
       "        8.65865866,  8.66866867,  8.67867868,  8.68868869,  8.6986987 ,\n",
       "        8.70870871,  8.71871872,  8.72872873,  8.73873874,  8.74874875,\n",
       "        8.75875876,  8.76876877,  8.77877878,  8.78878879,  8.7987988 ,\n",
       "        8.80880881,  8.81881882,  8.82882883,  8.83883884,  8.84884885,\n",
       "        8.85885886,  8.86886887,  8.87887888,  8.88888889,  8.8988989 ,\n",
       "        8.90890891,  8.91891892,  8.92892893,  8.93893894,  8.94894895,\n",
       "        8.95895896,  8.96896897,  8.97897898,  8.98898899,  8.998999  ,\n",
       "        9.00900901,  9.01901902,  9.02902903,  9.03903904,  9.04904905,\n",
       "        9.05905906,  9.06906907,  9.07907908,  9.08908909,  9.0990991 ,\n",
       "        9.10910911,  9.11911912,  9.12912913,  9.13913914,  9.14914915,\n",
       "        9.15915916,  9.16916917,  9.17917918,  9.18918919,  9.1991992 ,\n",
       "        9.20920921,  9.21921922,  9.22922923,  9.23923924,  9.24924925,\n",
       "        9.25925926,  9.26926927,  9.27927928,  9.28928929,  9.2992993 ,\n",
       "        9.30930931,  9.31931932,  9.32932933,  9.33933934,  9.34934935,\n",
       "        9.35935936,  9.36936937,  9.37937938,  9.38938939,  9.3993994 ,\n",
       "        9.40940941,  9.41941942,  9.42942943,  9.43943944,  9.44944945,\n",
       "        9.45945946,  9.46946947,  9.47947948,  9.48948949,  9.4994995 ,\n",
       "        9.50950951,  9.51951952,  9.52952953,  9.53953954,  9.54954955,\n",
       "        9.55955956,  9.56956957,  9.57957958,  9.58958959,  9.5995996 ,\n",
       "        9.60960961,  9.61961962,  9.62962963,  9.63963964,  9.64964965,\n",
       "        9.65965966,  9.66966967,  9.67967968,  9.68968969,  9.6996997 ,\n",
       "        9.70970971,  9.71971972,  9.72972973,  9.73973974,  9.74974975,\n",
       "        9.75975976,  9.76976977,  9.77977978,  9.78978979,  9.7997998 ,\n",
       "        9.80980981,  9.81981982,  9.82982983,  9.83983984,  9.84984985,\n",
       "        9.85985986,  9.86986987,  9.87987988,  9.88988989,  9.8998999 ,\n",
       "        9.90990991,  9.91991992,  9.92992993,  9.93993994,  9.94994995,\n",
       "        9.95995996,  9.96996997,  9.97997998,  9.98998999, 10.        ])"
      ]
     },
     "execution_count": 61,
     "metadata": {},
     "output_type": "execute_result"
    }
   ],
   "source": [
    "x"
   ]
  },
  {
   "cell_type": "code",
   "execution_count": 62,
   "metadata": {},
   "outputs": [
    {
     "data": {
      "text/plain": [
       "array([ 0.        ,  0.01000984,  0.02001868,  0.03002552,  0.04002934,\n",
       "        0.05002916,  0.06002396,  0.07001275,  0.07999452,  0.08996827,\n",
       "        0.09993302,  0.10988774,  0.11983146,  0.12976317,  0.13968188,\n",
       "        0.14958659,  0.15947632,  0.16935006,  0.17920684,  0.18904566,\n",
       "        0.19886554,  0.20866549,  0.21844453,  0.22820168,  0.23793597,\n",
       "        0.24764642,  0.25733206,  0.26699191,  0.276625  ,  0.28623038,\n",
       "        0.29580708,  0.30535414,  0.3148706 ,  0.32435552,  0.33380793,\n",
       "        0.3432269 ,  0.35261147,  0.36196071,  0.37127369,  0.38054946,\n",
       "        0.3897871 ,  0.39898569,  0.4081443 ,  0.41726201,  0.42633791,\n",
       "        0.4353711 ,  0.44436066,  0.45330569,  0.46220531,  0.47105861,\n",
       "        0.47986471,  0.48862273,  0.49733179,  0.50599102,  0.51459954,\n",
       "        0.52315651,  0.53166105,  0.54011232,  0.54850948,  0.55685167,\n",
       "        0.56513807,  0.57336784,  0.58154016,  0.58965421,  0.59770917,\n",
       "        0.60570425,  0.61363863,  0.62151153,  0.62932216,  0.63706972,\n",
       "        0.64475345,  0.65237258,  0.65992634,  0.66741398,  0.67483474,\n",
       "        0.68218788,  0.68947267,  0.69668838,  0.70383427,  0.71090964,\n",
       "        0.71791378,  0.72484599,  0.73170556,  0.73849182,  0.74520409,\n",
       "        0.75184168,  0.75840394,  0.76489021,  0.77129983,  0.77763218,\n",
       "        0.7838866 ,  0.79006248,  0.7961592 ,  0.80217614,  0.8081127 ,\n",
       "        0.81396829,  0.81974232,  0.82543421,  0.8310434 ,  0.83656931,\n",
       "        0.84201141,  0.84736913,  0.85264195,  0.85782933,  0.86293076,\n",
       "        0.86794572,  0.87287371,  0.87771425,  0.88246684,  0.887131  ,\n",
       "        0.89170627,  0.8961922 ,  0.90058833,  0.90489422,  0.90910944,\n",
       "        0.91323357,  0.91726619,  0.9212069 ,  0.92505531,  0.92881103,\n",
       "        0.93247368,  0.9360429 ,  0.93951832,  0.94289961,  0.94618642,\n",
       "        0.94937842,  0.9524753 ,  0.95547674,  0.95838244,  0.96119211,\n",
       "        0.96390547,  0.96652224,  0.96904217,  0.97146501,  0.9737905 ,\n",
       "        0.97601842,  0.97814855,  0.98018066,  0.98211456,  0.98395005,\n",
       "        0.98568695,  0.98732509,  0.9888643 ,  0.99030442,  0.99164532,\n",
       "        0.99288685,  0.9940289 ,  0.99507134,  0.99601408,  0.99685702,\n",
       "        0.99760007,  0.99824317,  0.99878624,  0.99922924,  0.99957211,\n",
       "        0.99981483,  0.99995736,  0.9999997 ,  0.99994184,  0.99978379,\n",
       "        0.99952556,  0.99916717,  0.99870867,  0.9981501 ,  0.99749152,\n",
       "        0.99673299,  0.99587459,  0.9949164 ,  0.99385852,  0.99270105,\n",
       "        0.99144412,  0.99008785,  0.98863237,  0.98707782,  0.98542438,\n",
       "        0.98367219,  0.98182145,  0.97987232,  0.97782501,  0.97567973,\n",
       "        0.97343668,  0.97109609,  0.9686582 ,  0.96612325,  0.9634915 ,\n",
       "        0.9607632 ,  0.95793864,  0.95501809,  0.95200185,  0.94889022,\n",
       "        0.94568351,  0.94238205,  0.93898615,  0.93549618,  0.93191246,\n",
       "        0.92823537,  0.92446527,  0.92060254,  0.91664757,  0.91260074,\n",
       "        0.90846248,  0.90423319,  0.89991329,  0.89550322,  0.89100343,\n",
       "        0.88641436,  0.88173646,  0.87697022,  0.87211611,  0.86717461,\n",
       "        0.86214622,  0.85703145,  0.8518308 ,  0.84654479,  0.84117397,\n",
       "        0.83571886,  0.83018001,  0.82455797,  0.81885332,  0.81306662,\n",
       "        0.80719845,  0.80124939,  0.79522006,  0.78911104,  0.78292295,\n",
       "        0.77665642,  0.77031206,  0.76389052,  0.75739244,  0.75081847,\n",
       "        0.74416927,  0.7374455 ,  0.73064784,  0.72377697,  0.71683358,\n",
       "        0.70981836,  0.70273201,  0.69557526,  0.68834881,  0.68105338,\n",
       "        0.67368972,  0.66625855,  0.65876062,  0.65119668,  0.6435675 ,\n",
       "        0.63587383,  0.62811645,  0.62029613,  0.61241365,  0.60446981,\n",
       "        0.59646541,  0.58840124,  0.58027811,  0.57209684,  0.56385824,\n",
       "        0.55556315,  0.54721239,  0.5388068 ,  0.53034722,  0.5218345 ,\n",
       "        0.51326949,  0.50465305,  0.49598605,  0.48726935,  0.47850382,\n",
       "        0.46969035,  0.46082982,  0.45192311,  0.44297112,  0.43397474,\n",
       "        0.42493488,  0.41585245,  0.40672834,  0.39756348,  0.38835878,\n",
       "        0.37911517,  0.36983358,  0.36051492,  0.35116015,  0.34177018,\n",
       "        0.33234597,  0.32288847,  0.3133986 ,  0.30387734,  0.29432562,\n",
       "        0.28474442,  0.27513468,  0.26549738,  0.25583347,  0.24614393,\n",
       "        0.23642973,  0.22669183,  0.21693122,  0.20714888,  0.19734578,\n",
       "        0.1875229 ,  0.17768124,  0.16782177,  0.15794548,  0.14805337,\n",
       "        0.13814643,  0.12822564,  0.118292  ,  0.10834651,  0.09839017,\n",
       "        0.08842397,  0.0784489 ,  0.06846598,  0.05847619,  0.04848055,\n",
       "        0.03848005,  0.02847569,  0.01846848,  0.00845942, -0.00155049,\n",
       "       -0.01156024, -0.02156884, -0.03157527, -0.04157854, -0.05157764,\n",
       "       -0.06157158, -0.07155935, -0.08153994, -0.09151237, -0.10147562,\n",
       "       -0.11142871, -0.12137064, -0.1313004 , -0.141217  , -0.15111946,\n",
       "       -0.16100677, -0.17087795, -0.18073201, -0.19056796, -0.20038482,\n",
       "       -0.21018159, -0.21995731, -0.22971099, -0.23944165, -0.24914832,\n",
       "       -0.25883002, -0.26848579, -0.27811466, -0.28771566, -0.29728783,\n",
       "       -0.30683021, -0.31634185, -0.32582179, -0.33526908, -0.34468278,\n",
       "       -0.35406195, -0.36340563, -0.37271291, -0.38198284, -0.39121449,\n",
       "       -0.40040694, -0.40955928, -0.41867057, -0.42773992, -0.4367664 ,\n",
       "       -0.44574912, -0.45468718, -0.46357968, -0.47242573, -0.48122444,\n",
       "       -0.48997494, -0.49867633, -0.50732776, -0.51592836, -0.52447726,\n",
       "       -0.53297361, -0.54141656, -0.54980525, -0.55813886, -0.56641654,\n",
       "       -0.57463746, -0.58280081, -0.59090576, -0.5989515 , -0.60693723,\n",
       "       -0.61486214, -0.62272545, -0.63052635, -0.63826408, -0.64593786,\n",
       "       -0.65354691, -0.66109048, -0.66856781, -0.67597814, -0.68332075,\n",
       "       -0.69059488, -0.69779982, -0.70493484, -0.71199922, -0.71899227,\n",
       "       -0.72591327, -0.73276153, -0.73953637, -0.74623711, -0.75286308,\n",
       "       -0.75941361, -0.76588805, -0.77228575, -0.77860606, -0.78484836,\n",
       "       -0.79101202, -0.79709642, -0.80310095, -0.80902501, -0.814868  ,\n",
       "       -0.82062935, -0.82630847, -0.83190479, -0.83741776, -0.84284682,\n",
       "       -0.84819143, -0.85345104, -0.85862515, -0.86371322, -0.86871474,\n",
       "       -0.87362922, -0.87845616, -0.88319509, -0.88784551, -0.89240698,\n",
       "       -0.89687902, -0.9012612 , -0.90555308, -0.90975421, -0.91386419,\n",
       "       -0.91788261, -0.92180905, -0.92564312, -0.92938445, -0.93303265,\n",
       "       -0.93658737, -0.94004823, -0.94341491, -0.94668706, -0.94986435,\n",
       "       -0.95294646, -0.95593309, -0.95882393, -0.9616187 , -0.96431712,\n",
       "       -0.96691891, -0.96942382, -0.97183159, -0.97414198, -0.97635477,\n",
       "       -0.97846973, -0.98048664, -0.98240531, -0.98422555, -0.98594716,\n",
       "       -0.98756998, -0.98909385, -0.99051862, -0.99184413, -0.99307026,\n",
       "       -0.99419689, -0.99522389, -0.99615118, -0.99697865, -0.99770623,\n",
       "       -0.99833384, -0.99886141, -0.9992889 , -0.99961626, -0.99984346,\n",
       "       -0.99997048, -0.9999973 , -0.99992392, -0.99975034, -0.9994766 ,\n",
       "       -0.9991027 , -0.9986287 , -0.99805464, -0.99738057, -0.99660656,\n",
       "       -0.9957327 , -0.99475906, -0.99368575, -0.99251287, -0.99124054,\n",
       "       -0.98986889, -0.98839806, -0.98682819, -0.98515943, -0.98339197,\n",
       "       -0.98152597, -0.97956163, -0.97749913, -0.97533868, -0.97308051,\n",
       "       -0.97072484, -0.9682719 , -0.96572194, -0.96307521, -0.96033199,\n",
       "       -0.95749254, -0.95455715, -0.95152611, -0.94839974, -0.94517833,\n",
       "       -0.94186221, -0.93845173, -0.93494721, -0.93134901, -0.92765748,\n",
       "       -0.92387301, -0.91999597, -0.91602674, -0.91196573, -0.90781333,\n",
       "       -0.90356998, -0.89923609, -0.8948121 , -0.89029844, -0.88569558,\n",
       "       -0.88100397, -0.87622409, -0.87135641, -0.86640142, -0.86135962,\n",
       "       -0.85623151, -0.8510176 , -0.84571842, -0.84033451, -0.83486639,\n",
       "       -0.82931462, -0.82367975, -0.81796235, -0.81216299, -0.80628225,\n",
       "       -0.80032073, -0.79427901, -0.7881577 , -0.78195742, -0.77567879,\n",
       "       -0.76932244, -0.762889  , -0.75637913, -0.74979346, -0.74313266,\n",
       "       -0.7363974 , -0.72958836, -0.72270621, -0.71575164, -0.70872536,\n",
       "       -0.70162807, -0.69446047, -0.68722329, -0.67991724, -0.67254307,\n",
       "       -0.66510151, -0.65759331, -0.65001922, -0.64238   , -0.63467641,\n",
       "       -0.62690923, -0.61907923, -0.6111872 , -0.60323392, -0.59522021,\n",
       "       -0.58714685, -0.57901466, -0.57082446, -0.56257706, -0.55427329,\n",
       "       -0.54591398, -0.53749997, -0.5290321 , -0.52051123, -0.5119382 ,\n",
       "       -0.50331387, -0.49463911, -0.48591479, -0.47714179, -0.46832097,\n",
       "       -0.45945322, -0.45053944, -0.44158052, -0.43257735, -0.42353083,\n",
       "       -0.41444188, -0.4053114 , -0.39614031, -0.38692953, -0.37767997,\n",
       "       -0.36839258, -0.35906827, -0.34970798, -0.34031265, -0.33088322,\n",
       "       -0.32142064, -0.31192585, -0.3023998 , -0.29284346, -0.28325777,\n",
       "       -0.2736437 , -0.26400222, -0.25433428, -0.24464085, -0.23492291,\n",
       "       -0.22518144, -0.2154174 , -0.20563177, -0.19582554, -0.18599969,\n",
       "       -0.1761552 , -0.16629307, -0.15641427, -0.14651979, -0.13661064,\n",
       "       -0.12668779, -0.11675226, -0.10680502, -0.09684708, -0.08687944,\n",
       "       -0.0769031 , -0.06691904, -0.05692829, -0.04693183, -0.03693066,\n",
       "       -0.0269258 , -0.01691823, -0.00690898,  0.00310097,  0.01311061,\n",
       "        0.02311894,  0.03312495,  0.04312764,  0.05312601,  0.06311905,\n",
       "        0.07310577,  0.08308517,  0.09305624,  0.10301799,  0.11296941,\n",
       "        0.12290952,  0.13283731,  0.14275178,  0.15265196,  0.16253684,\n",
       "        0.17240543,  0.18225675,  0.19208981,  0.20190362,  0.2116972 ,\n",
       "        0.22146956,  0.23121974,  0.24094675,  0.25064961,  0.26032736,\n",
       "        0.26997903,  0.27960364,  0.28920024,  0.29876786,  0.30830554,\n",
       "        0.31781233,  0.32728728,  0.33672943,  0.34613784,  0.35551157,\n",
       "        0.36484968,  0.37415123,  0.38341529,  0.39264093,  0.40182723,\n",
       "        0.41097327,  0.42007813,  0.42914089,  0.43816066,  0.44713652,\n",
       "        0.45606758,  0.46495294,  0.47379172,  0.48258302,  0.49132596,\n",
       "        0.50001968,  0.50866329,  0.51725594,  0.52579676,  0.53428489,\n",
       "        0.54271949,  0.5510997 ,  0.5594247 ,  0.56769364,  0.5759057 ,\n",
       "        0.58406006,  0.59215589,  0.60019239,  0.60816875,  0.61608417,\n",
       "        0.62393786,  0.63172904,  0.63945691,  0.64712071,  0.65471967,\n",
       "        0.66225303,  0.66972002,  0.67711992,  0.68445196,  0.69171543,\n",
       "        0.69890958,  0.70603371,  0.71308709,  0.72006902,  0.7269788 ,\n",
       "        0.73381574,  0.74057914,  0.74726835,  0.75388267,  0.76042146,\n",
       "        0.76688406,  0.77326981,  0.77957808,  0.78580824,  0.79195966,\n",
       "        0.79803173,  0.80402383,  0.80993537,  0.81576576,  0.82151441,\n",
       "        0.82718074,  0.83276419,  0.8382642 ,  0.84368021,  0.84901169,\n",
       "        0.85425809,  0.8594189 ,  0.8644936 ,  0.86948167,  0.87438263,\n",
       "        0.87919597,  0.88392121,  0.88855789,  0.89310553,  0.89756369,\n",
       "        0.90193191,  0.90620976,  0.9103968 ,  0.91449263,  0.91849682,\n",
       "        0.92240898,  0.92622871,  0.92995564,  0.93358938,  0.93712958,\n",
       "        0.94057589,  0.94392794,  0.94718542,  0.95034798,  0.95341533,\n",
       "        0.95638714,  0.95926312,  0.96204298,  0.96472645,  0.96731325,\n",
       "        0.96980313,  0.97219584,  0.97449113,  0.97668877,  0.97878856,\n",
       "        0.98079027,  0.9826937 ,  0.98449867,  0.986205  ,  0.9878125 ,\n",
       "        0.98932103,  0.99073043,  0.99204056,  0.99325128,  0.99436249,\n",
       "        0.99537405,  0.99628589,  0.99709789,  0.99780999,  0.9984221 ,\n",
       "        0.99893418,  0.99934616,  0.99965801,  0.99986969,  0.99998119,\n",
       "        0.99999249,  0.99990359,  0.9997145 ,  0.99942524,  0.99903584,\n",
       "        0.99854633,  0.99795677,  0.99726722,  0.99647774,  0.99558841,\n",
       "        0.99459933,  0.99351059,  0.9923223 ,  0.99103458,  0.98964756,\n",
       "        0.98816137,  0.98657617,  0.98489212,  0.98310938,  0.98122814,\n",
       "        0.97924858,  0.97717089,  0.9749953 ,  0.97272201,  0.97035125,\n",
       "        0.96788327,  0.9653183 ,  0.96265661,  0.95989847,  0.95704414,\n",
       "        0.95409391,  0.95104809,  0.94790697,  0.94467087,  0.94134012,\n",
       "        0.93791504,  0.93439599,  0.93078331,  0.92707737,  0.92327853,\n",
       "        0.91938718,  0.91540371,  0.91132852,  0.90716201,  0.9029046 ,\n",
       "        0.89855673,  0.89411881,  0.88959131,  0.88497468,  0.88026936,\n",
       "        0.87547585,  0.87059461,  0.86562614,  0.86057094,  0.85542951,\n",
       "        0.85020236,  0.84489002,  0.83949303,  0.83401192,  0.82844724,\n",
       "        0.82279955,  0.81706941,  0.81125741,  0.80536412,  0.79939013,\n",
       "        0.79333605,  0.78720247,  0.78099002,  0.77469931,  0.76833097,\n",
       "        0.76188565,  0.75536399,  0.74876664,  0.74209427,  0.73534754,\n",
       "        0.72852712,  0.72163371,  0.71466799,  0.70763067,  0.70052243,\n",
       "        0.69334401,  0.68609611,  0.67877947,  0.67139481,  0.66394288,\n",
       "        0.65642443,  0.6488402 ,  0.64119095,  0.63347746,  0.6257005 ,\n",
       "        0.61786084,  0.60995927,  0.60199658,  0.59397358,  0.58589106,\n",
       "        0.57774983,  0.56955071,  0.56129452,  0.5529821 ,  0.54461426,\n",
       "        0.53619185,  0.52771572,  0.51918671,  0.51060568,  0.50197348,\n",
       "        0.49329099,  0.48455907,  0.4757786 ,  0.46695046,  0.45807552,\n",
       "        0.44915469,  0.44018886,  0.43117891,  0.42212577,  0.41303032,\n",
       "        0.40389349,  0.39471619,  0.38549934,  0.37624387,  0.36695069,\n",
       "        0.35762075,  0.34825497,  0.3388543 ,  0.32941967,  0.31995204,\n",
       "        0.31045234,  0.30092154,  0.29136059,  0.28177045,  0.27215207,\n",
       "        0.26250642,  0.25283447,  0.24313718,  0.23341553,  0.2236705 ,\n",
       "        0.21390305,  0.20411417,  0.19430484,  0.18447604,  0.17462875,\n",
       "        0.16476397,  0.15488267,  0.14498586,  0.13507452,  0.12514965,\n",
       "        0.11521223,  0.10526327,  0.09530377,  0.08533471,  0.07535711,\n",
       "        0.06537195,  0.05538024,  0.04538299,  0.03538119,  0.02537584,\n",
       "        0.01536795,  0.00535852, -0.00465145, -0.01466095, -0.02466899,\n",
       "       -0.03467455, -0.04467663, -0.05467424, -0.06466637, -0.07465203,\n",
       "       -0.0846302 , -0.09459989, -0.1045601 , -0.11450984, -0.1244481 ,\n",
       "       -0.13437389, -0.14428622, -0.15418409, -0.16406652, -0.1739325 ,\n",
       "       -0.18378105, -0.19361119, -0.20342193, -0.21321229, -0.22298128,\n",
       "       -0.23272793, -0.24245127, -0.2521503 , -0.26182408, -0.27147162,\n",
       "       -0.28109195, -0.29068412, -0.30024717, -0.30978013, -0.31928205,\n",
       "       -0.32875198, -0.33818897, -0.34759207, -0.35696034, -0.36629285,\n",
       "       -0.37558865, -0.38484682, -0.39406643, -0.40324656, -0.41238627,\n",
       "       -0.42148467, -0.43054084, -0.43955386, -0.44852284, -0.45744688,\n",
       "       -0.46632509, -0.47515657, -0.48394043, -0.49267581, -0.50136182,\n",
       "       -0.5099976 , -0.51858227, -0.52711499, -0.53559488, -0.54402111])"
      ]
     },
     "execution_count": 62,
     "metadata": {},
     "output_type": "execute_result"
    }
   ],
   "source": [
    "y"
   ]
  },
  {
   "cell_type": "code",
   "execution_count": 63,
   "metadata": {},
   "outputs": [
    {
     "data": {
      "image/png": "[encoded data removed]",
      "text/plain": [
       "<Figure size 432x288 with 1 Axes>"
      ]
     },
     "metadata": {
      "needs_background": "light"
     },
     "output_type": "display_data"
    }
   ],
   "source": [
    "x = np.linspace(1,10,1000)\n",
    "linear_line = x\n",
    "sin_wave = np.sin(x)\n",
    "log_curve = np.log(x)\n",
    "\n",
    "curves = [linear_line, log_curve, sin_wave]\n",
    "colors = ['k','r','b']\n",
    "styles = ['-','--',':']\n",
    "\n",
    "for curve,color,style in zip(curves, colors, styles):\n",
    "    plt.plot(x, curve, c=color, linestyle=style)\n",
    "\n",
    "plt.show()"
   ]
  },
  {
   "cell_type": "code",
   "execution_count": 64,
   "metadata": {},
   "outputs": [
    {
     "data": {
      "image/png": "[encoded data removed]",
      "text/plain": [
       "<Figure size 432x288 with 1 Axes>"
      ]
     },
     "metadata": {
      "needs_background": "light"
     },
     "output_type": "display_data"
    }
   ],
   "source": [
    "labels = ['Type 1', 'Type 2', 'Type 3']\n",
    "counts = [2,3,5]\n",
    "\n",
    "plt.bar(labels,counts)\n",
    "plt.show()"
   ]
  },
  {
   "cell_type": "code",
   "execution_count": 66,
   "metadata": {},
   "outputs": [],
   "source": [
    "import numpy as np\n",
    "import scipy.stats as stats\n",
    "import matplotlib.pyplot as plt"
   ]
  },
  {
   "cell_type": "code",
   "execution_count": 67,
   "metadata": {},
   "outputs": [],
   "source": [
    "samples = np.random.normal(0,1,size=1000)"
   ]
  },
  {
   "cell_type": "code",
   "execution_count": 69,
   "metadata": {},
   "outputs": [],
   "source": [
    "x = np.linspace(samples.min(),samples.max(),1000)\n",
    "y = stats.norm.pdf(x)"
   ]
  },
  {
   "cell_type": "code",
   "execution_count": 70,
   "metadata": {},
   "outputs": [
    {
     "data": {
      "text/plain": [
       "array([-3.18675163e+00, -3.18077169e+00, -3.17479176e+00, -3.16881182e+00,\n",
       "       -3.16283189e+00, -3.15685196e+00, -3.15087202e+00, -3.14489209e+00,\n",
       "       -3.13891215e+00, -3.13293222e+00, -3.12695229e+00, -3.12097235e+00,\n",
       "       -3.11499242e+00, -3.10901248e+00, -3.10303255e+00, -3.09705262e+00,\n",
       "       -3.09107268e+00, -3.08509275e+00, -3.07911281e+00, -3.07313288e+00,\n",
       "       -3.06715295e+00, -3.06117301e+00, -3.05519308e+00, -3.04921314e+00,\n",
       "       -3.04323321e+00, -3.03725327e+00, -3.03127334e+00, -3.02529341e+00,\n",
       "       -3.01931347e+00, -3.01333354e+00, -3.00735360e+00, -3.00137367e+00,\n",
       "       -2.99539374e+00, -2.98941380e+00, -2.98343387e+00, -2.97745393e+00,\n",
       "       -2.97147400e+00, -2.96549407e+00, -2.95951413e+00, -2.95353420e+00,\n",
       "       -2.94755426e+00, -2.94157433e+00, -2.93559440e+00, -2.92961446e+00,\n",
       "       -2.92363453e+00, -2.91765459e+00, -2.91167466e+00, -2.90569473e+00,\n",
       "       -2.89971479e+00, -2.89373486e+00, -2.88775492e+00, -2.88177499e+00,\n",
       "       -2.87579506e+00, -2.86981512e+00, -2.86383519e+00, -2.85785525e+00,\n",
       "       -2.85187532e+00, -2.84589539e+00, -2.83991545e+00, -2.83393552e+00,\n",
       "       -2.82795558e+00, -2.82197565e+00, -2.81599572e+00, -2.81001578e+00,\n",
       "       -2.80403585e+00, -2.79805591e+00, -2.79207598e+00, -2.78609605e+00,\n",
       "       -2.78011611e+00, -2.77413618e+00, -2.76815624e+00, -2.76217631e+00,\n",
       "       -2.75619638e+00, -2.75021644e+00, -2.74423651e+00, -2.73825657e+00,\n",
       "       -2.73227664e+00, -2.72629671e+00, -2.72031677e+00, -2.71433684e+00,\n",
       "       -2.70835690e+00, -2.70237697e+00, -2.69639703e+00, -2.69041710e+00,\n",
       "       -2.68443717e+00, -2.67845723e+00, -2.67247730e+00, -2.66649736e+00,\n",
       "       -2.66051743e+00, -2.65453750e+00, -2.64855756e+00, -2.64257763e+00,\n",
       "       -2.63659769e+00, -2.63061776e+00, -2.62463783e+00, -2.61865789e+00,\n",
       "       -2.61267796e+00, -2.60669802e+00, -2.60071809e+00, -2.59473816e+00,\n",
       "       -2.58875822e+00, -2.58277829e+00, -2.57679835e+00, -2.57081842e+00,\n",
       "       -2.56483849e+00, -2.55885855e+00, -2.55287862e+00, -2.54689868e+00,\n",
       "       -2.54091875e+00, -2.53493882e+00, -2.52895888e+00, -2.52297895e+00,\n",
       "       -2.51699901e+00, -2.51101908e+00, -2.50503915e+00, -2.49905921e+00,\n",
       "       -2.49307928e+00, -2.48709934e+00, -2.48111941e+00, -2.47513948e+00,\n",
       "       -2.46915954e+00, -2.46317961e+00, -2.45719967e+00, -2.45121974e+00,\n",
       "       -2.44523981e+00, -2.43925987e+00, -2.43327994e+00, -2.42730000e+00,\n",
       "       -2.42132007e+00, -2.41534014e+00, -2.40936020e+00, -2.40338027e+00,\n",
       "       -2.39740033e+00, -2.39142040e+00, -2.38544047e+00, -2.37946053e+00,\n",
       "       -2.37348060e+00, -2.36750066e+00, -2.36152073e+00, -2.35554079e+00,\n",
       "       -2.34956086e+00, -2.34358093e+00, -2.33760099e+00, -2.33162106e+00,\n",
       "       -2.32564112e+00, -2.31966119e+00, -2.31368126e+00, -2.30770132e+00,\n",
       "       -2.30172139e+00, -2.29574145e+00, -2.28976152e+00, -2.28378159e+00,\n",
       "       -2.27780165e+00, -2.27182172e+00, -2.26584178e+00, -2.25986185e+00,\n",
       "       -2.25388192e+00, -2.24790198e+00, -2.24192205e+00, -2.23594211e+00,\n",
       "       -2.22996218e+00, -2.22398225e+00, -2.21800231e+00, -2.21202238e+00,\n",
       "       -2.20604244e+00, -2.20006251e+00, -2.19408258e+00, -2.18810264e+00,\n",
       "       -2.18212271e+00, -2.17614277e+00, -2.17016284e+00, -2.16418291e+00,\n",
       "       -2.15820297e+00, -2.15222304e+00, -2.14624310e+00, -2.14026317e+00,\n",
       "       -2.13428324e+00, -2.12830330e+00, -2.12232337e+00, -2.11634343e+00,\n",
       "       -2.11036350e+00, -2.10438357e+00, -2.09840363e+00, -2.09242370e+00,\n",
       "       -2.08644376e+00, -2.08046383e+00, -2.07448390e+00, -2.06850396e+00,\n",
       "       -2.06252403e+00, -2.05654409e+00, -2.05056416e+00, -2.04458423e+00,\n",
       "       -2.03860429e+00, -2.03262436e+00, -2.02664442e+00, -2.02066449e+00,\n",
       "       -2.01468455e+00, -2.00870462e+00, -2.00272469e+00, -1.99674475e+00,\n",
       "       -1.99076482e+00, -1.98478488e+00, -1.97880495e+00, -1.97282502e+00,\n",
       "       -1.96684508e+00, -1.96086515e+00, -1.95488521e+00, -1.94890528e+00,\n",
       "       -1.94292535e+00, -1.93694541e+00, -1.93096548e+00, -1.92498554e+00,\n",
       "       -1.91900561e+00, -1.91302568e+00, -1.90704574e+00, -1.90106581e+00,\n",
       "       -1.89508587e+00, -1.88910594e+00, -1.88312601e+00, -1.87714607e+00,\n",
       "       -1.87116614e+00, -1.86518620e+00, -1.85920627e+00, -1.85322634e+00,\n",
       "       -1.84724640e+00, -1.84126647e+00, -1.83528653e+00, -1.82930660e+00,\n",
       "       -1.82332667e+00, -1.81734673e+00, -1.81136680e+00, -1.80538686e+00,\n",
       "       -1.79940693e+00, -1.79342700e+00, -1.78744706e+00, -1.78146713e+00,\n",
       "       -1.77548719e+00, -1.76950726e+00, -1.76352733e+00, -1.75754739e+00,\n",
       "       -1.75156746e+00, -1.74558752e+00, -1.73960759e+00, -1.73362766e+00,\n",
       "       -1.72764772e+00, -1.72166779e+00, -1.71568785e+00, -1.70970792e+00,\n",
       "       -1.70372798e+00, -1.69774805e+00, -1.69176812e+00, -1.68578818e+00,\n",
       "       -1.67980825e+00, -1.67382831e+00, -1.66784838e+00, -1.66186845e+00,\n",
       "       -1.65588851e+00, -1.64990858e+00, -1.64392864e+00, -1.63794871e+00,\n",
       "       -1.63196878e+00, -1.62598884e+00, -1.62000891e+00, -1.61402897e+00,\n",
       "       -1.60804904e+00, -1.60206911e+00, -1.59608917e+00, -1.59010924e+00,\n",
       "       -1.58412930e+00, -1.57814937e+00, -1.57216944e+00, -1.56618950e+00,\n",
       "       -1.56020957e+00, -1.55422963e+00, -1.54824970e+00, -1.54226977e+00,\n",
       "       -1.53628983e+00, -1.53030990e+00, -1.52432996e+00, -1.51835003e+00,\n",
       "       -1.51237010e+00, -1.50639016e+00, -1.50041023e+00, -1.49443029e+00,\n",
       "       -1.48845036e+00, -1.48247043e+00, -1.47649049e+00, -1.47051056e+00,\n",
       "       -1.46453062e+00, -1.45855069e+00, -1.45257076e+00, -1.44659082e+00,\n",
       "       -1.44061089e+00, -1.43463095e+00, -1.42865102e+00, -1.42267109e+00,\n",
       "       -1.41669115e+00, -1.41071122e+00, -1.40473128e+00, -1.39875135e+00,\n",
       "       -1.39277142e+00, -1.38679148e+00, -1.38081155e+00, -1.37483161e+00,\n",
       "       -1.36885168e+00, -1.36287174e+00, -1.35689181e+00, -1.35091188e+00,\n",
       "       -1.34493194e+00, -1.33895201e+00, -1.33297207e+00, -1.32699214e+00,\n",
       "       -1.32101221e+00, -1.31503227e+00, -1.30905234e+00, -1.30307240e+00,\n",
       "       -1.29709247e+00, -1.29111254e+00, -1.28513260e+00, -1.27915267e+00,\n",
       "       -1.27317273e+00, -1.26719280e+00, -1.26121287e+00, -1.25523293e+00,\n",
       "       -1.24925300e+00, -1.24327306e+00, -1.23729313e+00, -1.23131320e+00,\n",
       "       -1.22533326e+00, -1.21935333e+00, -1.21337339e+00, -1.20739346e+00,\n",
       "       -1.20141353e+00, -1.19543359e+00, -1.18945366e+00, -1.18347372e+00,\n",
       "       -1.17749379e+00, -1.17151386e+00, -1.16553392e+00, -1.15955399e+00,\n",
       "       -1.15357405e+00, -1.14759412e+00, -1.14161419e+00, -1.13563425e+00,\n",
       "       -1.12965432e+00, -1.12367438e+00, -1.11769445e+00, -1.11171452e+00,\n",
       "       -1.10573458e+00, -1.09975465e+00, -1.09377471e+00, -1.08779478e+00,\n",
       "       -1.08181485e+00, -1.07583491e+00, -1.06985498e+00, -1.06387504e+00,\n",
       "       -1.05789511e+00, -1.05191518e+00, -1.04593524e+00, -1.03995531e+00,\n",
       "       -1.03397537e+00, -1.02799544e+00, -1.02201550e+00, -1.01603557e+00,\n",
       "       -1.01005564e+00, -1.00407570e+00, -9.98095769e-01, -9.92115835e-01,\n",
       "       -9.86135901e-01, -9.80155967e-01, -9.74176033e-01, -9.68196099e-01,\n",
       "       -9.62216165e-01, -9.56236231e-01, -9.50256296e-01, -9.44276362e-01,\n",
       "       -9.38296428e-01, -9.32316494e-01, -9.26336560e-01, -9.20356626e-01,\n",
       "       -9.14376692e-01, -9.08396758e-01, -9.02416824e-01, -8.96436890e-01,\n",
       "       -8.90456956e-01, -8.84477022e-01, -8.78497088e-01, -8.72517154e-01,\n",
       "       -8.66537220e-01, -8.60557286e-01, -8.54577352e-01, -8.48597418e-01,\n",
       "       -8.42617484e-01, -8.36637550e-01, -8.30657616e-01, -8.24677682e-01,\n",
       "       -8.18697748e-01, -8.12717814e-01, -8.06737880e-01, -8.00757946e-01,\n",
       "       -7.94778012e-01, -7.88798077e-01, -7.82818143e-01, -7.76838209e-01,\n",
       "       -7.70858275e-01, -7.64878341e-01, -7.58898407e-01, -7.52918473e-01,\n",
       "       -7.46938539e-01, -7.40958605e-01, -7.34978671e-01, -7.28998737e-01,\n",
       "       -7.23018803e-01, -7.17038869e-01, -7.11058935e-01, -7.05079001e-01,\n",
       "       -6.99099067e-01, -6.93119133e-01, -6.87139199e-01, -6.81159265e-01,\n",
       "       -6.75179331e-01, -6.69199397e-01, -6.63219463e-01, -6.57239529e-01,\n",
       "       -6.51259595e-01, -6.45279661e-01, -6.39299727e-01, -6.33319793e-01,\n",
       "       -6.27339859e-01, -6.21359924e-01, -6.15379990e-01, -6.09400056e-01,\n",
       "       -6.03420122e-01, -5.97440188e-01, -5.91460254e-01, -5.85480320e-01,\n",
       "       -5.79500386e-01, -5.73520452e-01, -5.67540518e-01, -5.61560584e-01,\n",
       "       -5.55580650e-01, -5.49600716e-01, -5.43620782e-01, -5.37640848e-01,\n",
       "       -5.31660914e-01, -5.25680980e-01, -5.19701046e-01, -5.13721112e-01,\n",
       "       -5.07741178e-01, -5.01761244e-01, -4.95781310e-01, -4.89801376e-01,\n",
       "       -4.83821442e-01, -4.77841508e-01, -4.71861574e-01, -4.65881640e-01,\n",
       "       -4.59901706e-01, -4.53921771e-01, -4.47941837e-01, -4.41961903e-01,\n",
       "       -4.35981969e-01, -4.30002035e-01, -4.24022101e-01, -4.18042167e-01,\n",
       "       -4.12062233e-01, -4.06082299e-01, -4.00102365e-01, -3.94122431e-01,\n",
       "       -3.88142497e-01, -3.82162563e-01, -3.76182629e-01, -3.70202695e-01,\n",
       "       -3.64222761e-01, -3.58242827e-01, -3.52262893e-01, -3.46282959e-01,\n",
       "       -3.40303025e-01, -3.34323091e-01, -3.28343157e-01, -3.22363223e-01,\n",
       "       -3.16383289e-01, -3.10403355e-01, -3.04423421e-01, -2.98443487e-01,\n",
       "       -2.92463553e-01, -2.86483618e-01, -2.80503684e-01, -2.74523750e-01,\n",
       "       -2.68543816e-01, -2.62563882e-01, -2.56583948e-01, -2.50604014e-01,\n",
       "       -2.44624080e-01, -2.38644146e-01, -2.32664212e-01, -2.26684278e-01,\n",
       "       -2.20704344e-01, -2.14724410e-01, -2.08744476e-01, -2.02764542e-01,\n",
       "       -1.96784608e-01, -1.90804674e-01, -1.84824740e-01, -1.78844806e-01,\n",
       "       -1.72864872e-01, -1.66884938e-01, -1.60905004e-01, -1.54925070e-01,\n",
       "       -1.48945136e-01, -1.42965202e-01, -1.36985268e-01, -1.31005334e-01,\n",
       "       -1.25025400e-01, -1.19045465e-01, -1.13065531e-01, -1.07085597e-01,\n",
       "       -1.01105663e-01, -9.51257293e-02, -8.91457953e-02, -8.31658613e-02,\n",
       "       -7.71859272e-02, -7.12059932e-02, -6.52260592e-02, -5.92461251e-02,\n",
       "       -5.32661911e-02, -4.72862570e-02, -4.13063230e-02, -3.53263890e-02,\n",
       "       -2.93464549e-02, -2.33665209e-02, -1.73865869e-02, -1.14066528e-02,\n",
       "       -5.42671880e-03,  5.53215239e-04,  6.53314928e-03,  1.25130833e-02,\n",
       "        1.84930173e-02,  2.44729514e-02,  3.04528854e-02,  3.64328195e-02,\n",
       "        4.24127535e-02,  4.83926875e-02,  5.43726216e-02,  6.03525556e-02,\n",
       "        6.63324896e-02,  7.23124237e-02,  7.82923577e-02,  8.42722917e-02,\n",
       "        9.02522258e-02,  9.62321598e-02,  1.02212094e-01,  1.08192028e-01,\n",
       "        1.14171962e-01,  1.20151896e-01,  1.26131830e-01,  1.32111764e-01,\n",
       "        1.38091698e-01,  1.44071632e-01,  1.50051566e-01,  1.56031500e-01,\n",
       "        1.62011434e-01,  1.67991368e-01,  1.73971302e-01,  1.79951236e-01,\n",
       "        1.85931170e-01,  1.91911104e-01,  1.97891038e-01,  2.03870972e-01,\n",
       "        2.09850906e-01,  2.15830841e-01,  2.21810775e-01,  2.27790709e-01,\n",
       "        2.33770643e-01,  2.39750577e-01,  2.45730511e-01,  2.51710445e-01,\n",
       "        2.57690379e-01,  2.63670313e-01,  2.69650247e-01,  2.75630181e-01,\n",
       "        2.81610115e-01,  2.87590049e-01,  2.93569983e-01,  2.99549917e-01,\n",
       "        3.05529851e-01,  3.11509785e-01,  3.17489719e-01,  3.23469653e-01,\n",
       "        3.29449587e-01,  3.35429521e-01,  3.41409455e-01,  3.47389389e-01,\n",
       "        3.53369323e-01,  3.59349257e-01,  3.65329191e-01,  3.71309125e-01,\n",
       "        3.77289060e-01,  3.83268994e-01,  3.89248928e-01,  3.95228862e-01,\n",
       "        4.01208796e-01,  4.07188730e-01,  4.13168664e-01,  4.19148598e-01,\n",
       "        4.25128532e-01,  4.31108466e-01,  4.37088400e-01,  4.43068334e-01,\n",
       "        4.49048268e-01,  4.55028202e-01,  4.61008136e-01,  4.66988070e-01,\n",
       "        4.72968004e-01,  4.78947938e-01,  4.84927872e-01,  4.90907806e-01,\n",
       "        4.96887740e-01,  5.02867674e-01,  5.08847608e-01,  5.14827542e-01,\n",
       "        5.20807476e-01,  5.26787410e-01,  5.32767344e-01,  5.38747278e-01,\n",
       "        5.44727213e-01,  5.50707147e-01,  5.56687081e-01,  5.62667015e-01,\n",
       "        5.68646949e-01,  5.74626883e-01,  5.80606817e-01,  5.86586751e-01,\n",
       "        5.92566685e-01,  5.98546619e-01,  6.04526553e-01,  6.10506487e-01,\n",
       "        6.16486421e-01,  6.22466355e-01,  6.28446289e-01,  6.34426223e-01,\n",
       "        6.40406157e-01,  6.46386091e-01,  6.52366025e-01,  6.58345959e-01,\n",
       "        6.64325893e-01,  6.70305827e-01,  6.76285761e-01,  6.82265695e-01,\n",
       "        6.88245629e-01,  6.94225563e-01,  7.00205497e-01,  7.06185431e-01,\n",
       "        7.12165366e-01,  7.18145300e-01,  7.24125234e-01,  7.30105168e-01,\n",
       "        7.36085102e-01,  7.42065036e-01,  7.48044970e-01,  7.54024904e-01,\n",
       "        7.60004838e-01,  7.65984772e-01,  7.71964706e-01,  7.77944640e-01,\n",
       "        7.83924574e-01,  7.89904508e-01,  7.95884442e-01,  8.01864376e-01,\n",
       "        8.07844310e-01,  8.13824244e-01,  8.19804178e-01,  8.25784112e-01,\n",
       "        8.31764046e-01,  8.37743980e-01,  8.43723914e-01,  8.49703848e-01,\n",
       "        8.55683782e-01,  8.61663716e-01,  8.67643650e-01,  8.73623584e-01,\n",
       "        8.79603519e-01,  8.85583453e-01,  8.91563387e-01,  8.97543321e-01,\n",
       "        9.03523255e-01,  9.09503189e-01,  9.15483123e-01,  9.21463057e-01,\n",
       "        9.27442991e-01,  9.33422925e-01,  9.39402859e-01,  9.45382793e-01,\n",
       "        9.51362727e-01,  9.57342661e-01,  9.63322595e-01,  9.69302529e-01,\n",
       "        9.75282463e-01,  9.81262397e-01,  9.87242331e-01,  9.93222265e-01,\n",
       "        9.99202199e-01,  1.00518213e+00,  1.01116207e+00,  1.01714200e+00,\n",
       "        1.02312194e+00,  1.02910187e+00,  1.03508180e+00,  1.04106174e+00,\n",
       "        1.04704167e+00,  1.05302161e+00,  1.05900154e+00,  1.06498147e+00,\n",
       "        1.07096141e+00,  1.07694134e+00,  1.08292128e+00,  1.08890121e+00,\n",
       "        1.09488114e+00,  1.10086108e+00,  1.10684101e+00,  1.11282095e+00,\n",
       "        1.11880088e+00,  1.12478081e+00,  1.13076075e+00,  1.13674068e+00,\n",
       "        1.14272062e+00,  1.14870055e+00,  1.15468048e+00,  1.16066042e+00,\n",
       "        1.16664035e+00,  1.17262029e+00,  1.17860022e+00,  1.18458015e+00,\n",
       "        1.19056009e+00,  1.19654002e+00,  1.20251996e+00,  1.20849989e+00,\n",
       "        1.21447982e+00,  1.22045976e+00,  1.22643969e+00,  1.23241963e+00,\n",
       "        1.23839956e+00,  1.24437949e+00,  1.25035943e+00,  1.25633936e+00,\n",
       "        1.26231930e+00,  1.26829923e+00,  1.27427916e+00,  1.28025910e+00,\n",
       "        1.28623903e+00,  1.29221897e+00,  1.29819890e+00,  1.30417884e+00,\n",
       "        1.31015877e+00,  1.31613870e+00,  1.32211864e+00,  1.32809857e+00,\n",
       "        1.33407851e+00,  1.34005844e+00,  1.34603837e+00,  1.35201831e+00,\n",
       "        1.35799824e+00,  1.36397818e+00,  1.36995811e+00,  1.37593804e+00,\n",
       "        1.38191798e+00,  1.38789791e+00,  1.39387785e+00,  1.39985778e+00,\n",
       "        1.40583771e+00,  1.41181765e+00,  1.41779758e+00,  1.42377752e+00,\n",
       "        1.42975745e+00,  1.43573738e+00,  1.44171732e+00,  1.44769725e+00,\n",
       "        1.45367719e+00,  1.45965712e+00,  1.46563705e+00,  1.47161699e+00,\n",
       "        1.47759692e+00,  1.48357686e+00,  1.48955679e+00,  1.49553672e+00,\n",
       "        1.50151666e+00,  1.50749659e+00,  1.51347653e+00,  1.51945646e+00,\n",
       "        1.52543639e+00,  1.53141633e+00,  1.53739626e+00,  1.54337620e+00,\n",
       "        1.54935613e+00,  1.55533606e+00,  1.56131600e+00,  1.56729593e+00,\n",
       "        1.57327587e+00,  1.57925580e+00,  1.58523573e+00,  1.59121567e+00,\n",
       "        1.59719560e+00,  1.60317554e+00,  1.60915547e+00,  1.61513540e+00,\n",
       "        1.62111534e+00,  1.62709527e+00,  1.63307521e+00,  1.63905514e+00,\n",
       "        1.64503508e+00,  1.65101501e+00,  1.65699494e+00,  1.66297488e+00,\n",
       "        1.66895481e+00,  1.67493475e+00,  1.68091468e+00,  1.68689461e+00,\n",
       "        1.69287455e+00,  1.69885448e+00,  1.70483442e+00,  1.71081435e+00,\n",
       "        1.71679428e+00,  1.72277422e+00,  1.72875415e+00,  1.73473409e+00,\n",
       "        1.74071402e+00,  1.74669395e+00,  1.75267389e+00,  1.75865382e+00,\n",
       "        1.76463376e+00,  1.77061369e+00,  1.77659362e+00,  1.78257356e+00,\n",
       "        1.78855349e+00,  1.79453343e+00,  1.80051336e+00,  1.80649329e+00,\n",
       "        1.81247323e+00,  1.81845316e+00,  1.82443310e+00,  1.83041303e+00,\n",
       "        1.83639296e+00,  1.84237290e+00,  1.84835283e+00,  1.85433277e+00,\n",
       "        1.86031270e+00,  1.86629263e+00,  1.87227257e+00,  1.87825250e+00,\n",
       "        1.88423244e+00,  1.89021237e+00,  1.89619230e+00,  1.90217224e+00,\n",
       "        1.90815217e+00,  1.91413211e+00,  1.92011204e+00,  1.92609197e+00,\n",
       "        1.93207191e+00,  1.93805184e+00,  1.94403178e+00,  1.95001171e+00,\n",
       "        1.95599164e+00,  1.96197158e+00,  1.96795151e+00,  1.97393145e+00,\n",
       "        1.97991138e+00,  1.98589132e+00,  1.99187125e+00,  1.99785118e+00,\n",
       "        2.00383112e+00,  2.00981105e+00,  2.01579099e+00,  2.02177092e+00,\n",
       "        2.02775085e+00,  2.03373079e+00,  2.03971072e+00,  2.04569066e+00,\n",
       "        2.05167059e+00,  2.05765052e+00,  2.06363046e+00,  2.06961039e+00,\n",
       "        2.07559033e+00,  2.08157026e+00,  2.08755019e+00,  2.09353013e+00,\n",
       "        2.09951006e+00,  2.10549000e+00,  2.11146993e+00,  2.11744986e+00,\n",
       "        2.12342980e+00,  2.12940973e+00,  2.13538967e+00,  2.14136960e+00,\n",
       "        2.14734953e+00,  2.15332947e+00,  2.15930940e+00,  2.16528934e+00,\n",
       "        2.17126927e+00,  2.17724920e+00,  2.18322914e+00,  2.18920907e+00,\n",
       "        2.19518901e+00,  2.20116894e+00,  2.20714887e+00,  2.21312881e+00,\n",
       "        2.21910874e+00,  2.22508868e+00,  2.23106861e+00,  2.23704854e+00,\n",
       "        2.24302848e+00,  2.24900841e+00,  2.25498835e+00,  2.26096828e+00,\n",
       "        2.26694821e+00,  2.27292815e+00,  2.27890808e+00,  2.28488802e+00,\n",
       "        2.29086795e+00,  2.29684789e+00,  2.30282782e+00,  2.30880775e+00,\n",
       "        2.31478769e+00,  2.32076762e+00,  2.32674756e+00,  2.33272749e+00,\n",
       "        2.33870742e+00,  2.34468736e+00,  2.35066729e+00,  2.35664723e+00,\n",
       "        2.36262716e+00,  2.36860709e+00,  2.37458703e+00,  2.38056696e+00,\n",
       "        2.38654690e+00,  2.39252683e+00,  2.39850676e+00,  2.40448670e+00,\n",
       "        2.41046663e+00,  2.41644657e+00,  2.42242650e+00,  2.42840643e+00,\n",
       "        2.43438637e+00,  2.44036630e+00,  2.44634624e+00,  2.45232617e+00,\n",
       "        2.45830610e+00,  2.46428604e+00,  2.47026597e+00,  2.47624591e+00,\n",
       "        2.48222584e+00,  2.48820577e+00,  2.49418571e+00,  2.50016564e+00,\n",
       "        2.50614558e+00,  2.51212551e+00,  2.51810544e+00,  2.52408538e+00,\n",
       "        2.53006531e+00,  2.53604525e+00,  2.54202518e+00,  2.54800511e+00,\n",
       "        2.55398505e+00,  2.55996498e+00,  2.56594492e+00,  2.57192485e+00,\n",
       "        2.57790478e+00,  2.58388472e+00,  2.58986465e+00,  2.59584459e+00,\n",
       "        2.60182452e+00,  2.60780445e+00,  2.61378439e+00,  2.61976432e+00,\n",
       "        2.62574426e+00,  2.63172419e+00,  2.63770413e+00,  2.64368406e+00,\n",
       "        2.64966399e+00,  2.65564393e+00,  2.66162386e+00,  2.66760380e+00,\n",
       "        2.67358373e+00,  2.67956366e+00,  2.68554360e+00,  2.69152353e+00,\n",
       "        2.69750347e+00,  2.70348340e+00,  2.70946333e+00,  2.71544327e+00,\n",
       "        2.72142320e+00,  2.72740314e+00,  2.73338307e+00,  2.73936300e+00,\n",
       "        2.74534294e+00,  2.75132287e+00,  2.75730281e+00,  2.76328274e+00,\n",
       "        2.76926267e+00,  2.77524261e+00,  2.78122254e+00,  2.78720248e+00])"
      ]
     },
     "execution_count": 70,
     "metadata": {},
     "output_type": "execute_result"
    }
   ],
   "source": [
    "x"
   ]
  },
  {
   "cell_type": "code",
   "execution_count": 71,
   "metadata": {},
   "outputs": [
    {
     "data": {
      "text/plain": [
       "array([0.00248712, 0.00253492, 0.00258355, 0.00263302, 0.00268334,\n",
       "       0.00273453, 0.00278659, 0.00283954, 0.0028934 , 0.00294817,\n",
       "       0.00300387, 0.00306051, 0.00311811, 0.00317668, 0.00323624,\n",
       "       0.00329679, 0.00335836, 0.00342095, 0.00348458, 0.00354928,\n",
       "       0.00361504, 0.00368189, 0.00374984, 0.00381891, 0.00388912,\n",
       "       0.00396047, 0.00403299, 0.00410669, 0.00418158, 0.00425769,\n",
       "       0.00433503, 0.00441362, 0.00449347, 0.0045746 , 0.00465703,\n",
       "       0.00474078, 0.00482585, 0.00491229, 0.00500008, 0.00508927,\n",
       "       0.00517986, 0.00527188, 0.00536534, 0.00546026, 0.00555666,\n",
       "       0.00565456, 0.00575398, 0.00585494, 0.00595746, 0.00606155,\n",
       "       0.00616725, 0.00627456, 0.00638351, 0.00649412, 0.00660641,\n",
       "       0.0067204 , 0.00683612, 0.00695358, 0.0070728 , 0.00719381,\n",
       "       0.00731663, 0.00744128, 0.00756779, 0.00769617, 0.00782644,\n",
       "       0.00795864, 0.00809278, 0.00822889, 0.00836699, 0.0085071 ,\n",
       "       0.00864925, 0.00879346, 0.00893975, 0.00908815, 0.00923869,\n",
       "       0.00939138, 0.00954625, 0.00970334, 0.00986265, 0.01002422,\n",
       "       0.01018808, 0.01035424, 0.01052274, 0.01069359, 0.01086683,\n",
       "       0.01104249, 0.01122058, 0.01140113, 0.01158418, 0.01176974,\n",
       "       0.01195785, 0.01214853, 0.01234181, 0.01253772, 0.01273628,\n",
       "       0.01293753, 0.01314148, 0.01334817, 0.01355763, 0.01376988,\n",
       "       0.01398496, 0.01420288, 0.01442369, 0.0146474 , 0.01487406,\n",
       "       0.01510368, 0.01533629, 0.01557194, 0.01581063, 0.01605242,\n",
       "       0.01629731, 0.01654535, 0.01679657, 0.01705099, 0.01730865,\n",
       "       0.01756957, 0.01783378, 0.01810133, 0.01837222, 0.01864651,\n",
       "       0.01892422, 0.01920537, 0.01949   , 0.01977815, 0.02006983,\n",
       "       0.02036509, 0.02066396, 0.02096646, 0.02127263, 0.0215825 ,\n",
       "       0.0218961 , 0.02221346, 0.02253461, 0.0228596 , 0.02318843,\n",
       "       0.02352116, 0.02385781, 0.02419841, 0.024543  , 0.0248916 ,\n",
       "       0.02524426, 0.02560099, 0.02596183, 0.02632682, 0.02669599,\n",
       "       0.02706937, 0.02744698, 0.02782887, 0.02821507, 0.0286056 ,\n",
       "       0.02900049, 0.02939979, 0.02980352, 0.03021172, 0.03062441,\n",
       "       0.03104162, 0.0314634 , 0.03188976, 0.03232075, 0.03275639,\n",
       "       0.03319672, 0.03364176, 0.03409155, 0.03454612, 0.0350055 ,\n",
       "       0.03546971, 0.0359388 , 0.03641279, 0.03689171, 0.0373756 ,\n",
       "       0.03786448, 0.03835838, 0.03885733, 0.03936136, 0.03987051,\n",
       "       0.0403848 , 0.04090426, 0.04142892, 0.04195881, 0.04249396,\n",
       "       0.0430344 , 0.04358014, 0.04413124, 0.0446877 , 0.04524956,\n",
       "       0.04581685, 0.04638959, 0.04696781, 0.04755153, 0.04814079,\n",
       "       0.04873561, 0.04933602, 0.04994203, 0.05055369, 0.051171  ,\n",
       "       0.051794  , 0.05242271, 0.05305715, 0.05369735, 0.05434333,\n",
       "       0.05499512, 0.05565274, 0.0563162 , 0.05698554, 0.05766076,\n",
       "       0.05834191, 0.05902899, 0.05972202, 0.06042103, 0.06112604,\n",
       "       0.06183706, 0.06255412, 0.06327723, 0.0640064 , 0.06474167,\n",
       "       0.06548304, 0.06623053, 0.06698416, 0.06774394, 0.06850989,\n",
       "       0.06928202, 0.07006035, 0.07084488, 0.07163565, 0.07243265,\n",
       "       0.07323589, 0.0740454 , 0.07486118, 0.07568324, 0.07651159,\n",
       "       0.07734624, 0.07818719, 0.07903447, 0.07988807, 0.080748  ,\n",
       "       0.08161427, 0.08248689, 0.08336585, 0.08425117, 0.08514284,\n",
       "       0.08604087, 0.08694527, 0.08785603, 0.08877316, 0.08969665,\n",
       "       0.09062651, 0.09156273, 0.09250532, 0.09345427, 0.09440958,\n",
       "       0.09537124, 0.09633925, 0.09731361, 0.09829431, 0.09928134,\n",
       "       0.1002747 , 0.10127437, 0.10228035, 0.10329263, 0.1043112 ,\n",
       "       0.10533605, 0.10636716, 0.10740453, 0.10844813, 0.10949796,\n",
       "       0.11055399, 0.11161622, 0.11268463, 0.1137592 , 0.11483991,\n",
       "       0.11592673, 0.11701966, 0.11811867, 0.11922374, 0.12033484,\n",
       "       0.12145195, 0.12257505, 0.12370412, 0.12483911, 0.12598002,\n",
       "       0.12712681, 0.12827945, 0.12943791, 0.13060217, 0.13177218,\n",
       "       0.13294792, 0.13412935, 0.13531645, 0.13650917, 0.13770747,\n",
       "       0.13891133, 0.14012071, 0.14133555, 0.14255584, 0.14378151,\n",
       "       0.14501254, 0.14624888, 0.14749049, 0.14873731, 0.14998932,\n",
       "       0.15124645, 0.15250867, 0.15377592, 0.15504816, 0.15632533,\n",
       "       0.15760739, 0.15889428, 0.16018594, 0.16148234, 0.1627834 ,\n",
       "       0.16408908, 0.16539932, 0.16671406, 0.16803324, 0.1693568 ,\n",
       "       0.17068468, 0.17201683, 0.17335317, 0.17469365, 0.17603819,\n",
       "       0.17738674, 0.17873923, 0.1800956 , 0.18145576, 0.18281966,\n",
       "       0.18418723, 0.18555839, 0.18693307, 0.18831121, 0.18969272,\n",
       "       0.19107753, 0.19246557, 0.19385676, 0.19525102, 0.19664828,\n",
       "       0.19804845, 0.19945147, 0.20085724, 0.20226568, 0.20367672,\n",
       "       0.20509026, 0.20650624, 0.20792455, 0.20934512, 0.21076785,\n",
       "       0.21219267, 0.21361948, 0.21504819, 0.21647872, 0.21791097,\n",
       "       0.21934486, 0.22078028, 0.22221715, 0.22365538, 0.22509486,\n",
       "       0.22653551, 0.22797722, 0.22941991, 0.23086347, 0.2323078 ,\n",
       "       0.23375281, 0.23519841, 0.23664447, 0.23809092, 0.23953764,\n",
       "       0.24098453, 0.24243149, 0.24387842, 0.24532521, 0.24677177,\n",
       "       0.24821797, 0.24966372, 0.25110892, 0.25255344, 0.2539972 ,\n",
       "       0.25544007, 0.25688195, 0.25832274, 0.25976231, 0.26120057,\n",
       "       0.2626374 , 0.26407269, 0.26550633, 0.26693821, 0.26836821,\n",
       "       0.26979622, 0.27122214, 0.27264584, 0.27406721, 0.27548614,\n",
       "       0.27690252, 0.27831622, 0.27972714, 0.28113516, 0.28254016,\n",
       "       0.28394203, 0.28534065, 0.28673591, 0.28812769, 0.28951587,\n",
       "       0.29090033, 0.29228096, 0.29365765, 0.29503026, 0.2963987 ,\n",
       "       0.29776283, 0.29912255, 0.30047773, 0.30182825, 0.30317401,\n",
       "       0.30451487, 0.30585073, 0.30718146, 0.30850695, 0.30982708,\n",
       "       0.31114173, 0.31245079, 0.31375414, 0.31505165, 0.31634322,\n",
       "       0.31762873, 0.31890805, 0.32018108, 0.3214477 , 0.32270778,\n",
       "       0.32396122, 0.3252079 , 0.3264477 , 0.32768052, 0.32890622,\n",
       "       0.33012471, 0.33133586, 0.33253956, 0.3337357 , 0.33492416,\n",
       "       0.33610484, 0.33727762, 0.33844239, 0.33959904, 0.34074745,\n",
       "       0.34188753, 0.34301915, 0.34414221, 0.3452566 , 0.34636221,\n",
       "       0.34745894, 0.34854668, 0.34962532, 0.35069475, 0.35175488,\n",
       "       0.3528056 , 0.3538468 , 0.35487838, 0.35590025, 0.35691229,\n",
       "       0.35791442, 0.35890652, 0.3598885 , 0.36086026, 0.36182171,\n",
       "       0.36277275, 0.36371328, 0.36464321, 0.36556245, 0.36647089,\n",
       "       0.36736846, 0.36825506, 0.3691306 , 0.36999498, 0.37084813,\n",
       "       0.37168996, 0.37252037, 0.37333929, 0.37414663, 0.37494231,\n",
       "       0.37572624, 0.37649835, 0.37725856, 0.37800678, 0.37874294,\n",
       "       0.37946697, 0.38017878, 0.38087831, 0.38156549, 0.38224023,\n",
       "       0.38290247, 0.38355215, 0.38418919, 0.38481352, 0.38542509,\n",
       "       0.38602382, 0.38660966, 0.38718255, 0.38774241, 0.3882892 ,\n",
       "       0.38882286, 0.38934333, 0.38985055, 0.39034447, 0.39082505,\n",
       "       0.39129222, 0.39174595, 0.39218617, 0.39261285, 0.39302594,\n",
       "       0.39342539, 0.39381117, 0.39418323, 0.39454153, 0.39488604,\n",
       "       0.39521672, 0.39553352, 0.39583643, 0.3961254 , 0.39640041,\n",
       "       0.39666143, 0.39690842, 0.39714136, 0.39736023, 0.39756501,\n",
       "       0.39775567, 0.39793218, 0.39809454, 0.39824273, 0.39837672,\n",
       "       0.39849651, 0.39860209, 0.39869343, 0.39877053, 0.39883339,\n",
       "       0.39888199, 0.39891633, 0.39893641, 0.39894222, 0.39893377,\n",
       "       0.39891105, 0.39887407, 0.39882283, 0.39875734, 0.3986776 ,\n",
       "       0.39858362, 0.39847542, 0.398353  , 0.39821638, 0.39806557,\n",
       "       0.39790059, 0.39772146, 0.39752818, 0.3973208 , 0.39709932,\n",
       "       0.39686378, 0.39661419, 0.39635058, 0.39607299, 0.39578143,\n",
       "       0.39547595, 0.39515658, 0.39482334, 0.39447628, 0.39411543,\n",
       "       0.39374083, 0.39335252, 0.39295053, 0.39253493, 0.39210574,\n",
       "       0.39166301, 0.3912068 , 0.39073714, 0.39025409, 0.3897577 ,\n",
       "       0.38924802, 0.38872511, 0.38818902, 0.38763981, 0.38707753,\n",
       "       0.38650224, 0.38591401, 0.3853129 , 0.38469896, 0.38407227,\n",
       "       0.38343289, 0.38278089, 0.38211633, 0.38143928, 0.38074981,\n",
       "       0.380048  , 0.37933392, 0.37860765, 0.37786925, 0.3771188 ,\n",
       "       0.37635639, 0.37558209, 0.37479597, 0.37399813, 0.37318864,\n",
       "       0.37236759, 0.37153506, 0.37069113, 0.3698359 , 0.36896944,\n",
       "       0.36809185, 0.36720322, 0.36630363, 0.36539318, 0.36447196,\n",
       "       0.36354006, 0.36259758, 0.3616446 , 0.36068124, 0.35970758,\n",
       "       0.35872371, 0.35772975, 0.35672579, 0.35571192, 0.35468825,\n",
       "       0.35365488, 0.3526119 , 0.35155944, 0.35049758, 0.34942643,\n",
       "       0.3483461 , 0.34725669, 0.34615831, 0.34505107, 0.34393507,\n",
       "       0.34281041, 0.34167722, 0.3405356 , 0.33938565, 0.33822749,\n",
       "       0.33706123, 0.33588698, 0.33470485, 0.33351496, 0.33231741,\n",
       "       0.33111232, 0.32989981, 0.32867998, 0.32745295, 0.32621884,\n",
       "       0.32497775, 0.32372981, 0.32247513, 0.32121383, 0.31994602,\n",
       "       0.31867182, 0.31739134, 0.31610471, 0.31481203, 0.31351342,\n",
       "       0.31220901, 0.31089891, 0.30958324, 0.3082621 , 0.30693564,\n",
       "       0.30560395, 0.30426715, 0.30292537, 0.30157873, 0.30022733,\n",
       "       0.29887131, 0.29751077, 0.29614583, 0.29477661, 0.29340323,\n",
       "       0.29202581, 0.29064446, 0.2892593 , 0.28787044, 0.28647801,\n",
       "       0.28508213, 0.28368289, 0.28228044, 0.28087487, 0.2794663 ,\n",
       "       0.27805486, 0.27664065, 0.27522379, 0.2738044 , 0.27238259,\n",
       "       0.27095847, 0.26953216, 0.26810377, 0.26667341, 0.2652412 ,\n",
       "       0.26380725, 0.26237167, 0.26093456, 0.25949605, 0.25805625,\n",
       "       0.25661525, 0.25517318, 0.25373013, 0.25228623, 0.25084157,\n",
       "       0.24939626, 0.24795042, 0.24650414, 0.24505754, 0.24361071,\n",
       "       0.24216377, 0.24071681, 0.23926994, 0.23782327, 0.23637688,\n",
       "       0.2349309 , 0.23348541, 0.23204051, 0.23059631, 0.22915291,\n",
       "       0.22771039, 0.22626887, 0.22482843, 0.22338917, 0.22195119,\n",
       "       0.22051458, 0.21907944, 0.21764585, 0.21621391, 0.21478371,\n",
       "       0.21335534, 0.21192889, 0.21050445, 0.20908211, 0.20766196,\n",
       "       0.20624407, 0.20482854, 0.20341545, 0.20200489, 0.20059693,\n",
       "       0.19919167, 0.19778917, 0.19638953, 0.19499282, 0.19359912,\n",
       "       0.19220851, 0.19082106, 0.18943685, 0.18805596, 0.18667846,\n",
       "       0.18530442, 0.18393392, 0.18256703, 0.18120382, 0.17984435,\n",
       "       0.1784887 , 0.17713693, 0.17578911, 0.17444532, 0.1731056 ,\n",
       "       0.17177003, 0.17043867, 0.16911158, 0.16778883, 0.16647046,\n",
       "       0.16515655, 0.16384716, 0.16254233, 0.16124212, 0.1599466 ,\n",
       "       0.15865581, 0.15736981, 0.15608865, 0.15481239, 0.15354107,\n",
       "       0.15227475, 0.15101347, 0.14975728, 0.14850623, 0.14726037,\n",
       "       0.14601973, 0.14478437, 0.14355433, 0.14232965, 0.14111037,\n",
       "       0.13989653, 0.13868817, 0.13748534, 0.13628806, 0.13509638,\n",
       "       0.13391033, 0.13272995, 0.13155527, 0.13038632, 0.12922313,\n",
       "       0.12806574, 0.12691418, 0.12576848, 0.12462867, 0.12349476,\n",
       "       0.1223668 , 0.12124481, 0.1201288 , 0.11901882, 0.11791487,\n",
       "       0.11681698, 0.11572518, 0.11463949, 0.11355991, 0.11248649,\n",
       "       0.11141922, 0.11035813, 0.10930324, 0.10825457, 0.10721212,\n",
       "       0.10617591, 0.10514595, 0.10412227, 0.10310486, 0.10209375,\n",
       "       0.10108893, 0.10009042, 0.09909824, 0.09811238, 0.09713285,\n",
       "       0.09615967, 0.09519283, 0.09423234, 0.09327821, 0.09233044,\n",
       "       0.09138903, 0.09045398, 0.0895253 , 0.08860299, 0.08768704,\n",
       "       0.08677746, 0.08587424, 0.08497738, 0.08408688, 0.08320274,\n",
       "       0.08232496, 0.08145352, 0.08058842, 0.07972966, 0.07887723,\n",
       "       0.07803112, 0.07719133, 0.07635785, 0.07553066, 0.07470977,\n",
       "       0.07389515, 0.0730868 , 0.07228471, 0.07148887, 0.07069926,\n",
       "       0.06991587, 0.06913869, 0.0683677 , 0.0676029 , 0.06684425,\n",
       "       0.06609176, 0.06534541, 0.06460517, 0.06387103, 0.06314298,\n",
       "       0.06242099, 0.06170505, 0.06099515, 0.06029125, 0.05959335,\n",
       "       0.05890141, 0.05821543, 0.05753539, 0.05686125, 0.056193  ,\n",
       "       0.05553062, 0.05487409, 0.05422337, 0.05357846, 0.05293933,\n",
       "       0.05230595, 0.0516783 , 0.05105635, 0.05044009, 0.04982948,\n",
       "       0.04922451, 0.04862514, 0.04803135, 0.04744311, 0.04686041,\n",
       "       0.0462832 , 0.04571148, 0.04514519, 0.04458433, 0.04402887,\n",
       "       0.04347877, 0.042934  , 0.04239455, 0.04186038, 0.04133146,\n",
       "       0.04080776, 0.04028926, 0.03977592, 0.03926772, 0.03876463,\n",
       "       0.03826661, 0.03777364, 0.03728569, 0.03680273, 0.03632472,\n",
       "       0.03585164, 0.03538346, 0.03492014, 0.03446165, 0.03400797,\n",
       "       0.03355906, 0.03311489, 0.03267544, 0.03224066, 0.03181053,\n",
       "       0.03138501, 0.03096408, 0.03054771, 0.03013585, 0.02972849,\n",
       "       0.02932558, 0.0289271 , 0.02853301, 0.02814328, 0.02775789,\n",
       "       0.02737679, 0.02699997, 0.02662737, 0.02625898, 0.02589476,\n",
       "       0.02553468, 0.0251787 , 0.0248268 , 0.02447894, 0.02413509,\n",
       "       0.02379523, 0.0234593 , 0.0231273 , 0.02279918, 0.02247491,\n",
       "       0.02215446, 0.02183779, 0.02152489, 0.0212157 , 0.02091022,\n",
       "       0.02060839, 0.02031019, 0.0200156 , 0.01972457, 0.01943707,\n",
       "       0.01915309, 0.01887257, 0.0185955 , 0.01832185, 0.01805157,\n",
       "       0.01778465, 0.01752104, 0.01726073, 0.01700367, 0.01674985,\n",
       "       0.01649922, 0.01625176, 0.01600745, 0.01576624, 0.01552811,\n",
       "       0.01529303, 0.01506097, 0.0148319 , 0.01460579, 0.01438262,\n",
       "       0.01416234, 0.01394495, 0.0137304 , 0.01351867, 0.01330972,\n",
       "       0.01310354, 0.01290009, 0.01269934, 0.01250127, 0.01230586,\n",
       "       0.01211306, 0.01192285, 0.01173522, 0.01155012, 0.01136754,\n",
       "       0.01118744, 0.0110098 , 0.0108346 , 0.0106618 , 0.01049138,\n",
       "       0.01032332, 0.01015759, 0.00999416, 0.00983301, 0.00967411,\n",
       "       0.00951743, 0.00936296, 0.00921067, 0.00906053, 0.00891252,\n",
       "       0.00876662, 0.00862279, 0.00848102, 0.00834129, 0.00820356])"
      ]
     },
     "execution_count": 71,
     "metadata": {},
     "output_type": "execute_result"
    }
   ],
   "source": [
    "y"
   ]
  },
  {
   "cell_type": "code",
   "execution_count": 77,
   "metadata": {},
   "outputs": [
    {
     "data": {
      "image/png": "[encoded data removed]",
      "text/plain": [
       "<Figure size 432x288 with 1 Axes>"
      ]
     },
     "metadata": {
      "needs_background": "light"
     },
     "output_type": "display_data"
    }
   ],
   "source": [
    "plt.hist(samples,alpha=0.2, bins=30, density=True)\n",
    "plt.plot(x,y)\n",
    "plt.show()"
   ]
  },
  {
   "cell_type": "code",
   "execution_count": 79,
   "metadata": {},
   "outputs": [
    {
     "data": {
      "image/png": "[encoded data removed]",
      "text/plain": [
       "<Figure size 432x288 with 1 Axes>"
      ]
     },
     "metadata": {
      "needs_background": "light"
     },
     "output_type": "display_data"
    }
   ],
   "source": [
    "samples = np.random.beta(2,5,size=1000)\n",
    "x = np.linspace(samples.min(),samples.max(),1000)\n",
    "y = stats.beta.pdf(x,2,5)\n",
    "\n",
    "plt.hist(samples, bins=20, alpha=0.2, density=True)\n",
    "plt.plot(x,y)\n",
    "plt.show()"
   ]
  },
  {
   "cell_type": "code",
   "execution_count": 80,
   "metadata": {},
   "outputs": [
    {
     "data": {
      "image/png": "[encoded data removed]",
      "text/plain": [
       "<Figure size 432x288 with 1 Axes>"
      ]
     },
     "metadata": {
      "needs_background": "light"
     },
     "output_type": "display_data"
    }
   ],
   "source": [
    "samples = np.random.gamma(1, size=1000)\n",
    "x = np.linspace(samples.min(), samples.max(), 1000)\n",
    "y = stats.gamma.pdf(x, 1)\n",
    "plt.hist(samples, alpha=0.2, bins=20, density=True)\n",
    "plt.plot(x, y)\n",
    "plt.show()"
   ]
  },
  {
   "cell_type": "code",
   "execution_count": 81,
   "metadata": {},
   "outputs": [
    {
     "data": {
      "text/html": [
       "<div>\n",
       "<style scoped>\n",
       "    .dataframe tbody tr th:only-of-type {\n",
       "        vertical-align: middle;\n",
       "    }\n",
       "\n",
       "    .dataframe tbody tr th {\n",
       "        vertical-align: top;\n",
       "    }\n",
       "\n",
       "    .dataframe thead th {\n",
       "        text-align: right;\n",
       "    }\n",
       "</style>\n",
       "<table border=\"1\" class=\"dataframe\">\n",
       "  <thead>\n",
       "    <tr style=\"text-align: right;\">\n",
       "      <th></th>\n",
       "      <th>Column 1</th>\n",
       "      <th>Column 2</th>\n",
       "    </tr>\n",
       "  </thead>\n",
       "  <tbody>\n",
       "    <tr>\n",
       "      <td>0</td>\n",
       "      <td>0.193220</td>\n",
       "      <td>4.672632</td>\n",
       "    </tr>\n",
       "    <tr>\n",
       "      <td>1</td>\n",
       "      <td>-0.664804</td>\n",
       "      <td>6.176816</td>\n",
       "    </tr>\n",
       "    <tr>\n",
       "      <td>2</td>\n",
       "      <td>-1.003631</td>\n",
       "      <td>6.372636</td>\n",
       "    </tr>\n",
       "    <tr>\n",
       "      <td>3</td>\n",
       "      <td>0.336818</td>\n",
       "      <td>4.552837</td>\n",
       "    </tr>\n",
       "    <tr>\n",
       "      <td>4</td>\n",
       "      <td>0.468238</td>\n",
       "      <td>3.217980</td>\n",
       "    </tr>\n",
       "    <tr>\n",
       "      <td>...</td>\n",
       "      <td>...</td>\n",
       "      <td>...</td>\n",
       "    </tr>\n",
       "    <tr>\n",
       "      <td>995</td>\n",
       "      <td>0.734894</td>\n",
       "      <td>7.335701</td>\n",
       "    </tr>\n",
       "    <tr>\n",
       "      <td>996</td>\n",
       "      <td>-0.404767</td>\n",
       "      <td>5.692676</td>\n",
       "    </tr>\n",
       "    <tr>\n",
       "      <td>997</td>\n",
       "      <td>1.001419</td>\n",
       "      <td>1.425112</td>\n",
       "    </tr>\n",
       "    <tr>\n",
       "      <td>998</td>\n",
       "      <td>-1.083536</td>\n",
       "      <td>7.428101</td>\n",
       "    </tr>\n",
       "    <tr>\n",
       "      <td>999</td>\n",
       "      <td>0.561040</td>\n",
       "      <td>3.853389</td>\n",
       "    </tr>\n",
       "  </tbody>\n",
       "</table>\n",
       "<p>1000 rows × 2 columns</p>\n",
       "</div>"
      ],
      "text/plain": [
       "     Column 1  Column 2\n",
       "0    0.193220  4.672632\n",
       "1   -0.664804  6.176816\n",
       "2   -1.003631  6.372636\n",
       "3    0.336818  4.552837\n",
       "4    0.468238  3.217980\n",
       "..        ...       ...\n",
       "995  0.734894  7.335701\n",
       "996 -0.404767  5.692676\n",
       "997  1.001419  1.425112\n",
       "998 -1.083536  7.428101\n",
       "999  0.561040  3.853389\n",
       "\n",
       "[1000 rows x 2 columns]"
      ]
     },
     "execution_count": 81,
     "metadata": {},
     "output_type": "execute_result"
    }
   ],
   "source": [
    "x = np.random.normal(0,1,1000)\n",
    "y = np.random.normal(5,2,1000)\n",
    "df = pd.DataFrame({'Column 1':x,'Column 2':y})\n",
    "df"
   ]
  },
  {
   "cell_type": "code",
   "execution_count": 83,
   "metadata": {},
   "outputs": [
    {
     "data": {
      "image/png": "[encoded data removed]",
      "text/plain": [
       "<Figure size 432x432 with 3 Axes>"
      ]
     },
     "metadata": {
      "needs_background": "light"
     },
     "output_type": "display_data"
    }
   ],
   "source": [
    "import seaborn as sns\n",
    "\n",
    "sns.jointplot(x='Column 1', y='Column 2', data=df)\n",
    "plt.show()"
   ]
  },
  {
   "cell_type": "code",
   "execution_count": 84,
   "metadata": {},
   "outputs": [],
   "source": [
    "student_df = pd.DataFrame({\n",
    "    'name': ['Alice', 'Bob', 'Carol', 'Dan', 'Eli', 'Fran', \\\n",
    "             'George', 'Howl', 'Ivan', 'Jack', 'Kate'],\\\n",
    "    'gender': ['female', 'male', 'female', 'male', \\\n",
    "               'male', 'female', 'male', 'male', \\\n",
    "               'male', 'male', 'female'],\\\n",
    "    'class': ['JR', 'SO', 'SO', 'SO', 'JR', 'SR', \\\n",
    "              'FY', 'SO', 'SR', 'JR', 'FY'],\\\n",
    "    'gpa': [90, 93, 97, 89, 95, 92, 90, 87, 95, 100, 95],\\\n",
    "    'num_classes': [4, 3, 4, 4, 3, 2, 2, 3, 3, 4, 2]})\n"
   ]
  },
  {
   "cell_type": "code",
   "execution_count": 85,
   "metadata": {},
   "outputs": [
    {
     "data": {
      "text/html": [
       "<div>\n",
       "<style scoped>\n",
       "    .dataframe tbody tr th:only-of-type {\n",
       "        vertical-align: middle;\n",
       "    }\n",
       "\n",
       "    .dataframe tbody tr th {\n",
       "        vertical-align: top;\n",
       "    }\n",
       "\n",
       "    .dataframe thead th {\n",
       "        text-align: right;\n",
       "    }\n",
       "</style>\n",
       "<table border=\"1\" class=\"dataframe\">\n",
       "  <thead>\n",
       "    <tr style=\"text-align: right;\">\n",
       "      <th></th>\n",
       "      <th>name</th>\n",
       "      <th>gender</th>\n",
       "      <th>class</th>\n",
       "      <th>gpa</th>\n",
       "      <th>num_classes</th>\n",
       "    </tr>\n",
       "  </thead>\n",
       "  <tbody>\n",
       "    <tr>\n",
       "      <td>0</td>\n",
       "      <td>Alice</td>\n",
       "      <td>female</td>\n",
       "      <td>JR</td>\n",
       "      <td>90</td>\n",
       "      <td>4</td>\n",
       "    </tr>\n",
       "    <tr>\n",
       "      <td>1</td>\n",
       "      <td>Bob</td>\n",
       "      <td>male</td>\n",
       "      <td>SO</td>\n",
       "      <td>93</td>\n",
       "      <td>3</td>\n",
       "    </tr>\n",
       "    <tr>\n",
       "      <td>2</td>\n",
       "      <td>Carol</td>\n",
       "      <td>female</td>\n",
       "      <td>SO</td>\n",
       "      <td>97</td>\n",
       "      <td>4</td>\n",
       "    </tr>\n",
       "    <tr>\n",
       "      <td>3</td>\n",
       "      <td>Dan</td>\n",
       "      <td>male</td>\n",
       "      <td>SO</td>\n",
       "      <td>89</td>\n",
       "      <td>4</td>\n",
       "    </tr>\n",
       "    <tr>\n",
       "      <td>4</td>\n",
       "      <td>Eli</td>\n",
       "      <td>male</td>\n",
       "      <td>JR</td>\n",
       "      <td>95</td>\n",
       "      <td>3</td>\n",
       "    </tr>\n",
       "    <tr>\n",
       "      <td>5</td>\n",
       "      <td>Fran</td>\n",
       "      <td>female</td>\n",
       "      <td>SR</td>\n",
       "      <td>92</td>\n",
       "      <td>2</td>\n",
       "    </tr>\n",
       "    <tr>\n",
       "      <td>6</td>\n",
       "      <td>George</td>\n",
       "      <td>male</td>\n",
       "      <td>FY</td>\n",
       "      <td>90</td>\n",
       "      <td>2</td>\n",
       "    </tr>\n",
       "    <tr>\n",
       "      <td>7</td>\n",
       "      <td>Howl</td>\n",
       "      <td>male</td>\n",
       "      <td>SO</td>\n",
       "      <td>87</td>\n",
       "      <td>3</td>\n",
       "    </tr>\n",
       "    <tr>\n",
       "      <td>8</td>\n",
       "      <td>Ivan</td>\n",
       "      <td>male</td>\n",
       "      <td>SR</td>\n",
       "      <td>95</td>\n",
       "      <td>3</td>\n",
       "    </tr>\n",
       "    <tr>\n",
       "      <td>9</td>\n",
       "      <td>Jack</td>\n",
       "      <td>male</td>\n",
       "      <td>JR</td>\n",
       "      <td>100</td>\n",
       "      <td>4</td>\n",
       "    </tr>\n",
       "    <tr>\n",
       "      <td>10</td>\n",
       "      <td>Kate</td>\n",
       "      <td>female</td>\n",
       "      <td>FY</td>\n",
       "      <td>95</td>\n",
       "      <td>2</td>\n",
       "    </tr>\n",
       "  </tbody>\n",
       "</table>\n",
       "</div>"
      ],
      "text/plain": [
       "      name  gender class  gpa  num_classes\n",
       "0    Alice  female    JR   90            4\n",
       "1      Bob    male    SO   93            3\n",
       "2    Carol  female    SO   97            4\n",
       "3      Dan    male    SO   89            4\n",
       "4      Eli    male    JR   95            3\n",
       "5     Fran  female    SR   92            2\n",
       "6   George    male    FY   90            2\n",
       "7     Howl    male    SO   87            3\n",
       "8     Ivan    male    SR   95            3\n",
       "9     Jack    male    JR  100            4\n",
       "10    Kate  female    FY   95            2"
      ]
     },
     "execution_count": 85,
     "metadata": {},
     "output_type": "execute_result"
    }
   ],
   "source": [
    "student_df"
   ]
  },
  {
   "cell_type": "code",
   "execution_count": 86,
   "metadata": {},
   "outputs": [
    {
     "data": {
      "image/png": "[encoded data removed]",
      "text/plain": [
       "<Figure size 430.5x360 with 1 Axes>"
      ]
     },
     "metadata": {
      "needs_background": "light"
     },
     "output_type": "display_data"
    }
   ],
   "source": [
    "sns.catplot(x='class',y='gpa',hue='gender',kind='bar',data=student_df)\n",
    "plt.show()"
   ]
  },
  {
   "cell_type": "code",
   "execution_count": 87,
   "metadata": {},
   "outputs": [
    {
     "data": {
      "image/png": "[encoded data removed]",
      "text/plain": [
       "<Figure size 432x288 with 1 Axes>"
      ]
     },
     "metadata": {
      "needs_background": "light"
     },
     "output_type": "display_data"
    }
   ],
   "source": [
    "student_df['gpa'].plot.hist()\n",
    "plt.show()"
   ]
  },
  {
   "cell_type": "code",
   "execution_count": 89,
   "metadata": {},
   "outputs": [
    {
     "data": {
      "image/png": "[encoded data removed]",
      "text/plain": [
       "<Figure size 432x288 with 1 Axes>"
      ]
     },
     "metadata": {},
     "output_type": "display_data"
    }
   ],
   "source": [
    "student_df['class'].value_counts().plot.pie()\n",
    "plt.show()"
   ]
  },
  {
   "cell_type": "code",
   "execution_count": 90,
   "metadata": {},
   "outputs": [
    {
     "data": {
      "text/html": [
       "<div>\n",
       "<style scoped>\n",
       "    .dataframe tbody tr th:only-of-type {\n",
       "        vertical-align: middle;\n",
       "    }\n",
       "\n",
       "    .dataframe tbody tr th {\n",
       "        vertical-align: top;\n",
       "    }\n",
       "\n",
       "    .dataframe thead th {\n",
       "        text-align: right;\n",
       "    }\n",
       "</style>\n",
       "<table border=\"1\" class=\"dataframe\">\n",
       "  <thead>\n",
       "    <tr style=\"text-align: right;\">\n",
       "      <th></th>\n",
       "      <th>communityname</th>\n",
       "      <th>state</th>\n",
       "      <th>countyCode</th>\n",
       "      <th>communityCode</th>\n",
       "      <th>fold</th>\n",
       "      <th>population</th>\n",
       "      <th>householdsize</th>\n",
       "      <th>racepctblack</th>\n",
       "      <th>racePctWhite</th>\n",
       "      <th>racePctAsian</th>\n",
       "      <th>...</th>\n",
       "      <th>burglaries</th>\n",
       "      <th>burglPerPop</th>\n",
       "      <th>larcenies</th>\n",
       "      <th>larcPerPop</th>\n",
       "      <th>autoTheft</th>\n",
       "      <th>autoTheftPerPop</th>\n",
       "      <th>arsons</th>\n",
       "      <th>arsonsPerPop</th>\n",
       "      <th>ViolentCrimesPerPop</th>\n",
       "      <th>nonViolPerPop</th>\n",
       "    </tr>\n",
       "  </thead>\n",
       "  <tbody>\n",
       "    <tr>\n",
       "      <td>0</td>\n",
       "      <td>BerkeleyHeightstownship</td>\n",
       "      <td>NJ</td>\n",
       "      <td>39</td>\n",
       "      <td>5320</td>\n",
       "      <td>1</td>\n",
       "      <td>11980</td>\n",
       "      <td>3.10</td>\n",
       "      <td>1.37</td>\n",
       "      <td>91.78</td>\n",
       "      <td>6.50</td>\n",
       "      <td>...</td>\n",
       "      <td>14</td>\n",
       "      <td>114.85</td>\n",
       "      <td>138</td>\n",
       "      <td>1132.08</td>\n",
       "      <td>16</td>\n",
       "      <td>131.26</td>\n",
       "      <td>2</td>\n",
       "      <td>16.41</td>\n",
       "      <td>41.02</td>\n",
       "      <td>1394.59</td>\n",
       "    </tr>\n",
       "    <tr>\n",
       "      <td>1</td>\n",
       "      <td>Marpletownship</td>\n",
       "      <td>PA</td>\n",
       "      <td>45</td>\n",
       "      <td>47616</td>\n",
       "      <td>1</td>\n",
       "      <td>23123</td>\n",
       "      <td>2.82</td>\n",
       "      <td>0.80</td>\n",
       "      <td>95.57</td>\n",
       "      <td>3.44</td>\n",
       "      <td>...</td>\n",
       "      <td>57</td>\n",
       "      <td>242.37</td>\n",
       "      <td>376</td>\n",
       "      <td>1598.78</td>\n",
       "      <td>26</td>\n",
       "      <td>110.55</td>\n",
       "      <td>1</td>\n",
       "      <td>4.25</td>\n",
       "      <td>127.56</td>\n",
       "      <td>1955.95</td>\n",
       "    </tr>\n",
       "    <tr>\n",
       "      <td>2</td>\n",
       "      <td>Tigardcity</td>\n",
       "      <td>OR</td>\n",
       "      <td>?</td>\n",
       "      <td>?</td>\n",
       "      <td>1</td>\n",
       "      <td>29344</td>\n",
       "      <td>2.43</td>\n",
       "      <td>0.74</td>\n",
       "      <td>94.33</td>\n",
       "      <td>3.43</td>\n",
       "      <td>...</td>\n",
       "      <td>274</td>\n",
       "      <td>758.14</td>\n",
       "      <td>1797</td>\n",
       "      <td>4972.19</td>\n",
       "      <td>136</td>\n",
       "      <td>376.3</td>\n",
       "      <td>22</td>\n",
       "      <td>60.87</td>\n",
       "      <td>218.59</td>\n",
       "      <td>6167.51</td>\n",
       "    </tr>\n",
       "    <tr>\n",
       "      <td>3</td>\n",
       "      <td>Gloversvillecity</td>\n",
       "      <td>NY</td>\n",
       "      <td>35</td>\n",
       "      <td>29443</td>\n",
       "      <td>1</td>\n",
       "      <td>16656</td>\n",
       "      <td>2.40</td>\n",
       "      <td>1.70</td>\n",
       "      <td>97.35</td>\n",
       "      <td>0.50</td>\n",
       "      <td>...</td>\n",
       "      <td>225</td>\n",
       "      <td>1301.78</td>\n",
       "      <td>716</td>\n",
       "      <td>4142.56</td>\n",
       "      <td>47</td>\n",
       "      <td>271.93</td>\n",
       "      <td>?</td>\n",
       "      <td>?</td>\n",
       "      <td>306.64</td>\n",
       "      <td>?</td>\n",
       "    </tr>\n",
       "    <tr>\n",
       "      <td>4</td>\n",
       "      <td>Bemidjicity</td>\n",
       "      <td>MN</td>\n",
       "      <td>7</td>\n",
       "      <td>5068</td>\n",
       "      <td>1</td>\n",
       "      <td>11245</td>\n",
       "      <td>2.76</td>\n",
       "      <td>0.53</td>\n",
       "      <td>89.16</td>\n",
       "      <td>1.17</td>\n",
       "      <td>...</td>\n",
       "      <td>91</td>\n",
       "      <td>728.93</td>\n",
       "      <td>1060</td>\n",
       "      <td>8490.87</td>\n",
       "      <td>91</td>\n",
       "      <td>728.93</td>\n",
       "      <td>5</td>\n",
       "      <td>40.05</td>\n",
       "      <td>?</td>\n",
       "      <td>9988.79</td>\n",
       "    </tr>\n",
       "    <tr>\n",
       "      <td>...</td>\n",
       "      <td>...</td>\n",
       "      <td>...</td>\n",
       "      <td>...</td>\n",
       "      <td>...</td>\n",
       "      <td>...</td>\n",
       "      <td>...</td>\n",
       "      <td>...</td>\n",
       "      <td>...</td>\n",
       "      <td>...</td>\n",
       "      <td>...</td>\n",
       "      <td>...</td>\n",
       "      <td>...</td>\n",
       "      <td>...</td>\n",
       "      <td>...</td>\n",
       "      <td>...</td>\n",
       "      <td>...</td>\n",
       "      <td>...</td>\n",
       "      <td>...</td>\n",
       "      <td>...</td>\n",
       "      <td>...</td>\n",
       "      <td>...</td>\n",
       "    </tr>\n",
       "    <tr>\n",
       "      <td>2210</td>\n",
       "      <td>Mercedcity</td>\n",
       "      <td>CA</td>\n",
       "      <td>?</td>\n",
       "      <td>?</td>\n",
       "      <td>10</td>\n",
       "      <td>56216</td>\n",
       "      <td>3.07</td>\n",
       "      <td>6.87</td>\n",
       "      <td>61.68</td>\n",
       "      <td>15.23</td>\n",
       "      <td>...</td>\n",
       "      <td>1376</td>\n",
       "      <td>2268.72</td>\n",
       "      <td>2563</td>\n",
       "      <td>4225.82</td>\n",
       "      <td>489</td>\n",
       "      <td>806.25</td>\n",
       "      <td>34</td>\n",
       "      <td>56.06</td>\n",
       "      <td>545.75</td>\n",
       "      <td>7356.84</td>\n",
       "    </tr>\n",
       "    <tr>\n",
       "      <td>2211</td>\n",
       "      <td>Pinevillecity</td>\n",
       "      <td>LA</td>\n",
       "      <td>?</td>\n",
       "      <td>?</td>\n",
       "      <td>10</td>\n",
       "      <td>12251</td>\n",
       "      <td>2.68</td>\n",
       "      <td>21.18</td>\n",
       "      <td>76.65</td>\n",
       "      <td>1.52</td>\n",
       "      <td>...</td>\n",
       "      <td>104</td>\n",
       "      <td>860.43</td>\n",
       "      <td>574</td>\n",
       "      <td>4748.9</td>\n",
       "      <td>24</td>\n",
       "      <td>198.56</td>\n",
       "      <td>2</td>\n",
       "      <td>16.55</td>\n",
       "      <td>124.1</td>\n",
       "      <td>5824.44</td>\n",
       "    </tr>\n",
       "    <tr>\n",
       "      <td>2212</td>\n",
       "      <td>Yucaipacity</td>\n",
       "      <td>CA</td>\n",
       "      <td>?</td>\n",
       "      <td>?</td>\n",
       "      <td>10</td>\n",
       "      <td>32824</td>\n",
       "      <td>2.46</td>\n",
       "      <td>0.52</td>\n",
       "      <td>92.62</td>\n",
       "      <td>0.98</td>\n",
       "      <td>...</td>\n",
       "      <td>628</td>\n",
       "      <td>1709.26</td>\n",
       "      <td>895</td>\n",
       "      <td>2435.97</td>\n",
       "      <td>179</td>\n",
       "      <td>487.19</td>\n",
       "      <td>8</td>\n",
       "      <td>21.77</td>\n",
       "      <td>353.83</td>\n",
       "      <td>4654.2</td>\n",
       "    </tr>\n",
       "    <tr>\n",
       "      <td>2213</td>\n",
       "      <td>Beevillecity</td>\n",
       "      <td>TX</td>\n",
       "      <td>?</td>\n",
       "      <td>?</td>\n",
       "      <td>10</td>\n",
       "      <td>13547</td>\n",
       "      <td>2.89</td>\n",
       "      <td>3.37</td>\n",
       "      <td>69.91</td>\n",
       "      <td>0.90</td>\n",
       "      <td>...</td>\n",
       "      <td>192</td>\n",
       "      <td>1508.01</td>\n",
       "      <td>474</td>\n",
       "      <td>3722.9</td>\n",
       "      <td>13</td>\n",
       "      <td>102.1</td>\n",
       "      <td>1</td>\n",
       "      <td>7.85</td>\n",
       "      <td>691.17</td>\n",
       "      <td>5340.87</td>\n",
       "    </tr>\n",
       "    <tr>\n",
       "      <td>2214</td>\n",
       "      <td>WestSacramentocity</td>\n",
       "      <td>CA</td>\n",
       "      <td>?</td>\n",
       "      <td>?</td>\n",
       "      <td>10</td>\n",
       "      <td>28898</td>\n",
       "      <td>2.61</td>\n",
       "      <td>2.39</td>\n",
       "      <td>71.27</td>\n",
       "      <td>9.09</td>\n",
       "      <td>...</td>\n",
       "      <td>791</td>\n",
       "      <td>2614.53</td>\n",
       "      <td>1458</td>\n",
       "      <td>4819.2</td>\n",
       "      <td>405</td>\n",
       "      <td>1338.67</td>\n",
       "      <td>20</td>\n",
       "      <td>66.11</td>\n",
       "      <td>918.89</td>\n",
       "      <td>8838.5</td>\n",
       "    </tr>\n",
       "  </tbody>\n",
       "</table>\n",
       "<p>2215 rows × 147 columns</p>\n",
       "</div>"
      ],
      "text/plain": [
       "                communityname state countyCode communityCode  fold  \\\n",
       "0     BerkeleyHeightstownship    NJ         39          5320     1   \n",
       "1              Marpletownship    PA         45         47616     1   \n",
       "2                  Tigardcity    OR          ?             ?     1   \n",
       "3            Gloversvillecity    NY         35         29443     1   \n",
       "4                 Bemidjicity    MN          7          5068     1   \n",
       "...                       ...   ...        ...           ...   ...   \n",
       "2210               Mercedcity    CA          ?             ?    10   \n",
       "2211            Pinevillecity    LA          ?             ?    10   \n",
       "2212              Yucaipacity    CA          ?             ?    10   \n",
       "2213             Beevillecity    TX          ?             ?    10   \n",
       "2214       WestSacramentocity    CA          ?             ?    10   \n",
       "\n",
       "      population  householdsize  racepctblack  racePctWhite  racePctAsian  \\\n",
       "0          11980           3.10          1.37         91.78          6.50   \n",
       "1          23123           2.82          0.80         95.57          3.44   \n",
       "2          29344           2.43          0.74         94.33          3.43   \n",
       "3          16656           2.40          1.70         97.35          0.50   \n",
       "4          11245           2.76          0.53         89.16          1.17   \n",
       "...          ...            ...           ...           ...           ...   \n",
       "2210       56216           3.07          6.87         61.68         15.23   \n",
       "2211       12251           2.68         21.18         76.65          1.52   \n",
       "2212       32824           2.46          0.52         92.62          0.98   \n",
       "2213       13547           2.89          3.37         69.91          0.90   \n",
       "2214       28898           2.61          2.39         71.27          9.09   \n",
       "\n",
       "      ...  burglaries  burglPerPop  larcenies  larcPerPop  autoTheft  \\\n",
       "0     ...          14       114.85        138     1132.08         16   \n",
       "1     ...          57       242.37        376     1598.78         26   \n",
       "2     ...         274       758.14       1797     4972.19        136   \n",
       "3     ...         225      1301.78        716     4142.56         47   \n",
       "4     ...          91       728.93       1060     8490.87         91   \n",
       "...   ...         ...          ...        ...         ...        ...   \n",
       "2210  ...        1376      2268.72       2563     4225.82        489   \n",
       "2211  ...         104       860.43        574      4748.9         24   \n",
       "2212  ...         628      1709.26        895     2435.97        179   \n",
       "2213  ...         192      1508.01        474      3722.9         13   \n",
       "2214  ...         791      2614.53       1458      4819.2        405   \n",
       "\n",
       "      autoTheftPerPop  arsons  arsonsPerPop  ViolentCrimesPerPop  \\\n",
       "0              131.26       2         16.41                41.02   \n",
       "1              110.55       1          4.25               127.56   \n",
       "2               376.3      22         60.87               218.59   \n",
       "3              271.93       ?             ?               306.64   \n",
       "4              728.93       5         40.05                    ?   \n",
       "...               ...     ...           ...                  ...   \n",
       "2210           806.25      34         56.06               545.75   \n",
       "2211           198.56       2         16.55                124.1   \n",
       "2212           487.19       8         21.77               353.83   \n",
       "2213            102.1       1          7.85               691.17   \n",
       "2214          1338.67      20         66.11               918.89   \n",
       "\n",
       "      nonViolPerPop  \n",
       "0           1394.59  \n",
       "1           1955.95  \n",
       "2           6167.51  \n",
       "3                 ?  \n",
       "4           9988.79  \n",
       "...             ...  \n",
       "2210        7356.84  \n",
       "2211        5824.44  \n",
       "2212         4654.2  \n",
       "2213        5340.87  \n",
       "2214         8838.5  \n",
       "\n",
       "[2215 rows x 147 columns]"
      ]
     },
     "execution_count": 90,
     "metadata": {},
     "output_type": "execute_result"
    }
   ],
   "source": [
    "df = pd.read_csv('D:\\RESEARCH\\Dasarnya\\MATH\\Step_4_Statistics and Calculus Python\\My Source Code\\Work_2\\CommViolPredUnnormalizedData.txt')\n",
    "df"
   ]
  },
  {
   "cell_type": "code",
   "execution_count": 91,
   "metadata": {},
   "outputs": [
    {
     "name": "stdout",
     "output_type": "stream",
     "text": [
      "communityname\n",
      "state\n",
      "countyCode\n",
      "communityCode\n",
      "fold\n",
      "population\n",
      "householdsize\n",
      "racepctblack\n",
      "racePctWhite\n",
      "racePctAsian\n",
      "racePctHisp\n",
      "agePct12t21\n",
      "agePct12t29\n",
      "agePct16t24\n",
      "agePct65up\n",
      "numbUrban\n",
      "pctUrban\n",
      "medIncome\n",
      "pctWWage\n",
      "pctWFarmSelf\n",
      "pctWInvInc\n",
      "pctWSocSec\n",
      "pctWPubAsst\n",
      "pctWRetire\n",
      "medFamInc\n",
      "perCapInc\n",
      "whitePerCap\n",
      "blackPerCap\n",
      "indianPerCap\n",
      "AsianPerCap\n",
      "OtherPerCap\n",
      "HispPerCap\n",
      "NumUnderPov\n",
      "PctPopUnderPov\n",
      "PctLess9thGrade\n",
      "PctNotHSGrad\n",
      "PctBSorMore\n",
      "PctUnemployed\n",
      "PctEmploy\n",
      "PctEmplManu\n",
      "PctEmplProfServ\n",
      "PctOccupManu\n",
      "PctOccupMgmtProf\n",
      "MalePctDivorce\n",
      "MalePctNevMarr\n",
      "FemalePctDiv\n",
      "TotalPctDiv\n",
      "PersPerFam\n",
      "PctFam2Par\n",
      "PctKids2Par\n",
      "PctYoungKids2Par\n",
      "PctTeen2Par\n",
      "PctWorkMomYoungKids\n",
      "PctWorkMom\n",
      "NumKidsBornNeverMar\n",
      "PctKidsBornNeverMar\n",
      "NumImmig\n",
      "PctImmigRecent\n",
      "PctImmigRec5\n",
      "PctImmigRec8\n",
      "PctImmigRec10\n",
      "PctRecentImmig\n",
      "PctRecImmig5\n",
      "PctRecImmig8\n",
      "PctRecImmig10\n",
      "PctSpeakEnglOnly\n",
      "PctNotSpeakEnglWell\n",
      "PctLargHouseFam\n",
      "PctLargHouseOccup\n",
      "PersPerOccupHous\n",
      "PersPerOwnOccHous\n",
      "PersPerRentOccHous\n",
      "PctPersOwnOccup\n",
      "PctPersDenseHous\n",
      "PctHousLess3BR\n",
      "MedNumBR\n",
      "HousVacant\n",
      "PctHousOccup\n",
      "PctHousOwnOcc\n",
      "PctVacantBoarded\n",
      "PctVacMore6Mos\n",
      "MedYrHousBuilt\n",
      "PctHousNoPhone\n",
      "PctWOFullPlumb\n",
      "OwnOccLowQuart\n",
      "OwnOccMedVal\n",
      "OwnOccHiQuart\n",
      "OwnOccQrange\n",
      "RentLowQ\n",
      "RentMedian\n",
      "RentHighQ\n",
      "RentQrange\n",
      "MedRent\n",
      "MedRentPctHousInc\n",
      "MedOwnCostPctInc\n",
      "MedOwnCostPctIncNoMtg\n",
      "NumInShelters\n",
      "NumStreet\n",
      "PctForeignBorn\n",
      "PctBornSameState\n",
      "PctSameHouse85\n",
      "PctSameCity85\n",
      "PctSameState85\n",
      "LemasSwornFT\n",
      "LemasSwFTPerPop\n",
      "LemasSwFTFieldOps\n",
      "LemasSwFTFieldPerPop\n",
      "LemasTotalReq\n",
      "LemasTotReqPerPop\n",
      "PolicReqPerOffic\n",
      "PolicPerPop\n",
      "RacialMatchCommPol\n",
      "PctPolicWhite\n",
      "PctPolicBlack\n",
      "PctPolicHisp\n",
      "PctPolicAsian\n",
      "PctPolicMinor\n",
      "OfficAssgnDrugUnits\n",
      "NumKindsDrugsSeiz\n",
      "PolicAveOTWorked\n",
      "LandArea\n",
      "PopDens\n",
      "PctUsePubTrans\n",
      "PolicCars\n",
      "PolicOperBudg\n",
      "LemasPctPolicOnPatr\n",
      "LemasGangUnitDeploy\n",
      "LemasPctOfficDrugUn\n",
      "PolicBudgPerPop\n",
      "murders\n",
      "murdPerPop\n",
      "rapes\n",
      "rapesPerPop\n",
      "robberies\n",
      "robbbPerPop\n",
      "assaults\n",
      "assaultPerPop\n",
      "burglaries\n",
      "burglPerPop\n",
      "larcenies\n",
      "larcPerPop\n",
      "autoTheft\n",
      "autoTheftPerPop\n",
      "arsons\n",
      "arsonsPerPop\n",
      "ViolentCrimesPerPop\n",
      "nonViolPerPop\n"
     ]
    }
   ],
   "source": [
    "for column in df.columns:\n",
    "    print(column)"
   ]
  },
  {
   "cell_type": "code",
   "execution_count": 93,
   "metadata": {},
   "outputs": [
    {
     "name": "stdout",
     "output_type": "stream",
     "text": [
      "147\n"
     ]
    }
   ],
   "source": [
    "print(len(df.columns))"
   ]
  },
  {
   "cell_type": "code",
   "execution_count": 94,
   "metadata": {},
   "outputs": [],
   "source": [
    "df = df.replace('?',np.nan)"
   ]
  },
  {
   "cell_type": "code",
   "execution_count": 95,
   "metadata": {},
   "outputs": [
    {
     "data": {
      "text/plain": [
       "communityname             0\n",
       "state                     0\n",
       "countyCode             1221\n",
       "communityCode          1224\n",
       "fold                      0\n",
       "                       ... \n",
       "autoTheftPerPop           3\n",
       "arsons                   91\n",
       "arsonsPerPop             91\n",
       "ViolentCrimesPerPop     221\n",
       "nonViolPerPop            97\n",
       "Length: 147, dtype: int64"
      ]
     },
     "execution_count": 95,
     "metadata": {},
     "output_type": "execute_result"
    }
   ],
   "source": [
    "df.isnull().sum()"
   ]
  },
  {
   "cell_type": "code",
   "execution_count": 96,
   "metadata": {},
   "outputs": [
    {
     "name": "stdout",
     "output_type": "stream",
     "text": [
      "0\n",
      "1872\n"
     ]
    }
   ],
   "source": [
    "print(df.isnull().sum()['NumStreet'])\n",
    "print(df.isnull().sum()['PolicPerPop'])"
   ]
  },
  {
   "cell_type": "code",
   "execution_count": 97,
   "metadata": {},
   "outputs": [
    {
     "data": {
      "image/png": "[encoded data removed]",
      "text/plain": [
       "<Figure size 1080x720 with 1 Axes>"
      ]
     },
     "metadata": {
      "needs_background": "light"
     },
     "output_type": "display_data"
    }
   ],
   "source": [
    "state_count = df['state'].value_counts()\n",
    "f, ax = plt.subplots(figsize=(15,10))\n",
    "state_count.plot.bar()\n",
    "plt.show()"
   ]
  },
  {
   "cell_type": "code",
   "execution_count": 98,
   "metadata": {},
   "outputs": [
    {
     "data": {
      "image/png": "[encoded data removed]",
      "text/plain": [
       "<Figure size 1080x720 with 1 Axes>"
      ]
     },
     "metadata": {},
     "output_type": "display_data"
    }
   ],
   "source": [
    "f, ax = plt.subplots(figsize=(15,10))\n",
    "state_count.plot.pie()\n",
    "plt.show()"
   ]
  },
  {
   "cell_type": "code",
   "execution_count": 99,
   "metadata": {},
   "outputs": [
    {
     "data": {
      "image/png": "[encoded data removed]",
      "text/plain": [
       "<Figure size 1080x720 with 1 Axes>"
      ]
     },
     "metadata": {
      "needs_background": "light"
     },
     "output_type": "display_data"
    }
   ],
   "source": [
    "f, ax = plt.subplots(figsize=(15,10))\n",
    "df['population'].hist(bins=200)\n",
    "plt.show()"
   ]
  },
  {
   "cell_type": "code",
   "execution_count": 100,
   "metadata": {},
   "outputs": [
    {
     "data": {
      "image/png": "[encoded data removed]",
      "text/plain": [
       "<Figure size 1080x720 with 1 Axes>"
      ]
     },
     "metadata": {
      "needs_background": "light"
     },
     "output_type": "display_data"
    }
   ],
   "source": [
    "f, ax = plt.subplots(figsize=(15, 10))\n",
    "df['householdsize'].hist(bins=200)\n",
    "plt.show()"
   ]
  },
  {
   "cell_type": "code",
   "execution_count": null,
   "metadata": {},
   "outputs": [],
   "source": []
  }
 ],
 "metadata": {
  "interpreter": {
   "hash": "9d3bae0a0f66551680ef8a166f6b92cc2774d5d7901f027deb7bb883ed06d5ae"
  },
  "kernelspec": {
   "display_name": "Python 3.7.4 64-bit ('base': conda)",
   "name": "python3"
  },
  "language_info": {
   "codemirror_mode": {
    "name": "ipython",
    "version": 3
   },
   "file_extension": ".py",
   "mimetype": "text/x-python",
   "name": "python",
   "nbconvert_exporter": "python",
   "pygments_lexer": "ipython3",
   "version": "3.7.4"
  },
  "orig_nbformat": 4
 },
 "nbformat": 4,
 "nbformat_minor": 2
}
