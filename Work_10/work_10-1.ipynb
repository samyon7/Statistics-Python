{
 "cells": [
  {
   "cell_type": "code",
   "execution_count": 2,
   "metadata": {},
   "outputs": [
    {
     "data": {
      "text/plain": [
       "2"
      ]
     },
     "execution_count": 2,
     "metadata": {},
     "output_type": "execute_result"
    }
   ],
   "source": [
    "2"
   ]
  },
  {
   "cell_type": "markdown",
   "metadata": {},
   "source": [
    "### Finding the Derivatives of Other Functions"
   ]
  },
  {
   "cell_type": "markdown",
   "metadata": {},
   "source": [
    "- Import the libraries"
   ]
  },
  {
   "cell_type": "code",
   "execution_count": 3,
   "metadata": {},
   "outputs": [],
   "source": [
    "from math import sqrt"
   ]
  },
  {
   "cell_type": "markdown",
   "metadata": {},
   "source": [
    "- Defined the equations in Python"
   ]
  },
  {
   "cell_type": "code",
   "execution_count": 4,
   "metadata": {},
   "outputs": [],
   "source": [
    "def f(x):\n",
    "    return 6*x**3\n",
    "\n",
    "def g(x):\n",
    "    return sqrt(2*x+5)\n",
    "\n",
    "def h(x):\n",
    "    return 1/(x-3)**3"
   ]
  },
  {
   "cell_type": "markdown",
   "metadata": {},
   "source": [
    "- Define the derivative function"
   ]
  },
  {
   "cell_type": "code",
   "execution_count": 5,
   "metadata": {},
   "outputs": [],
   "source": [
    "def derivative(f,x):\n",
    "    delta_x = 1/1000000\n",
    "    return (f(x-delta_x)-f(x))/delta_x"
   ]
  },
  {
   "cell_type": "markdown",
   "metadata": {},
   "source": [
    "- Print the derivatives"
   ]
  },
  {
   "cell_type": "code",
   "execution_count": 6,
   "metadata": {},
   "outputs": [
    {
     "name": "stdout",
     "output_type": "stream",
     "text": [
      "-72.00003601326443 -0.30151135810285723 0.18750018754287723\n"
     ]
    }
   ],
   "source": [
    "print(derivative(f,-2),derivative(g,3),derivative(h,5))"
   ]
  },
  {
   "cell_type": "markdown",
   "metadata": {},
   "source": [
    "- Next define new function"
   ]
  },
  {
   "cell_type": "code",
   "execution_count": 7,
   "metadata": {},
   "outputs": [],
   "source": [
    "def f(x):\n",
    "    return x**3 - 2*x**2 + 1"
   ]
  },
  {
   "cell_type": "markdown",
   "metadata": {},
   "source": [
    "- Write the function to return the intercept of a line given the slope and a point"
   ]
  },
  {
   "cell_type": "code",
   "execution_count": 8,
   "metadata": {},
   "outputs": [],
   "source": [
    "def point_slope(m,x,y):\n",
    "    return y-m*x"
   ]
  },
  {
   "cell_type": "markdown",
   "metadata": {},
   "source": [
    "- Write a function that takes the function f and an x value and finds the derivative of f at x, puts that into the point slope function, and prints out the equation"
   ]
  },
  {
   "cell_type": "code",
   "execution_count": 9,
   "metadata": {},
   "outputs": [],
   "source": [
    "def tangent_line(f,x):\n",
    "    m = derivative(f,x)\n",
    "    y0 = f(x) # Find the intercept\n",
    "    b = point_slope(m,x,y0)\n",
    "    print(\"y = \",round(m,2),\"x + \",round(b,2))"
   ]
  },
  {
   "cell_type": "markdown",
   "metadata": {},
   "source": [
    "- Do this to get the equations"
   ]
  },
  {
   "cell_type": "code",
   "execution_count": 10,
   "metadata": {},
   "outputs": [
    {
     "name": "stdout",
     "output_type": "stream",
     "text": [
      "y =  -2.61 x +  -0.82\n",
      "y =  1.33 x +  -0.49\n"
     ]
    }
   ],
   "source": [
    "for x in [-0.48,0.67]:\n",
    "    tangent_line(f,x)"
   ]
  },
  {
   "cell_type": "markdown",
   "metadata": {},
   "source": [
    "### Finding the Area Under a Curve"
   ]
  },
  {
   "cell_type": "code",
   "execution_count": 13,
   "metadata": {},
   "outputs": [],
   "source": [
    "from math import cos,pi\n",
    "\n",
    "def f(x):\n",
    "    return x**3 + 3\n",
    "\n",
    "def g(x):\n",
    "    return 3*cos(x)\n",
    "\n",
    "def h(x):\n",
    "    return ((x**2 - 1)*(x**2+1))/x**2"
   ]
  },
  {
   "cell_type": "markdown",
   "metadata": {},
   "source": [
    "- Create trap_integral function that return num of trapezoids under f between a and b"
   ]
  },
  {
   "cell_type": "code",
   "execution_count": 14,
   "metadata": {},
   "outputs": [],
   "source": [
    "def trap_integral(f,a,b,num):\n",
    "    \"\"\"Returns the sum of num trapezoids\n",
    "    under f between a and b\"\"\"\n",
    "    width = (b-a)/num\n",
    "    area = 0.5*width*(f(a) + f(b) + 2*sum([f(a+width*n) for n in range(1,num)]))\n",
    "    return area\n"
   ]
  },
  {
   "cell_type": "markdown",
   "metadata": {},
   "source": [
    "- Call <b>trap_integral</b> function"
   ]
  },
  {
   "cell_type": "code",
   "execution_count": 15,
   "metadata": {},
   "outputs": [
    {
     "name": "stdout",
     "output_type": "stream",
     "text": [
      "46.75017499999999\n",
      "2.1213094390731206\n",
      "18.416792708494786\n"
     ]
    }
   ],
   "source": [
    "print(trap_integral(f,3,4,100))\n",
    "print(trap_integral(g,0,pi/4,100))\n",
    "print(trap_integral(h,2,4,100))"
   ]
  },
  {
   "cell_type": "markdown",
   "metadata": {},
   "source": [
    "### Finding the Volume of Solid of Revolution"
   ]
  },
  {
   "cell_type": "markdown",
   "metadata": {},
   "source": [
    "- Create f and g as usual, and third function (h) to be the differene of the squares of f and g"
   ]
  },
  {
   "cell_type": "code",
   "execution_count": 16,
   "metadata": {},
   "outputs": [],
   "source": [
    "def f(x): return 4-4*x**2\n",
    "def g(x): return 1-x**2\n",
    "def h(x): return f(x)**2 - g(x)**2"
   ]
  },
  {
   "cell_type": "markdown",
   "metadata": {},
   "source": [
    "- Now the volume of solid will be the sum of a given number of cylinders made between the functions. We do this thing as in our integration function. The radius of the cylinder is the same as height of our rectangle when we were integrating"
   ]
  },
  {
   "cell_type": "code",
   "execution_count": 17,
   "metadata": {},
   "outputs": [],
   "source": [
    "def vol_solid(f,a,b):\n",
    "    volume = 0\n",
    "    num = 10000\n",
    "    width = (b-a)/num\n",
    "    for i in range(num): # Volume of a cylinder is pi*r^2*h. Run total volume!\n",
    "        vol = pi*(f(a+i*width))*width\n",
    "        volume += vol\n",
    "\n",
    "    return volume"
   ]
  },
  {
   "cell_type": "markdown",
   "metadata": {},
   "source": [
    "- Call vol_solid on the h funciton for x between -1 and 1. The result of solid volume is 50.3 cubic units"
   ]
  },
  {
   "cell_type": "code",
   "execution_count": 19,
   "metadata": {},
   "outputs": [
    {
     "name": "stdout",
     "output_type": "stream",
     "text": [
      "50.26548245743666\n"
     ]
    }
   ],
   "source": [
    "print(vol_solid(h, -1, 1))"
   ]
  },
  {
   "cell_type": "markdown",
   "metadata": {},
   "source": [
    "### Find Quickest Route"
   ]
  },
  {
   "cell_type": "markdown",
   "metadata": {},
   "source": [
    "Di sini kita belajar menemukan nilai minimum dari satu model fungsi. Biasanya kita harus mengambil turunan secara aljabar, mengset nya ke nilai netral (nol), kemudian menyelesaikan persamaan yang dihasilkan. Ini bisa diautomasi dengan proramming menggunakan model turunan untuk menemukan nilai minimum dengan mudah."
   ]
  },
  {
   "cell_type": "markdown",
   "metadata": {},
   "source": [
    "- A lighthouse is located 6 kilometers offshore, and a cabin on the straight shoreline is 9 kilometers from the point on the shore nearest the lighthouse. If you row at a rate of 3 km/hr and walk at a rate of 5 km/hr, where should you land your boat in order to get from the lighthouse to the cabin as quickly as possible?"
   ]
  },
  {
   "cell_type": "code",
   "execution_count": 23,
   "metadata": {},
   "outputs": [
    {
     "name": "stdout",
     "output_type": "stream",
     "text": [
      "Max/Min at x= 4.500999999999838 y= 3.400000014221084\n"
     ]
    }
   ],
   "source": [
    "# There is hte function we need to minimize. The optimal x is going to be between 0 and 9 kilometers\n",
    "# so we will set those as our start and end values when we call those functions\n",
    "\n",
    "from math import sqrt\n",
    "\n",
    "def t(x): return sqrt(x**2 + 36)/3 + (9-x)/5\n",
    "\n",
    "# Define the function find max mins to start a minimum x value and\n",
    "# take tiny steps, checking if the derivative equals zero or otherwise\n",
    "# from positive to negative, or vice versa\n",
    "\n",
    "def find_max_mins(f,start,stop,step=0.001):\n",
    "    x = start\n",
    "    deriv = derivative(f,x)\n",
    "    while x < stop:\n",
    "        x += step\n",
    "        #take derivative at new x:\n",
    "        newderiv = derivative(f,x)\n",
    "        #if derivative changes sign\n",
    "        if newderiv == 0 or deriv*newderiv < 0:\n",
    "            print(\"Max/Min at x=\",x,\"y=\",f(x))\n",
    "            #change deriv to newderiv\n",
    "            deriv = newderiv\n",
    "\n",
    "find_max_mins(t,0,9)"
   ]
  },
  {
   "cell_type": "markdown",
   "metadata": {},
   "source": [
    "Deket kan? 4.5 kilometer sepanjang pantai. Kalkulasinya di fase ini sangatlah berguna, karean kita juga menemukan path terpendek dari 2 point"
   ]
  },
  {
   "cell_type": "code",
   "execution_count": null,
   "metadata": {},
   "outputs": [],
   "source": []
  }
 ],
 "metadata": {
  "interpreter": {
   "hash": "9d3bae0a0f66551680ef8a166f6b92cc2774d5d7901f027deb7bb883ed06d5ae"
  },
  "kernelspec": {
   "display_name": "Python 3.7.4 ('base')",
   "language": "python",
   "name": "python3"
  },
  "language_info": {
   "codemirror_mode": {
    "name": "ipython",
    "version": 3
   },
   "file_extension": ".py",
   "mimetype": "text/x-python",
   "name": "python",
   "nbconvert_exporter": "python",
   "pygments_lexer": "ipython3",
   "version": "3.7.4"
  },
  "orig_nbformat": 4
 },
 "nbformat": 4,
 "nbformat_minor": 2
}
